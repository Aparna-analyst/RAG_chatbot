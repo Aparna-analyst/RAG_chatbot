{
 "cells": [
  {
   "cell_type": "markdown",
   "id": "6eb61709",
   "metadata": {},
   "source": [
    "# Data ingestion Pipeline"
   ]
  },
  {
   "cell_type": "code",
   "execution_count": 12,
   "id": "beda886c",
   "metadata": {},
   "outputs": [],
   "source": [
    "from langchain_community.document_loaders import PyPDFLoader, PyMuPDFLoader\n",
    "from langchain.text_splitter import RecursiveCharacterTextSplitter\n",
    "from pathlib import Path"
   ]
  },
  {
   "cell_type": "code",
   "execution_count": 13,
   "id": "2c33f27b",
   "metadata": {},
   "outputs": [
    {
     "name": "stdout",
     "output_type": "stream",
     "text": [
      "Found 2 PDF files to process\n",
      "\n",
      "Processing: DUK_Admission_Prospectus-2025.pdf\n",
      "  ✓ Loaded 31 pages\n",
      "\n",
      "Processing: PG_Regulatuions rev-2023 .pdf\n",
      "  ✓ Loaded 18 pages\n",
      "\n",
      "Total documents loaded: 49\n"
     ]
    }
   ],
   "source": [
    "### Read all the pdf's inside the directory\n",
    "def process_all_pdfs(pdf_directory):\n",
    "    \"\"\"Process all PDF files in a directory\"\"\"\n",
    "    all_documents = []\n",
    "    pdf_dir = Path(pdf_directory)\n",
    "    \n",
    "    # Find all PDF files recursively\n",
    "    pdf_files = list(pdf_dir.glob(\"**/*.pdf\"))\n",
    "    \n",
    "    print(f\"Found {len(pdf_files)} PDF files to process\")\n",
    "    \n",
    "    for pdf_file in pdf_files:\n",
    "        print(f\"\\nProcessing: {pdf_file.name}\")\n",
    "        try:\n",
    "            loader = PyPDFLoader(str(pdf_file))\n",
    "            documents = loader.load()\n",
    "            \n",
    "            # Add source information to metadata\n",
    "            for doc in documents:\n",
    "                doc.metadata['source_file'] = pdf_file.name\n",
    "                doc.metadata['file_type'] = 'pdf'\n",
    "            \n",
    "            all_documents.extend(documents)\n",
    "            print(f\"  ✓ Loaded {len(documents)} pages\")\n",
    "            \n",
    "        except Exception as e:\n",
    "            print(f\"  ✗ Error: {e}\")\n",
    "    \n",
    "    print(f\"\\nTotal documents loaded: {len(all_documents)}\")\n",
    "    return all_documents\n",
    "# Process all PDFs in the data directory\n",
    "all_pdf_documents = process_all_pdfs(\"../data\")"
   ]
  },
  {
   "cell_type": "code",
   "execution_count": 4,
   "id": "5a088c47",
   "metadata": {},
   "outputs": [
    {
     "data": {
      "text/plain": [
       "[Document(metadata={'producer': 'iLovePDF', 'creator': 'PyPDF', 'creationdate': '', 'moddate': '2025-09-29T06:51:30+00:00', 'source': '..\\\\data\\\\DUK_Admission_Prospectus-2025.pdf', 'total_pages': 31, 'page': 0, 'page_label': '1', 'source_file': 'DUK_Admission_Prospectus-2025.pdf', 'file_type': 'pdf'}, page_content='Kerala University of Digital Sciences, \\nInnovation and Technology \\n(Digital University Kerala) \\n- DIGITAL \\n?.f UNIVERSITY \\n- KERALA \\nPROSPECTUS 5 \\nwE'),\n",
       " Document(metadata={'producer': 'iLovePDF', 'creator': 'PyPDF', 'creationdate': '', 'moddate': '2025-09-29T06:51:30+00:00', 'source': '..\\\\data\\\\DUK_Admission_Prospectus-2025.pdf', 'total_pages': 31, 'page': 1, 'page_label': '2', 'source_file': 'DUK_Admission_Prospectus-2025.pdf', 'file_type': 'pdf'}, page_content='Contents \\nAbout the University .. \\nDA ENIC PO OGS o s s s iS85 Ay A s s e A SRR X SRR 4 \\nAICTE Approved M.Tech. & MBA Programmes ...........ccceeuriuemiussnsssnsinsnssissnsnsesnnn 4 \\nM.Tech. Computer Science and ENgiNEEring ..........ccoveiveniininriiinienininninenneesnenen 4 \\nM.Tech. Electronics ENGINEering .........ccccvvuiiiiiiiiiininiiiesiiee s ssssss s sssas e snnes 4 \\nMaster of Business AdmINiStration..............ccoceviniiieiininieiese s 5 \\nMLSC. PrOGrAMIMES .....oiviiiiiiieiiieiiaisssss st sbs s as s assaas s s s s s sassaa s saassassaesaeeae s LS \\n1. M.Sc. Applied Physics: \\n2. M.Sc. Computer Science with specialization in Artificial Intelligence: ................. 5 \\n3. M.Sc. Computer Science with specialization in Cybersecurity: ...........c..cccvvvennnne 6 \\n4. M.Sc. Computer Science with specialization in Data Analytics.. \\n5. M.Sc. Data Analytics and Computational SCIENCe ............cceevveiiiniiiieniniiniein, 6 \\n6. M.Sc. Data Science and Bio-Al............cccvuviininnnnninnnnnnininissnnsiisnisnssne 6 \\n7. M.Sc. Data Science and Geoinformatics ............coceeevieiinininninisiss 6 \\n8. M.Sc. Ecology with specialization in Ecological Informatics .............cccocueeniiinnnns 7 \\n9. M.SC. EIOCLIONICS iiiicusssinssssssiiansisosiansisssssassiinssussnsosiusdssossssusonsqnanesussianssdsssssssasans 7 \\n10. M.Sc. ENVironmental SCIBNCE .....ciceeitiiueniuisnisessossssassnsnisasssssasssssssassnssisnsssssnoness 7 \\nAdmission Process. \\nIMPORANt DALES ..o coovnmnnnnennnn s s s e e 12 \\nST PAPOr COMEE s s umsmssis st s TSR AT e TG R s Ao S IR T R S TSRS 12 \\nDigital University Admission Test (DUAT)-2025 Syllabus \\nMode of Conduct Of DUAT ..ot 21 \\n1| Page'),\n",
       " Document(metadata={'producer': 'iLovePDF', 'creator': 'PyPDF', 'creationdate': '', 'moddate': '2025-09-29T06:51:30+00:00', 'source': '..\\\\data\\\\DUK_Admission_Prospectus-2025.pdf', 'total_pages': 31, 'page': 2, 'page_label': '3', 'source_file': 'DUK_Admission_Prospectus-2025.pdf', 'file_type': 'pdf'}, page_content='00 SITUCTUND s wenexesosssenassosnnssasessysosisssusssnsasansstansasonnsstannaspsns samsns sax susennsssasdsansnssopaiasorassnass 22 \\nHostel:and MESE F0iusmmusenennusssassssasssasnsessocssseasssararassnonssnsssamssnssassssntansanssusossassossinsoany 24 \\nScholarships & Financial Aid .. \\nGeneral FaCIlities ...........cooiiiiiiiiiii i 26 \\nHOW t0 reaCh DUK?.......ociiiiiiicieccieie i a e b s b 29 \\nContact iNfOrMAatioN ..........cociiiiiiiiiiiese e 30 \\n2| Page'),\n",
       " Document(metadata={'producer': 'iLovePDF', 'creator': 'PyPDF', 'creationdate': '', 'moddate': '2025-09-29T06:51:30+00:00', 'source': '..\\\\data\\\\DUK_Admission_Prospectus-2025.pdf', 'total_pages': 31, 'page': 3, 'page_label': '4', 'source_file': 'DUK_Admission_Prospectus-2025.pdf', 'file_type': 'pdf'}, page_content='About the University \\nTo steer Kerala into a leadership role in the emerging knowledge economy, the \\nGovernment of Kerala established “Kerala University of Digital Sciences, Innovation and \\nTechnology” in 2020 by upgrading Indian Institute of Information Technology and \\nManagement-Kerala, 11ITM-K. Digital University Kerala (DUK) is recognized under \\nSection 2(f) of the University Grants Commission (UGC) Act, 1956. \\nThe University strives to be an international benchmark in conducting cutting-edge \\nresearch and nurturing budding minds in the center for promoting and implementing \\nmodern technological interventions in disruptive technologies. The University aims to \\ncreate capacity building at post-graduate and doctoral levels in the areas of Atrtificial \\nIntelligence and Natural Language Processing, Internet of Things, Electronic Systems \\nand Automation, Imaging Technologies, Data Analytics and Big Data, Cybersecurity, \\nBlockchain, Ecological Informatics, Geospatial Analytics, Applied Materials etc. State-of- \\nthe-art labs with professional training programs, consultancy, and implementation \\nsolutions to support the government will continue for the benefit of society. \\nVision \\nThe vision of the University is to become a global destination of repute in Digital \\nEducation and Research and to become an academic leader by nurturing futuristic talents \\ncapable of developing innovative and sustainable solutions for the industry, \\nGovernments, and society at large. \\nMission \\nThe motto of the University is to ‘Curate a Responsible Digital World.\" The \\ndevelopment and application of Digital Technologies for social good is the underlying \\nmission of the University. Towards this, the University shall focus on four themes of action, \\nnamely Computing, Intelligence, Sustainability, and Entrepreneurship; the first two \\nthemes shall form the focus area of work, and the next two themes act as guiding light for \\nthe overall mission while designing programs, developing products and services as well \\nas for providing training and extension activities. The University shall catalyze technical \\nadvances that promote the welfare of society. \\nCampuses \\ne Technocity Campus (Technopark Phase IV), Thiruvananthapuram, Kerala 695317 \\ne [IITMK New Campus, Technopark Campus, Thiruvananthapuram, Kerala 695581 \\n3| Page'),\n",
       " Document(metadata={'producer': 'iLovePDF', 'creator': 'PyPDF', 'creationdate': '', 'moddate': '2025-09-29T06:51:30+00:00', 'source': '..\\\\data\\\\DUK_Admission_Prospectus-2025.pdf', 'total_pages': 31, 'page': 4, 'page_label': '5', 'source_file': 'DUK_Admission_Prospectus-2025.pdf', 'file_type': 'pdf'}, page_content=\"Academic Programmes \\nThe University is conducting the following academic programmes in five schools, \\nnamely Schools of Computer Science & Engineering (SoCSE), School of Digital \\nHumanities and Liberal Arts (SoDiHLA), School of Digital Sciences (SoDS), School of \\nElectronic Systems and Automation (SOoESA) and School of Informatics (Sol) \\nAICTE Approved M.Tech. & MBA Programmes \\nM.Tech. Computer Science and Engineering \\nThe programme offered by the School of Computer Science and Engineering (SoCSE) in \\nthree specializations: \\n« Artificial Intelligence \\n* Connected Systems and Intelligence \\ne Cybersecurity Engineering \\nCandidates must hold any of the following qualifications with a minimum aggregate of \\n60% marks (or equivalent, with relaxation for reserved categories as per University \\nnorms): \\n« A four-year Bachelor's degree in CS/IT/ECE/allied areas or \\n« A three-year undergraduate degree followed by a two-year postgraduate degree \\nor five-year integrated Master's degree in Computer Applications/Computer \\nScience/Information Technology/ Mathematics/ Statistics/ Physics \\nM.Tech. Electronics Engineering \\nThe programme offered by the School of Electronic Systems and Automation (SOESA) in \\nthree specializations: \\ne Al Hardware \\ne |oT & Robotics \\ne VLSI Design \\nCandidates must hold any of the following qualifications with a minimum aggregate of \\n60% marks (or equivalent, with relaxation for reserved categories as per University \\nnorms): \\n4| Page\"),\n",
       " Document(metadata={'producer': 'iLovePDF', 'creator': 'PyPDF', 'creationdate': '', 'moddate': '2025-09-29T06:51:30+00:00', 'source': '..\\\\data\\\\DUK_Admission_Prospectus-2025.pdf', 'total_pages': 31, 'page': 5, 'page_label': '6', 'source_file': 'DUK_Admission_Prospectus-2025.pdf', 'file_type': 'pdf'}, page_content=\"e A four-year Bachelor's degree in EE/ECE/AEI/EI/Robotics or equivalent \\nelectronics hardware branches or \\n* A 3-year undergraduate degree followed by a 2-year postgraduate degree or 5- \\nyear integrated Master’s degree in Electronics/Instrumentation or equivalent. \\nMaster of Business Administration \\nThe School of Digital Humanities and Liberal Arts (SoDiHLA) offers a two-year MBA in \\nthe following areas of specialization: Business Analytics, Digital Governance, Digital \\nTransformation, Finance, Human Resources, Information Security Management, \\nMarketing, Operations, Systems, Technology Management \\nCandidates must possess a valid entrance examination score approved by the University \\n(CUET(PG), CAT, CMAT, KMAT, XAT, NMAT, GRE, DUAT) and a Bachelor's degree \\nwith a minimum aggregate of 60% marks (or equivalent, with relaxation for reserved \\ncategories as per University norms). \\nAdditionally, for the MBA batch for Working Professionals, if offered, a minimum relevant \\nindustry experience of 2 years is required. \\nM.Sc. Programmes \\n1. M.Sc. Applied Physics \\nThe programme is offered in the School of Electronic Systems and Automation in two \\nspecializations. \\ne VLSI Design \\n« Applied Materials \\nCandidates must possess either a 3-year or a 4-year Bachelor's degree in \\nscience/engineering/mathematics with a minimum aggregate of 60% marks (or \\nequivalent, with relaxation for reserved categories as per University norms). \\n2. M.Sc. Computer Science with specialization in Atrtificial Intelligence \\nThe programme is offered in the School of Computer Science and Engineering. \\nCandidates must possess either a 3-year or a 4-year Bachelor's degree with a minimum \\naggregate of 60% marks (or equivalent, with relaxation for reserved categories as per \\nUniversity norms). \\n5| Page\"),\n",
       " Document(metadata={'producer': 'iLovePDF', 'creator': 'PyPDF', 'creationdate': '', 'moddate': '2025-09-29T06:51:30+00:00', 'source': '..\\\\data\\\\DUK_Admission_Prospectus-2025.pdf', 'total_pages': 31, 'page': 6, 'page_label': '7', 'source_file': 'DUK_Admission_Prospectus-2025.pdf', 'file_type': 'pdf'}, page_content=\"3. M.Sc. Computer Science with specialization in Cybersecurity \\nThe programme is offered in the School of Computer Science and Engineering. \\nCandidates must possess either a 3-year or a 4-year Bachelor's degree with a minimum \\naggregate of 60% marks (or equivalent, with relaxation for reserved categories as per \\nUniversity norms). \\n4. M.Sc. Computer Science with specialization in Data Analytics \\nThe programme is offered in the School of Digital Sciences. \\nCandidates must possess either a 3-year or a 4-year Bachelor's degree in \\nScience/Engineering/Mathematics, with Mathematics/Statistics as one of the subjects, \\nand a minimum aggregate of 60% marks (or equivalent). Relaxation in marks will be \\nprovided for reserved categories as per University norms. \\n5. M.Sc. Data Analytics and Computational Science \\nThe programme is offered in the School of Digital Sciences. \\nCandidates must possess either a 3-year or a 4-year Bachelor's degree in \\nScience/Engineering/Mathematics, with Mathematics/Statistics as one of the subjects, \\nand a minimum aggregate of 60% marks (or equivalent). Relaxation in marks will be \\nprovided for reserved categories as per University norms. \\n6. M.Sc. Data Science and Bio-Al \\nThe programme offered in the School of Digital Sciences. \\nCandidates must possess either a 3-year or a 4-year bachelor's degree in \\nScience/Engineering/Mathematics with a minimum aggregate of 60% marks (or \\nequivalent). Relaxation in marks will be provided for reserved categories as per University \\nnorms. \\n7. M.Sc. Data Science and Geoinformatics \\nThe programme offered in the School of Digital Sciences. \\nCandidates must possess either a 3-year or a 4-year bachelor's degree in \\nScience/Engineering/Mathematics with a minimum aggregate of 60% marks (or \\n6| Page\"),\n",
       " Document(metadata={'producer': 'iLovePDF', 'creator': 'PyPDF', 'creationdate': '', 'moddate': '2025-09-29T06:51:30+00:00', 'source': '..\\\\data\\\\DUK_Admission_Prospectus-2025.pdf', 'total_pages': 31, 'page': 7, 'page_label': '8', 'source_file': 'DUK_Admission_Prospectus-2025.pdf', 'file_type': 'pdf'}, page_content=\"equivalent). Relaxation in marks will be provided for reserved categories as per University \\nnorms. \\n8. M.Sc. Ecology with specialization in Ecological Informatics \\nThe programme is offered in the School of Informatics. \\nCandidates must possess either a 3-year or a 4-year Bachelor's degree with a minimum \\naggregate of 60% marks (or equivalent, with relaxation for reserved categories as per \\nUniversity norms). \\n9. M.Sc. Electronics \\nThe programme is offered at the School of Electronic Systems and Automation, where it \\nhas the following specializations. \\n* Al Hardware \\n* |oT & Robotics \\ne VLSI Design \\nCandidates must possess either a 3-year or a 4-year Bachelor's degree in \\nscience/engineering/mathematics with a minimum aggregate of 60% marks (or \\nequivalent, with relaxation for reserved categories as per University norms). \\n10.M.Sc. Environmental Science \\nThe programme is offered in the School of Informatics. \\nCandidates must possess either a 3-year or a 4-year Bachelor's degree with a minimum \\naggregate of 60% marks (or equivalent, with relaxation for reserved categories as per \\nUniversity norms). \\nDoctor of Philosophy \\nFull-time regular, Part-time regular and Industry regular Ph.D. is offered in all five schools \\nviz- School of Computer Science and Engineering, School of Electronic Systems and \\nAutomation, School of Digital Sciences, School of Digital Humanities and Liberal Arts and \\nSchool of Informatics. \\nFor the General category candidates, a 2-year (or more) Master's degree with 60% marks \\nor an M.Phil. degree with 60% coursework marks in a discipline relevant to the school the \\n7| Page\"),\n",
       " Document(metadata={'producer': 'iLovePDF', 'creator': 'PyPDF', 'creationdate': '', 'moddate': '2025-09-29T06:51:30+00:00', 'source': '..\\\\data\\\\DUK_Admission_Prospectus-2025.pdf', 'total_pages': 31, 'page': 8, 'page_label': '9', 'source_file': 'DUK_Admission_Prospectus-2025.pdf', 'file_type': 'pdf'}, page_content=\"candidate is applying is required. SC/ST/OEC/OBC (non-creamy layer)/ differently-abled/ \\nEconomically weaker section candidates have the same criteria as the General category \\ncandidates, except they need only 55% marks. \\nThe candidates who have appeared for the final examinations are also eligible to apply if \\ntheir aggregate marks until then are equal to or above the minimum required marks. If \\nadmitted to the Ph.D. program, they must meet the eligibility criteria by the date specified \\nby the University. \\nPart-time and Industry Regular Ph.D. applicants must have a full-time job with at least 5 \\nyears of relevant full-time work experience after their Bachelor's degree. To apply to the \\nIndustry Regular Ph.D. program, the applicant should be a full-time employee of the \\nindustry at the time of application. \\nMinimum Eligibility for Postgraduate Programme- Clarifications \\nA minimum of 60% marks in the qualifying degree (e.g., Bachelor's degree) or a CGPA \\nof 6.5 or higher on a 10-point scale is required for eligibility. Please note that marks will \\nnot be rounded to meet the minimum criteria. \\nApplicants with a CGPA below 6.5 may still be eligible if their university's conversion \\ncriteria translate the CGPA to a 60% or higher percentage equivalent. In such cases, \\ncandidates must provide an official document or certificate from their university detailing \\nthe conversion methodology at the time of admission. \\nRelaxation for Reserved Categories: \\nCandidates belonging to Scheduled Caste (SC), Scheduled Tribe (ST), and Persons with \\nDisability (PwD) categories are eligible to apply if they have secured the minimum passing \\nmarks in their qualifying degree. \\nCandidates belonging to the Other Backward Classes - Non-Creamy Layer (SEBC-NCL) \\ncategory of Kerala state can avail of a 5% relaxation in the minimum mark requirement, \\nprovided they have passed the qualifying exam. \\nFinal Year/Semester Students: \\nStudents who have appeared for (or are currently appearing for) their final year/semester \\nexams can also apply as long as they meet these two conditions: \\n8| Page\"),\n",
       " Document(metadata={'producer': 'iLovePDF', 'creator': 'PyPDF', 'creationdate': '', 'moddate': '2025-09-29T06:51:30+00:00', 'source': '..\\\\data\\\\DUK_Admission_Prospectus-2025.pdf', 'total_pages': 31, 'page': 9, 'page_label': '10', 'source_file': 'DUK_Admission_Prospectus-2025.pdf', 'file_type': 'pdf'}, page_content='They appear for all final year/semester exams for the first time (no re-appearances) and \\nhave passed all previous exams before the final year/semester. \\nVerification of Documents: \\nSelected candidates must submit original documents like mark sheets, degree/provisional \\ndegree certificates, and migration certificates within a specific timeframe set by the \\nuniversity. Failure to submit these documents by the deadline may result in being asked \\nto withdraw from the program. \\nAdmission Process \\nM.Sc. \\nApplicants for Master of Science (MSc) programs must take one of the following entrance \\nexams: \\n« Digital University Admission Test (DUAT-2025) conducted by Digital University \\nKerala. \\ne Common University Entrance Test (CUET(PG)-2025) conducted by NTA for \\nadmission to various postgraduate programs \\nM.Tech. \\nAdmission to M.Tech. programmes involve two options: \\ne National Level Exams: Applicants can take the CUET(PG)-2025 or Graduate \\nAptitude Test in Engineering (GATE) exam. \\ne School-Specific Admission Procedure: M.Tech. admissions will be based on an \\nonline or offline written test, followed by interviews with shortlisted candidates. \\ne Candidates with a valid GATE score will be directly called for the interview. \\nMBA \\nFor MBA program, applicants with a valid score in one of the following national-level \\nentrance exams are considered for admission: \\ne Common University Entrance Test (CUET(PG)-2025) conducted by NTA \\n9| Page'),\n",
       " Document(metadata={'producer': 'iLovePDF', 'creator': 'PyPDF', 'creationdate': '', 'moddate': '2025-09-29T06:51:30+00:00', 'source': '..\\\\data\\\\DUK_Admission_Prospectus-2025.pdf', 'total_pages': 31, 'page': 10, 'page_label': '11', 'source_file': 'DUK_Admission_Prospectus-2025.pdf', 'file_type': 'pdf'}, page_content='e CAT (Common Admission Test) conducted by [IMs \\ne GRE (Graduate Record Examinations) \\ne CMAT (Central Management Admission Test) \\ne KMAT (Kerala Management Aptitude Test) \\ne XAT (Xavier Aptitude Test) \\ne NMAT by GMAC (Graduate Management Admission Council) / GMAT \\nApplicants who qualify through these exams will be shortlisted for a group discussion and \\nan interview. \\nPh.D.: \\nAdmission to the Ph.D. program requires appearing for the Digital University Research \\nAptitude Test (DRAT). However, candidates who have secured a fellowship or \\nscholarship through recognized national-level examinations such as UGC-NET, UGC- \\nCSIR NET, GATE, CEED, or other equivalent tests approved by the University are \\nexempted from appearing for the DRAT. \\nHow to Apply Online \\nApplication portal: https://duk.ac.infadmission/apply/ \\nStep 1: Registration \\ne Provide your Name, Email Id, Mobile number, and the Program/Group you are \\napplying for. \\ne An email containing login credentials will be sent to the provided email address. \\ne Use the credentials to log in and proceed to complete the application. \\nStep 2: Application Details \\ne Complete the online application, saving your progress after each step. \\nStep 3: Document Upload \\n10 | Page'),\n",
       " Document(metadata={'producer': 'iLovePDF', 'creator': 'PyPDF', 'creationdate': '', 'moddate': '2025-09-29T06:51:30+00:00', 'source': '..\\\\data\\\\DUK_Admission_Prospectus-2025.pdf', 'total_pages': 31, 'page': 11, 'page_label': '12', 'source_file': 'DUK_Admission_Prospectus-2025.pdf', 'file_type': 'pdf'}, page_content='Candidates must have scanned copies of their photograph, signature, and \\nnecessary documents. (Photo of Signature, Photo and Scanned Copy of any ID \\nCard are mandatory) \\nUpload the scanned documents as part of the application process. \\nStep 4: Application Fee Payment \\nThe final step involves the payment of the application fee, as follows: \\no For candidates applying with CUET-PG or any other approved qualifying \\nexaminations: X100 for General category candidates and 50 for \\nSC/ST/Divyang candidates. \\no For candidates appearing for DUAT: 2750 for General category candidates \\nand %375 for SC/ST/Divyang candidates. \\no The application fee, once remitted, is not refundable. \\nUpon successful payment, the application will be automatically submitted, and a \\nconfirmation email with a copy of the application will be sent to you. \\nImportant Notes: \\nA token fee of 10,000 must be paid upon receipt of the offer letter to confirm your \\nseat. \\nAll information provided should be genuine and accurate. University decisions \\nbased on this data are provisional and subject to verification during the selection \\nprocess. \\nFailure to meet eligibility criteria or the detection of false information at any stage \\nmay result in the cancellation of candidature and forfeiture of any offers made. \\nMSc programs sharing the same DUAT exam are grouped together. Candidates \\ninterested in applying to multiple program groups must submit separate \\napplications for each group. This requires creating separate accounts using the \\nsame or different email addresses. \\nFor example, the MSc Computer Science/Data Analytics group includes: \\nMSc in Computer Science with a specialization in Cybersecurity \\nMSc in Computer Science with a specialization in Artificial Intelligence \\nMSc in Computer Science with a specialization in Data Analytics \\nMSc Data Analytics and Computational Science \\n11 | Page'),\n",
       " Document(metadata={'producer': 'iLovePDF', 'creator': 'PyPDF', 'creationdate': '', 'moddate': '2025-09-29T06:51:30+00:00', 'source': '..\\\\data\\\\DUK_Admission_Prospectus-2025.pdf', 'total_pages': 31, 'page': 12, 'page_label': '13', 'source_file': 'DUK_Admission_Prospectus-2025.pdf', 'file_type': 'pdf'}, page_content='Candidates will have the option to indicate their preferences for programs within a group. \\nImportant Dates \\nDUK application portal opens for registration: 315t January 2025 \\nLast date to submit the application: 19\" May 2025 \\nDUAT Exam Phase 1: 315 May 2025 \\nDRAT Exam: 7\" June 2025 \\nTest Paper Codes \\nDegree Programme CUET Test Paper Code DUAT \\nTest \\npaper \\ncode \\nMBA Business Administration \\n(Specializations: Business \\nAnalytics/ \\nDigital Governance/ Digital \\nTransformation/ Finance/ Human \\nResources/ Information Security \\nManagement/ Marketing \\nOperations Systems/ Technology \\nManagement) \\nCOQP12 DUATO1 \\nM.Tech. Computer Science and \\nEngineering (specializations: \\nconnected systems and \\nintelligence/ \\nartificial intelligence/ \\ncybersecurity engineering) \\nMTQP04, MTQPO5 NA \\nM.Tech. Electronics Engineering \\n(Specializations: Al Hardware/ \\nVLSI/ 10T and Robotics) \\nMTQPOS5, MTQP09 NA \\nM.Sc. Applied Physics (Specializations: \\nApplied Materials/ VLSI) \\nSCQP18, SCQP24 DUATO03 \\nM.Sc. Computer Science with \\nspecialization in Artificial \\nIntelligence \\nSCQP06, SCQP09, SCQP19, \\nSCQP24, SCQP27 \\nDUATO02 \\n12 | Page'),\n",
       " Document(metadata={'producer': 'iLovePDF', 'creator': 'PyPDF', 'creationdate': '', 'moddate': '2025-09-29T06:51:30+00:00', 'source': '..\\\\data\\\\DUK_Admission_Prospectus-2025.pdf', 'total_pages': 31, 'page': 13, 'page_label': '14', 'source_file': 'DUK_Admission_Prospectus-2025.pdf', 'file_type': 'pdf'}, page_content='Degree | Programme CUET Test Paper Code DUAT \\nTest \\npaper \\ncode \\nM.Sc. Computer Science with SCQP06, SCQP09, SCQP19, DUATO02 \\nspecialization in Cybersecurity SCQP24, SCQP27 \\nM.Sc. Computer Science with SCQP09, SCQP27, SCQP19, DUATO02 \\nspecialization in Data Analytics SCQP24 \\nM.Sc. Data Analytics and SCQP09, SCQP27, SCQP19, DUATO02 \\nComputational Science SCQP24 \\nM.Sc. Data Science and Bio-Al SCQP09, SCQP17, SCQPO03, DUATO05 \\nSCQPO05, SCQP06, SCQPOQ7, \\nSCQPO08, SCQP28, SCQP25, \\nSCQP27, SCQP24, SCQP19, \\nSCQPO01, SCQP02, SCQP22, \\nSCQP23 \\nM.Sc. Data Science and Geoinformatics | SCQP09, SCQP14, SCQP15, DUATO06 \\nSCQP11, SCQP26, SCQP27, \\nSCQP24, SCQP19 \\nM.Sc. Ecology with specialization in SCQPO01, SCQP07, SCQPO8, DUATO04 \\nEcological Informatics SCQP11, SCQP14, SCQP17, \\nSCQP19, SCQP24, SCQP27, \\nSCQP28, SCQP02 \\nM.Sc. Electronics(Specializations: Al SCQP18, SCQP24 DUATO3 \\nHardware/ VLSI/ IOT and \\nRobotics) \\nM.Sc. Environmental Science SCQPO01, SCQP02, SCQPO07, DUATO04 \\n(Specializations: Environmental SCQP08, SCQP09, SCQP11, \\nData Science/ Ecological SCQP14, SCQP15, SCQP16, \\nInformatics/ Ocean and Climate SCQP17, SCQP19, SCQP24, \\nInformatics/ Environmental SCQP27, SCQP28, SCQP29, \\nCommunication/ Sustainability COQP02, COQP08, COQP10, \\nStudies) HUQPO08, HUQP22 \\nDigital University Admission Test (DUAT)-2025 Syllabus \\nTest Code: DUATO1 \\nProgramme: Master of Business Administration \\n13 | Page'),\n",
       " Document(metadata={'producer': 'iLovePDF', 'creator': 'PyPDF', 'creationdate': '', 'moddate': '2025-09-29T06:51:30+00:00', 'source': '..\\\\data\\\\DUK_Admission_Prospectus-2025.pdf', 'total_pages': 31, 'page': 14, 'page_label': '15', 'source_file': 'DUK_Admission_Prospectus-2025.pdf', 'file_type': 'pdf'}, page_content='General Aptitude (20 Marks) \\nVerbal Aptitude-Basic English grammar: Tenses, articles, adjectives, prepositions, \\nconjunctions, verb-noun agreement, and other parts of speech. Basic vocabulary: Words, \\nidioms and phrases in context. Narrative sequencing. \\nQuantitative Aptitude-Data interpretation: Data graphs (bar graphs, pie charts, and other \\ngraphs representing data), 2- and 3-dimensional plots, maps, and tables. Numerical \\ncomputation and estimation: Ratios, percentages, powers, exponents and logarithms, \\npermutations and combinations, summations and series, Mensuration and Geometry. \\nAnalytical Aptitude-Logic: Deduction and induction, analogy, numerical relations, and \\nreasoning. Spatial Aptitude-Transformation of shapes: Translation, rotation, scaling, \\nmirroring, assembling, grouping, paper folding, cutting, and patterns in 2 and 3 \\ndimensions. \\nMathematics (20 Marks) \\nProbability, Statistics, Calculus, Discrete Mathematics, basic number theory, algebra \\nEnglish Reading Comprehension (20 Marks) \\nTwo paragraphs, each having 5-10 questions. \\nTest Code: DUAT02 \\nProgramme: MSc Computer Science with specialization in Data \\nAnalytics/Cybersecurityl/Artificial Intelligence; MSc Data Analytics and \\nComputational Science \\nGeneral Aptitude (20 Marks) \\nVerbal Aptitude-Basic English grammar: Tenses, articles, adjectives, prepositions, \\nconjunctions, verb-noun agreement, and other parts of speech. Basic vocabulary: Words, \\nidioms and phrases in context. Narrative sequencing. \\nQuantitative Aptitude-Data interpretation: Data graphs (bar graphs, pie charts, and other \\ngraphs representing data), 2- and 3-dimensional plots, maps, and tables. Numerical \\ncomputation and estimation: Ratios, percentages, powers, exponents and logarithms, \\npermutations and combinations, summations and series, Mensuration and Geometry \\nAnalytical Aptitude-Logic: Deduction and induction, analogy, numerical relations, and \\n14 | Page'),\n",
       " Document(metadata={'producer': 'iLovePDF', 'creator': 'PyPDF', 'creationdate': '', 'moddate': '2025-09-29T06:51:30+00:00', 'source': '..\\\\data\\\\DUK_Admission_Prospectus-2025.pdf', 'total_pages': 31, 'page': 15, 'page_label': '16', 'source_file': 'DUK_Admission_Prospectus-2025.pdf', 'file_type': 'pdf'}, page_content='reasoning. Spatial Aptitude-Transformation of shapes: Translation, rotation, scaling, \\nmirroring, assembling, grouping, paper folding, cutting, and patterns in 2 and 3 \\ndimensions. \\nMathematics (20 Marks) \\nSet Theory- Concept of sets—Union, Intersection, Cardinality, Elementary counting; \\npermutations and combinations. \\nProbability and Statistics- Basic concepts of probability theory, Averages, Dependent and \\nindependent events, frequency distributions, measures of central tendencies and \\ndispersions. \\nAlgebra-Fundamental operations in algebra, expansions, factorization, simultaneous \\nlinear/quadratic equations, indices, logarithms, arithmetic, geometric and harmonic \\nprogressions, determinants and matrices. \\nCoordinate Geometry- Rectangular Cartesian coordinates, distance formulae, equation \\nof a line, and intersection of lines, pair of straight lines, equations of a circle, parabola, \\nellipse and hyperbola. \\nCalculus-Limit of functions, continuous function, differentiation of function, tangents and \\nnormal, simple examples of maxima and minima. Integration of functions by parts, by \\nsubstitution and by partial fraction, definite integrals, and applications of definite integrals \\nto areas. \\nVectors-Position vector, addition and subtraction of vectors, scalar and vector products \\nand their applications to simple geometrical problems and mechanics. \\nTrigonometry-Simple identities, trigonometric equations, properties of triangles, solution \\nof triangles, heights and distances, general solutions of trigonometric equations. \\nComputer Basics (20 Marks) \\nOrganization of a computer, Central Processing Unit (CPU), structure of instructions in \\nCPU, input/output devices, computer memory, and backup devices. \\nData Representation: Representation of characters, integers and fractions, binary and \\nhexadecimal representations, binary arithmetic: addition, subtraction, multiplication, \\ndivision, simple arithmetic and two’s complement arithmetic, floating-point representation \\nof numbers, Boolean algebra, truth tables, Venn diagrams. \\n15 | Page'),\n",
       " Document(metadata={'producer': 'iLovePDF', 'creator': 'PyPDF', 'creationdate': '', 'moddate': '2025-09-29T06:51:30+00:00', 'source': '..\\\\data\\\\DUK_Admission_Prospectus-2025.pdf', 'total_pages': 31, 'page': 16, 'page_label': '17', 'source_file': 'DUK_Admission_Prospectus-2025.pdf', 'file_type': 'pdf'}, page_content=\"Test Code: DUATO03 \\nProgramme: MSc Electronics, MSc Applied Physics \\nGeneral Aptitude (20 Marks) \\nVerbal Aptitude-Basic English grammar: Tenses, articles, adjectives, prepositions, \\nconjunctions, verb-noun agreement, and other parts of speech. Basic vocabulary: Words, \\nidioms and phrases in context. Narrative sequencing. \\nQuantitative Aptitude-Data interpretation: Data graphs (bar graphs, pie charts, and other \\ngraphs representing data), 2- and 3-dimensional plots, maps, and tables. Numerical \\ncomputation and estimation: Ratios, percentages, powers, exponents and logarithms, \\npermutations and combinations, summations and series, Mensuration and Geometry. \\nAnalytical Aptitude-Logic: Deduction and induction, analogy, numerical relations, and \\nreasoning. Spatial Aptitude-Transformation of shapes: Translation, rotation, scaling, \\nmirroring, assembling, grouping, paper folding, cutting, and patterns in 2 and 3 \\ndimensions. \\nMathematics (10 Marks) \\nLinear Algebra: Matrix Algebra, Systems of linear equations, Eigen values, Eigenvectors. \\nCalculus: Mean value theorems, Theorems of integral calculus, Evaluation of definite and \\nimproper integrals, Partial Derivatives, Maxima and minima, Fourier series \\nDifferential equations: First-order equations (linear and nonlinear), Higher-order linear \\ndifferential equations with constant coefficients, method of variation of parameters, and \\npartial differential equations. \\nProbability and Statistics: Sampling theorems, Conditional probability, Mean, Median, \\nMode, Standard Deviation, Random variables, Discrete and Continuous distributions, \\nPoisson distribution, Normal distribution, Binomial distribution, Correlation analysis, \\nRegression analysis \\nSolid State Physics, Devices, Electronics Circuits (30 Marks) \\nCrystal structure, Bravais lattices and basis. Miller indices. X-ray diffraction, Bragg's law, \\nIntrinsic and extrinsic semiconductors, and variation of resistivity with temperature. \\n16 | Page\"),\n",
       " Document(metadata={'producer': 'iLovePDF', 'creator': 'PyPDF', 'creationdate': '', 'moddate': '2025-09-29T06:51:30+00:00', 'source': '..\\\\data\\\\DUK_Admission_Prospectus-2025.pdf', 'total_pages': 31, 'page': 17, 'page_label': '18', 'source_file': 'DUK_Admission_Prospectus-2025.pdf', 'file_type': 'pdf'}, page_content=\"Failure of classical mechanics, origin of quantum theory, particle nature of waves, De \\nBroglie Wave and Uncertainty Principle, Bohr's Atom model \\np-n junction diode, |-V characteristics, diffusion current, drift current, mobility and \\nresistivity, Zener diode and its applications. BJT: characteristics in CB, CE, CC modes. \\nSingle stage amplifier, two stages R-C coupled amplifiers. MOS capacitor, MOSFET, \\nLED, photodiode and solar cell \\nBoolean algebra: Binary number systems; conversion from one system to another \\nsystem; binary addition and subtraction. Logic Gates: AND, OR, NOT, NAND, NOR \\nexclusive OR; Truth tables; Combination of gates; deMorgan’s theorem \\nSimple DC and AC circuits with R, L and C components. Kirchhoff's Voltage/current Law, \\nsuperposition, Thevenin’s theorem, Norton’s theorem, reciprocity, and maximum power \\ntransfer. Oscillators: Barkhausen condition, sinusoidal oscillators. OP-AMP Inverting and \\nno inverting amplifier. \\nTest Code: DUAT04 \\nProgrammes: MSc Ecology, MSc Environmental Science \\nGeneral Aptitude (20 Marks) \\nVerbal Aptitude-Basic English grammar: Tenses, articles, adjectives, prepositions, \\nconjunctions, verb-noun agreement, and other parts of speech. Basic vocabulary: Words, \\nidioms and phrases in context. Narrative sequencing. \\nQuantitative Aptitude-Data interpretation: Data graphs (bar graphs, pie charts, and other \\ngraphs representing data), 2- and 3-dimensional plots, maps, and tables. Numerical \\ncomputation and estimation: Ratios, percentages, powers, exponents and logarithms, \\npermutations and combinations, summations and series, Mensuration and Geometry. \\nAnalytical Aptitude-Logic: Deduction and induction, analogy, numerical relations, and \\nreasoning. Spatial Aptitude-Transformation of shapes: Translation, rotation, scaling, \\nmirroring, assembling, grouping, paper folding, cutting, and patterns in 2 and 3 \\ndimensions. \\nElementary mathematics and computer basics (10 Marks) \\nNumber System, Sets, Functions, Algebra, Geometry, Trigonometry, Matrices and \\nDeterminants, Differentiation and Integration, Basic Statistics and Probability. \\n17 | Page\"),\n",
       " Document(metadata={'producer': 'iLovePDF', 'creator': 'PyPDF', 'creationdate': '', 'moddate': '2025-09-29T06:51:30+00:00', 'source': '..\\\\data\\\\DUK_Admission_Prospectus-2025.pdf', 'total_pages': 31, 'page': 18, 'page_label': '19', 'source_file': 'DUK_Admission_Prospectus-2025.pdf', 'file_type': 'pdf'}, page_content='Fundamentals of computers, operating systems, algorithms, data types, operators, basics \\nof internet, programming languages, software applications \\nSubject Questions (Undergraduate Level, 30 Marks) \\nProperties of matter, fundamentals of thermodynamics, equilibrium in physical and \\nchemical processes, law of mass action, fundamentals of environmental physics, Earth’s \\nenergy budget, atmospheric and terrestrial interaction of electromagnetic radiation, \\nradiation laws, fundamentals of surface chemistry, atmospheric chemistry, water \\nchemistry, geochemistry, and green chemistry; water - physical characteristics, buffering \\ncapacity, Essential and trace elements in living systems, Bio-molecules - chemical \\ncomponents of cells, toxicity of heavy metals. \\nOrigin of life, Eukaryotic and prokaryotic cells- structure and function, taxonomy and \\nsystematic, anatomy and physiology of plants and animals, reproduction, developmental \\nbiology, molecular biology, microbes and their environmental significance, ethology, \\ngeological time scale, theories of evolution, speciation, inheritance of variation, mutation, \\nnatural selection, and adaptation, biogeography- global pattern of biodiversity, \\nbiodiversity of Indian sub-continent, major biomes of the world. \\nComponents of the atmosphere, lithosphere, hydrosphere, and biosphere; organizational \\nlevels of the biosphere, Ecosystem: structure and types, population and community, \\ninteractions, food chain and energy flow, terrestrial and aquatics ecosystems; Earth \\nprocesses; climate and weather systems, environmental geology: Types of rocks, \\nminerals, hydrological and biogeochemical cycles, natural resources - forest, water, \\nminerals, marine; Energy resources-renewable and non-renewable. \\nPlanetary crisis: climate change and global warming; ozone depletion; acid rain; habitat \\nfragmentation; biodiversity loss; extinction; land and aquatic system degradation; \\nurbanization; environmental pollution and control; air, water, soil, noise, and radioactive \\npollution; solid waste - disposal, management. Disaster and mitigation: Earthquakes, \\nfloods, landslides, and cyclones; Environmental sustainability; sustainable development \\ngoals; biodiversity conservation; natural resource management; national and international \\ninitiatives; environmental legislations and policies; international relations and current \\naffairs. \\nTest Code: DUATO05 \\n18 | Page'),\n",
       " Document(metadata={'producer': 'iLovePDF', 'creator': 'PyPDF', 'creationdate': '', 'moddate': '2025-09-29T06:51:30+00:00', 'source': '..\\\\data\\\\DUK_Admission_Prospectus-2025.pdf', 'total_pages': 31, 'page': 19, 'page_label': '20', 'source_file': 'DUK_Admission_Prospectus-2025.pdf', 'file_type': 'pdf'}, page_content='Programme: MSc Data Science and BioAl \\nGeneral Aptitude (20 Marks) \\nVerbal Aptitude-Basic English grammar: Tenses, articles, adjectives, prepositions, \\nconjunctions, verb-noun agreement, and other parts of speech. Basic vocabulary: Words, \\nidioms and phrases in context. Narrative sequencing. \\nQuantitative Aptitude-Data interpretation: Data graphs (bar graphs, pie charts, and other \\ngraphs representing data), 2- and 3-dimensional plots, maps, and tables. Numerical \\ncomputation and estimation: Ratios, percentages, powers, exponents and logarithms, \\npermutations and combinations, summations and series, Mensuration and Geometry. \\nAnalytical Aptitude-Logic: Deduction and induction, analogy, numerical relations, and \\nreasoning. Spatial Aptitude-Transformation of shapes: Translation, rotation, scaling, \\nmirroring, assembling, grouping, paper folding, cutting, and patterns in 2 and 3 \\ndimensions. \\nMathematics (10 Marks) \\nSet Theory: Concept offsets—Union, Intersection, Cardinality, Elementary counting, \\npermutations and combinations. \\nProbability and Statistics: Basic concepts of probability theory, Averages, Dependent and \\nindependent events, frequency distributions, measures of central tendencies and \\ndispersions. \\nBiochemistry/Biotechnology (Undergraduate level questions, 20 Marks) \\nNucleic Acids: Structure and functions of DNA and RNA; DNA replication, transcription, \\nand translation. Proteins: Structure, folding, stability, and interactions. Enzymes: \\nMechanisms of enzyme action, enzyme kinetics (Michaelis-Menten equation), enzyme \\ninhibition, and regulation. Human Genome Project: Key achievements and significance. \\nGenome Sequencing: Fundamentals and applications of sequencing technologies. \\nGenomic Integrity: Mutations and DNA repair mechanisms. Production of therapeutic \\nproteins and vaccines. CRISPR Technology: Principles and Applications \\nAtomic Structure: Overview of atomic models, concepts of atom, orbit, orbital, and \\nelectronic configuration. Periodic Properties: Trends in atomic size, electronegativity, and \\nelectron affinity. Chemical Bonding and Molecular Structure: Hybridization, VSEPR \\ntheory, valence bond theory, molecular orbital theory, and intermolecular forces. \\nChemical Kinetics: Basics of reaction rates, mechanisms, and activation energy. \\n19 | Page'),\n",
       " Document(metadata={'producer': 'iLovePDF', 'creator': 'PyPDF', 'creationdate': '', 'moddate': '2025-09-29T06:51:30+00:00', 'source': '..\\\\data\\\\DUK_Admission_Prospectus-2025.pdf', 'total_pages': 31, 'page': 20, 'page_label': '21', 'source_file': 'DUK_Admission_Prospectus-2025.pdf', 'file_type': 'pdf'}, page_content='Stereochemistry: Configuration and conformational isomerism, with emphasis on \\nchirality. Organic Chemistry: Fundamentals, including reaction mechanisms. Medicinal \\nChemistry: Drug classification, properties, an overview of drug-receptor interactions, \\nADMET properties, and pharmacokinetics. Computational Chemistry: Basics of molecular \\nmechanics and quantum mechanics. \\nComputer Basics (10 Marks) \\nOrganization of a computer, Central Processing Unit (CPU), structure of instructions in \\nCPU, input/output devices, computer memory, and backup devices. \\nData Representation: Representation of characters, integers and fractions, binary and \\nhexadecimal representations, binary arithmetic: addition, subtraction, multiplication, \\ndivision, simple arithmetic and two’s complement arithmetic, floating-point representation \\nof numbers, Boolean algebra, truth tables, Venn diagrams. \\nTest Code: DUATO06 \\nProgramme: MSc Data Science and Geoinformatics \\nGeneral Aptitude (20 Marks) \\nVerbal Aptitude-Basic English grammar: Tenses, articles, adjectives, prepositions, \\nconjunctions, verb-noun agreement, and other parts of speech. Basic vocabulary: Words, \\nidioms and phrases in context. Narrative sequencing. \\nQuantitative Aptitude-Data interpretation: Data graphs (bar graphs, pie charts, and other \\ngraphs representing data), 2- and 3-dimensional plots, maps, and tables. Numerical \\ncomputation and estimation: Ratios, percentages, powers, exponents and logarithms, \\npermutations and combinations, summations and series, Mensuration and Geometry. \\nAnalytical Aptitude-Logic: Deduction and induction, analogy, numerical relations, and \\nreasoning. Spatial Aptitude-Transformation of shapes: Translation, rotation, scaling, \\nmirroring, assembling, grouping, paper folding, cutting, and patterns in 2 and 3 \\ndimensions. \\nMathematics (10 Marks) \\nStatistics and Probability: Measure of central tendency, measure of dispersion, skewness \\nand Kurtosis, and elementary analysis of data. Probability and properties, conditional \\n20| Page'),\n",
       " Document(metadata={'producer': 'iLovePDF', 'creator': 'PyPDF', 'creationdate': '', 'moddate': '2025-09-29T06:51:30+00:00', 'source': '..\\\\data\\\\DUK_Admission_Prospectus-2025.pdf', 'total_pages': 31, 'page': 21, 'page_label': '22', 'source_file': 'DUK_Admission_Prospectus-2025.pdf', 'file_type': 'pdf'}, page_content='probability, multiplication rule. Total Probability. Bayes’ theorem and independence of \\nevents. \\nEarth and Environmental Sciences (20 Marks) \\nEarth Sciences: Structure and composition of Environment-Atmosphere, Hydrosphere \\nand Lithosphere, Earth Processes, Mineral and Power Resources in India, Bio- \\ngeochemical Cycles, Meteorology, Climate Change, Origin and evolution of earth, Mineral \\nand Power Resources in India. \\nAgriculture Land Use/Land Utilization Systems. \\nEcology and Environment: Biosphere, Organizational levels of biosphere, Ecosystem: \\nStructure and Types, Food Chain and Energy Flow, Population and Community Ecology, \\nBiodiversity and its Conservation. \\nNatural resources and Management: Natural Resources, Land and Water Resources, \\nMinerals, Marine, Energy (Renewable and Non-renewable) - Sources, Threats, \\nConservation, and Management. \\nRemote sensing and GIS: Electro Magnetic Spectrum, Components and types of remote \\nsensing, Resolutions (Spectral, Spatial, Temporal & Radiometric), Platforms. GIS: \\ncomponents of GIS, Spatial data, Vector and Raster Data, GIS Data Model and Data \\nStructure - Projection and coordinate Systems. \\nComputer Basics (10 Marks) \\nOrganization of a computer, Central Processing Unit (CPU), structure of instructions in \\nCPU, input/output devices, computer memory, and backup devices. Data Representation: \\nRepresentation of characters, integers and fractions, binary and hexadecimal \\nrepresentations, binary arithmetic: addition, subtraction, multiplication, division, simple \\narithmetic and two’s complement arithmetic, floating-point representation of numbers, \\nBoolean algebra, truth tables, Venn diagram. \\nMode of Conduct of DUAT \\nThe examination will be conducted online and monitored through a combination of Al- \\ndriven proctoring and human invigilators. Candidates must log in using a laptop or \\ndesktop computer with a functional webcam and a stable internet connection. The test \\ncomprises 60 multiple-choice questions (MCQs) to be completed within 60 minutes. Each \\n21 | Page'),\n",
       " Document(metadata={'producer': 'iLovePDF', 'creator': 'PyPDF', 'creationdate': '', 'moddate': '2025-09-29T06:51:30+00:00', 'source': '..\\\\data\\\\DUK_Admission_Prospectus-2025.pdf', 'total_pages': 31, 'page': 22, 'page_label': '23', 'source_file': 'DUK_Admission_Prospectus-2025.pdf', 'file_type': 'pdf'}, page_content='correct answer carries one mark, while 0.25 marks will be deducted for every incorrect \\nresponse. \\nFee Structure \\nFee Structure: M.Tech./MSc Programs \\nFirst Year Second Year \\nThird Fourth \\nParticulars First Semester Second Semester | Semester Semester \\nTuition fee (in Rs) 60000 50000 50000 50000 \\nCaution deposit \\n(in Rs) 5000 \\nTOTAL (in Rs) 65000 50000 50000 50000 \\n22 | Page'),\n",
       " Document(metadata={'producer': 'iLovePDF', 'creator': 'PyPDF', 'creationdate': '', 'moddate': '2025-09-29T06:51:30+00:00', 'source': '..\\\\data\\\\DUK_Admission_Prospectus-2025.pdf', 'total_pages': 31, 'page': 23, 'page_label': '24', 'source_file': 'DUK_Admission_Prospectus-2025.pdf', 'file_type': 'pdf'}, page_content='Fee Structure: MBA Program \\nFirst Year Second Year \\nFirst Second Fourth \\nParticulars Semester| Semester Third Semester Semester \\nTuition fee (in Rs)| 110000 100000 100000 100000 \\nCaution deposit \\n(in Rs) 5000 \\nTOTAL (inRs) | 115000 100000 100000 100000 \\nFee Structure: PhD Programs \\n|Particulars [Tuition Fee IDUK Scholarship \\nFull-time Regular| No tuition fee” in Years 1-5. Rs 20,000/month for the 1st year. \\nPhD Rs 25,000/month for the 2nd year. \\nRs 30,000/month for the 3rd year. \\n23 | Page'),\n",
       " Document(metadata={'producer': 'iLovePDF', 'creator': 'PyPDF', 'creationdate': '', 'moddate': '2025-09-29T06:51:30+00:00', 'source': '..\\\\data\\\\DUK_Admission_Prospectus-2025.pdf', 'total_pages': 31, 'page': 24, 'page_label': '25', 'source_file': 'DUK_Admission_Prospectus-2025.pdf', 'file_type': 'pdf'}, page_content=\"Part-ime RegularRs. 50,000/year* \\nIPhD \\nNo scholarship \\nIndustry Regular [Rs. 50,000/year* \\nIPhD \\nNo scholarship \\ne “An admission fee of Rs 10,000/- and a refundable caution deposit of Rs 5,000/- \\nneed to be paid initially by all the selected PhD candidates to confirm their seats \\nfor the PhD program \\ne *Part-time Time and Industry regular PhD candidates will also have a special fee \\nof Rs 50,000 from year 2 onwards. \\ne DUK scholarship is only for those who are not project assistants and do not have \\nexternal fellowships such as JRF. All the students who are receiving the DUK \\nscholarship are expected to contribute to the academic activities of the University \\nfor around 10 hours every week. \\nRules for Refund of Tuition Fees: \\nIn the event of admission cancellation, the relevant UGC-issued Notifications regarding \\nAdmission Cancellation and Refund will be adhered to. \\nOriginal certificates and other documents of students who cancel their admission will be \\npromptly returned to them, provided there are no outstanding liabilities to the University. \\nHostel and Mess Fee \\nTwin occupancy hostel facilities will be provided on campus for female students only. \\nFor students who haven't secured hostel allotment, DUK will help them find suitable \\naccommodation alternatives. \\ne Six-storey hostel \\ne 100+ rooms providing occupancy to 200+ students (currently for female students) \\n24 | Page\"),\n",
       " Document(metadata={'producer': 'iLovePDF', 'creator': 'PyPDF', 'creationdate': '', 'moddate': '2025-09-29T06:51:30+00:00', 'source': '..\\\\data\\\\DUK_Admission_Prospectus-2025.pdf', 'total_pages': 31, 'page': 25, 'page_label': '26', 'source_file': 'DUK_Admission_Prospectus-2025.pdf', 'file_type': 'pdf'}, page_content='e Double occupancy rooms \\nSafety & Security \\nFemale Warden available \\n24/7 round-the-clock male and female security available \\nFire protection system \\ne Subsystem and DG backup \\nHygiene \\ne Bathroom block on each floor \\ne Abundant water supply \\n® Sewage treatment plant \\n@ Washing machine for each floor \\n[Caution Deposit for Hostel (in Rs) 16000 \\nHostel fee per student, per semester, for double {30000 \\nfoccupancy (in Rs) \\nMess Fee |As per actuals \\nCurrently, on-campus hostel accommodation is available only for female students. \\nThe hostel fee for the first semester must be paid in advance at the time of admission, \\nwhile the hostel fee for subsequent semesters is payable at the beginning of each \\nsemester. \\nScholarships & Financial Aid \\nScholarships from Central/State Governments \\n1. Students with a domicile of Kerala from SC/ST and Other Eligible Communities \\n(OEC), OBH are eligible for scholarships under the E-Grantz scheme of Govt. \\nof Kerala. https: //egrantz.kerala.gov.in/, \\n2. The scholarship offered by the Fisheries Department of Kerala for the \\nrecognized children of fishermen. http: //www.egrantzfisheries.kerala.gov.in/, \\n25| Page'),\n",
       " Document(metadata={'producer': 'iLovePDF', 'creator': 'PyPDF', 'creationdate': '', 'moddate': '2025-09-29T06:51:30+00:00', 'source': '..\\\\data\\\\DUK_Admission_Prospectus-2025.pdf', 'total_pages': 31, 'page': 26, 'page_label': '27', 'source_file': 'DUK_Admission_Prospectus-2025.pdf', 'file_type': 'pdf'}, page_content='3. AICTE fellowships for GATE-qualified students in M.Tech. CSE and M.Tech. \\nEE Programmes. \\nhttps://www.aicte-india.org/schemes/students-development-schemes/PG- \\nScholarship-Scheme/General-instruction, \\n4. Students can apply for various other scholarship schemes Central/State \\nGovernments provide. \\nhttps://scholarships.gov.in/ \\nhttp: //minoritywelfare.kerala.gov.in/ \\nhttps://www.dcescholarship.kerala.gov.in/dce/he_ma/he_maindx.php \\nhttps://dcescholarship.kerala.gov.in/hescholarship/he_ma/he_maindx.php \\nhttps://www.kswcfc.org/ \\nEarn While You Learn \\nThe scheme offers paid internships for selected students in research and development \\nprojects where the university engages with government, industry, and research \\norganizations. The number of positions is subject to the availability of funds. \\nUniversity Scholarships/internships/Stipends/Fellowships for PhD. \\nPhD Regular- Scholars are eligible for a monthly scholarship of Rs. 20,000/- for the first \\nyear, Rs. 25,000/-per month in the second year, and Rs. 30000/- per month for 3 year. \\nFellowships from Central/State Governments for PhD Scholars \\nThe PhD Scholars with a valid Junior Research Fellowship (JRF) from recognized \\nnational or state bodies (UGC, CSIR, ICMR, DBT, DST-INSPIRE, KSCSTE etc.) are \\neligible for respective fellowships. \\nGeneral Facilities \\nUniversity Library \\nThe Knowledge Centre formerly the University Library, serves as the academic and \\nresearch nucleus of the university, providing a seamless blend of traditional and digital \\nresources. It offers a diverse collection of books, e-books, scholarly journals, conference \\n26| Page'),\n",
       " Document(metadata={'producer': 'iLovePDF', 'creator': 'PyPDF', 'creationdate': '', 'moddate': '2025-09-29T06:51:30+00:00', 'source': '..\\\\data\\\\DUK_Admission_Prospectus-2025.pdf', 'total_pages': 31, 'page': 27, 'page_label': '28', 'source_file': 'DUK_Admission_Prospectus-2025.pdf', 'file_type': 'pdf'}, page_content='proceedings, and discussion forums, ensuring comprehensive support for coursework \\nand research initiatives. \\nWith extensive digital access, the Knowledge Centre subscribes to premier databases \\nlike IEEE Xplore, Scopus, ScienceDirect, Web of Science, Springer Nature, and essential \\ntools such as Grammarly Premium, Turnitin, and Overleaf. Open-access resources like \\nDOAJ, NPTEL, and arXiv further enhance learning opportunities. Equipped with e-access \\nstations, document scanning, and printing facilities, it ensures a seamless research \\nexperience. The 24/7 operational model (excluding institutional holidays) reinforces its \\ncommitment to fostering continuous learning and academic excellence. \\nAccessibility \\ne Lift access with ramp \\ne Wheelchair accessible \\nClubs & Societies \\nNational Service Scheme \\nReading Club \\n|IEEE Students Branch \\nFilm Club \\nInnovation Club \\nHack-X Club \\nArts and Sports Club \\nSocial Engagement Centre \\nStudent Council \\nMedical Facility \\ne Doctor available biweekly (Monday and Thursdays) \\ne Free medical check-up facility twice a week \\ne 24/7 transportation available for hospitals \\ne Medicine delivery \\nCounselling Facility \\ne Counseling services are available for students. Weekly sessions can be booked. \\ne The Student Counselor service will be available twice a week. \\nFitness \\n27 | Page'),\n",
       " Document(metadata={'producer': 'iLovePDF', 'creator': 'PyPDF', 'creationdate': '', 'moddate': '2025-09-29T06:51:30+00:00', 'source': '..\\\\data\\\\DUK_Admission_Prospectus-2025.pdf', 'total_pages': 31, 'page': 28, 'page_label': '29', 'source_file': 'DUK_Admission_Prospectus-2025.pdf', 'file_type': 'pdf'}, page_content=\"Unleash your fitness potential within our state-of-the-art hostel gym, equipped with \\nmodern exercise equipment and a motivating atmosphere, providing students with a \\nconvenient and energizing space to pursue a healthy lifestyle right at their doorstep. \\nWhether it's a quick cardio session or weight training, our hostel gym ensures fitness is \\nalways within reach. \\ne Available to staff and students \\ne Morning and evening slots \\ne Trainer available \\ne Separate sessions for men and women \\nYoga & Sports \\nDedicated Yoga Practice Area: Recognizing the rising popularity of yoga and its \\nnumerous benefits, DUK offers guided yoga sessions. \\nAnnual Sports Meet: This exciting event allows students to showcase their athletic talents, \\ncompete in various disciplines, and cheer on their fellow classmates. \\nTable Tennis Arena: This indoor facility allows students to hone their table tennis skills, \\nengage in friendly matches, or enjoy a fun and challenging game during breaks. \\nCareer Services \\nDigital University Kerala (DUK) prides itself on a robust placement program, which \\nattracts leading companies to its campus annually. With strong industry connections, the \\nuniversity ensures all interested students can participate in internships and placement \\nactivities. Many internships are the gateway to full-time employment, with companies \\noften recruiting top-performing interns. \\nDUK'’s well-established Training and Placement Cell, led by a dedicated Placement Chair \\nand Placement Officer, is pivotal in facilitating these opportunities. It collaborates with \\ncorporate organizations to secure internships and job placements for students, ensuring \\nsmooth transitions from academic to professional life. In addition, the Training and \\nPlacement Cell organizes seminars and workshops to equip students with the skills and \\nknowledge needed to excel in their careers, helping them become successful and \\nindustry-ready professionals. \\n28 | Page\"),\n",
       " Document(metadata={'producer': 'iLovePDF', 'creator': 'PyPDF', 'creationdate': '', 'moddate': '2025-09-29T06:51:30+00:00', 'source': '..\\\\data\\\\DUK_Admission_Prospectus-2025.pdf', 'total_pages': 31, 'page': 29, 'page_label': '30', 'source_file': 'DUK_Admission_Prospectus-2025.pdf', 'file_type': 'pdf'}, page_content=\"How to reach DUK? \\nDigital University Kerala, Technocity Campus, \\nMangalapuram, Thonnakkal PO, Thiruvananthapuram, \\nKerala — 695317, +91-471-2788000 \\nacademicoffice@duk.ac.in \\nGoogle Map Link: https: /lg.page/KUDSIT?share \\nThe Kerala University of Digital Sciences, Innovation and Technology (DUK) boasts \\nexcellent connectivity, making it easily accessible from various locations. Here's a \\nbreakdown of your travel options: \\nBy Air: \\nTrivandrum International Airport: This convenient airport lies just 18 kilometers from \\nDUK's campus, with a travel time of approximately 30 minutes by car. \\nBy Rail: \\nThiruvananthapuram Central Railway Station (TVC): Situated 22 kilometers south of the \\ncampus. The adjoining KSRTC Bus Station provides frequent city buses towards Attingal \\nand Kollam. These buses reach the Technocity bus stop near the CRPF camp \\n(Pallipuram) within 40 minutes, placing you within a walkable distance from DUK. Taxis \\nare also readily available from the railway station. \\nKochuveli Railway Station (KCVL) is 15 kilometers south of the campus. Auto rickshaws \\nare conveniently available for onward travel to DUK. \\nKazhakuttam Railway Station (KZK): KZK is just 8 kilometers away; be aware that not all \\ntrains stop here. Auto rickshaws can transport you to the university from this station. \\nBy Road: \\nNational Highway 66: Many long-distance KSRTC and interstate buses traveling on this \\nhighway towards Thiruvananthapuram halt at the CRPF Camp Pallipuram. This stop is \\napproximately 750 meters from the DUK campus. \\nCity Buses: If utilizing city buses, disembark at the Technopark Phase IV stop, within \\nwalking distance of the university. \\n29 | Page\"),\n",
       " Document(metadata={'producer': 'iLovePDF', 'creator': 'PyPDF', 'creationdate': '', 'moddate': '2025-09-29T06:51:30+00:00', 'source': '..\\\\data\\\\DUK_Admission_Prospectus-2025.pdf', 'total_pages': 31, 'page': 30, 'page_label': '31', 'source_file': 'DUK_Admission_Prospectus-2025.pdf', 'file_type': 'pdf'}, page_content='Contact information \\nWebsite: www.duk.ac.in \\nGeneral Queries Related to PG Admission- admission-pg@duk.ac.in \\nGeneral Queries related to Ph.D. Admission- admission-phd@duk.ac.in \\nContact No. 04712788000, 04712788019, 8078193800 \\nSchool/Program Specific Queries \\nSchool of Computer Science & Engineering (SOoCSE)- admission-socse@duk.ac.in \\nSchool of Digital Humanities and Liberal Arts (SoDiHLA)- admission-sodihla@duk.ac.in \\nSchool of Digital Sciences (SoDS)- admission-sods@duk.ac.in \\nSchool of Electronic Systems and Automation (SOESA) -admission-soesa@duk.ac.in \\nSchool of Informatics (Sol)- admission-soi@duk.ac.in \\n30| Page'),\n",
       " Document(metadata={'producer': 'Microsoft® Word 2019', 'creator': 'Microsoft® Word 2019', 'creationdate': '2024-04-15T16:59:36+05:30', 'author': 'iiitmk', 'moddate': '2024-04-15T16:59:36+05:30', 'source': '..\\\\data\\\\PG_Regulatuions rev-2023 .pdf', 'total_pages': 18, 'page': 0, 'page_label': '1', 'source_file': 'PG_Regulatuions rev-2023 .pdf', 'file_type': 'pdf'}, page_content='Post Graduate Program regulations \\nMain changes \\n \\nThe revisions of the regulations on Post Graduate Program include the following: \\n \\n1. The definition of credit is calculated based on the classroom or contact hours. 1 credit in a \\ncourse is defined as 15 hour of interaction between student and instructor OR it is considered \\nequivalent to 30 hours of classroom or laboratory or field activity.  \\n2. The credit distribution is redefined as: \\n \\nProgram courses  \\n(30 credits) \\n \\nUniversity courses \\n(20 credits) \\nFinal year \\nProjects \\nAdditional credits beyond \\nmandatory course work and \\nproject \\nProgram \\nCore \\n(Mandatory\\n) \\nProgram \\nelectives \\n(Mandator\\ny) \\nUniversi\\nty Core \\n(Mandat\\nory) \\nOpen \\nelectives \\n(Mandator\\ny) \\nCapstone \\nProject/ \\nThesis \\n(Mandator\\ny) \\nActivity \\ncredits \\n(Mandator\\ny) \\nActivity \\ncredits \\n(Optiona\\nl) \\nAddition\\nal \\ncourses \\n(Optiona\\nl) \\n15 credits 15 credits 5 credits 15 credits 15 credits 5 credits 5 credits 5 credits \\n \\n3. Minimum of 65 credits for total courses and 5 credits for activities are included. Maximum a \\nprogram allows students to take 80 credits to be included in the program. \\n4. Open electives are now mandatory to be allowed in every program to promote cross \\ndisciplinary choices. Programs are allowed to have MAJOR and/or MINOR specializations.  \\n5. Group projects and internships are encouraged in the new program structure \\n6. Credits are awarded for various activities beyond classroom which may span publications, \\ncompetitions, etc \\n7. The zero year which was earlier allowed in the program is continued and includes options for \\ntaking a year out for building startups. \\n8. The relative marking is uniformly adopted as the common form of assessment irrespective of \\nthe level of the course or type of program. \\n9. The current structure also allows for dual specialization and also allows to include minor or \\nmajor specialization. At least 30 credits are required for a major specialization (equivalent to \\n10 three credit  courses  or equiv alent) and 9 credits for minor specialization (equivalent to \\nthree 3 credit courses or equivalent). The specialization credits consist of projects, core or \\nelective courses, activities etc. \\n10. For a 100% lab based course, the exams can be conducted in a varie ty of means including \\nviva, and/or written exams with at least two examiners approved by the school exam board \\nwith an intimation of the examiner list to the COE.'),\n",
       " Document(metadata={'producer': 'Microsoft® Word 2019', 'creator': 'Microsoft® Word 2019', 'creationdate': '2024-04-15T16:59:36+05:30', 'author': 'iiitmk', 'moddate': '2024-04-15T16:59:36+05:30', 'source': '..\\\\data\\\\PG_Regulatuions rev-2023 .pdf', 'total_pages': 18, 'page': 1, 'page_label': '2', 'source_file': 'PG_Regulatuions rev-2023 .pdf', 'file_type': 'pdf'}, page_content=\"REGULATIONS \\n \\nFor the Post Graduate Programs of Teaching Schools of the University \\n \\n1. SHORT TITLE AND COMMENCEMENT \\n \\n1.1. These regulations shall be called “Kerala University of Digital Sciences, Innovation and \\nTechnology Post Graduate Regulations,2023 (KUDSIT-PG Regulations). \\n1.2. These regulations shall come into force from the Academic year 2023-2024 onwards. \\n \\n2. SCOPE \\n \\n2.1. The regulations provided herein shall apply to all regular Post Graduate programmes \\nexcept professional courses conducted by the Teaching Schools of the University w.e.f.  \\nthe academic Year 2023-2024. \\n \\n3. DEFINITIONS \\n \\n3.1 Course – is a subject that the student study as part of a degree program. The course is \\nnormally offered in a semester and can include lectures, tutorials, laboratories, seminars, \\nproject & viva voce etc. \\n3.2 Credit – is a measure of the weekly unit of work assigned  for that course in a semester . \\nOne credit is defined as 1 hr contact (lectures/tutorials) per week, or 2 hrs of student \\nworkload (labs, projects, homework) per week. As there will be 15 teaching weeks in a \\nsemester, 1 credit is equated to 15 hours of con tact classes per semester, or 30 hours of \\nstudent workload per semester. \\n3.3 Credit Point – is the value obtained by multiplying the grade point by the credit of the \\ncourse. \\n3.4 Cumulative Credit Point Average  – is the value obtained by dividing the sum of credit \\npoints of all the courses taken by the students for the entire program by the total no of \\ncredits. It shall be rounded off to two decimal point. \\n3.5 DUAT – is the Digital University Admission Test conducted by the University and its \\nSchools for the selection of candidates for a programme \\n3.6 Letter Grade – is a letter symbol that indicates the broad level of performance of a student \\nfor a course. \\n3.7 Plagiarism is the deliberate attempt to deceive the reader, which is evidenced through the \\ncases of (1) Submitting someone's work as their own, (2) Taking passages from their own \\nprevious work without adding citations (self-plagiarism), (3) Re-writing someone's work \\nwithout properly citing sources, (4) Using quotations but not citing the source, (5) \\nInterweaving various sou rces together in the work without citing, (6) Citing some, but \\nnot all, passages that should be cited (7) Melding together cited and uncited sections of \\nthe piece, (8) Providing proper citations, but failing to change the structure and wording \\nof the borrowed ideas enough (close paraphrasing), (9) Inaccurately citing a source, (10) \\nRelying too heavily on other people's work, failing to bring original thought into the text. \\n3.8 Program – means the entire course of study and examination.\"),\n",
       " Document(metadata={'producer': 'Microsoft® Word 2019', 'creator': 'Microsoft® Word 2019', 'creationdate': '2024-04-15T16:59:36+05:30', 'author': 'iiitmk', 'moddate': '2024-04-15T16:59:36+05:30', 'source': '..\\\\data\\\\PG_Regulatuions rev-2023 .pdf', 'total_pages': 18, 'page': 2, 'page_label': '3', 'source_file': 'PG_Regulatuions rev-2023 .pdf', 'file_type': 'pdf'}, page_content='3.9 Semester – is defined as 15-18 weeks of academic work. \\n3.10 Seminar – means a lecture given by the student on a selected topic and is expected to \\ntrain the student in self-study, editing, document writing, presentation etc. \\n3.11 University - means the Kerala University of Digital Sciences, Innovation and \\nTechnology. \\n3.12 The words and expressions used and not defined in the regulations but defined in the \\nUniversity Act and Statutes  shall have the meaning assigned to them in the Act and \\nStatutes. \\n \\n4. ACADEMIC COMMITTEE \\n \\n4.1. There shall be an Academic Committee constituted by the Vice -Chancellor to monitor \\nand coordinate the working of the programmes \\n4.2. The committee shall consist of \\n(i) The Dean (Academic). \\n(ii) The Chairperson of the School concerned \\n(iii) The Controller of Examinations \\n(iv) One professor of the School concerned \\n4.3. The term of the Academic Committee shall be two years \\n4.4. The Academic Committee shall meet twice in a semester \\n4.5. The committee shall manage all the activities starting from the Admission of a student to \\nthe issue of the final score sheet at end of the course. \\n \\n5. BOARD OF STUDIES \\n \\n5.1 There shall be an BOARD OF STUDIES constituted by the School Board to monitor and  \\ncoordinate the working of the programmes \\n5.2 The committee shall consist of \\n(i) The Dean (Academic) \\n(ii) The Chairperson of the School concerned \\n(iii) At least 5 external members with no more than 10 external members. External \\nmember means those who work outside the school, and can be a person from other \\nuniversity or industry. Wh ere possible, it is encouraged to have a diversified group of \\nmembers from different industries and universities from within and arround the world. \\n(iv) All faculty of the School concerned \\n \\n5.3 The committee shall be chaired by a professor of the school or a senior person  \\nfrom academia or industry in the area relevant to the school. \\n5.4 The school chair shall act as the convenor for the committee. \\n5.5 The Dean academic shall act as the chair in case no suitable subject specific chair is  \\navailable in the school.  \\n5.6 All recommendations and decisions of the BoS will be submitted to the Dean Academic for  \\nthe relevant approvals and submission to the Academic Council.'),\n",
       " Document(metadata={'producer': 'Microsoft® Word 2019', 'creator': 'Microsoft® Word 2019', 'creationdate': '2024-04-15T16:59:36+05:30', 'author': 'iiitmk', 'moddate': '2024-04-15T16:59:36+05:30', 'source': '..\\\\data\\\\PG_Regulatuions rev-2023 .pdf', 'total_pages': 18, 'page': 3, 'page_label': '4', 'source_file': 'PG_Regulatuions rev-2023 .pdf', 'file_type': 'pdf'}, page_content='6. ADMISSION AND ELIGIBILITY \\n \\n6.1. The eligibility criteria for admission to a course of study shall be announced by the \\nUniversity from time to time \\n6.2. Programmes and eligibility criteria are detailed below. \\n \\nSl No Program Eligibility \\n1 Masters (MSc, MS, M.Tech, MA, \\nMBA) \\n3-year/4-year Graduation in the relevant \\nstream(s) fixed by the School  \\n \\n6.3.  The individual schools shall prescribe the minimum cut-off marks for admissions on an  \\nyearly basis for each of its PG programs subject to meeting the minimum requirement \\nspecified in the UGC regulations and as adopted by the university from time to time.  \\n \\n7. SELECTION PROCESS \\n \\n7.1. The selection to all Masters programmes irrespective of the mode of study will be through \\na common admission process. Admission to a program can be offered twice a year, which \\nwill be up to the individual School to decide  \\n7.2. The students will have an option to clear the Digital University Aptitude Test (DUAT) \\nwhich will be offered twice a year.  The cut off for the DUAT score for shortlisting is \\ndecided by the individual School on yearly basis and can vary from one school to another. \\n7.3. The student with a qualified and approved national exam score by the school will be \\neligible to seek admission under that category and are exempted from taking DUAT. Their \\ncut off for the approved national exam for shortlisting is decided by the individual Schools \\non yearly basis and can vary from one year to another  \\n7.4. The short -listed students may be interviewed by the school admission committee and \\nselected based on their cumulative performance in the interview and the qualifying te st \\nscores. The weightage for  the qualification score and interview shall be defined by the \\nindividual Schools based on the needs of the programme. \\n7.5. Separate rank lists shall be drawn up for reserved seats. \\n7.6. A school level admission committee shall be responsible for the admissions to  Master \\nPrograms following the university regulations as amended from time to time.  \\n \\n \\n8. REGISTRATION \\n \\n8.1. A student shall be permitted to register for the programme after the admission process is \\ncompleted. The students who are provisionally admitted are also eligible to register in \\nthe course. Where the provisional admission stand cancelled they are automatically \\nwithdrawn from the enrolled courses.'),\n",
       " Document(metadata={'producer': 'Microsoft® Word 2019', 'creator': 'Microsoft® Word 2019', 'creationdate': '2024-04-15T16:59:36+05:30', 'author': 'iiitmk', 'moddate': '2024-04-15T16:59:36+05:30', 'source': '..\\\\data\\\\PG_Regulatuions rev-2023 .pdf', 'total_pages': 18, 'page': 4, 'page_label': '5', 'source_file': 'PG_Regulatuions rev-2023 .pdf', 'file_type': 'pdf'}, page_content=\"8.2. A student registered for the programme shall complete the programme within 4 years \\nfrom the date of commencement of the programme. This can include a zero year approved \\nby the dean academic, for the students under special circumstances such as \\nhospitalization, or study abroad programs, engaging in start -up etc. The zero year shall \\nnot count towards the total duration of study. \\n8.3. No student shall be allowed to formally take up full-time internships in the middle of the \\nsemester while violating the attendance requirements and in such event the registration \\nwill stand cancelled. \\n8.4. On admission /registration, a student shall  be assigned an admission number/register \\nnumber  which consists of three components. School offering the Degree, year of \\nadmission and serial no of the student in the Admission Register of the year.  \\n8.5. The student shall register to the electives in a semest er at least one week before the \\ncommencement of the classes or as specified in the academic calendar.  \\n \\n \\n9. PROGRAMME STRUCTURE \\n \\n• MSc or MS - A postgraduate degree program with a minimum 70 credits that can be \\ncompleted in a minimum period of 24 months and a maximum period of 48 months. \\n• M.Tech - A postgraduate degree program with a minimum 70 credits that can be \\ncompleted in a minimum period of 24 months and a maximum period of 48 months. \\n• M.A - A postgraduate degree program with a minimum 70 credits that can b e \\ncompleted in a minimum period of 24 months and a maximum period of 48 months. \\n• MBA - A postgraduate degree program with a minimum 70 credits that can be \\ncompleted in a minimum period of 24 months and a maximum period of 48 months. \\n \\n9.1 On average, each master 's program is expected to have a maximum of 80 credits and a \\nminimum of 65 credits for total courses and 5 credits for activities. \\n9.2 One credit is equated to 1 hour of contact classes (lectures or tutorial) per week or 2 hours \\nof student workload (project or  labs or self -study) per week. Given there will be 15 \\nteaching weeks, 1 hour of contact hour per week counting for 15 hours in semester or on \\naverage 2 hour of self -learning hours or coursework activities counting for 30 hours \\nactivities in a semester.  \\n9.3 The normal duration to complete the master program shall be 24 months, which is divided \\ninto 4 semesters. However, the student may be allowed to complete the program in 48 \\nmonths. Zero year is allowed for medical reasons or for engaging in startups. For availing \\nzero year as part of the  startups, the student must be a founder in the director board in a \\ncompany registered as a startup.    Any other reasons given for availing a zero year will \\nbe accessed on a case to case basis by the school committee for consideration of approval \\nby dean academic. The zero year does not count towards the total duration of the program. \\n \\n9.4 The master programs of the university will have the following credit distribution:\"),\n",
       " Document(metadata={'producer': 'Microsoft® Word 2019', 'creator': 'Microsoft® Word 2019', 'creationdate': '2024-04-15T16:59:36+05:30', 'author': 'iiitmk', 'moddate': '2024-04-15T16:59:36+05:30', 'source': '..\\\\data\\\\PG_Regulatuions rev-2023 .pdf', 'total_pages': 18, 'page': 5, 'page_label': '6', 'source_file': 'PG_Regulatuions rev-2023 .pdf', 'file_type': 'pdf'}, page_content='Program courses  \\n(30 credits) \\n \\nUniversity courses \\n(20 credits) \\nFinal year \\nProjects \\nAdditional credits beyond \\nmandatory course work and \\nproject \\nProgram \\nCore \\n(Mandato\\nry) \\nProgram \\nelectives \\n(Mandator\\ny) \\nUniversit\\ny Core \\n(Mandato\\nry) \\nOpen \\nelective\\ns \\n(Manda\\ntory) \\nCapstone \\nProject/ \\nThesis \\n(Mandator\\ny) \\nActivity \\ncredits \\n(Mandato\\nry) \\nActivit\\ny \\ncredits \\n(Optio\\nnal) \\nAdditio\\nnal \\ncourses \\n(Option\\nal) \\n15 credits 15 credits 5 credits 15 \\ncredits \\n15 credits 5 credits 5 \\ncredits \\n5 \\ncredits \\n \\n \\n● Upto 15 credits can be through online/swayam  \\n● Group Projects have to be incorporated within the allowed program elective/open \\nprogram electives  \\n● Activity credits include a wide range of activities approved by the school. The list of \\nactivities and certifications that qualify for credits are subjective to the specific school. \\n \\n9.5 Every master program will have a university core that will have a single course called - \\nDigital Access for Community Empowerment - DACE (Level 300) that covers 4 \\ncomponents: \\na. 2  credit module called Community Empowerment (DE). This is a 5 days outbound \\nprogram where students get exposed to problems facing society and explore ways to \\nuse digital technologies to find solutions.  At the end of the program, the students are \\nexpected to work and report their finding through a  short dissertation. \\n \\nb. 1 credit module called Digital Experience Laboratory  (DEL), where they get \\nexposed to various digital technologies through a set of hands -on lab projects.  Each \\nschool may have their curriculum for this course. \\n \\nc. 1 credit module called Design Thinking and Innovation (DTI), where students will \\nbe exposed to the idea of applying innovative thinking in digital sciences.  \\n \\nd. 1 credit module on Personal Development and Scientific Communication (PDSC).  \\n \\ne. The students will complete this course through an interdisciplinary group project that \\ncovers all four modules. Each project group will have faculty mentors who will guide \\nthe students. The mentors will be allocated by the academic office. Every faculty will \\nbe responsible for at most 10 students every ye ar for mentorship. Each faculty will \\nalso have a teaching assistant, who could be selected by the faculty for the day to day \\nadministration of the mentoring program.'),\n",
       " Document(metadata={'producer': 'Microsoft® Word 2019', 'creator': 'Microsoft® Word 2019', 'creationdate': '2024-04-15T16:59:36+05:30', 'author': 'iiitmk', 'moddate': '2024-04-15T16:59:36+05:30', 'source': '..\\\\data\\\\PG_Regulatuions rev-2023 .pdf', 'total_pages': 18, 'page': 6, 'page_label': '7', 'source_file': 'PG_Regulatuions rev-2023 .pdf', 'file_type': 'pdf'}, page_content='f. DACE will be run across two semesters - 3 credits in semester 1 and 2 credits in \\nsemester 2. \\n \\n9.6 Every course needs to have a detailed course outline addressing the following \\ncomponents: (1) Objectives and expectations from the course, (2) Why is this course \\nimportant and relevance to industry/research, (3) learning outcomes and mapping with \\nprogram outcomes, assessments and teaching methods, and (4) a detailed  teaching and \\nlearning plan.  \\n \\n9.7 The courses within the master program can be classified into the following categories: \\n \\na. 100  Level courses that are intended to fill gaps in Undergraduate level studies.  This \\nlevel of course is expected to cover, remember and understand levels in Bloom’s \\ntaxonomy. \\nb. 200 Level courses that are intended to fill gaps in Undergraduate level studies.  They \\nusually are equivalent to advanced level courses in undergraduate programs.  This \\nlevel of course is expected to cover, understand and apply levels in Bloom’s taxonomy.  \\nc. 300 Level courses that are intended to be Postgraduate level instruction based courses.   \\nThis  level  of course is expected to cover apply and analyze levels in Bloom’s \\ntaxonomy \\nd. 400 Level courses that are intended to be Postgraduate level seminars or research -\\nbased courses.  This level of course is expected to cover, analyze and evaluate levels \\nin Bloom’s taxonomy. \\ne. 500 Level courses that are intended to be research -based.   This level of course is \\nexpected to cover, evaluate and create levels in Bloom’s taxonomy. \\n \\n9.8 It is expected that  Masters programs with 3 year undergraduate degree as th e minimum \\nadmission requirement will have the following limits on credits  and  distribution  of  \\ncourses within the program. \\n \\n \\nCourse level Credits \\n100 Level course 2-6 Credits \\n200 Level course 3-15 credits \\n300 Level courses 15-45 Credits \\n400 Level courses 6-20 Credits \\n500 Level courses 0-3 Credits'),\n",
       " Document(metadata={'producer': 'Microsoft® Word 2019', 'creator': 'Microsoft® Word 2019', 'creationdate': '2024-04-15T16:59:36+05:30', 'author': 'iiitmk', 'moddate': '2024-04-15T16:59:36+05:30', 'source': '..\\\\data\\\\PG_Regulatuions rev-2023 .pdf', 'total_pages': 18, 'page': 7, 'page_label': '8', 'source_file': 'PG_Regulatuions rev-2023 .pdf', 'file_type': 'pdf'}, page_content='9.9   It is expected that Masters programs with 4 year undergraduate degree as the minimum \\nadmission requirement  will  have the following limits on credits and distribution of \\ncourses within the program. \\n \\nCourse level Credits \\n100 Level course 0-3 Credits \\n200 Level course 0-9 credits \\n300 Level courses 15-45 Credits \\n400 Level courses 15-30 Credits \\n500 Level courses 0-6 Credits \\n \\n \\n9.10 The common courses will be limited within the following levels: \\n \\n \\nCourse type Course level \\nUniversity Core/Open Electives 100/200/ 300/400 Level \\nMini-Project 300/400/500 Level \\nFinal Project 400/500 Level \\n \\n9.11 The minimum semester-wise distribution of credits expected in the masters program are: \\n \\nMinimum 70 credits Maximum 80 credits \\nSemester 1 \\n• 3 credits for university core \\n• 15 credits for program core/program electives \\n• Optional: 3 credits for projects/internship/inter-departmental courses/approved online \\ncourses/extra curricular credits/bridge courses \\nSemester 2 \\n• 2 credits for university core \\n• 15 credits for program core/program electives/Open electives \\n• Optional: 3 credits for projects/internship /inter-departmental courses/approved online \\ncourses/extra curricular credits/bridge courses \\nSemester 3 \\n• 15 credits for program electives/Open electives \\n• Optional: 3 credits for projects/internship/inter -departmental courses/approved online \\ncourses/extra curricular credits/bridge courses'),\n",
       " Document(metadata={'producer': 'Microsoft® Word 2019', 'creator': 'Microsoft® Word 2019', 'creationdate': '2024-04-15T16:59:36+05:30', 'author': 'iiitmk', 'moddate': '2024-04-15T16:59:36+05:30', 'source': '..\\\\data\\\\PG_Regulatuions rev-2023 .pdf', 'total_pages': 18, 'page': 8, 'page_label': '9', 'source_file': 'PG_Regulatuions rev-2023 .pdf', 'file_type': 'pdf'}, page_content='Semester 4 \\n• 15 credits for master thesis/Capstone project/internship \\n• Optional: 3 credits for projects/internship/inter -departmental courses/approved online \\ncourses/extra curricular credits/bridge courses \\n \\nNotes:  \\n● Elective courses can include group projects or mini-projects or research projects  \\n● The total contact hours will be as per the credit requirements. However, the delivery of \\nlectures can be in a variety of modes including practice based sessions, laboratory sessions, \\nhands-on experimentations, project discussions, gamified content delivery etc. \\n● To incorporate and encourage hands-on learning, flexibility in scheduling of classes and labs \\ncan be given to the program coordinators to enable learning. \\n● It is recommended to include at least one industry mentor while delivering the course, who \\ncan give lectures or guide the students to a problem or validate the nature of the problems and \\nsolutions. \\n● It is recommended that when designing the curriculum, at least 10% of credit in the course in \\na semester is to be allocated for developing and analysing critical thinking of students. \\n● Inter-departmental courses are those courses thats jointly offered between the schools. \\n \\n10 . PROGRAMME PLANNING \\n \\nSchool Level Approval \\n10.1. School decides on the list of Program Core courses that are  compulsorily taken by \\nstudents for completion of the program.   These courses can be from the school or from \\noutside. \\n10.2  School board of studies approves Program Elective courses that  will  be   an  extensive  \\nlist of  courses, which student can take to earn credits for completion of the program \\n \\nSchool Level Plan \\n10.3 The school will offer all core courses which can be taught by one or more faculty (in one \\nor more semesters).  \\n10.4. Schools will plan the electives offered by one or more faculty in the same or different  \\n      semesters. \\n \\nFaculty Level Plan \\n10.5. Faculty offer courses which are of their choice (fixed by themselves or by the school). \\n10.6. Faculty fixes the time slots, classroom and prerequisite \\n10.7. A faculty shall offer a core course at least once in 2 years if required by the school \\nStudent Level Plan \\n10.8. A student along with the course coordinator and mentor will: \\na. Decide on the core courses to be taken. \\nb. Decide on the elective courses to be taken. \\nc. Decide on out-of-the school courses to be taken'),\n",
       " Document(metadata={'producer': 'Microsoft® Word 2019', 'creator': 'Microsoft® Word 2019', 'creationdate': '2024-04-15T16:59:36+05:30', 'author': 'iiitmk', 'moddate': '2024-04-15T16:59:36+05:30', 'source': '..\\\\data\\\\PG_Regulatuions rev-2023 .pdf', 'total_pages': 18, 'page': 9, 'page_label': '10', 'source_file': 'PG_Regulatuions rev-2023 .pdf', 'file_type': 'pdf'}, page_content='d. Opt for Challenge examination and audit courses. The challenge exams allow \\nstudents to complete the credit requirements attending a challenge examination \\nwithin the first two weeks of starting the course.   \\n10.9.  It will be the responsibility of the student to comply with the program level requirements.  \\nThe semester wise limits for the courses are: \\nSemester University \\nCore \\nProgram \\nCore  \\nProgram \\nElective \\nOpen \\nElective \\nProject/thesis \\nSemester 1 \\n(Range 15 -18 \\ncredits) \\n3-5 credits 9-15 credits 0-6 credits 0 credits 0 credits \\nSemester 2 \\n(Range 15 -18 \\ncredits) \\n0-5 credits 0-6 credits 0-15 credits 0-15 credits 0 credits \\nSemester 3 \\n(Range 15 -18 \\ncredits) \\n0-5 credits 0 credits 0-15 credits 0-15 credits 0 credits \\nSemester 4 \\n(Range 15 -18 \\ncredits) \\n0 credits 0 credits 0 credits 0-3 credits 15 credits \\n \\n11. CREDIT REQUIREMENTS FOR THE MASTER PROGRAM:   \\n \\n11.1 Students are required to comply with the following credit limits for  successfully \\ncompleting a master program. \\na. Complete a minimum of 70 Credits, with an upper limit of 80 credits. \\nb. The students are allowed to take a maximum of 18 Credits in a \\nsemester((excluding activity credits)) \\nc. The students are allowed to take a maximum of 12 Credits through audit courses. \\nThese credits do not count towards total credits requirements for the program and \\nare not included in SGPA/CGPA calculations. \\nd. The students are allowed to obtain a maximum of 12 Credits through challenge \\nexams. These credits count towards the total credits requirements for the program \\nbut are not included in SGPA/CGPA calculations \\n \\n12. MODE OF INSTRUCTION \\n12.1  A wide variety of modern teaching and learning methods are expected to be used in \\nthe delivery of the courses.'),\n",
       " Document(metadata={'producer': 'Microsoft® Word 2019', 'creator': 'Microsoft® Word 2019', 'creationdate': '2024-04-15T16:59:36+05:30', 'author': 'iiitmk', 'moddate': '2024-04-15T16:59:36+05:30', 'source': '..\\\\data\\\\PG_Regulatuions rev-2023 .pdf', 'total_pages': 18, 'page': 10, 'page_label': '11', 'source_file': 'PG_Regulatuions rev-2023 .pdf', 'file_type': 'pdf'}, page_content='Course level Teaching Evaluations \\n100-200 \\nlevel \\nIt is expected that there shall be \\na maximum of 120 students in a \\nclass. There shall be a tutor for \\nevery 15 students  with 3 \\nhours/week of the tutorial. \\nThe evaluation is expected to be consisting \\nof Examination/ Project  Work/ Exercises.   \\nIt is expected that 40% of the assessment is \\nformative and  60%  summative which will \\nbe a written exam in closed-book or open-\\nbook format. Lab exams can be conducted \\nin a variety of means including viva, \\nand/or written exam. \\n \\n300-400 \\nlevel \\nIt is expected that there sha ll be \\na maximum of 60 students in a \\ncourse. \\nIn a 300 Level  course, the  evaluation is \\nexpected to have    Examination / Projects.   \\nIt is expected that 60% of the assessment is \\nformative and 40%  as a summative which \\nwill be a  written exam in the closed boo k \\nor open -book format.  The formative \\nevaluations can also include 30 -60% \\ncollaborative components. Lab exams can \\nbe conducted in a variety of means \\nincluding viva, and/or written exam. \\nThe 400 Level courses are expected to be \\nmore flexible in assessments, with a \\nmajority focus on Presentations/ Projects/ \\nResearch Output.  It is expected that 60 -\\n80% of the assessment is formative and 20-\\n40% summative which will be an open \\nbook format.  Th e evaluations can also \\ninclude 30-60% collaborative components.  \\nIn case the 400 level course is a final year \\nproject with research only assessment, it \\nneeds to be evaluated by an external \\nexaminer outside the School/ University. \\nLab exams can be conducted in a variety of \\nmeans including viva, and/or written \\nexam. \\n500 level It is expected that there shall be \\na maximum of 20 students in a \\ncourse. \\nThe 500 Level courses are research-based, \\nwith a majority focus on Presentations/ \\nProjects/ Research Output.  It is expected \\nthat 100% of the assessment is formative \\nand are externally reviewed. However, the'),\n",
       " Document(metadata={'producer': 'Microsoft® Word 2019', 'creator': 'Microsoft® Word 2019', 'creationdate': '2024-04-15T16:59:36+05:30', 'author': 'iiitmk', 'moddate': '2024-04-15T16:59:36+05:30', 'source': '..\\\\data\\\\PG_Regulatuions rev-2023 .pdf', 'total_pages': 18, 'page': 11, 'page_label': '12', 'source_file': 'PG_Regulatuions rev-2023 .pdf', 'file_type': 'pdf'}, page_content=\"course instructor has the flexibility of \\nkeeping a maximum of 20% in a \\nsummative mode. Lab exams can be \\nconducted in a variety of means including \\nviva, and/or written exam. \\n \\n13. PASS CRITERIA \\n13.1 There shall be no barrier between Year 1 and Year 2 of study \\n13.2 The student shall obtain a minimum D grade in all core courses and C grade in the project. \\n13.3 Minimum CGPA of 5  is required for the award of the master's degree. \\n13.4 All challenge examination courses, audit and MOOC courses will not be counted for \\nCGPA computation.  However, passing in such cours es will enable them to be counted \\ntowards the total credits earned. \\n13.5  Project grade will be included in the CGPA calculations. \\n \\n14. EXAMINATIONS \\n14.1 The meaning of examination is considered broad and includes all forms of formative and \\nsummative assessment s including quizzes,  projects,  lab work,  practical design, the \\nproduct      developed, creative arts, fieldwork, etc. \\n14.2. A student will get a fail grade if she/he fails to complete a summative or formative  \\nassessment. If a student getting a fail in a core course needs to repeat the same course as \\nand when it is offered or an alternate course has to be fixed by the school in case the core \\ncourse is not offered within the next 18 months. \\n14.3  Each course level would have a different type of examination, the responsibility of which \\nis divided between the Controller of Examination, Dean or Course instructor as outlined \\nbelow: \\nCourse level Remarks \\n100-300 Level The Controller of Examinations (COE) will be in charge of the \\nconduct of the summative examination for 100 -300 Level \\ncourses. \\nThere shall be single evaluation of the answer sheets, and shall \\nbe evaluated by course instructor or an external examiner from \\nthe school or outside, fixed by COE. \\n \\nFor a 100% lab based course, the exams can be conducted in a \\nvariety of means including viva, and/or written exams with at \\nleast two examiners approved by the school exam board with \\nan intimation of the examiner list to the COE.\"),\n",
       " Document(metadata={'producer': 'Microsoft® Word 2019', 'creator': 'Microsoft® Word 2019', 'creationdate': '2024-04-15T16:59:36+05:30', 'author': 'iiitmk', 'moddate': '2024-04-15T16:59:36+05:30', 'source': '..\\\\data\\\\PG_Regulatuions rev-2023 .pdf', 'total_pages': 18, 'page': 12, 'page_label': '13', 'source_file': 'PG_Regulatuions rev-2023 .pdf', 'file_type': 'pdf'}, page_content='400 Level  The instructor and/or graduate studies committee of the school \\nshall be in charge of the conduct of the summative examination \\nfor 400 Level courses. \\nThe valuation shall be conducted by a committee of two \\nfaculty members. \\nThe valuation shall be based on  an open seminar and term \\nreport submitted by the student. \\n \\nFor a 100% lab based course, the exams can be conducted in a \\nvariety of means including viva, and/or written exams with at \\nleast two examiners approved by the school exam board with \\nan intimation of the examiner list to the COE. \\n500 Level  The instructor and/or graduate studies committee of the school \\nshall be in charge of the conduct of the formative examination \\nfor 500 Level courses. \\nThe valuation shall be conducted by a committee of two \\nfaculty members and an external examiner. \\nThe valuation shall be based on the open seminar and research \\noutput submitted by the student. \\nIt is expected that research output is having a quality suitable \\nto be published in a journal or leading conference. \\n \\nFor a 100% lab based course, the exams can be conducted in a \\nvariety of means including viva, and/or written exams with at \\nleast two examiners approved by the school exam board with \\nan intimation of the examiner list to the COE. \\n \\n14.4 All courses will have a detailed course outline with the syllabus,  and learning \\noutcomes that can be mapped to formative and summative assessments. \\n14.5 The preparation of examination questions is the responsibility of the Professor(s) \\nteaching that course. All questions are peer-reviewed \\n14.6 The assessment of the examination answers is done by the  Professor(s)  teaching that \\ncourse.   All answers will be peer-reviewed. \\n14.7 Course may or may not have a summative assessment in the form of a written exam. \\n14.8 All courses need to have a formative assessment and feedback to the students, which \\nshall  be defined in the course outline. \\n14.9 The university allows for different ways of conducting summative assessments \\nincluding online,  written,  viva -voice, and open book.  This will  be defined in the \\ncourse outline.  There will be at least 3 distinct assessment components.'),\n",
       " Document(metadata={'producer': 'Microsoft® Word 2019', 'creator': 'Microsoft® Word 2019', 'creationdate': '2024-04-15T16:59:36+05:30', 'author': 'iiitmk', 'moddate': '2024-04-15T16:59:36+05:30', 'source': '..\\\\data\\\\PG_Regulatuions rev-2023 .pdf', 'total_pages': 18, 'page': 13, 'page_label': '14', 'source_file': 'PG_Regulatuions rev-2023 .pdf', 'file_type': 'pdf'}, page_content='14.10 In summative assessments,  10%  of the questions will go beyond the prescribed \\nsyllabus but within the broad scope of the subject. \\n14.11 Examinations and assignment dead lines should be scheduled in such a  manner that \\nstudents have a reasonable time for preparation and recuperation allowing them to \\ndemonstrate their knowledge of course materials. \\n14.12 Students have the right to appeal against the marks obtained once to the con troller of \\nthe examiner or his representative in the school.  Where the appeal is considered to be \\ngenuine it will be scrutinized/re-evaluated by another professor or external expert and \\nnew marks assigned. \\n14.13 Academic misconduct of any forms in exams will lead to disciplinary action of various \\ndegrees and categories as defined in the additional regulations of Student Discipline. \\n14.14 Any changes to the course outline and assessment methods defined requires the prior \\napproval of the Board of Studies. \\n14.15 The controller  of the examiner will be responsible to organise the conduct of the \\nexaminations as mandated in the course outline.   He/she will have the authority to \\nreschedule the exam or arrange for a re -visit or reassessment under any unforeseen \\ncircumstances. \\n14.16 There will be an Exam Board within each school, that audits and finalises the marks \\nfor each course.  \\n14.17 The Exam Board members are nominated by the Dean (Academic), and reports to the \\nController of Examinations and Board of Studies. \\n14.18 Schools designated faculty/offi cers may use anti -plagiarism software to check the \\noriginality and authenticity of theses, dissertations, exam papers and other written \\nassignments.  Students acknowledge this in the process of their enrolment and \\nmatriculation. \\n14.19 The minimum aggregate of at tendance during a semester shall be 75%. This is not \\napplicable for project based courses, field work based courses, and research works \\ndone outside the university. Any exemptions shall be defined by the course lecturers \\nin the course description document. \\n14.20 All examinations of the university will be relative graded. A relative grading policy is \\nframed separately. \\n14.21 The feedback to course assessment and grades should be provided to students within \\n2 weeks of the submission date. \\n14.22 Where possible, formative assessment should provide immediate feedback by means \\nof solutions sheets or sample answers. \\n14.23 The lecturer should discuss the assessment outcome and how they can improve the \\noutcome in or outside the classroom. Where there are learning issues, they need to be \\nreported to the academic office for arranging counseling sessions. \\n14.24 Monthly reporting of formative assessment grades to academic office is mandatory. \\n14.25 If a student is unable to attend a summative evaluation due to a valid reason, they may \\nbe granted another opportunity within a 15-day period. The final decision will be made \\nby the Dean of Academics. \\n14.26 At least 30 credits are required for a major specialization (equivalent to 10 three credit  \\ncourses  or equivalent) and 9 credits for minor specialization (equ ivalent to three 3'),\n",
       " Document(metadata={'producer': 'Microsoft® Word 2019', 'creator': 'Microsoft® Word 2019', 'creationdate': '2024-04-15T16:59:36+05:30', 'author': 'iiitmk', 'moddate': '2024-04-15T16:59:36+05:30', 'source': '..\\\\data\\\\PG_Regulatuions rev-2023 .pdf', 'total_pages': 18, 'page': 14, 'page_label': '15', 'source_file': 'PG_Regulatuions rev-2023 .pdf', 'file_type': 'pdf'}, page_content='credit courses or equivalent). The specialization credits consist of projects, courses, \\nactivities etc. \\n14.27 Dual degrees, multiple majors or minor specializations are all allowed. The students \\ncan take up multiple degrees at the same time meeting the requirements of each degree \\nseparately.  \\n \\n15. GRADE CARD \\n \\n15.1  The University under the seal shall issue to the students a consolidated grade card in \\ncompletion of the programmes which shall contain \\n \\n(i) Name of the University \\n(ii) Name of the School \\n(iii) Title of the PG Programme \\n(iv) Name of the Semester’s \\n(v) Name and Register Number of the Student  \\n(vi) GPA calculation formula and meaning of letter Grades \\n \\n16.  AWARD OF DEGREE \\n \\nThe successful completion of all the courses with a “C’ Grade within the stipulated period \\nshall be the minimum requirement for the award of the Degree. The degree certificate shall \\nbe signed by the Vice-Chancellor  \\n \\n17. RANK CERTIFICATE \\n \\n17.1 The university shall publish the list of the top 10 candidates for each programme after \\nthe publication of the results of the examination. The rank certificate shall be issued to \\ncandidate’s who secure position 1ts to 3rd in the list. The rank certificate will be issued \\nto students at their requests \\n17.2  A student shall be ranked in the order of merit base on the CGPA secured by them. \\nGrace grade points awarded to the students shall be counted for fixing rank/position. \\nRank certificate and position certificate shall be s igned by the Controller of \\nExamination. \\n \\n18. GRADE POINT CALCULATION \\n \\n18.1 A letter grade system is used to evaluate individual items of work, according to the \\nrequirements of the University’s Policies and Procedures. \\n18.2 The university follows grade point system with a scale of 10 defined as:'),\n",
       " Document(metadata={'producer': 'Microsoft® Word 2019', 'creator': 'Microsoft® Word 2019', 'creationdate': '2024-04-15T16:59:36+05:30', 'author': 'iiitmk', 'moddate': '2024-04-15T16:59:36+05:30', 'source': '..\\\\data\\\\PG_Regulatuions rev-2023 .pdf', 'total_pages': 18, 'page': 15, 'page_label': '16', 'source_file': 'PG_Regulatuions rev-2023 .pdf', 'file_type': 'pdf'}, page_content='Grade Percentage of Marks Grade Points Remarks \\nS 95% and above 10 Outstanding \\nA+ 90% to less than 95% 9 Excellent \\nA 80% to less than 90% 8 Very Good \\nB+ 70% to less than 80% 7 Good \\nB 60% to less than 70% 6 Above \\nAverage \\nC 50% to less than 60% 5 Average \\nD 40% to less than 50% 4 Pass \\nE 30% to less than 40% 2 Low Pass \\nF Below 30% 0 Fail \\n \\n• AB will be represented for Absent and its GP is considered as 0 \\n• “ I “ will represent incomplete \\n \\n18.3 The minimum grade point requires for passing a course is 4 \\n18.4 The cumulative grade point averages (CGPA) are calculated by weighing grade points \\nby the corresponding credit numbers. The thesis grade counts toward the GP by using \\nthe same formula, that is, it is weighed by the credit number assi gned to the thesis.  \\nThe Semester Grade Point Average (SGPA) and Cumulative Grade Point Average \\n(CGPA) is calculated using the standard formula and is given in Appendix 1. \\n19. CREDIT TRANSFERS \\n \\n19.1 The university offers a flexible system of credit transfers b etween its programs and \\nbetween partner institutions. \\n19.2 The request for credit transfers of a course undertaken outside the normal curriculum \\nof the program should require approval of the graduate studies committee or \\nequivalent within the school. \\n19.3 The student will be responsible for requesting the credit transfers in concurrence with \\nthe approval of the faculty advisor. \\n19.4 In any Master or PhD program, at most 24 credits may be transferred to the program \\nof study \\n19.5 The request for credit transfer does not  g uarantee  the approval,  and thereby the \\nstudents are required to get prior  approval  from  the  faculty  advisor  on  the  course \\nplans to avoid rejections.'),\n",
       " Document(metadata={'producer': 'Microsoft® Word 2019', 'creator': 'Microsoft® Word 2019', 'creationdate': '2024-04-15T16:59:36+05:30', 'author': 'iiitmk', 'moddate': '2024-04-15T16:59:36+05:30', 'source': '..\\\\data\\\\PG_Regulatuions rev-2023 .pdf', 'total_pages': 18, 'page': 16, 'page_label': '17', 'source_file': 'PG_Regulatuions rev-2023 .pdf', 'file_type': 'pdf'}, page_content=\"20 QUALITY ASSURANCE \\n20.1 The PG programs shall comply with the regulations on Quality Assurance and \\nMonitoring for Post graduate programs. \\n20.2 All PG programs shall be subjected to annual review. \\n \\n21  ROLES AND RESPONSIBILITIES \\n21.1  Board of Studies (BoS) - All PG programs must get approval from the Board of \\nStudies. Any subsequent revisions, modifications and amendments to the program \\nshall need the approval of the Board of Studies. The chair of BoS shall inform Dean \\nand Associate Dean Academic on these changes.  \\n21.2 Academic Council - All matters relating to the Master's program shall be approved \\nby the Academic Council and placed for information to the senate. Dean Academic \\nand Associate Dean Academic shall regularly update the overall status of the Master's \\nprograms to the Academic Council and Senate.  \\n \\n21.3 School committee - The BoS within the school shall monitor the progress of the \\nMaster's program from time to time. The chair of the school shall be the representative \\nof all the school c ommittees, who shall liaise with the Dean and Associate Dean \\nAcademic on all matters of the quality assurance and monitoring of the Master's \\nprogram. \\n \\n21.4 Dean Academic - Dean Academic serves to monitor, allocate and approve various \\ncommittees constituted for Masters studies. Also, the dean academic is responsible to \\nmake decisions on the recommendations of the various Master's committees. \\n \\n21.5 Associate Dean Academic -  Any program revisions, monitoring and quality \\nenhancement of the Master's program shall be init iated with the concurrence of \\nAssociate Dean Academic. Associate Dean Academic may from time to time take \\nany roles assigned by the Dean Academic or Vice - Chancellor for ensuring the high \\nquality and standards of the Master's program. \\n \\n21.6 Vice-Chancellor - The Vice -Chancellor is the final approving authority of the \\nMasters' thesis. He/she shall act on behalf of the University Senate, as the chair of the \\nSenate to deliberate or initiate any proceedings required for ensuring the high \\nstanding of the Master's pro gram in consultation with the Academic Council, from \\ntime to time.\"),\n",
       " Document(metadata={'producer': 'Microsoft® Word 2019', 'creator': 'Microsoft® Word 2019', 'creationdate': '2024-04-15T16:59:36+05:30', 'author': 'iiitmk', 'moddate': '2024-04-15T16:59:36+05:30', 'source': '..\\\\data\\\\PG_Regulatuions rev-2023 .pdf', 'total_pages': 18, 'page': 17, 'page_label': '18', 'source_file': 'PG_Regulatuions rev-2023 .pdf', 'file_type': 'pdf'}, page_content='22  STUDENT DISCIPLINE \\n22.1 Every scholar is required to observe disciplined and decorous behaviour both inside \\nand outside the campus and should not indulge in any activity, which will bring down \\nthe prestige of DUK. \\n22.2 The students shall adhere to the student code of conduct \\n22.3 Any act of indiscipline of a scholar reported to the Dean of Academic will be referred \\nto a Discipline and Welfare Committee nominated by the Senate. The committee will \\ninvestigate and recommend suitable punishment if it finds the charges substantiated. \\nThe recommendation of the Committee will be considered by the Academic Council, \\nwhich will authorize the Dean of Academic to take appropriate action. The Dean \\n(Academic) will report the action taken at the next meeting of the Senate. \\nAppeal: The scholar may appeal to the Chair, Senate whose decision will be final. \\n \\n23 GRIEVANCE REDRESSAL COMMITTEE \\n \\nThere shall be a Student Grievance Redressal Committee with the Dean Academic as the \\nChairman, The Chair Person the School, One Senior Teacher and the Course Teacher as \\nmembers to address all grievance relating to the internal assessment of grades of the students  \\n \\n24 TRANSITORY PROVISIONS \\n \\nNotwithstanding anything contained in these Regulations, The VC shall for 3 years from the \\ndate of coming into force of these regulations have the power to provide by an order necessary \\nmodification as may be necessary  \\n \\n \\n \\n \\n**************************')]"
      ]
     },
     "execution_count": 4,
     "metadata": {},
     "output_type": "execute_result"
    }
   ],
   "source": [
    "\n",
    "all_pdf_documents"
   ]
  },
  {
   "cell_type": "code",
   "execution_count": 14,
   "id": "274a232c",
   "metadata": {},
   "outputs": [],
   "source": [
    "### Text splitting get into chunks\n",
    "\n",
    "def split_documents(documents,chunk_size=1000,chunk_overlap=200):\n",
    "    \"\"\"Split documents into smaller chunks for better RAG performance\"\"\"\n",
    "    text_splitter = RecursiveCharacterTextSplitter(\n",
    "        chunk_size=chunk_size,\n",
    "        chunk_overlap=chunk_overlap,\n",
    "        length_function=len,\n",
    "        separators=[\"\\n\\n\", \"\\n\", \" \", \"\"]\n",
    "    )\n",
    "    split_docs = text_splitter.split_documents(documents)\n",
    "    print(f\"Split {len(documents)} documents into {len(split_docs)} chunks\")\n",
    "    \n",
    "    # Show example of a chunk\n",
    "    if split_docs:\n",
    "        print(f\"\\nExample chunk:\")\n",
    "        print(f\"Content: {split_docs[0].page_content[:200]}...\")\n",
    "        print(f\"Metadata: {split_docs[0].metadata}\")\n",
    "    \n",
    "    return split_docs"
   ]
  },
  {
   "cell_type": "code",
   "execution_count": 15,
   "id": "ce318eb6",
   "metadata": {},
   "outputs": [
    {
     "name": "stdout",
     "output_type": "stream",
     "text": [
      "Split 49 documents into 122 chunks\n",
      "\n",
      "Example chunk:\n",
      "Content: Kerala University of Digital Sciences, \n",
      "Innovation and Technology \n",
      "(Digital University Kerala) \n",
      "- DIGITAL \n",
      "?.f UNIVERSITY \n",
      "- KERALA \n",
      "PROSPECTUS 5 \n",
      "wE...\n",
      "Metadata: {'producer': 'iLovePDF', 'creator': 'PyPDF', 'creationdate': '', 'moddate': '2025-09-29T06:51:30+00:00', 'source': '..\\\\data\\\\DUK_Admission_Prospectus-2025.pdf', 'total_pages': 31, 'page': 0, 'page_label': '1', 'source_file': 'DUK_Admission_Prospectus-2025.pdf', 'file_type': 'pdf'}\n"
     ]
    },
    {
     "data": {
      "text/plain": [
       "[Document(metadata={'producer': 'iLovePDF', 'creator': 'PyPDF', 'creationdate': '', 'moddate': '2025-09-29T06:51:30+00:00', 'source': '..\\\\data\\\\DUK_Admission_Prospectus-2025.pdf', 'total_pages': 31, 'page': 0, 'page_label': '1', 'source_file': 'DUK_Admission_Prospectus-2025.pdf', 'file_type': 'pdf'}, page_content='Kerala University of Digital Sciences, \\nInnovation and Technology \\n(Digital University Kerala) \\n- DIGITAL \\n?.f UNIVERSITY \\n- KERALA \\nPROSPECTUS 5 \\nwE'),\n",
       " Document(metadata={'producer': 'iLovePDF', 'creator': 'PyPDF', 'creationdate': '', 'moddate': '2025-09-29T06:51:30+00:00', 'source': '..\\\\data\\\\DUK_Admission_Prospectus-2025.pdf', 'total_pages': 31, 'page': 1, 'page_label': '2', 'source_file': 'DUK_Admission_Prospectus-2025.pdf', 'file_type': 'pdf'}, page_content='Contents \\nAbout the University .. \\nDA ENIC PO OGS o s s s iS85 Ay A s s e A SRR X SRR 4 \\nAICTE Approved M.Tech. & MBA Programmes ...........ccceeuriuemiussnsssnsinsnssissnsnsesnnn 4 \\nM.Tech. Computer Science and ENgiNEEring ..........ccoveiveniininriiinienininninenneesnenen 4 \\nM.Tech. Electronics ENGINEering .........ccccvvuiiiiiiiiiininiiiesiiee s ssssss s sssas e snnes 4 \\nMaster of Business AdmINiStration..............ccoceviniiieiininieiese s 5 \\nMLSC. PrOGrAMIMES .....oiviiiiiiieiiieiiaisssss st sbs s as s assaas s s s s s sassaa s saassassaesaeeae s LS \\n1. M.Sc. Applied Physics: \\n2. M.Sc. Computer Science with specialization in Artificial Intelligence: ................. 5 \\n3. M.Sc. Computer Science with specialization in Cybersecurity: ...........c..cccvvvennnne 6 \\n4. M.Sc. Computer Science with specialization in Data Analytics.. \\n5. M.Sc. Data Analytics and Computational SCIENCe ............cceevveiiiniiiieniniiniein, 6'),\n",
       " Document(metadata={'producer': 'iLovePDF', 'creator': 'PyPDF', 'creationdate': '', 'moddate': '2025-09-29T06:51:30+00:00', 'source': '..\\\\data\\\\DUK_Admission_Prospectus-2025.pdf', 'total_pages': 31, 'page': 1, 'page_label': '2', 'source_file': 'DUK_Admission_Prospectus-2025.pdf', 'file_type': 'pdf'}, page_content='4. M.Sc. Computer Science with specialization in Data Analytics.. \\n5. M.Sc. Data Analytics and Computational SCIENCe ............cceevveiiiniiiieniniiniein, 6 \\n6. M.Sc. Data Science and Bio-Al............cccvuviininnnnninnnnnnininissnnsiisnisnssne 6 \\n7. M.Sc. Data Science and Geoinformatics ............coceeevieiinininninisiss 6 \\n8. M.Sc. Ecology with specialization in Ecological Informatics .............cccocueeniiinnnns 7 \\n9. M.SC. EIOCLIONICS iiiicusssinssssssiiansisosiansisssssassiinssussnsosiusdssossssusonsqnanesussianssdsssssssasans 7 \\n10. M.Sc. ENVironmental SCIBNCE .....ciceeitiiueniuisnisessossssassnsnisasssssasssssssassnssisnsssssnoness 7 \\nAdmission Process. \\nIMPORANt DALES ..o coovnmnnnnennnn s s s e e 12 \\nST PAPOr COMEE s s umsmssis st s TSR AT e TG R s Ao S IR T R S TSRS 12 \\nDigital University Admission Test (DUAT)-2025 Syllabus \\nMode of Conduct Of DUAT ..ot 21 \\n1| Page'),\n",
       " Document(metadata={'producer': 'iLovePDF', 'creator': 'PyPDF', 'creationdate': '', 'moddate': '2025-09-29T06:51:30+00:00', 'source': '..\\\\data\\\\DUK_Admission_Prospectus-2025.pdf', 'total_pages': 31, 'page': 2, 'page_label': '3', 'source_file': 'DUK_Admission_Prospectus-2025.pdf', 'file_type': 'pdf'}, page_content='00 SITUCTUND s wenexesosssenassosnnssasessysosisssusssnsasansstansasonnsstannaspsns samsns sax susennsssasdsansnssopaiasorassnass 22 \\nHostel:and MESE F0iusmmusenennusssassssasssasnsessocssseasssararassnonssnsssamssnssassssntansanssusossassossinsoany 24 \\nScholarships & Financial Aid .. \\nGeneral FaCIlities ...........cooiiiiiiiiiii i 26 \\nHOW t0 reaCh DUK?.......ociiiiiiicieccieie i a e b s b 29 \\nContact iNfOrMAatioN ..........cociiiiiiiiiiiese e 30 \\n2| Page'),\n",
       " Document(metadata={'producer': 'iLovePDF', 'creator': 'PyPDF', 'creationdate': '', 'moddate': '2025-09-29T06:51:30+00:00', 'source': '..\\\\data\\\\DUK_Admission_Prospectus-2025.pdf', 'total_pages': 31, 'page': 3, 'page_label': '4', 'source_file': 'DUK_Admission_Prospectus-2025.pdf', 'file_type': 'pdf'}, page_content='About the University \\nTo steer Kerala into a leadership role in the emerging knowledge economy, the \\nGovernment of Kerala established “Kerala University of Digital Sciences, Innovation and \\nTechnology” in 2020 by upgrading Indian Institute of Information Technology and \\nManagement-Kerala, 11ITM-K. Digital University Kerala (DUK) is recognized under \\nSection 2(f) of the University Grants Commission (UGC) Act, 1956. \\nThe University strives to be an international benchmark in conducting cutting-edge \\nresearch and nurturing budding minds in the center for promoting and implementing \\nmodern technological interventions in disruptive technologies. The University aims to \\ncreate capacity building at post-graduate and doctoral levels in the areas of Atrtificial \\nIntelligence and Natural Language Processing, Internet of Things, Electronic Systems \\nand Automation, Imaging Technologies, Data Analytics and Big Data, Cybersecurity,'),\n",
       " Document(metadata={'producer': 'iLovePDF', 'creator': 'PyPDF', 'creationdate': '', 'moddate': '2025-09-29T06:51:30+00:00', 'source': '..\\\\data\\\\DUK_Admission_Prospectus-2025.pdf', 'total_pages': 31, 'page': 3, 'page_label': '4', 'source_file': 'DUK_Admission_Prospectus-2025.pdf', 'file_type': 'pdf'}, page_content='Intelligence and Natural Language Processing, Internet of Things, Electronic Systems \\nand Automation, Imaging Technologies, Data Analytics and Big Data, Cybersecurity, \\nBlockchain, Ecological Informatics, Geospatial Analytics, Applied Materials etc. State-of- \\nthe-art labs with professional training programs, consultancy, and implementation \\nsolutions to support the government will continue for the benefit of society. \\nVision \\nThe vision of the University is to become a global destination of repute in Digital \\nEducation and Research and to become an academic leader by nurturing futuristic talents \\ncapable of developing innovative and sustainable solutions for the industry, \\nGovernments, and society at large. \\nMission \\nThe motto of the University is to ‘Curate a Responsible Digital World.\" The \\ndevelopment and application of Digital Technologies for social good is the underlying \\nmission of the University. Towards this, the University shall focus on four themes of action,'),\n",
       " Document(metadata={'producer': 'iLovePDF', 'creator': 'PyPDF', 'creationdate': '', 'moddate': '2025-09-29T06:51:30+00:00', 'source': '..\\\\data\\\\DUK_Admission_Prospectus-2025.pdf', 'total_pages': 31, 'page': 3, 'page_label': '4', 'source_file': 'DUK_Admission_Prospectus-2025.pdf', 'file_type': 'pdf'}, page_content='development and application of Digital Technologies for social good is the underlying \\nmission of the University. Towards this, the University shall focus on four themes of action, \\nnamely Computing, Intelligence, Sustainability, and Entrepreneurship; the first two \\nthemes shall form the focus area of work, and the next two themes act as guiding light for \\nthe overall mission while designing programs, developing products and services as well \\nas for providing training and extension activities. The University shall catalyze technical \\nadvances that promote the welfare of society. \\nCampuses \\ne Technocity Campus (Technopark Phase IV), Thiruvananthapuram, Kerala 695317 \\ne [IITMK New Campus, Technopark Campus, Thiruvananthapuram, Kerala 695581 \\n3| Page'),\n",
       " Document(metadata={'producer': 'iLovePDF', 'creator': 'PyPDF', 'creationdate': '', 'moddate': '2025-09-29T06:51:30+00:00', 'source': '..\\\\data\\\\DUK_Admission_Prospectus-2025.pdf', 'total_pages': 31, 'page': 4, 'page_label': '5', 'source_file': 'DUK_Admission_Prospectus-2025.pdf', 'file_type': 'pdf'}, page_content=\"Academic Programmes \\nThe University is conducting the following academic programmes in five schools, \\nnamely Schools of Computer Science & Engineering (SoCSE), School of Digital \\nHumanities and Liberal Arts (SoDiHLA), School of Digital Sciences (SoDS), School of \\nElectronic Systems and Automation (SOoESA) and School of Informatics (Sol) \\nAICTE Approved M.Tech. & MBA Programmes \\nM.Tech. Computer Science and Engineering \\nThe programme offered by the School of Computer Science and Engineering (SoCSE) in \\nthree specializations: \\n« Artificial Intelligence \\n* Connected Systems and Intelligence \\ne Cybersecurity Engineering \\nCandidates must hold any of the following qualifications with a minimum aggregate of \\n60% marks (or equivalent, with relaxation for reserved categories as per University \\nnorms): \\n« A four-year Bachelor's degree in CS/IT/ECE/allied areas or \\n« A three-year undergraduate degree followed by a two-year postgraduate degree\"),\n",
       " Document(metadata={'producer': 'iLovePDF', 'creator': 'PyPDF', 'creationdate': '', 'moddate': '2025-09-29T06:51:30+00:00', 'source': '..\\\\data\\\\DUK_Admission_Prospectus-2025.pdf', 'total_pages': 31, 'page': 4, 'page_label': '5', 'source_file': 'DUK_Admission_Prospectus-2025.pdf', 'file_type': 'pdf'}, page_content=\"norms): \\n« A four-year Bachelor's degree in CS/IT/ECE/allied areas or \\n« A three-year undergraduate degree followed by a two-year postgraduate degree \\nor five-year integrated Master's degree in Computer Applications/Computer \\nScience/Information Technology/ Mathematics/ Statistics/ Physics \\nM.Tech. Electronics Engineering \\nThe programme offered by the School of Electronic Systems and Automation (SOESA) in \\nthree specializations: \\ne Al Hardware \\ne |oT & Robotics \\ne VLSI Design \\nCandidates must hold any of the following qualifications with a minimum aggregate of \\n60% marks (or equivalent, with relaxation for reserved categories as per University \\nnorms): \\n4| Page\"),\n",
       " Document(metadata={'producer': 'iLovePDF', 'creator': 'PyPDF', 'creationdate': '', 'moddate': '2025-09-29T06:51:30+00:00', 'source': '..\\\\data\\\\DUK_Admission_Prospectus-2025.pdf', 'total_pages': 31, 'page': 5, 'page_label': '6', 'source_file': 'DUK_Admission_Prospectus-2025.pdf', 'file_type': 'pdf'}, page_content=\"e A four-year Bachelor's degree in EE/ECE/AEI/EI/Robotics or equivalent \\nelectronics hardware branches or \\n* A 3-year undergraduate degree followed by a 2-year postgraduate degree or 5- \\nyear integrated Master’s degree in Electronics/Instrumentation or equivalent. \\nMaster of Business Administration \\nThe School of Digital Humanities and Liberal Arts (SoDiHLA) offers a two-year MBA in \\nthe following areas of specialization: Business Analytics, Digital Governance, Digital \\nTransformation, Finance, Human Resources, Information Security Management, \\nMarketing, Operations, Systems, Technology Management \\nCandidates must possess a valid entrance examination score approved by the University \\n(CUET(PG), CAT, CMAT, KMAT, XAT, NMAT, GRE, DUAT) and a Bachelor's degree \\nwith a minimum aggregate of 60% marks (or equivalent, with relaxation for reserved \\ncategories as per University norms). \\nAdditionally, for the MBA batch for Working Professionals, if offered, a minimum relevant\"),\n",
       " Document(metadata={'producer': 'iLovePDF', 'creator': 'PyPDF', 'creationdate': '', 'moddate': '2025-09-29T06:51:30+00:00', 'source': '..\\\\data\\\\DUK_Admission_Prospectus-2025.pdf', 'total_pages': 31, 'page': 5, 'page_label': '6', 'source_file': 'DUK_Admission_Prospectus-2025.pdf', 'file_type': 'pdf'}, page_content=\"categories as per University norms). \\nAdditionally, for the MBA batch for Working Professionals, if offered, a minimum relevant \\nindustry experience of 2 years is required. \\nM.Sc. Programmes \\n1. M.Sc. Applied Physics \\nThe programme is offered in the School of Electronic Systems and Automation in two \\nspecializations. \\ne VLSI Design \\n« Applied Materials \\nCandidates must possess either a 3-year or a 4-year Bachelor's degree in \\nscience/engineering/mathematics with a minimum aggregate of 60% marks (or \\nequivalent, with relaxation for reserved categories as per University norms). \\n2. M.Sc. Computer Science with specialization in Atrtificial Intelligence \\nThe programme is offered in the School of Computer Science and Engineering. \\nCandidates must possess either a 3-year or a 4-year Bachelor's degree with a minimum \\naggregate of 60% marks (or equivalent, with relaxation for reserved categories as per \\nUniversity norms). \\n5| Page\"),\n",
       " Document(metadata={'producer': 'iLovePDF', 'creator': 'PyPDF', 'creationdate': '', 'moddate': '2025-09-29T06:51:30+00:00', 'source': '..\\\\data\\\\DUK_Admission_Prospectus-2025.pdf', 'total_pages': 31, 'page': 6, 'page_label': '7', 'source_file': 'DUK_Admission_Prospectus-2025.pdf', 'file_type': 'pdf'}, page_content=\"3. M.Sc. Computer Science with specialization in Cybersecurity \\nThe programme is offered in the School of Computer Science and Engineering. \\nCandidates must possess either a 3-year or a 4-year Bachelor's degree with a minimum \\naggregate of 60% marks (or equivalent, with relaxation for reserved categories as per \\nUniversity norms). \\n4. M.Sc. Computer Science with specialization in Data Analytics \\nThe programme is offered in the School of Digital Sciences. \\nCandidates must possess either a 3-year or a 4-year Bachelor's degree in \\nScience/Engineering/Mathematics, with Mathematics/Statistics as one of the subjects, \\nand a minimum aggregate of 60% marks (or equivalent). Relaxation in marks will be \\nprovided for reserved categories as per University norms. \\n5. M.Sc. Data Analytics and Computational Science \\nThe programme is offered in the School of Digital Sciences. \\nCandidates must possess either a 3-year or a 4-year Bachelor's degree in\"),\n",
       " Document(metadata={'producer': 'iLovePDF', 'creator': 'PyPDF', 'creationdate': '', 'moddate': '2025-09-29T06:51:30+00:00', 'source': '..\\\\data\\\\DUK_Admission_Prospectus-2025.pdf', 'total_pages': 31, 'page': 6, 'page_label': '7', 'source_file': 'DUK_Admission_Prospectus-2025.pdf', 'file_type': 'pdf'}, page_content=\"5. M.Sc. Data Analytics and Computational Science \\nThe programme is offered in the School of Digital Sciences. \\nCandidates must possess either a 3-year or a 4-year Bachelor's degree in \\nScience/Engineering/Mathematics, with Mathematics/Statistics as one of the subjects, \\nand a minimum aggregate of 60% marks (or equivalent). Relaxation in marks will be \\nprovided for reserved categories as per University norms. \\n6. M.Sc. Data Science and Bio-Al \\nThe programme offered in the School of Digital Sciences. \\nCandidates must possess either a 3-year or a 4-year bachelor's degree in \\nScience/Engineering/Mathematics with a minimum aggregate of 60% marks (or \\nequivalent). Relaxation in marks will be provided for reserved categories as per University \\nnorms. \\n7. M.Sc. Data Science and Geoinformatics \\nThe programme offered in the School of Digital Sciences. \\nCandidates must possess either a 3-year or a 4-year bachelor's degree in\"),\n",
       " Document(metadata={'producer': 'iLovePDF', 'creator': 'PyPDF', 'creationdate': '', 'moddate': '2025-09-29T06:51:30+00:00', 'source': '..\\\\data\\\\DUK_Admission_Prospectus-2025.pdf', 'total_pages': 31, 'page': 6, 'page_label': '7', 'source_file': 'DUK_Admission_Prospectus-2025.pdf', 'file_type': 'pdf'}, page_content=\"norms. \\n7. M.Sc. Data Science and Geoinformatics \\nThe programme offered in the School of Digital Sciences. \\nCandidates must possess either a 3-year or a 4-year bachelor's degree in \\nScience/Engineering/Mathematics with a minimum aggregate of 60% marks (or \\n6| Page\"),\n",
       " Document(metadata={'producer': 'iLovePDF', 'creator': 'PyPDF', 'creationdate': '', 'moddate': '2025-09-29T06:51:30+00:00', 'source': '..\\\\data\\\\DUK_Admission_Prospectus-2025.pdf', 'total_pages': 31, 'page': 7, 'page_label': '8', 'source_file': 'DUK_Admission_Prospectus-2025.pdf', 'file_type': 'pdf'}, page_content=\"equivalent). Relaxation in marks will be provided for reserved categories as per University \\nnorms. \\n8. M.Sc. Ecology with specialization in Ecological Informatics \\nThe programme is offered in the School of Informatics. \\nCandidates must possess either a 3-year or a 4-year Bachelor's degree with a minimum \\naggregate of 60% marks (or equivalent, with relaxation for reserved categories as per \\nUniversity norms). \\n9. M.Sc. Electronics \\nThe programme is offered at the School of Electronic Systems and Automation, where it \\nhas the following specializations. \\n* Al Hardware \\n* |oT & Robotics \\ne VLSI Design \\nCandidates must possess either a 3-year or a 4-year Bachelor's degree in \\nscience/engineering/mathematics with a minimum aggregate of 60% marks (or \\nequivalent, with relaxation for reserved categories as per University norms). \\n10.M.Sc. Environmental Science \\nThe programme is offered in the School of Informatics.\"),\n",
       " Document(metadata={'producer': 'iLovePDF', 'creator': 'PyPDF', 'creationdate': '', 'moddate': '2025-09-29T06:51:30+00:00', 'source': '..\\\\data\\\\DUK_Admission_Prospectus-2025.pdf', 'total_pages': 31, 'page': 7, 'page_label': '8', 'source_file': 'DUK_Admission_Prospectus-2025.pdf', 'file_type': 'pdf'}, page_content=\"equivalent, with relaxation for reserved categories as per University norms). \\n10.M.Sc. Environmental Science \\nThe programme is offered in the School of Informatics. \\nCandidates must possess either a 3-year or a 4-year Bachelor's degree with a minimum \\naggregate of 60% marks (or equivalent, with relaxation for reserved categories as per \\nUniversity norms). \\nDoctor of Philosophy \\nFull-time regular, Part-time regular and Industry regular Ph.D. is offered in all five schools \\nviz- School of Computer Science and Engineering, School of Electronic Systems and \\nAutomation, School of Digital Sciences, School of Digital Humanities and Liberal Arts and \\nSchool of Informatics. \\nFor the General category candidates, a 2-year (or more) Master's degree with 60% marks \\nor an M.Phil. degree with 60% coursework marks in a discipline relevant to the school the \\n7| Page\"),\n",
       " Document(metadata={'producer': 'iLovePDF', 'creator': 'PyPDF', 'creationdate': '', 'moddate': '2025-09-29T06:51:30+00:00', 'source': '..\\\\data\\\\DUK_Admission_Prospectus-2025.pdf', 'total_pages': 31, 'page': 8, 'page_label': '9', 'source_file': 'DUK_Admission_Prospectus-2025.pdf', 'file_type': 'pdf'}, page_content=\"candidate is applying is required. SC/ST/OEC/OBC (non-creamy layer)/ differently-abled/ \\nEconomically weaker section candidates have the same criteria as the General category \\ncandidates, except they need only 55% marks. \\nThe candidates who have appeared for the final examinations are also eligible to apply if \\ntheir aggregate marks until then are equal to or above the minimum required marks. If \\nadmitted to the Ph.D. program, they must meet the eligibility criteria by the date specified \\nby the University. \\nPart-time and Industry Regular Ph.D. applicants must have a full-time job with at least 5 \\nyears of relevant full-time work experience after their Bachelor's degree. To apply to the \\nIndustry Regular Ph.D. program, the applicant should be a full-time employee of the \\nindustry at the time of application. \\nMinimum Eligibility for Postgraduate Programme- Clarifications \\nA minimum of 60% marks in the qualifying degree (e.g., Bachelor's degree) or a CGPA\"),\n",
       " Document(metadata={'producer': 'iLovePDF', 'creator': 'PyPDF', 'creationdate': '', 'moddate': '2025-09-29T06:51:30+00:00', 'source': '..\\\\data\\\\DUK_Admission_Prospectus-2025.pdf', 'total_pages': 31, 'page': 8, 'page_label': '9', 'source_file': 'DUK_Admission_Prospectus-2025.pdf', 'file_type': 'pdf'}, page_content=\"industry at the time of application. \\nMinimum Eligibility for Postgraduate Programme- Clarifications \\nA minimum of 60% marks in the qualifying degree (e.g., Bachelor's degree) or a CGPA \\nof 6.5 or higher on a 10-point scale is required for eligibility. Please note that marks will \\nnot be rounded to meet the minimum criteria. \\nApplicants with a CGPA below 6.5 may still be eligible if their university's conversion \\ncriteria translate the CGPA to a 60% or higher percentage equivalent. In such cases, \\ncandidates must provide an official document or certificate from their university detailing \\nthe conversion methodology at the time of admission. \\nRelaxation for Reserved Categories: \\nCandidates belonging to Scheduled Caste (SC), Scheduled Tribe (ST), and Persons with \\nDisability (PwD) categories are eligible to apply if they have secured the minimum passing \\nmarks in their qualifying degree. \\nCandidates belonging to the Other Backward Classes - Non-Creamy Layer (SEBC-NCL)\"),\n",
       " Document(metadata={'producer': 'iLovePDF', 'creator': 'PyPDF', 'creationdate': '', 'moddate': '2025-09-29T06:51:30+00:00', 'source': '..\\\\data\\\\DUK_Admission_Prospectus-2025.pdf', 'total_pages': 31, 'page': 8, 'page_label': '9', 'source_file': 'DUK_Admission_Prospectus-2025.pdf', 'file_type': 'pdf'}, page_content='marks in their qualifying degree. \\nCandidates belonging to the Other Backward Classes - Non-Creamy Layer (SEBC-NCL) \\ncategory of Kerala state can avail of a 5% relaxation in the minimum mark requirement, \\nprovided they have passed the qualifying exam. \\nFinal Year/Semester Students: \\nStudents who have appeared for (or are currently appearing for) their final year/semester \\nexams can also apply as long as they meet these two conditions: \\n8| Page'),\n",
       " Document(metadata={'producer': 'iLovePDF', 'creator': 'PyPDF', 'creationdate': '', 'moddate': '2025-09-29T06:51:30+00:00', 'source': '..\\\\data\\\\DUK_Admission_Prospectus-2025.pdf', 'total_pages': 31, 'page': 9, 'page_label': '10', 'source_file': 'DUK_Admission_Prospectus-2025.pdf', 'file_type': 'pdf'}, page_content='They appear for all final year/semester exams for the first time (no re-appearances) and \\nhave passed all previous exams before the final year/semester. \\nVerification of Documents: \\nSelected candidates must submit original documents like mark sheets, degree/provisional \\ndegree certificates, and migration certificates within a specific timeframe set by the \\nuniversity. Failure to submit these documents by the deadline may result in being asked \\nto withdraw from the program. \\nAdmission Process \\nM.Sc. \\nApplicants for Master of Science (MSc) programs must take one of the following entrance \\nexams: \\n« Digital University Admission Test (DUAT-2025) conducted by Digital University \\nKerala. \\ne Common University Entrance Test (CUET(PG)-2025) conducted by NTA for \\nadmission to various postgraduate programs \\nM.Tech. \\nAdmission to M.Tech. programmes involve two options: \\ne National Level Exams: Applicants can take the CUET(PG)-2025 or Graduate \\nAptitude Test in Engineering (GATE) exam.'),\n",
       " Document(metadata={'producer': 'iLovePDF', 'creator': 'PyPDF', 'creationdate': '', 'moddate': '2025-09-29T06:51:30+00:00', 'source': '..\\\\data\\\\DUK_Admission_Prospectus-2025.pdf', 'total_pages': 31, 'page': 9, 'page_label': '10', 'source_file': 'DUK_Admission_Prospectus-2025.pdf', 'file_type': 'pdf'}, page_content='M.Tech. \\nAdmission to M.Tech. programmes involve two options: \\ne National Level Exams: Applicants can take the CUET(PG)-2025 or Graduate \\nAptitude Test in Engineering (GATE) exam. \\ne School-Specific Admission Procedure: M.Tech. admissions will be based on an \\nonline or offline written test, followed by interviews with shortlisted candidates. \\ne Candidates with a valid GATE score will be directly called for the interview. \\nMBA \\nFor MBA program, applicants with a valid score in one of the following national-level \\nentrance exams are considered for admission: \\ne Common University Entrance Test (CUET(PG)-2025) conducted by NTA \\n9| Page'),\n",
       " Document(metadata={'producer': 'iLovePDF', 'creator': 'PyPDF', 'creationdate': '', 'moddate': '2025-09-29T06:51:30+00:00', 'source': '..\\\\data\\\\DUK_Admission_Prospectus-2025.pdf', 'total_pages': 31, 'page': 10, 'page_label': '11', 'source_file': 'DUK_Admission_Prospectus-2025.pdf', 'file_type': 'pdf'}, page_content='e CAT (Common Admission Test) conducted by [IMs \\ne GRE (Graduate Record Examinations) \\ne CMAT (Central Management Admission Test) \\ne KMAT (Kerala Management Aptitude Test) \\ne XAT (Xavier Aptitude Test) \\ne NMAT by GMAC (Graduate Management Admission Council) / GMAT \\nApplicants who qualify through these exams will be shortlisted for a group discussion and \\nan interview. \\nPh.D.: \\nAdmission to the Ph.D. program requires appearing for the Digital University Research \\nAptitude Test (DRAT). However, candidates who have secured a fellowship or \\nscholarship through recognized national-level examinations such as UGC-NET, UGC- \\nCSIR NET, GATE, CEED, or other equivalent tests approved by the University are \\nexempted from appearing for the DRAT. \\nHow to Apply Online \\nApplication portal: https://duk.ac.infadmission/apply/ \\nStep 1: Registration \\ne Provide your Name, Email Id, Mobile number, and the Program/Group you are \\napplying for.'),\n",
       " Document(metadata={'producer': 'iLovePDF', 'creator': 'PyPDF', 'creationdate': '', 'moddate': '2025-09-29T06:51:30+00:00', 'source': '..\\\\data\\\\DUK_Admission_Prospectus-2025.pdf', 'total_pages': 31, 'page': 10, 'page_label': '11', 'source_file': 'DUK_Admission_Prospectus-2025.pdf', 'file_type': 'pdf'}, page_content='How to Apply Online \\nApplication portal: https://duk.ac.infadmission/apply/ \\nStep 1: Registration \\ne Provide your Name, Email Id, Mobile number, and the Program/Group you are \\napplying for. \\ne An email containing login credentials will be sent to the provided email address. \\ne Use the credentials to log in and proceed to complete the application. \\nStep 2: Application Details \\ne Complete the online application, saving your progress after each step. \\nStep 3: Document Upload \\n10 | Page'),\n",
       " Document(metadata={'producer': 'iLovePDF', 'creator': 'PyPDF', 'creationdate': '', 'moddate': '2025-09-29T06:51:30+00:00', 'source': '..\\\\data\\\\DUK_Admission_Prospectus-2025.pdf', 'total_pages': 31, 'page': 11, 'page_label': '12', 'source_file': 'DUK_Admission_Prospectus-2025.pdf', 'file_type': 'pdf'}, page_content='Candidates must have scanned copies of their photograph, signature, and \\nnecessary documents. (Photo of Signature, Photo and Scanned Copy of any ID \\nCard are mandatory) \\nUpload the scanned documents as part of the application process. \\nStep 4: Application Fee Payment \\nThe final step involves the payment of the application fee, as follows: \\no For candidates applying with CUET-PG or any other approved qualifying \\nexaminations: X100 for General category candidates and 50 for \\nSC/ST/Divyang candidates. \\no For candidates appearing for DUAT: 2750 for General category candidates \\nand %375 for SC/ST/Divyang candidates. \\no The application fee, once remitted, is not refundable. \\nUpon successful payment, the application will be automatically submitted, and a \\nconfirmation email with a copy of the application will be sent to you. \\nImportant Notes: \\nA token fee of 10,000 must be paid upon receipt of the offer letter to confirm your \\nseat.'),\n",
       " Document(metadata={'producer': 'iLovePDF', 'creator': 'PyPDF', 'creationdate': '', 'moddate': '2025-09-29T06:51:30+00:00', 'source': '..\\\\data\\\\DUK_Admission_Prospectus-2025.pdf', 'total_pages': 31, 'page': 11, 'page_label': '12', 'source_file': 'DUK_Admission_Prospectus-2025.pdf', 'file_type': 'pdf'}, page_content='confirmation email with a copy of the application will be sent to you. \\nImportant Notes: \\nA token fee of 10,000 must be paid upon receipt of the offer letter to confirm your \\nseat. \\nAll information provided should be genuine and accurate. University decisions \\nbased on this data are provisional and subject to verification during the selection \\nprocess. \\nFailure to meet eligibility criteria or the detection of false information at any stage \\nmay result in the cancellation of candidature and forfeiture of any offers made. \\nMSc programs sharing the same DUAT exam are grouped together. Candidates \\ninterested in applying to multiple program groups must submit separate \\napplications for each group. This requires creating separate accounts using the \\nsame or different email addresses. \\nFor example, the MSc Computer Science/Data Analytics group includes: \\nMSc in Computer Science with a specialization in Cybersecurity \\nMSc in Computer Science with a specialization in Artificial Intelligence'),\n",
       " Document(metadata={'producer': 'iLovePDF', 'creator': 'PyPDF', 'creationdate': '', 'moddate': '2025-09-29T06:51:30+00:00', 'source': '..\\\\data\\\\DUK_Admission_Prospectus-2025.pdf', 'total_pages': 31, 'page': 11, 'page_label': '12', 'source_file': 'DUK_Admission_Prospectus-2025.pdf', 'file_type': 'pdf'}, page_content='MSc in Computer Science with a specialization in Cybersecurity \\nMSc in Computer Science with a specialization in Artificial Intelligence \\nMSc in Computer Science with a specialization in Data Analytics \\nMSc Data Analytics and Computational Science \\n11 | Page'),\n",
       " Document(metadata={'producer': 'iLovePDF', 'creator': 'PyPDF', 'creationdate': '', 'moddate': '2025-09-29T06:51:30+00:00', 'source': '..\\\\data\\\\DUK_Admission_Prospectus-2025.pdf', 'total_pages': 31, 'page': 12, 'page_label': '13', 'source_file': 'DUK_Admission_Prospectus-2025.pdf', 'file_type': 'pdf'}, page_content='Candidates will have the option to indicate their preferences for programs within a group. \\nImportant Dates \\nDUK application portal opens for registration: 315t January 2025 \\nLast date to submit the application: 19\" May 2025 \\nDUAT Exam Phase 1: 315 May 2025 \\nDRAT Exam: 7\" June 2025 \\nTest Paper Codes \\nDegree Programme CUET Test Paper Code DUAT \\nTest \\npaper \\ncode \\nMBA Business Administration \\n(Specializations: Business \\nAnalytics/ \\nDigital Governance/ Digital \\nTransformation/ Finance/ Human \\nResources/ Information Security \\nManagement/ Marketing \\nOperations Systems/ Technology \\nManagement) \\nCOQP12 DUATO1 \\nM.Tech. Computer Science and \\nEngineering (specializations: \\nconnected systems and \\nintelligence/ \\nartificial intelligence/ \\ncybersecurity engineering) \\nMTQP04, MTQPO5 NA \\nM.Tech. Electronics Engineering \\n(Specializations: Al Hardware/ \\nVLSI/ 10T and Robotics) \\nMTQPOS5, MTQP09 NA \\nM.Sc. Applied Physics (Specializations: \\nApplied Materials/ VLSI) \\nSCQP18, SCQP24 DUATO03'),\n",
       " Document(metadata={'producer': 'iLovePDF', 'creator': 'PyPDF', 'creationdate': '', 'moddate': '2025-09-29T06:51:30+00:00', 'source': '..\\\\data\\\\DUK_Admission_Prospectus-2025.pdf', 'total_pages': 31, 'page': 12, 'page_label': '13', 'source_file': 'DUK_Admission_Prospectus-2025.pdf', 'file_type': 'pdf'}, page_content='(Specializations: Al Hardware/ \\nVLSI/ 10T and Robotics) \\nMTQPOS5, MTQP09 NA \\nM.Sc. Applied Physics (Specializations: \\nApplied Materials/ VLSI) \\nSCQP18, SCQP24 DUATO03 \\nM.Sc. Computer Science with \\nspecialization in Artificial \\nIntelligence \\nSCQP06, SCQP09, SCQP19, \\nSCQP24, SCQP27 \\nDUATO02 \\n12 | Page'),\n",
       " Document(metadata={'producer': 'iLovePDF', 'creator': 'PyPDF', 'creationdate': '', 'moddate': '2025-09-29T06:51:30+00:00', 'source': '..\\\\data\\\\DUK_Admission_Prospectus-2025.pdf', 'total_pages': 31, 'page': 13, 'page_label': '14', 'source_file': 'DUK_Admission_Prospectus-2025.pdf', 'file_type': 'pdf'}, page_content='Degree | Programme CUET Test Paper Code DUAT \\nTest \\npaper \\ncode \\nM.Sc. Computer Science with SCQP06, SCQP09, SCQP19, DUATO02 \\nspecialization in Cybersecurity SCQP24, SCQP27 \\nM.Sc. Computer Science with SCQP09, SCQP27, SCQP19, DUATO02 \\nspecialization in Data Analytics SCQP24 \\nM.Sc. Data Analytics and SCQP09, SCQP27, SCQP19, DUATO02 \\nComputational Science SCQP24 \\nM.Sc. Data Science and Bio-Al SCQP09, SCQP17, SCQPO03, DUATO05 \\nSCQPO05, SCQP06, SCQPOQ7, \\nSCQPO08, SCQP28, SCQP25, \\nSCQP27, SCQP24, SCQP19, \\nSCQPO01, SCQP02, SCQP22, \\nSCQP23 \\nM.Sc. Data Science and Geoinformatics | SCQP09, SCQP14, SCQP15, DUATO06 \\nSCQP11, SCQP26, SCQP27, \\nSCQP24, SCQP19 \\nM.Sc. Ecology with specialization in SCQPO01, SCQP07, SCQPO8, DUATO04 \\nEcological Informatics SCQP11, SCQP14, SCQP17, \\nSCQP19, SCQP24, SCQP27, \\nSCQP28, SCQP02 \\nM.Sc. Electronics(Specializations: Al SCQP18, SCQP24 DUATO3 \\nHardware/ VLSI/ IOT and \\nRobotics) \\nM.Sc. Environmental Science SCQPO01, SCQP02, SCQPO07, DUATO04'),\n",
       " Document(metadata={'producer': 'iLovePDF', 'creator': 'PyPDF', 'creationdate': '', 'moddate': '2025-09-29T06:51:30+00:00', 'source': '..\\\\data\\\\DUK_Admission_Prospectus-2025.pdf', 'total_pages': 31, 'page': 13, 'page_label': '14', 'source_file': 'DUK_Admission_Prospectus-2025.pdf', 'file_type': 'pdf'}, page_content='SCQP28, SCQP02 \\nM.Sc. Electronics(Specializations: Al SCQP18, SCQP24 DUATO3 \\nHardware/ VLSI/ IOT and \\nRobotics) \\nM.Sc. Environmental Science SCQPO01, SCQP02, SCQPO07, DUATO04 \\n(Specializations: Environmental SCQP08, SCQP09, SCQP11, \\nData Science/ Ecological SCQP14, SCQP15, SCQP16, \\nInformatics/ Ocean and Climate SCQP17, SCQP19, SCQP24, \\nInformatics/ Environmental SCQP27, SCQP28, SCQP29, \\nCommunication/ Sustainability COQP02, COQP08, COQP10, \\nStudies) HUQPO08, HUQP22 \\nDigital University Admission Test (DUAT)-2025 Syllabus \\nTest Code: DUATO1 \\nProgramme: Master of Business Administration \\n13 | Page'),\n",
       " Document(metadata={'producer': 'iLovePDF', 'creator': 'PyPDF', 'creationdate': '', 'moddate': '2025-09-29T06:51:30+00:00', 'source': '..\\\\data\\\\DUK_Admission_Prospectus-2025.pdf', 'total_pages': 31, 'page': 14, 'page_label': '15', 'source_file': 'DUK_Admission_Prospectus-2025.pdf', 'file_type': 'pdf'}, page_content='General Aptitude (20 Marks) \\nVerbal Aptitude-Basic English grammar: Tenses, articles, adjectives, prepositions, \\nconjunctions, verb-noun agreement, and other parts of speech. Basic vocabulary: Words, \\nidioms and phrases in context. Narrative sequencing. \\nQuantitative Aptitude-Data interpretation: Data graphs (bar graphs, pie charts, and other \\ngraphs representing data), 2- and 3-dimensional plots, maps, and tables. Numerical \\ncomputation and estimation: Ratios, percentages, powers, exponents and logarithms, \\npermutations and combinations, summations and series, Mensuration and Geometry. \\nAnalytical Aptitude-Logic: Deduction and induction, analogy, numerical relations, and \\nreasoning. Spatial Aptitude-Transformation of shapes: Translation, rotation, scaling, \\nmirroring, assembling, grouping, paper folding, cutting, and patterns in 2 and 3 \\ndimensions. \\nMathematics (20 Marks) \\nProbability, Statistics, Calculus, Discrete Mathematics, basic number theory, algebra'),\n",
       " Document(metadata={'producer': 'iLovePDF', 'creator': 'PyPDF', 'creationdate': '', 'moddate': '2025-09-29T06:51:30+00:00', 'source': '..\\\\data\\\\DUK_Admission_Prospectus-2025.pdf', 'total_pages': 31, 'page': 14, 'page_label': '15', 'source_file': 'DUK_Admission_Prospectus-2025.pdf', 'file_type': 'pdf'}, page_content='dimensions. \\nMathematics (20 Marks) \\nProbability, Statistics, Calculus, Discrete Mathematics, basic number theory, algebra \\nEnglish Reading Comprehension (20 Marks) \\nTwo paragraphs, each having 5-10 questions. \\nTest Code: DUAT02 \\nProgramme: MSc Computer Science with specialization in Data \\nAnalytics/Cybersecurityl/Artificial Intelligence; MSc Data Analytics and \\nComputational Science \\nGeneral Aptitude (20 Marks) \\nVerbal Aptitude-Basic English grammar: Tenses, articles, adjectives, prepositions, \\nconjunctions, verb-noun agreement, and other parts of speech. Basic vocabulary: Words, \\nidioms and phrases in context. Narrative sequencing. \\nQuantitative Aptitude-Data interpretation: Data graphs (bar graphs, pie charts, and other \\ngraphs representing data), 2- and 3-dimensional plots, maps, and tables. Numerical \\ncomputation and estimation: Ratios, percentages, powers, exponents and logarithms, \\npermutations and combinations, summations and series, Mensuration and Geometry'),\n",
       " Document(metadata={'producer': 'iLovePDF', 'creator': 'PyPDF', 'creationdate': '', 'moddate': '2025-09-29T06:51:30+00:00', 'source': '..\\\\data\\\\DUK_Admission_Prospectus-2025.pdf', 'total_pages': 31, 'page': 14, 'page_label': '15', 'source_file': 'DUK_Admission_Prospectus-2025.pdf', 'file_type': 'pdf'}, page_content='computation and estimation: Ratios, percentages, powers, exponents and logarithms, \\npermutations and combinations, summations and series, Mensuration and Geometry \\nAnalytical Aptitude-Logic: Deduction and induction, analogy, numerical relations, and \\n14 | Page'),\n",
       " Document(metadata={'producer': 'iLovePDF', 'creator': 'PyPDF', 'creationdate': '', 'moddate': '2025-09-29T06:51:30+00:00', 'source': '..\\\\data\\\\DUK_Admission_Prospectus-2025.pdf', 'total_pages': 31, 'page': 15, 'page_label': '16', 'source_file': 'DUK_Admission_Prospectus-2025.pdf', 'file_type': 'pdf'}, page_content='reasoning. Spatial Aptitude-Transformation of shapes: Translation, rotation, scaling, \\nmirroring, assembling, grouping, paper folding, cutting, and patterns in 2 and 3 \\ndimensions. \\nMathematics (20 Marks) \\nSet Theory- Concept of sets—Union, Intersection, Cardinality, Elementary counting; \\npermutations and combinations. \\nProbability and Statistics- Basic concepts of probability theory, Averages, Dependent and \\nindependent events, frequency distributions, measures of central tendencies and \\ndispersions. \\nAlgebra-Fundamental operations in algebra, expansions, factorization, simultaneous \\nlinear/quadratic equations, indices, logarithms, arithmetic, geometric and harmonic \\nprogressions, determinants and matrices. \\nCoordinate Geometry- Rectangular Cartesian coordinates, distance formulae, equation \\nof a line, and intersection of lines, pair of straight lines, equations of a circle, parabola, \\nellipse and hyperbola.'),\n",
       " Document(metadata={'producer': 'iLovePDF', 'creator': 'PyPDF', 'creationdate': '', 'moddate': '2025-09-29T06:51:30+00:00', 'source': '..\\\\data\\\\DUK_Admission_Prospectus-2025.pdf', 'total_pages': 31, 'page': 15, 'page_label': '16', 'source_file': 'DUK_Admission_Prospectus-2025.pdf', 'file_type': 'pdf'}, page_content='of a line, and intersection of lines, pair of straight lines, equations of a circle, parabola, \\nellipse and hyperbola. \\nCalculus-Limit of functions, continuous function, differentiation of function, tangents and \\nnormal, simple examples of maxima and minima. Integration of functions by parts, by \\nsubstitution and by partial fraction, definite integrals, and applications of definite integrals \\nto areas. \\nVectors-Position vector, addition and subtraction of vectors, scalar and vector products \\nand their applications to simple geometrical problems and mechanics. \\nTrigonometry-Simple identities, trigonometric equations, properties of triangles, solution \\nof triangles, heights and distances, general solutions of trigonometric equations. \\nComputer Basics (20 Marks) \\nOrganization of a computer, Central Processing Unit (CPU), structure of instructions in \\nCPU, input/output devices, computer memory, and backup devices.'),\n",
       " Document(metadata={'producer': 'iLovePDF', 'creator': 'PyPDF', 'creationdate': '', 'moddate': '2025-09-29T06:51:30+00:00', 'source': '..\\\\data\\\\DUK_Admission_Prospectus-2025.pdf', 'total_pages': 31, 'page': 15, 'page_label': '16', 'source_file': 'DUK_Admission_Prospectus-2025.pdf', 'file_type': 'pdf'}, page_content='Computer Basics (20 Marks) \\nOrganization of a computer, Central Processing Unit (CPU), structure of instructions in \\nCPU, input/output devices, computer memory, and backup devices. \\nData Representation: Representation of characters, integers and fractions, binary and \\nhexadecimal representations, binary arithmetic: addition, subtraction, multiplication, \\ndivision, simple arithmetic and two’s complement arithmetic, floating-point representation \\nof numbers, Boolean algebra, truth tables, Venn diagrams. \\n15 | Page'),\n",
       " Document(metadata={'producer': 'iLovePDF', 'creator': 'PyPDF', 'creationdate': '', 'moddate': '2025-09-29T06:51:30+00:00', 'source': '..\\\\data\\\\DUK_Admission_Prospectus-2025.pdf', 'total_pages': 31, 'page': 16, 'page_label': '17', 'source_file': 'DUK_Admission_Prospectus-2025.pdf', 'file_type': 'pdf'}, page_content='Test Code: DUATO03 \\nProgramme: MSc Electronics, MSc Applied Physics \\nGeneral Aptitude (20 Marks) \\nVerbal Aptitude-Basic English grammar: Tenses, articles, adjectives, prepositions, \\nconjunctions, verb-noun agreement, and other parts of speech. Basic vocabulary: Words, \\nidioms and phrases in context. Narrative sequencing. \\nQuantitative Aptitude-Data interpretation: Data graphs (bar graphs, pie charts, and other \\ngraphs representing data), 2- and 3-dimensional plots, maps, and tables. Numerical \\ncomputation and estimation: Ratios, percentages, powers, exponents and logarithms, \\npermutations and combinations, summations and series, Mensuration and Geometry. \\nAnalytical Aptitude-Logic: Deduction and induction, analogy, numerical relations, and \\nreasoning. Spatial Aptitude-Transformation of shapes: Translation, rotation, scaling, \\nmirroring, assembling, grouping, paper folding, cutting, and patterns in 2 and 3 \\ndimensions. \\nMathematics (10 Marks)'),\n",
       " Document(metadata={'producer': 'iLovePDF', 'creator': 'PyPDF', 'creationdate': '', 'moddate': '2025-09-29T06:51:30+00:00', 'source': '..\\\\data\\\\DUK_Admission_Prospectus-2025.pdf', 'total_pages': 31, 'page': 16, 'page_label': '17', 'source_file': 'DUK_Admission_Prospectus-2025.pdf', 'file_type': 'pdf'}, page_content='mirroring, assembling, grouping, paper folding, cutting, and patterns in 2 and 3 \\ndimensions. \\nMathematics (10 Marks) \\nLinear Algebra: Matrix Algebra, Systems of linear equations, Eigen values, Eigenvectors. \\nCalculus: Mean value theorems, Theorems of integral calculus, Evaluation of definite and \\nimproper integrals, Partial Derivatives, Maxima and minima, Fourier series \\nDifferential equations: First-order equations (linear and nonlinear), Higher-order linear \\ndifferential equations with constant coefficients, method of variation of parameters, and \\npartial differential equations. \\nProbability and Statistics: Sampling theorems, Conditional probability, Mean, Median, \\nMode, Standard Deviation, Random variables, Discrete and Continuous distributions, \\nPoisson distribution, Normal distribution, Binomial distribution, Correlation analysis, \\nRegression analysis \\nSolid State Physics, Devices, Electronics Circuits (30 Marks)'),\n",
       " Document(metadata={'producer': 'iLovePDF', 'creator': 'PyPDF', 'creationdate': '', 'moddate': '2025-09-29T06:51:30+00:00', 'source': '..\\\\data\\\\DUK_Admission_Prospectus-2025.pdf', 'total_pages': 31, 'page': 16, 'page_label': '17', 'source_file': 'DUK_Admission_Prospectus-2025.pdf', 'file_type': 'pdf'}, page_content=\"Poisson distribution, Normal distribution, Binomial distribution, Correlation analysis, \\nRegression analysis \\nSolid State Physics, Devices, Electronics Circuits (30 Marks) \\nCrystal structure, Bravais lattices and basis. Miller indices. X-ray diffraction, Bragg's law, \\nIntrinsic and extrinsic semiconductors, and variation of resistivity with temperature. \\n16 | Page\"),\n",
       " Document(metadata={'producer': 'iLovePDF', 'creator': 'PyPDF', 'creationdate': '', 'moddate': '2025-09-29T06:51:30+00:00', 'source': '..\\\\data\\\\DUK_Admission_Prospectus-2025.pdf', 'total_pages': 31, 'page': 17, 'page_label': '18', 'source_file': 'DUK_Admission_Prospectus-2025.pdf', 'file_type': 'pdf'}, page_content=\"Failure of classical mechanics, origin of quantum theory, particle nature of waves, De \\nBroglie Wave and Uncertainty Principle, Bohr's Atom model \\np-n junction diode, |-V characteristics, diffusion current, drift current, mobility and \\nresistivity, Zener diode and its applications. BJT: characteristics in CB, CE, CC modes. \\nSingle stage amplifier, two stages R-C coupled amplifiers. MOS capacitor, MOSFET, \\nLED, photodiode and solar cell \\nBoolean algebra: Binary number systems; conversion from one system to another \\nsystem; binary addition and subtraction. Logic Gates: AND, OR, NOT, NAND, NOR \\nexclusive OR; Truth tables; Combination of gates; deMorgan’s theorem \\nSimple DC and AC circuits with R, L and C components. Kirchhoff's Voltage/current Law, \\nsuperposition, Thevenin’s theorem, Norton’s theorem, reciprocity, and maximum power \\ntransfer. Oscillators: Barkhausen condition, sinusoidal oscillators. OP-AMP Inverting and \\nno inverting amplifier. \\nTest Code: DUAT04\"),\n",
       " Document(metadata={'producer': 'iLovePDF', 'creator': 'PyPDF', 'creationdate': '', 'moddate': '2025-09-29T06:51:30+00:00', 'source': '..\\\\data\\\\DUK_Admission_Prospectus-2025.pdf', 'total_pages': 31, 'page': 17, 'page_label': '18', 'source_file': 'DUK_Admission_Prospectus-2025.pdf', 'file_type': 'pdf'}, page_content='transfer. Oscillators: Barkhausen condition, sinusoidal oscillators. OP-AMP Inverting and \\nno inverting amplifier. \\nTest Code: DUAT04 \\nProgrammes: MSc Ecology, MSc Environmental Science \\nGeneral Aptitude (20 Marks) \\nVerbal Aptitude-Basic English grammar: Tenses, articles, adjectives, prepositions, \\nconjunctions, verb-noun agreement, and other parts of speech. Basic vocabulary: Words, \\nidioms and phrases in context. Narrative sequencing. \\nQuantitative Aptitude-Data interpretation: Data graphs (bar graphs, pie charts, and other \\ngraphs representing data), 2- and 3-dimensional plots, maps, and tables. Numerical \\ncomputation and estimation: Ratios, percentages, powers, exponents and logarithms, \\npermutations and combinations, summations and series, Mensuration and Geometry. \\nAnalytical Aptitude-Logic: Deduction and induction, analogy, numerical relations, and \\nreasoning. Spatial Aptitude-Transformation of shapes: Translation, rotation, scaling,'),\n",
       " Document(metadata={'producer': 'iLovePDF', 'creator': 'PyPDF', 'creationdate': '', 'moddate': '2025-09-29T06:51:30+00:00', 'source': '..\\\\data\\\\DUK_Admission_Prospectus-2025.pdf', 'total_pages': 31, 'page': 17, 'page_label': '18', 'source_file': 'DUK_Admission_Prospectus-2025.pdf', 'file_type': 'pdf'}, page_content='Analytical Aptitude-Logic: Deduction and induction, analogy, numerical relations, and \\nreasoning. Spatial Aptitude-Transformation of shapes: Translation, rotation, scaling, \\nmirroring, assembling, grouping, paper folding, cutting, and patterns in 2 and 3 \\ndimensions. \\nElementary mathematics and computer basics (10 Marks) \\nNumber System, Sets, Functions, Algebra, Geometry, Trigonometry, Matrices and \\nDeterminants, Differentiation and Integration, Basic Statistics and Probability. \\n17 | Page'),\n",
       " Document(metadata={'producer': 'iLovePDF', 'creator': 'PyPDF', 'creationdate': '', 'moddate': '2025-09-29T06:51:30+00:00', 'source': '..\\\\data\\\\DUK_Admission_Prospectus-2025.pdf', 'total_pages': 31, 'page': 18, 'page_label': '19', 'source_file': 'DUK_Admission_Prospectus-2025.pdf', 'file_type': 'pdf'}, page_content='Fundamentals of computers, operating systems, algorithms, data types, operators, basics \\nof internet, programming languages, software applications \\nSubject Questions (Undergraduate Level, 30 Marks) \\nProperties of matter, fundamentals of thermodynamics, equilibrium in physical and \\nchemical processes, law of mass action, fundamentals of environmental physics, Earth’s \\nenergy budget, atmospheric and terrestrial interaction of electromagnetic radiation, \\nradiation laws, fundamentals of surface chemistry, atmospheric chemistry, water \\nchemistry, geochemistry, and green chemistry; water - physical characteristics, buffering \\ncapacity, Essential and trace elements in living systems, Bio-molecules - chemical \\ncomponents of cells, toxicity of heavy metals. \\nOrigin of life, Eukaryotic and prokaryotic cells- structure and function, taxonomy and \\nsystematic, anatomy and physiology of plants and animals, reproduction, developmental'),\n",
       " Document(metadata={'producer': 'iLovePDF', 'creator': 'PyPDF', 'creationdate': '', 'moddate': '2025-09-29T06:51:30+00:00', 'source': '..\\\\data\\\\DUK_Admission_Prospectus-2025.pdf', 'total_pages': 31, 'page': 18, 'page_label': '19', 'source_file': 'DUK_Admission_Prospectus-2025.pdf', 'file_type': 'pdf'}, page_content='Origin of life, Eukaryotic and prokaryotic cells- structure and function, taxonomy and \\nsystematic, anatomy and physiology of plants and animals, reproduction, developmental \\nbiology, molecular biology, microbes and their environmental significance, ethology, \\ngeological time scale, theories of evolution, speciation, inheritance of variation, mutation, \\nnatural selection, and adaptation, biogeography- global pattern of biodiversity, \\nbiodiversity of Indian sub-continent, major biomes of the world. \\nComponents of the atmosphere, lithosphere, hydrosphere, and biosphere; organizational \\nlevels of the biosphere, Ecosystem: structure and types, population and community, \\ninteractions, food chain and energy flow, terrestrial and aquatics ecosystems; Earth \\nprocesses; climate and weather systems, environmental geology: Types of rocks, \\nminerals, hydrological and biogeochemical cycles, natural resources - forest, water, \\nminerals, marine; Energy resources-renewable and non-renewable.'),\n",
       " Document(metadata={'producer': 'iLovePDF', 'creator': 'PyPDF', 'creationdate': '', 'moddate': '2025-09-29T06:51:30+00:00', 'source': '..\\\\data\\\\DUK_Admission_Prospectus-2025.pdf', 'total_pages': 31, 'page': 18, 'page_label': '19', 'source_file': 'DUK_Admission_Prospectus-2025.pdf', 'file_type': 'pdf'}, page_content='minerals, hydrological and biogeochemical cycles, natural resources - forest, water, \\nminerals, marine; Energy resources-renewable and non-renewable. \\nPlanetary crisis: climate change and global warming; ozone depletion; acid rain; habitat \\nfragmentation; biodiversity loss; extinction; land and aquatic system degradation; \\nurbanization; environmental pollution and control; air, water, soil, noise, and radioactive \\npollution; solid waste - disposal, management. Disaster and mitigation: Earthquakes, \\nfloods, landslides, and cyclones; Environmental sustainability; sustainable development \\ngoals; biodiversity conservation; natural resource management; national and international \\ninitiatives; environmental legislations and policies; international relations and current \\naffairs. \\nTest Code: DUATO05 \\n18 | Page'),\n",
       " Document(metadata={'producer': 'iLovePDF', 'creator': 'PyPDF', 'creationdate': '', 'moddate': '2025-09-29T06:51:30+00:00', 'source': '..\\\\data\\\\DUK_Admission_Prospectus-2025.pdf', 'total_pages': 31, 'page': 19, 'page_label': '20', 'source_file': 'DUK_Admission_Prospectus-2025.pdf', 'file_type': 'pdf'}, page_content='Programme: MSc Data Science and BioAl \\nGeneral Aptitude (20 Marks) \\nVerbal Aptitude-Basic English grammar: Tenses, articles, adjectives, prepositions, \\nconjunctions, verb-noun agreement, and other parts of speech. Basic vocabulary: Words, \\nidioms and phrases in context. Narrative sequencing. \\nQuantitative Aptitude-Data interpretation: Data graphs (bar graphs, pie charts, and other \\ngraphs representing data), 2- and 3-dimensional plots, maps, and tables. Numerical \\ncomputation and estimation: Ratios, percentages, powers, exponents and logarithms, \\npermutations and combinations, summations and series, Mensuration and Geometry. \\nAnalytical Aptitude-Logic: Deduction and induction, analogy, numerical relations, and \\nreasoning. Spatial Aptitude-Transformation of shapes: Translation, rotation, scaling, \\nmirroring, assembling, grouping, paper folding, cutting, and patterns in 2 and 3 \\ndimensions. \\nMathematics (10 Marks)'),\n",
       " Document(metadata={'producer': 'iLovePDF', 'creator': 'PyPDF', 'creationdate': '', 'moddate': '2025-09-29T06:51:30+00:00', 'source': '..\\\\data\\\\DUK_Admission_Prospectus-2025.pdf', 'total_pages': 31, 'page': 19, 'page_label': '20', 'source_file': 'DUK_Admission_Prospectus-2025.pdf', 'file_type': 'pdf'}, page_content='mirroring, assembling, grouping, paper folding, cutting, and patterns in 2 and 3 \\ndimensions. \\nMathematics (10 Marks) \\nSet Theory: Concept offsets—Union, Intersection, Cardinality, Elementary counting, \\npermutations and combinations. \\nProbability and Statistics: Basic concepts of probability theory, Averages, Dependent and \\nindependent events, frequency distributions, measures of central tendencies and \\ndispersions. \\nBiochemistry/Biotechnology (Undergraduate level questions, 20 Marks) \\nNucleic Acids: Structure and functions of DNA and RNA; DNA replication, transcription, \\nand translation. Proteins: Structure, folding, stability, and interactions. Enzymes: \\nMechanisms of enzyme action, enzyme kinetics (Michaelis-Menten equation), enzyme \\ninhibition, and regulation. Human Genome Project: Key achievements and significance. \\nGenome Sequencing: Fundamentals and applications of sequencing technologies. \\nGenomic Integrity: Mutations and DNA repair mechanisms. Production of therapeutic'),\n",
       " Document(metadata={'producer': 'iLovePDF', 'creator': 'PyPDF', 'creationdate': '', 'moddate': '2025-09-29T06:51:30+00:00', 'source': '..\\\\data\\\\DUK_Admission_Prospectus-2025.pdf', 'total_pages': 31, 'page': 19, 'page_label': '20', 'source_file': 'DUK_Admission_Prospectus-2025.pdf', 'file_type': 'pdf'}, page_content='Genome Sequencing: Fundamentals and applications of sequencing technologies. \\nGenomic Integrity: Mutations and DNA repair mechanisms. Production of therapeutic \\nproteins and vaccines. CRISPR Technology: Principles and Applications \\nAtomic Structure: Overview of atomic models, concepts of atom, orbit, orbital, and \\nelectronic configuration. Periodic Properties: Trends in atomic size, electronegativity, and \\nelectron affinity. Chemical Bonding and Molecular Structure: Hybridization, VSEPR \\ntheory, valence bond theory, molecular orbital theory, and intermolecular forces. \\nChemical Kinetics: Basics of reaction rates, mechanisms, and activation energy. \\n19 | Page'),\n",
       " Document(metadata={'producer': 'iLovePDF', 'creator': 'PyPDF', 'creationdate': '', 'moddate': '2025-09-29T06:51:30+00:00', 'source': '..\\\\data\\\\DUK_Admission_Prospectus-2025.pdf', 'total_pages': 31, 'page': 20, 'page_label': '21', 'source_file': 'DUK_Admission_Prospectus-2025.pdf', 'file_type': 'pdf'}, page_content='Stereochemistry: Configuration and conformational isomerism, with emphasis on \\nchirality. Organic Chemistry: Fundamentals, including reaction mechanisms. Medicinal \\nChemistry: Drug classification, properties, an overview of drug-receptor interactions, \\nADMET properties, and pharmacokinetics. Computational Chemistry: Basics of molecular \\nmechanics and quantum mechanics. \\nComputer Basics (10 Marks) \\nOrganization of a computer, Central Processing Unit (CPU), structure of instructions in \\nCPU, input/output devices, computer memory, and backup devices. \\nData Representation: Representation of characters, integers and fractions, binary and \\nhexadecimal representations, binary arithmetic: addition, subtraction, multiplication, \\ndivision, simple arithmetic and two’s complement arithmetic, floating-point representation \\nof numbers, Boolean algebra, truth tables, Venn diagrams. \\nTest Code: DUATO06 \\nProgramme: MSc Data Science and Geoinformatics \\nGeneral Aptitude (20 Marks)'),\n",
       " Document(metadata={'producer': 'iLovePDF', 'creator': 'PyPDF', 'creationdate': '', 'moddate': '2025-09-29T06:51:30+00:00', 'source': '..\\\\data\\\\DUK_Admission_Prospectus-2025.pdf', 'total_pages': 31, 'page': 20, 'page_label': '21', 'source_file': 'DUK_Admission_Prospectus-2025.pdf', 'file_type': 'pdf'}, page_content='of numbers, Boolean algebra, truth tables, Venn diagrams. \\nTest Code: DUATO06 \\nProgramme: MSc Data Science and Geoinformatics \\nGeneral Aptitude (20 Marks) \\nVerbal Aptitude-Basic English grammar: Tenses, articles, adjectives, prepositions, \\nconjunctions, verb-noun agreement, and other parts of speech. Basic vocabulary: Words, \\nidioms and phrases in context. Narrative sequencing. \\nQuantitative Aptitude-Data interpretation: Data graphs (bar graphs, pie charts, and other \\ngraphs representing data), 2- and 3-dimensional plots, maps, and tables. Numerical \\ncomputation and estimation: Ratios, percentages, powers, exponents and logarithms, \\npermutations and combinations, summations and series, Mensuration and Geometry. \\nAnalytical Aptitude-Logic: Deduction and induction, analogy, numerical relations, and \\nreasoning. Spatial Aptitude-Transformation of shapes: Translation, rotation, scaling, \\nmirroring, assembling, grouping, paper folding, cutting, and patterns in 2 and 3 \\ndimensions.'),\n",
       " Document(metadata={'producer': 'iLovePDF', 'creator': 'PyPDF', 'creationdate': '', 'moddate': '2025-09-29T06:51:30+00:00', 'source': '..\\\\data\\\\DUK_Admission_Prospectus-2025.pdf', 'total_pages': 31, 'page': 20, 'page_label': '21', 'source_file': 'DUK_Admission_Prospectus-2025.pdf', 'file_type': 'pdf'}, page_content='reasoning. Spatial Aptitude-Transformation of shapes: Translation, rotation, scaling, \\nmirroring, assembling, grouping, paper folding, cutting, and patterns in 2 and 3 \\ndimensions. \\nMathematics (10 Marks) \\nStatistics and Probability: Measure of central tendency, measure of dispersion, skewness \\nand Kurtosis, and elementary analysis of data. Probability and properties, conditional \\n20| Page'),\n",
       " Document(metadata={'producer': 'iLovePDF', 'creator': 'PyPDF', 'creationdate': '', 'moddate': '2025-09-29T06:51:30+00:00', 'source': '..\\\\data\\\\DUK_Admission_Prospectus-2025.pdf', 'total_pages': 31, 'page': 21, 'page_label': '22', 'source_file': 'DUK_Admission_Prospectus-2025.pdf', 'file_type': 'pdf'}, page_content='probability, multiplication rule. Total Probability. Bayes’ theorem and independence of \\nevents. \\nEarth and Environmental Sciences (20 Marks) \\nEarth Sciences: Structure and composition of Environment-Atmosphere, Hydrosphere \\nand Lithosphere, Earth Processes, Mineral and Power Resources in India, Bio- \\ngeochemical Cycles, Meteorology, Climate Change, Origin and evolution of earth, Mineral \\nand Power Resources in India. \\nAgriculture Land Use/Land Utilization Systems. \\nEcology and Environment: Biosphere, Organizational levels of biosphere, Ecosystem: \\nStructure and Types, Food Chain and Energy Flow, Population and Community Ecology, \\nBiodiversity and its Conservation. \\nNatural resources and Management: Natural Resources, Land and Water Resources, \\nMinerals, Marine, Energy (Renewable and Non-renewable) - Sources, Threats, \\nConservation, and Management. \\nRemote sensing and GIS: Electro Magnetic Spectrum, Components and types of remote'),\n",
       " Document(metadata={'producer': 'iLovePDF', 'creator': 'PyPDF', 'creationdate': '', 'moddate': '2025-09-29T06:51:30+00:00', 'source': '..\\\\data\\\\DUK_Admission_Prospectus-2025.pdf', 'total_pages': 31, 'page': 21, 'page_label': '22', 'source_file': 'DUK_Admission_Prospectus-2025.pdf', 'file_type': 'pdf'}, page_content='Minerals, Marine, Energy (Renewable and Non-renewable) - Sources, Threats, \\nConservation, and Management. \\nRemote sensing and GIS: Electro Magnetic Spectrum, Components and types of remote \\nsensing, Resolutions (Spectral, Spatial, Temporal & Radiometric), Platforms. GIS: \\ncomponents of GIS, Spatial data, Vector and Raster Data, GIS Data Model and Data \\nStructure - Projection and coordinate Systems. \\nComputer Basics (10 Marks) \\nOrganization of a computer, Central Processing Unit (CPU), structure of instructions in \\nCPU, input/output devices, computer memory, and backup devices. Data Representation: \\nRepresentation of characters, integers and fractions, binary and hexadecimal \\nrepresentations, binary arithmetic: addition, subtraction, multiplication, division, simple \\narithmetic and two’s complement arithmetic, floating-point representation of numbers, \\nBoolean algebra, truth tables, Venn diagram. \\nMode of Conduct of DUAT'),\n",
       " Document(metadata={'producer': 'iLovePDF', 'creator': 'PyPDF', 'creationdate': '', 'moddate': '2025-09-29T06:51:30+00:00', 'source': '..\\\\data\\\\DUK_Admission_Prospectus-2025.pdf', 'total_pages': 31, 'page': 21, 'page_label': '22', 'source_file': 'DUK_Admission_Prospectus-2025.pdf', 'file_type': 'pdf'}, page_content='arithmetic and two’s complement arithmetic, floating-point representation of numbers, \\nBoolean algebra, truth tables, Venn diagram. \\nMode of Conduct of DUAT \\nThe examination will be conducted online and monitored through a combination of Al- \\ndriven proctoring and human invigilators. Candidates must log in using a laptop or \\ndesktop computer with a functional webcam and a stable internet connection. The test \\ncomprises 60 multiple-choice questions (MCQs) to be completed within 60 minutes. Each \\n21 | Page'),\n",
       " Document(metadata={'producer': 'iLovePDF', 'creator': 'PyPDF', 'creationdate': '', 'moddate': '2025-09-29T06:51:30+00:00', 'source': '..\\\\data\\\\DUK_Admission_Prospectus-2025.pdf', 'total_pages': 31, 'page': 22, 'page_label': '23', 'source_file': 'DUK_Admission_Prospectus-2025.pdf', 'file_type': 'pdf'}, page_content='correct answer carries one mark, while 0.25 marks will be deducted for every incorrect \\nresponse. \\nFee Structure \\nFee Structure: M.Tech./MSc Programs \\nFirst Year Second Year \\nThird Fourth \\nParticulars First Semester Second Semester | Semester Semester \\nTuition fee (in Rs) 60000 50000 50000 50000 \\nCaution deposit \\n(in Rs) 5000 \\nTOTAL (in Rs) 65000 50000 50000 50000 \\n22 | Page'),\n",
       " Document(metadata={'producer': 'iLovePDF', 'creator': 'PyPDF', 'creationdate': '', 'moddate': '2025-09-29T06:51:30+00:00', 'source': '..\\\\data\\\\DUK_Admission_Prospectus-2025.pdf', 'total_pages': 31, 'page': 23, 'page_label': '24', 'source_file': 'DUK_Admission_Prospectus-2025.pdf', 'file_type': 'pdf'}, page_content='Fee Structure: MBA Program \\nFirst Year Second Year \\nFirst Second Fourth \\nParticulars Semester| Semester Third Semester Semester \\nTuition fee (in Rs)| 110000 100000 100000 100000 \\nCaution deposit \\n(in Rs) 5000 \\nTOTAL (inRs) | 115000 100000 100000 100000 \\nFee Structure: PhD Programs \\n|Particulars [Tuition Fee IDUK Scholarship \\nFull-time Regular| No tuition fee” in Years 1-5. Rs 20,000/month for the 1st year. \\nPhD Rs 25,000/month for the 2nd year. \\nRs 30,000/month for the 3rd year. \\n23 | Page'),\n",
       " Document(metadata={'producer': 'iLovePDF', 'creator': 'PyPDF', 'creationdate': '', 'moddate': '2025-09-29T06:51:30+00:00', 'source': '..\\\\data\\\\DUK_Admission_Prospectus-2025.pdf', 'total_pages': 31, 'page': 24, 'page_label': '25', 'source_file': 'DUK_Admission_Prospectus-2025.pdf', 'file_type': 'pdf'}, page_content='Part-ime RegularRs. 50,000/year* \\nIPhD \\nNo scholarship \\nIndustry Regular [Rs. 50,000/year* \\nIPhD \\nNo scholarship \\ne “An admission fee of Rs 10,000/- and a refundable caution deposit of Rs 5,000/- \\nneed to be paid initially by all the selected PhD candidates to confirm their seats \\nfor the PhD program \\ne *Part-time Time and Industry regular PhD candidates will also have a special fee \\nof Rs 50,000 from year 2 onwards. \\ne DUK scholarship is only for those who are not project assistants and do not have \\nexternal fellowships such as JRF. All the students who are receiving the DUK \\nscholarship are expected to contribute to the academic activities of the University \\nfor around 10 hours every week. \\nRules for Refund of Tuition Fees: \\nIn the event of admission cancellation, the relevant UGC-issued Notifications regarding \\nAdmission Cancellation and Refund will be adhered to. \\nOriginal certificates and other documents of students who cancel their admission will be'),\n",
       " Document(metadata={'producer': 'iLovePDF', 'creator': 'PyPDF', 'creationdate': '', 'moddate': '2025-09-29T06:51:30+00:00', 'source': '..\\\\data\\\\DUK_Admission_Prospectus-2025.pdf', 'total_pages': 31, 'page': 24, 'page_label': '25', 'source_file': 'DUK_Admission_Prospectus-2025.pdf', 'file_type': 'pdf'}, page_content=\"Admission Cancellation and Refund will be adhered to. \\nOriginal certificates and other documents of students who cancel their admission will be \\npromptly returned to them, provided there are no outstanding liabilities to the University. \\nHostel and Mess Fee \\nTwin occupancy hostel facilities will be provided on campus for female students only. \\nFor students who haven't secured hostel allotment, DUK will help them find suitable \\naccommodation alternatives. \\ne Six-storey hostel \\ne 100+ rooms providing occupancy to 200+ students (currently for female students) \\n24 | Page\"),\n",
       " Document(metadata={'producer': 'iLovePDF', 'creator': 'PyPDF', 'creationdate': '', 'moddate': '2025-09-29T06:51:30+00:00', 'source': '..\\\\data\\\\DUK_Admission_Prospectus-2025.pdf', 'total_pages': 31, 'page': 25, 'page_label': '26', 'source_file': 'DUK_Admission_Prospectus-2025.pdf', 'file_type': 'pdf'}, page_content='e Double occupancy rooms \\nSafety & Security \\nFemale Warden available \\n24/7 round-the-clock male and female security available \\nFire protection system \\ne Subsystem and DG backup \\nHygiene \\ne Bathroom block on each floor \\ne Abundant water supply \\n® Sewage treatment plant \\n@ Washing machine for each floor \\n[Caution Deposit for Hostel (in Rs) 16000 \\nHostel fee per student, per semester, for double {30000 \\nfoccupancy (in Rs) \\nMess Fee |As per actuals \\nCurrently, on-campus hostel accommodation is available only for female students. \\nThe hostel fee for the first semester must be paid in advance at the time of admission, \\nwhile the hostel fee for subsequent semesters is payable at the beginning of each \\nsemester. \\nScholarships & Financial Aid \\nScholarships from Central/State Governments \\n1. Students with a domicile of Kerala from SC/ST and Other Eligible Communities \\n(OEC), OBH are eligible for scholarships under the E-Grantz scheme of Govt. \\nof Kerala. https: //egrantz.kerala.gov.in/,'),\n",
       " Document(metadata={'producer': 'iLovePDF', 'creator': 'PyPDF', 'creationdate': '', 'moddate': '2025-09-29T06:51:30+00:00', 'source': '..\\\\data\\\\DUK_Admission_Prospectus-2025.pdf', 'total_pages': 31, 'page': 25, 'page_label': '26', 'source_file': 'DUK_Admission_Prospectus-2025.pdf', 'file_type': 'pdf'}, page_content='(OEC), OBH are eligible for scholarships under the E-Grantz scheme of Govt. \\nof Kerala. https: //egrantz.kerala.gov.in/, \\n2. The scholarship offered by the Fisheries Department of Kerala for the \\nrecognized children of fishermen. http: //www.egrantzfisheries.kerala.gov.in/, \\n25| Page'),\n",
       " Document(metadata={'producer': 'iLovePDF', 'creator': 'PyPDF', 'creationdate': '', 'moddate': '2025-09-29T06:51:30+00:00', 'source': '..\\\\data\\\\DUK_Admission_Prospectus-2025.pdf', 'total_pages': 31, 'page': 26, 'page_label': '27', 'source_file': 'DUK_Admission_Prospectus-2025.pdf', 'file_type': 'pdf'}, page_content='3. AICTE fellowships for GATE-qualified students in M.Tech. CSE and M.Tech. \\nEE Programmes. \\nhttps://www.aicte-india.org/schemes/students-development-schemes/PG- \\nScholarship-Scheme/General-instruction, \\n4. Students can apply for various other scholarship schemes Central/State \\nGovernments provide. \\nhttps://scholarships.gov.in/ \\nhttp: //minoritywelfare.kerala.gov.in/ \\nhttps://www.dcescholarship.kerala.gov.in/dce/he_ma/he_maindx.php \\nhttps://dcescholarship.kerala.gov.in/hescholarship/he_ma/he_maindx.php \\nhttps://www.kswcfc.org/ \\nEarn While You Learn \\nThe scheme offers paid internships for selected students in research and development \\nprojects where the university engages with government, industry, and research \\norganizations. The number of positions is subject to the availability of funds. \\nUniversity Scholarships/internships/Stipends/Fellowships for PhD. \\nPhD Regular- Scholars are eligible for a monthly scholarship of Rs. 20,000/- for the first'),\n",
       " Document(metadata={'producer': 'iLovePDF', 'creator': 'PyPDF', 'creationdate': '', 'moddate': '2025-09-29T06:51:30+00:00', 'source': '..\\\\data\\\\DUK_Admission_Prospectus-2025.pdf', 'total_pages': 31, 'page': 26, 'page_label': '27', 'source_file': 'DUK_Admission_Prospectus-2025.pdf', 'file_type': 'pdf'}, page_content='University Scholarships/internships/Stipends/Fellowships for PhD. \\nPhD Regular- Scholars are eligible for a monthly scholarship of Rs. 20,000/- for the first \\nyear, Rs. 25,000/-per month in the second year, and Rs. 30000/- per month for 3 year. \\nFellowships from Central/State Governments for PhD Scholars \\nThe PhD Scholars with a valid Junior Research Fellowship (JRF) from recognized \\nnational or state bodies (UGC, CSIR, ICMR, DBT, DST-INSPIRE, KSCSTE etc.) are \\neligible for respective fellowships. \\nGeneral Facilities \\nUniversity Library \\nThe Knowledge Centre formerly the University Library, serves as the academic and \\nresearch nucleus of the university, providing a seamless blend of traditional and digital \\nresources. It offers a diverse collection of books, e-books, scholarly journals, conference \\n26| Page'),\n",
       " Document(metadata={'producer': 'iLovePDF', 'creator': 'PyPDF', 'creationdate': '', 'moddate': '2025-09-29T06:51:30+00:00', 'source': '..\\\\data\\\\DUK_Admission_Prospectus-2025.pdf', 'total_pages': 31, 'page': 27, 'page_label': '28', 'source_file': 'DUK_Admission_Prospectus-2025.pdf', 'file_type': 'pdf'}, page_content='proceedings, and discussion forums, ensuring comprehensive support for coursework \\nand research initiatives. \\nWith extensive digital access, the Knowledge Centre subscribes to premier databases \\nlike IEEE Xplore, Scopus, ScienceDirect, Web of Science, Springer Nature, and essential \\ntools such as Grammarly Premium, Turnitin, and Overleaf. Open-access resources like \\nDOAJ, NPTEL, and arXiv further enhance learning opportunities. Equipped with e-access \\nstations, document scanning, and printing facilities, it ensures a seamless research \\nexperience. The 24/7 operational model (excluding institutional holidays) reinforces its \\ncommitment to fostering continuous learning and academic excellence. \\nAccessibility \\ne Lift access with ramp \\ne Wheelchair accessible \\nClubs & Societies \\nNational Service Scheme \\nReading Club \\n|IEEE Students Branch \\nFilm Club \\nInnovation Club \\nHack-X Club \\nArts and Sports Club \\nSocial Engagement Centre \\nStudent Council \\nMedical Facility'),\n",
       " Document(metadata={'producer': 'iLovePDF', 'creator': 'PyPDF', 'creationdate': '', 'moddate': '2025-09-29T06:51:30+00:00', 'source': '..\\\\data\\\\DUK_Admission_Prospectus-2025.pdf', 'total_pages': 31, 'page': 27, 'page_label': '28', 'source_file': 'DUK_Admission_Prospectus-2025.pdf', 'file_type': 'pdf'}, page_content='National Service Scheme \\nReading Club \\n|IEEE Students Branch \\nFilm Club \\nInnovation Club \\nHack-X Club \\nArts and Sports Club \\nSocial Engagement Centre \\nStudent Council \\nMedical Facility \\ne Doctor available biweekly (Monday and Thursdays) \\ne Free medical check-up facility twice a week \\ne 24/7 transportation available for hospitals \\ne Medicine delivery \\nCounselling Facility \\ne Counseling services are available for students. Weekly sessions can be booked. \\ne The Student Counselor service will be available twice a week. \\nFitness \\n27 | Page'),\n",
       " Document(metadata={'producer': 'iLovePDF', 'creator': 'PyPDF', 'creationdate': '', 'moddate': '2025-09-29T06:51:30+00:00', 'source': '..\\\\data\\\\DUK_Admission_Prospectus-2025.pdf', 'total_pages': 31, 'page': 28, 'page_label': '29', 'source_file': 'DUK_Admission_Prospectus-2025.pdf', 'file_type': 'pdf'}, page_content=\"Unleash your fitness potential within our state-of-the-art hostel gym, equipped with \\nmodern exercise equipment and a motivating atmosphere, providing students with a \\nconvenient and energizing space to pursue a healthy lifestyle right at their doorstep. \\nWhether it's a quick cardio session or weight training, our hostel gym ensures fitness is \\nalways within reach. \\ne Available to staff and students \\ne Morning and evening slots \\ne Trainer available \\ne Separate sessions for men and women \\nYoga & Sports \\nDedicated Yoga Practice Area: Recognizing the rising popularity of yoga and its \\nnumerous benefits, DUK offers guided yoga sessions. \\nAnnual Sports Meet: This exciting event allows students to showcase their athletic talents, \\ncompete in various disciplines, and cheer on their fellow classmates. \\nTable Tennis Arena: This indoor facility allows students to hone their table tennis skills, \\nengage in friendly matches, or enjoy a fun and challenging game during breaks. \\nCareer Services\"),\n",
       " Document(metadata={'producer': 'iLovePDF', 'creator': 'PyPDF', 'creationdate': '', 'moddate': '2025-09-29T06:51:30+00:00', 'source': '..\\\\data\\\\DUK_Admission_Prospectus-2025.pdf', 'total_pages': 31, 'page': 28, 'page_label': '29', 'source_file': 'DUK_Admission_Prospectus-2025.pdf', 'file_type': 'pdf'}, page_content=\"Table Tennis Arena: This indoor facility allows students to hone their table tennis skills, \\nengage in friendly matches, or enjoy a fun and challenging game during breaks. \\nCareer Services \\nDigital University Kerala (DUK) prides itself on a robust placement program, which \\nattracts leading companies to its campus annually. With strong industry connections, the \\nuniversity ensures all interested students can participate in internships and placement \\nactivities. Many internships are the gateway to full-time employment, with companies \\noften recruiting top-performing interns. \\nDUK'’s well-established Training and Placement Cell, led by a dedicated Placement Chair \\nand Placement Officer, is pivotal in facilitating these opportunities. It collaborates with \\ncorporate organizations to secure internships and job placements for students, ensuring \\nsmooth transitions from academic to professional life. In addition, the Training and\"),\n",
       " Document(metadata={'producer': 'iLovePDF', 'creator': 'PyPDF', 'creationdate': '', 'moddate': '2025-09-29T06:51:30+00:00', 'source': '..\\\\data\\\\DUK_Admission_Prospectus-2025.pdf', 'total_pages': 31, 'page': 28, 'page_label': '29', 'source_file': 'DUK_Admission_Prospectus-2025.pdf', 'file_type': 'pdf'}, page_content='corporate organizations to secure internships and job placements for students, ensuring \\nsmooth transitions from academic to professional life. In addition, the Training and \\nPlacement Cell organizes seminars and workshops to equip students with the skills and \\nknowledge needed to excel in their careers, helping them become successful and \\nindustry-ready professionals. \\n28 | Page'),\n",
       " Document(metadata={'producer': 'iLovePDF', 'creator': 'PyPDF', 'creationdate': '', 'moddate': '2025-09-29T06:51:30+00:00', 'source': '..\\\\data\\\\DUK_Admission_Prospectus-2025.pdf', 'total_pages': 31, 'page': 29, 'page_label': '30', 'source_file': 'DUK_Admission_Prospectus-2025.pdf', 'file_type': 'pdf'}, page_content=\"How to reach DUK? \\nDigital University Kerala, Technocity Campus, \\nMangalapuram, Thonnakkal PO, Thiruvananthapuram, \\nKerala — 695317, +91-471-2788000 \\nacademicoffice@duk.ac.in \\nGoogle Map Link: https: /lg.page/KUDSIT?share \\nThe Kerala University of Digital Sciences, Innovation and Technology (DUK) boasts \\nexcellent connectivity, making it easily accessible from various locations. Here's a \\nbreakdown of your travel options: \\nBy Air: \\nTrivandrum International Airport: This convenient airport lies just 18 kilometers from \\nDUK's campus, with a travel time of approximately 30 minutes by car. \\nBy Rail: \\nThiruvananthapuram Central Railway Station (TVC): Situated 22 kilometers south of the \\ncampus. The adjoining KSRTC Bus Station provides frequent city buses towards Attingal \\nand Kollam. These buses reach the Technocity bus stop near the CRPF camp \\n(Pallipuram) within 40 minutes, placing you within a walkable distance from DUK. Taxis \\nare also readily available from the railway station.\"),\n",
       " Document(metadata={'producer': 'iLovePDF', 'creator': 'PyPDF', 'creationdate': '', 'moddate': '2025-09-29T06:51:30+00:00', 'source': '..\\\\data\\\\DUK_Admission_Prospectus-2025.pdf', 'total_pages': 31, 'page': 29, 'page_label': '30', 'source_file': 'DUK_Admission_Prospectus-2025.pdf', 'file_type': 'pdf'}, page_content='(Pallipuram) within 40 minutes, placing you within a walkable distance from DUK. Taxis \\nare also readily available from the railway station. \\nKochuveli Railway Station (KCVL) is 15 kilometers south of the campus. Auto rickshaws \\nare conveniently available for onward travel to DUK. \\nKazhakuttam Railway Station (KZK): KZK is just 8 kilometers away; be aware that not all \\ntrains stop here. Auto rickshaws can transport you to the university from this station. \\nBy Road: \\nNational Highway 66: Many long-distance KSRTC and interstate buses traveling on this \\nhighway towards Thiruvananthapuram halt at the CRPF Camp Pallipuram. This stop is \\napproximately 750 meters from the DUK campus. \\nCity Buses: If utilizing city buses, disembark at the Technopark Phase IV stop, within \\nwalking distance of the university. \\n29 | Page'),\n",
       " Document(metadata={'producer': 'iLovePDF', 'creator': 'PyPDF', 'creationdate': '', 'moddate': '2025-09-29T06:51:30+00:00', 'source': '..\\\\data\\\\DUK_Admission_Prospectus-2025.pdf', 'total_pages': 31, 'page': 30, 'page_label': '31', 'source_file': 'DUK_Admission_Prospectus-2025.pdf', 'file_type': 'pdf'}, page_content='Contact information \\nWebsite: www.duk.ac.in \\nGeneral Queries Related to PG Admission- admission-pg@duk.ac.in \\nGeneral Queries related to Ph.D. Admission- admission-phd@duk.ac.in \\nContact No. 04712788000, 04712788019, 8078193800 \\nSchool/Program Specific Queries \\nSchool of Computer Science & Engineering (SOoCSE)- admission-socse@duk.ac.in \\nSchool of Digital Humanities and Liberal Arts (SoDiHLA)- admission-sodihla@duk.ac.in \\nSchool of Digital Sciences (SoDS)- admission-sods@duk.ac.in \\nSchool of Electronic Systems and Automation (SOESA) -admission-soesa@duk.ac.in \\nSchool of Informatics (Sol)- admission-soi@duk.ac.in \\n30| Page'),\n",
       " Document(metadata={'producer': 'Microsoft® Word 2019', 'creator': 'Microsoft® Word 2019', 'creationdate': '2024-04-15T16:59:36+05:30', 'author': 'iiitmk', 'moddate': '2024-04-15T16:59:36+05:30', 'source': '..\\\\data\\\\PG_Regulatuions rev-2023 .pdf', 'total_pages': 18, 'page': 0, 'page_label': '1', 'source_file': 'PG_Regulatuions rev-2023 .pdf', 'file_type': 'pdf'}, page_content='Post Graduate Program regulations \\nMain changes \\n \\nThe revisions of the regulations on Post Graduate Program include the following: \\n \\n1. The definition of credit is calculated based on the classroom or contact hours. 1 credit in a \\ncourse is defined as 15 hour of interaction between student and instructor OR it is considered \\nequivalent to 30 hours of classroom or laboratory or field activity.  \\n2. The credit distribution is redefined as: \\n \\nProgram courses  \\n(30 credits) \\n \\nUniversity courses \\n(20 credits) \\nFinal year \\nProjects \\nAdditional credits beyond \\nmandatory course work and \\nproject \\nProgram \\nCore \\n(Mandatory\\n) \\nProgram \\nelectives \\n(Mandator\\ny) \\nUniversi\\nty Core \\n(Mandat\\nory) \\nOpen \\nelectives \\n(Mandator\\ny) \\nCapstone \\nProject/ \\nThesis \\n(Mandator\\ny) \\nActivity \\ncredits \\n(Mandator\\ny) \\nActivity \\ncredits \\n(Optiona\\nl) \\nAddition\\nal \\ncourses \\n(Optiona\\nl) \\n15 credits 15 credits 5 credits 15 credits 15 credits 5 credits 5 credits 5 credits'),\n",
       " Document(metadata={'producer': 'Microsoft® Word 2019', 'creator': 'Microsoft® Word 2019', 'creationdate': '2024-04-15T16:59:36+05:30', 'author': 'iiitmk', 'moddate': '2024-04-15T16:59:36+05:30', 'source': '..\\\\data\\\\PG_Regulatuions rev-2023 .pdf', 'total_pages': 18, 'page': 0, 'page_label': '1', 'source_file': 'PG_Regulatuions rev-2023 .pdf', 'file_type': 'pdf'}, page_content='y) \\nActivity \\ncredits \\n(Mandator\\ny) \\nActivity \\ncredits \\n(Optiona\\nl) \\nAddition\\nal \\ncourses \\n(Optiona\\nl) \\n15 credits 15 credits 5 credits 15 credits 15 credits 5 credits 5 credits 5 credits \\n \\n3. Minimum of 65 credits for total courses and 5 credits for activities are included. Maximum a \\nprogram allows students to take 80 credits to be included in the program. \\n4. Open electives are now mandatory to be allowed in every program to promote cross \\ndisciplinary choices. Programs are allowed to have MAJOR and/or MINOR specializations.  \\n5. Group projects and internships are encouraged in the new program structure \\n6. Credits are awarded for various activities beyond classroom which may span publications, \\ncompetitions, etc \\n7. The zero year which was earlier allowed in the program is continued and includes options for \\ntaking a year out for building startups. \\n8. The relative marking is uniformly adopted as the common form of assessment irrespective of'),\n",
       " Document(metadata={'producer': 'Microsoft® Word 2019', 'creator': 'Microsoft® Word 2019', 'creationdate': '2024-04-15T16:59:36+05:30', 'author': 'iiitmk', 'moddate': '2024-04-15T16:59:36+05:30', 'source': '..\\\\data\\\\PG_Regulatuions rev-2023 .pdf', 'total_pages': 18, 'page': 0, 'page_label': '1', 'source_file': 'PG_Regulatuions rev-2023 .pdf', 'file_type': 'pdf'}, page_content='taking a year out for building startups. \\n8. The relative marking is uniformly adopted as the common form of assessment irrespective of \\nthe level of the course or type of program. \\n9. The current structure also allows for dual specialization and also allows to include minor or \\nmajor specialization. At least 30 credits are required for a major specialization (equivalent to \\n10 three credit  courses  or equiv alent) and 9 credits for minor specialization (equivalent to \\nthree 3 credit courses or equivalent). The specialization credits consist of projects, core or \\nelective courses, activities etc. \\n10. For a 100% lab based course, the exams can be conducted in a varie ty of means including \\nviva, and/or written exams with at least two examiners approved by the school exam board \\nwith an intimation of the examiner list to the COE.'),\n",
       " Document(metadata={'producer': 'Microsoft® Word 2019', 'creator': 'Microsoft® Word 2019', 'creationdate': '2024-04-15T16:59:36+05:30', 'author': 'iiitmk', 'moddate': '2024-04-15T16:59:36+05:30', 'source': '..\\\\data\\\\PG_Regulatuions rev-2023 .pdf', 'total_pages': 18, 'page': 1, 'page_label': '2', 'source_file': 'PG_Regulatuions rev-2023 .pdf', 'file_type': 'pdf'}, page_content='REGULATIONS \\n \\nFor the Post Graduate Programs of Teaching Schools of the University \\n \\n1. SHORT TITLE AND COMMENCEMENT \\n \\n1.1. These regulations shall be called “Kerala University of Digital Sciences, Innovation and \\nTechnology Post Graduate Regulations,2023 (KUDSIT-PG Regulations). \\n1.2. These regulations shall come into force from the Academic year 2023-2024 onwards. \\n \\n2. SCOPE \\n \\n2.1. The regulations provided herein shall apply to all regular Post Graduate programmes \\nexcept professional courses conducted by the Teaching Schools of the University w.e.f.  \\nthe academic Year 2023-2024. \\n \\n3. DEFINITIONS \\n \\n3.1 Course – is a subject that the student study as part of a degree program. The course is \\nnormally offered in a semester and can include lectures, tutorials, laboratories, seminars, \\nproject & viva voce etc. \\n3.2 Credit – is a measure of the weekly unit of work assigned  for that course in a semester .'),\n",
       " Document(metadata={'producer': 'Microsoft® Word 2019', 'creator': 'Microsoft® Word 2019', 'creationdate': '2024-04-15T16:59:36+05:30', 'author': 'iiitmk', 'moddate': '2024-04-15T16:59:36+05:30', 'source': '..\\\\data\\\\PG_Regulatuions rev-2023 .pdf', 'total_pages': 18, 'page': 1, 'page_label': '2', 'source_file': 'PG_Regulatuions rev-2023 .pdf', 'file_type': 'pdf'}, page_content='project & viva voce etc. \\n3.2 Credit – is a measure of the weekly unit of work assigned  for that course in a semester . \\nOne credit is defined as 1 hr contact (lectures/tutorials) per week, or 2 hrs of student \\nworkload (labs, projects, homework) per week. As there will be 15 teaching weeks in a \\nsemester, 1 credit is equated to 15 hours of con tact classes per semester, or 30 hours of \\nstudent workload per semester. \\n3.3 Credit Point – is the value obtained by multiplying the grade point by the credit of the \\ncourse. \\n3.4 Cumulative Credit Point Average  – is the value obtained by dividing the sum of credit \\npoints of all the courses taken by the students for the entire program by the total no of \\ncredits. It shall be rounded off to two decimal point. \\n3.5 DUAT – is the Digital University Admission Test conducted by the University and its \\nSchools for the selection of candidates for a programme'),\n",
       " Document(metadata={'producer': 'Microsoft® Word 2019', 'creator': 'Microsoft® Word 2019', 'creationdate': '2024-04-15T16:59:36+05:30', 'author': 'iiitmk', 'moddate': '2024-04-15T16:59:36+05:30', 'source': '..\\\\data\\\\PG_Regulatuions rev-2023 .pdf', 'total_pages': 18, 'page': 1, 'page_label': '2', 'source_file': 'PG_Regulatuions rev-2023 .pdf', 'file_type': 'pdf'}, page_content=\"3.5 DUAT – is the Digital University Admission Test conducted by the University and its \\nSchools for the selection of candidates for a programme \\n3.6 Letter Grade – is a letter symbol that indicates the broad level of performance of a student \\nfor a course. \\n3.7 Plagiarism is the deliberate attempt to deceive the reader, which is evidenced through the \\ncases of (1) Submitting someone's work as their own, (2) Taking passages from their own \\nprevious work without adding citations (self-plagiarism), (3) Re-writing someone's work \\nwithout properly citing sources, (4) Using quotations but not citing the source, (5) \\nInterweaving various sou rces together in the work without citing, (6) Citing some, but \\nnot all, passages that should be cited (7) Melding together cited and uncited sections of \\nthe piece, (8) Providing proper citations, but failing to change the structure and wording \\nof the borrowed ideas enough (close paraphrasing), (9) Inaccurately citing a source, (10)\"),\n",
       " Document(metadata={'producer': 'Microsoft® Word 2019', 'creator': 'Microsoft® Word 2019', 'creationdate': '2024-04-15T16:59:36+05:30', 'author': 'iiitmk', 'moddate': '2024-04-15T16:59:36+05:30', 'source': '..\\\\data\\\\PG_Regulatuions rev-2023 .pdf', 'total_pages': 18, 'page': 1, 'page_label': '2', 'source_file': 'PG_Regulatuions rev-2023 .pdf', 'file_type': 'pdf'}, page_content=\"the piece, (8) Providing proper citations, but failing to change the structure and wording \\nof the borrowed ideas enough (close paraphrasing), (9) Inaccurately citing a source, (10) \\nRelying too heavily on other people's work, failing to bring original thought into the text. \\n3.8 Program – means the entire course of study and examination.\"),\n",
       " Document(metadata={'producer': 'Microsoft® Word 2019', 'creator': 'Microsoft® Word 2019', 'creationdate': '2024-04-15T16:59:36+05:30', 'author': 'iiitmk', 'moddate': '2024-04-15T16:59:36+05:30', 'source': '..\\\\data\\\\PG_Regulatuions rev-2023 .pdf', 'total_pages': 18, 'page': 2, 'page_label': '3', 'source_file': 'PG_Regulatuions rev-2023 .pdf', 'file_type': 'pdf'}, page_content='3.9 Semester – is defined as 15-18 weeks of academic work. \\n3.10 Seminar – means a lecture given by the student on a selected topic and is expected to \\ntrain the student in self-study, editing, document writing, presentation etc. \\n3.11 University - means the Kerala University of Digital Sciences, Innovation and \\nTechnology. \\n3.12 The words and expressions used and not defined in the regulations but defined in the \\nUniversity Act and Statutes  shall have the meaning assigned to them in the Act and \\nStatutes. \\n \\n4. ACADEMIC COMMITTEE \\n \\n4.1. There shall be an Academic Committee constituted by the Vice -Chancellor to monitor \\nand coordinate the working of the programmes \\n4.2. The committee shall consist of \\n(i) The Dean (Academic). \\n(ii) The Chairperson of the School concerned \\n(iii) The Controller of Examinations \\n(iv) One professor of the School concerned \\n4.3. The term of the Academic Committee shall be two years \\n4.4. The Academic Committee shall meet twice in a semester'),\n",
       " Document(metadata={'producer': 'Microsoft® Word 2019', 'creator': 'Microsoft® Word 2019', 'creationdate': '2024-04-15T16:59:36+05:30', 'author': 'iiitmk', 'moddate': '2024-04-15T16:59:36+05:30', 'source': '..\\\\data\\\\PG_Regulatuions rev-2023 .pdf', 'total_pages': 18, 'page': 2, 'page_label': '3', 'source_file': 'PG_Regulatuions rev-2023 .pdf', 'file_type': 'pdf'}, page_content='(iv) One professor of the School concerned \\n4.3. The term of the Academic Committee shall be two years \\n4.4. The Academic Committee shall meet twice in a semester \\n4.5. The committee shall manage all the activities starting from the Admission of a student to \\nthe issue of the final score sheet at end of the course. \\n \\n5. BOARD OF STUDIES \\n \\n5.1 There shall be an BOARD OF STUDIES constituted by the School Board to monitor and  \\ncoordinate the working of the programmes \\n5.2 The committee shall consist of \\n(i) The Dean (Academic) \\n(ii) The Chairperson of the School concerned \\n(iii) At least 5 external members with no more than 10 external members. External \\nmember means those who work outside the school, and can be a person from other \\nuniversity or industry. Wh ere possible, it is encouraged to have a diversified group of \\nmembers from different industries and universities from within and arround the world. \\n(iv) All faculty of the School concerned'),\n",
       " Document(metadata={'producer': 'Microsoft® Word 2019', 'creator': 'Microsoft® Word 2019', 'creationdate': '2024-04-15T16:59:36+05:30', 'author': 'iiitmk', 'moddate': '2024-04-15T16:59:36+05:30', 'source': '..\\\\data\\\\PG_Regulatuions rev-2023 .pdf', 'total_pages': 18, 'page': 2, 'page_label': '3', 'source_file': 'PG_Regulatuions rev-2023 .pdf', 'file_type': 'pdf'}, page_content='members from different industries and universities from within and arround the world. \\n(iv) All faculty of the School concerned \\n \\n5.3 The committee shall be chaired by a professor of the school or a senior person  \\nfrom academia or industry in the area relevant to the school. \\n5.4 The school chair shall act as the convenor for the committee. \\n5.5 The Dean academic shall act as the chair in case no suitable subject specific chair is  \\navailable in the school.  \\n5.6 All recommendations and decisions of the BoS will be submitted to the Dean Academic for  \\nthe relevant approvals and submission to the Academic Council.'),\n",
       " Document(metadata={'producer': 'Microsoft® Word 2019', 'creator': 'Microsoft® Word 2019', 'creationdate': '2024-04-15T16:59:36+05:30', 'author': 'iiitmk', 'moddate': '2024-04-15T16:59:36+05:30', 'source': '..\\\\data\\\\PG_Regulatuions rev-2023 .pdf', 'total_pages': 18, 'page': 3, 'page_label': '4', 'source_file': 'PG_Regulatuions rev-2023 .pdf', 'file_type': 'pdf'}, page_content='6. ADMISSION AND ELIGIBILITY \\n \\n6.1. The eligibility criteria for admission to a course of study shall be announced by the \\nUniversity from time to time \\n6.2. Programmes and eligibility criteria are detailed below. \\n \\nSl No Program Eligibility \\n1 Masters (MSc, MS, M.Tech, MA, \\nMBA) \\n3-year/4-year Graduation in the relevant \\nstream(s) fixed by the School  \\n \\n6.3.  The individual schools shall prescribe the minimum cut-off marks for admissions on an  \\nyearly basis for each of its PG programs subject to meeting the minimum requirement \\nspecified in the UGC regulations and as adopted by the university from time to time.  \\n \\n7. SELECTION PROCESS \\n \\n7.1. The selection to all Masters programmes irrespective of the mode of study will be through \\na common admission process. Admission to a program can be offered twice a year, which \\nwill be up to the individual School to decide  \\n7.2. The students will have an option to clear the Digital University Aptitude Test (DUAT)'),\n",
       " Document(metadata={'producer': 'Microsoft® Word 2019', 'creator': 'Microsoft® Word 2019', 'creationdate': '2024-04-15T16:59:36+05:30', 'author': 'iiitmk', 'moddate': '2024-04-15T16:59:36+05:30', 'source': '..\\\\data\\\\PG_Regulatuions rev-2023 .pdf', 'total_pages': 18, 'page': 3, 'page_label': '4', 'source_file': 'PG_Regulatuions rev-2023 .pdf', 'file_type': 'pdf'}, page_content='will be up to the individual School to decide  \\n7.2. The students will have an option to clear the Digital University Aptitude Test (DUAT) \\nwhich will be offered twice a year.  The cut off for the DUAT score for shortlisting is \\ndecided by the individual School on yearly basis and can vary from one school to another. \\n7.3. The student with a qualified and approved national exam score by the school will be \\neligible to seek admission under that category and are exempted from taking DUAT. Their \\ncut off for the approved national exam for shortlisting is decided by the individual Schools \\non yearly basis and can vary from one year to another  \\n7.4. The short -listed students may be interviewed by the school admission committee and \\nselected based on their cumulative performance in the interview and the qualifying te st \\nscores. The weightage for  the qualification score and interview shall be defined by the \\nindividual Schools based on the needs of the programme.'),\n",
       " Document(metadata={'producer': 'Microsoft® Word 2019', 'creator': 'Microsoft® Word 2019', 'creationdate': '2024-04-15T16:59:36+05:30', 'author': 'iiitmk', 'moddate': '2024-04-15T16:59:36+05:30', 'source': '..\\\\data\\\\PG_Regulatuions rev-2023 .pdf', 'total_pages': 18, 'page': 3, 'page_label': '4', 'source_file': 'PG_Regulatuions rev-2023 .pdf', 'file_type': 'pdf'}, page_content='scores. The weightage for  the qualification score and interview shall be defined by the \\nindividual Schools based on the needs of the programme. \\n7.5. Separate rank lists shall be drawn up for reserved seats. \\n7.6. A school level admission committee shall be responsible for the admissions to  Master \\nPrograms following the university regulations as amended from time to time.  \\n \\n \\n8. REGISTRATION \\n \\n8.1. A student shall be permitted to register for the programme after the admission process is \\ncompleted. The students who are provisionally admitted are also eligible to register in \\nthe course. Where the provisional admission stand cancelled they are automatically \\nwithdrawn from the enrolled courses.'),\n",
       " Document(metadata={'producer': 'Microsoft® Word 2019', 'creator': 'Microsoft® Word 2019', 'creationdate': '2024-04-15T16:59:36+05:30', 'author': 'iiitmk', 'moddate': '2024-04-15T16:59:36+05:30', 'source': '..\\\\data\\\\PG_Regulatuions rev-2023 .pdf', 'total_pages': 18, 'page': 4, 'page_label': '5', 'source_file': 'PG_Regulatuions rev-2023 .pdf', 'file_type': 'pdf'}, page_content='8.2. A student registered for the programme shall complete the programme within 4 years \\nfrom the date of commencement of the programme. This can include a zero year approved \\nby the dean academic, for the students under special circumstances such as \\nhospitalization, or study abroad programs, engaging in start -up etc. The zero year shall \\nnot count towards the total duration of study. \\n8.3. No student shall be allowed to formally take up full-time internships in the middle of the \\nsemester while violating the attendance requirements and in such event the registration \\nwill stand cancelled. \\n8.4. On admission /registration, a student shall  be assigned an admission number/register \\nnumber  which consists of three components. School offering the Degree, year of \\nadmission and serial no of the student in the Admission Register of the year.  \\n8.5. The student shall register to the electives in a semest er at least one week before the'),\n",
       " Document(metadata={'producer': 'Microsoft® Word 2019', 'creator': 'Microsoft® Word 2019', 'creationdate': '2024-04-15T16:59:36+05:30', 'author': 'iiitmk', 'moddate': '2024-04-15T16:59:36+05:30', 'source': '..\\\\data\\\\PG_Regulatuions rev-2023 .pdf', 'total_pages': 18, 'page': 4, 'page_label': '5', 'source_file': 'PG_Regulatuions rev-2023 .pdf', 'file_type': 'pdf'}, page_content='admission and serial no of the student in the Admission Register of the year.  \\n8.5. The student shall register to the electives in a semest er at least one week before the \\ncommencement of the classes or as specified in the academic calendar.  \\n \\n \\n9. PROGRAMME STRUCTURE \\n \\n• MSc or MS - A postgraduate degree program with a minimum 70 credits that can be \\ncompleted in a minimum period of 24 months and a maximum period of 48 months. \\n• M.Tech - A postgraduate degree program with a minimum 70 credits that can be \\ncompleted in a minimum period of 24 months and a maximum period of 48 months. \\n• M.A - A postgraduate degree program with a minimum 70 credits that can b e \\ncompleted in a minimum period of 24 months and a maximum period of 48 months. \\n• MBA - A postgraduate degree program with a minimum 70 credits that can be \\ncompleted in a minimum period of 24 months and a maximum period of 48 months.'),\n",
       " Document(metadata={'producer': 'Microsoft® Word 2019', 'creator': 'Microsoft® Word 2019', 'creationdate': '2024-04-15T16:59:36+05:30', 'author': 'iiitmk', 'moddate': '2024-04-15T16:59:36+05:30', 'source': '..\\\\data\\\\PG_Regulatuions rev-2023 .pdf', 'total_pages': 18, 'page': 4, 'page_label': '5', 'source_file': 'PG_Regulatuions rev-2023 .pdf', 'file_type': 'pdf'}, page_content=\"• MBA - A postgraduate degree program with a minimum 70 credits that can be \\ncompleted in a minimum period of 24 months and a maximum period of 48 months. \\n \\n9.1 On average, each master 's program is expected to have a maximum of 80 credits and a \\nminimum of 65 credits for total courses and 5 credits for activities. \\n9.2 One credit is equated to 1 hour of contact classes (lectures or tutorial) per week or 2 hours \\nof student workload (project or  labs or self -study) per week. Given there will be 15 \\nteaching weeks, 1 hour of contact hour per week counting for 15 hours in semester or on \\naverage 2 hour of self -learning hours or coursework activities counting for 30 hours \\nactivities in a semester.  \\n9.3 The normal duration to complete the master program shall be 24 months, which is divided \\ninto 4 semesters. However, the student may be allowed to complete the program in 48 \\nmonths. Zero year is allowed for medical reasons or for engaging in startups. For availing\"),\n",
       " Document(metadata={'producer': 'Microsoft® Word 2019', 'creator': 'Microsoft® Word 2019', 'creationdate': '2024-04-15T16:59:36+05:30', 'author': 'iiitmk', 'moddate': '2024-04-15T16:59:36+05:30', 'source': '..\\\\data\\\\PG_Regulatuions rev-2023 .pdf', 'total_pages': 18, 'page': 4, 'page_label': '5', 'source_file': 'PG_Regulatuions rev-2023 .pdf', 'file_type': 'pdf'}, page_content='into 4 semesters. However, the student may be allowed to complete the program in 48 \\nmonths. Zero year is allowed for medical reasons or for engaging in startups. For availing \\nzero year as part of the  startups, the student must be a founder in the director board in a \\ncompany registered as a startup.    Any other reasons given for availing a zero year will \\nbe accessed on a case to case basis by the school committee for consideration of approval \\nby dean academic. The zero year does not count towards the total duration of the program. \\n \\n9.4 The master programs of the university will have the following credit distribution:'),\n",
       " Document(metadata={'producer': 'Microsoft® Word 2019', 'creator': 'Microsoft® Word 2019', 'creationdate': '2024-04-15T16:59:36+05:30', 'author': 'iiitmk', 'moddate': '2024-04-15T16:59:36+05:30', 'source': '..\\\\data\\\\PG_Regulatuions rev-2023 .pdf', 'total_pages': 18, 'page': 5, 'page_label': '6', 'source_file': 'PG_Regulatuions rev-2023 .pdf', 'file_type': 'pdf'}, page_content='Program courses  \\n(30 credits) \\n \\nUniversity courses \\n(20 credits) \\nFinal year \\nProjects \\nAdditional credits beyond \\nmandatory course work and \\nproject \\nProgram \\nCore \\n(Mandato\\nry) \\nProgram \\nelectives \\n(Mandator\\ny) \\nUniversit\\ny Core \\n(Mandato\\nry) \\nOpen \\nelective\\ns \\n(Manda\\ntory) \\nCapstone \\nProject/ \\nThesis \\n(Mandator\\ny) \\nActivity \\ncredits \\n(Mandato\\nry) \\nActivit\\ny \\ncredits \\n(Optio\\nnal) \\nAdditio\\nnal \\ncourses \\n(Option\\nal) \\n15 credits 15 credits 5 credits 15 \\ncredits \\n15 credits 5 credits 5 \\ncredits \\n5 \\ncredits \\n \\n \\n● Upto 15 credits can be through online/swayam  \\n● Group Projects have to be incorporated within the allowed program elective/open \\nprogram electives  \\n● Activity credits include a wide range of activities approved by the school. The list of \\nactivities and certifications that qualify for credits are subjective to the specific school. \\n \\n9.5 Every master program will have a university core that will have a single course called -'),\n",
       " Document(metadata={'producer': 'Microsoft® Word 2019', 'creator': 'Microsoft® Word 2019', 'creationdate': '2024-04-15T16:59:36+05:30', 'author': 'iiitmk', 'moddate': '2024-04-15T16:59:36+05:30', 'source': '..\\\\data\\\\PG_Regulatuions rev-2023 .pdf', 'total_pages': 18, 'page': 5, 'page_label': '6', 'source_file': 'PG_Regulatuions rev-2023 .pdf', 'file_type': 'pdf'}, page_content='activities and certifications that qualify for credits are subjective to the specific school. \\n \\n9.5 Every master program will have a university core that will have a single course called - \\nDigital Access for Community Empowerment - DACE (Level 300) that covers 4 \\ncomponents: \\na. 2  credit module called Community Empowerment (DE). This is a 5 days outbound \\nprogram where students get exposed to problems facing society and explore ways to \\nuse digital technologies to find solutions.  At the end of the program, the students are \\nexpected to work and report their finding through a  short dissertation. \\n \\nb. 1 credit module called Digital Experience Laboratory  (DEL), where they get \\nexposed to various digital technologies through a set of hands -on lab projects.  Each \\nschool may have their curriculum for this course. \\n \\nc. 1 credit module called Design Thinking and Innovation (DTI), where students will \\nbe exposed to the idea of applying innovative thinking in digital sciences.'),\n",
       " Document(metadata={'producer': 'Microsoft® Word 2019', 'creator': 'Microsoft® Word 2019', 'creationdate': '2024-04-15T16:59:36+05:30', 'author': 'iiitmk', 'moddate': '2024-04-15T16:59:36+05:30', 'source': '..\\\\data\\\\PG_Regulatuions rev-2023 .pdf', 'total_pages': 18, 'page': 5, 'page_label': '6', 'source_file': 'PG_Regulatuions rev-2023 .pdf', 'file_type': 'pdf'}, page_content='c. 1 credit module called Design Thinking and Innovation (DTI), where students will \\nbe exposed to the idea of applying innovative thinking in digital sciences.  \\n \\nd. 1 credit module on Personal Development and Scientific Communication (PDSC).  \\n \\ne. The students will complete this course through an interdisciplinary group project that \\ncovers all four modules. Each project group will have faculty mentors who will guide \\nthe students. The mentors will be allocated by the academic office. Every faculty will \\nbe responsible for at most 10 students every ye ar for mentorship. Each faculty will \\nalso have a teaching assistant, who could be selected by the faculty for the day to day \\nadministration of the mentoring program.'),\n",
       " Document(metadata={'producer': 'Microsoft® Word 2019', 'creator': 'Microsoft® Word 2019', 'creationdate': '2024-04-15T16:59:36+05:30', 'author': 'iiitmk', 'moddate': '2024-04-15T16:59:36+05:30', 'source': '..\\\\data\\\\PG_Regulatuions rev-2023 .pdf', 'total_pages': 18, 'page': 6, 'page_label': '7', 'source_file': 'PG_Regulatuions rev-2023 .pdf', 'file_type': 'pdf'}, page_content='f. DACE will be run across two semesters - 3 credits in semester 1 and 2 credits in \\nsemester 2. \\n \\n9.6 Every course needs to have a detailed course outline addressing the following \\ncomponents: (1) Objectives and expectations from the course, (2) Why is this course \\nimportant and relevance to industry/research, (3) learning outcomes and mapping with \\nprogram outcomes, assessments and teaching methods, and (4) a detailed  teaching and \\nlearning plan.  \\n \\n9.7 The courses within the master program can be classified into the following categories: \\n \\na. 100  Level courses that are intended to fill gaps in Undergraduate level studies.  This \\nlevel of course is expected to cover, remember and understand levels in Bloom’s \\ntaxonomy. \\nb. 200 Level courses that are intended to fill gaps in Undergraduate level studies.  They \\nusually are equivalent to advanced level courses in undergraduate programs.  This \\nlevel of course is expected to cover, understand and apply levels in Bloom’s taxonomy.'),\n",
       " Document(metadata={'producer': 'Microsoft® Word 2019', 'creator': 'Microsoft® Word 2019', 'creationdate': '2024-04-15T16:59:36+05:30', 'author': 'iiitmk', 'moddate': '2024-04-15T16:59:36+05:30', 'source': '..\\\\data\\\\PG_Regulatuions rev-2023 .pdf', 'total_pages': 18, 'page': 6, 'page_label': '7', 'source_file': 'PG_Regulatuions rev-2023 .pdf', 'file_type': 'pdf'}, page_content='usually are equivalent to advanced level courses in undergraduate programs.  This \\nlevel of course is expected to cover, understand and apply levels in Bloom’s taxonomy.  \\nc. 300 Level courses that are intended to be Postgraduate level instruction based courses.   \\nThis  level  of course is expected to cover apply and analyze levels in Bloom’s \\ntaxonomy \\nd. 400 Level courses that are intended to be Postgraduate level seminars or research -\\nbased courses.  This level of course is expected to cover, analyze and evaluate levels \\nin Bloom’s taxonomy. \\ne. 500 Level courses that are intended to be research -based.   This level of course is \\nexpected to cover, evaluate and create levels in Bloom’s taxonomy. \\n \\n9.8 It is expected that  Masters programs with 3 year undergraduate degree as th e minimum \\nadmission requirement will have the following limits on credits  and  distribution  of  \\ncourses within the program. \\n \\n \\nCourse level Credits \\n100 Level course 2-6 Credits'),\n",
       " Document(metadata={'producer': 'Microsoft® Word 2019', 'creator': 'Microsoft® Word 2019', 'creationdate': '2024-04-15T16:59:36+05:30', 'author': 'iiitmk', 'moddate': '2024-04-15T16:59:36+05:30', 'source': '..\\\\data\\\\PG_Regulatuions rev-2023 .pdf', 'total_pages': 18, 'page': 6, 'page_label': '7', 'source_file': 'PG_Regulatuions rev-2023 .pdf', 'file_type': 'pdf'}, page_content='admission requirement will have the following limits on credits  and  distribution  of  \\ncourses within the program. \\n \\n \\nCourse level Credits \\n100 Level course 2-6 Credits \\n200 Level course 3-15 credits \\n300 Level courses 15-45 Credits \\n400 Level courses 6-20 Credits \\n500 Level courses 0-3 Credits'),\n",
       " Document(metadata={'producer': 'Microsoft® Word 2019', 'creator': 'Microsoft® Word 2019', 'creationdate': '2024-04-15T16:59:36+05:30', 'author': 'iiitmk', 'moddate': '2024-04-15T16:59:36+05:30', 'source': '..\\\\data\\\\PG_Regulatuions rev-2023 .pdf', 'total_pages': 18, 'page': 7, 'page_label': '8', 'source_file': 'PG_Regulatuions rev-2023 .pdf', 'file_type': 'pdf'}, page_content='9.9   It is expected that Masters programs with 4 year undergraduate degree as the minimum \\nadmission requirement  will  have the following limits on credits and distribution of \\ncourses within the program. \\n \\nCourse level Credits \\n100 Level course 0-3 Credits \\n200 Level course 0-9 credits \\n300 Level courses 15-45 Credits \\n400 Level courses 15-30 Credits \\n500 Level courses 0-6 Credits \\n \\n \\n9.10 The common courses will be limited within the following levels: \\n \\n \\nCourse type Course level \\nUniversity Core/Open Electives 100/200/ 300/400 Level \\nMini-Project 300/400/500 Level \\nFinal Project 400/500 Level \\n \\n9.11 The minimum semester-wise distribution of credits expected in the masters program are: \\n \\nMinimum 70 credits Maximum 80 credits \\nSemester 1 \\n• 3 credits for university core \\n• 15 credits for program core/program electives \\n• Optional: 3 credits for projects/internship/inter-departmental courses/approved online \\ncourses/extra curricular credits/bridge courses \\nSemester 2'),\n",
       " Document(metadata={'producer': 'Microsoft® Word 2019', 'creator': 'Microsoft® Word 2019', 'creationdate': '2024-04-15T16:59:36+05:30', 'author': 'iiitmk', 'moddate': '2024-04-15T16:59:36+05:30', 'source': '..\\\\data\\\\PG_Regulatuions rev-2023 .pdf', 'total_pages': 18, 'page': 7, 'page_label': '8', 'source_file': 'PG_Regulatuions rev-2023 .pdf', 'file_type': 'pdf'}, page_content='• 15 credits for program core/program electives \\n• Optional: 3 credits for projects/internship/inter-departmental courses/approved online \\ncourses/extra curricular credits/bridge courses \\nSemester 2 \\n• 2 credits for university core \\n• 15 credits for program core/program electives/Open electives \\n• Optional: 3 credits for projects/internship /inter-departmental courses/approved online \\ncourses/extra curricular credits/bridge courses \\nSemester 3 \\n• 15 credits for program electives/Open electives \\n• Optional: 3 credits for projects/internship/inter -departmental courses/approved online \\ncourses/extra curricular credits/bridge courses'),\n",
       " Document(metadata={'producer': 'Microsoft® Word 2019', 'creator': 'Microsoft® Word 2019', 'creationdate': '2024-04-15T16:59:36+05:30', 'author': 'iiitmk', 'moddate': '2024-04-15T16:59:36+05:30', 'source': '..\\\\data\\\\PG_Regulatuions rev-2023 .pdf', 'total_pages': 18, 'page': 8, 'page_label': '9', 'source_file': 'PG_Regulatuions rev-2023 .pdf', 'file_type': 'pdf'}, page_content='Semester 4 \\n• 15 credits for master thesis/Capstone project/internship \\n• Optional: 3 credits for projects/internship/inter -departmental courses/approved online \\ncourses/extra curricular credits/bridge courses \\n \\nNotes:  \\n● Elective courses can include group projects or mini-projects or research projects  \\n● The total contact hours will be as per the credit requirements. However, the delivery of \\nlectures can be in a variety of modes including practice based sessions, laboratory sessions, \\nhands-on experimentations, project discussions, gamified content delivery etc. \\n● To incorporate and encourage hands-on learning, flexibility in scheduling of classes and labs \\ncan be given to the program coordinators to enable learning. \\n● It is recommended to include at least one industry mentor while delivering the course, who \\ncan give lectures or guide the students to a problem or validate the nature of the problems and \\nsolutions.'),\n",
       " Document(metadata={'producer': 'Microsoft® Word 2019', 'creator': 'Microsoft® Word 2019', 'creationdate': '2024-04-15T16:59:36+05:30', 'author': 'iiitmk', 'moddate': '2024-04-15T16:59:36+05:30', 'source': '..\\\\data\\\\PG_Regulatuions rev-2023 .pdf', 'total_pages': 18, 'page': 8, 'page_label': '9', 'source_file': 'PG_Regulatuions rev-2023 .pdf', 'file_type': 'pdf'}, page_content='can give lectures or guide the students to a problem or validate the nature of the problems and \\nsolutions. \\n● It is recommended that when designing the curriculum, at least 10% of credit in the course in \\na semester is to be allocated for developing and analysing critical thinking of students. \\n● Inter-departmental courses are those courses thats jointly offered between the schools. \\n \\n10 . PROGRAMME PLANNING \\n \\nSchool Level Approval \\n10.1. School decides on the list of Program Core courses that are  compulsorily taken by \\nstudents for completion of the program.   These courses can be from the school or from \\noutside. \\n10.2  School board of studies approves Program Elective courses that  will  be   an  extensive  \\nlist of  courses, which student can take to earn credits for completion of the program \\n \\nSchool Level Plan \\n10.3 The school will offer all core courses which can be taught by one or more faculty (in one \\nor more semesters).'),\n",
       " Document(metadata={'producer': 'Microsoft® Word 2019', 'creator': 'Microsoft® Word 2019', 'creationdate': '2024-04-15T16:59:36+05:30', 'author': 'iiitmk', 'moddate': '2024-04-15T16:59:36+05:30', 'source': '..\\\\data\\\\PG_Regulatuions rev-2023 .pdf', 'total_pages': 18, 'page': 8, 'page_label': '9', 'source_file': 'PG_Regulatuions rev-2023 .pdf', 'file_type': 'pdf'}, page_content='School Level Plan \\n10.3 The school will offer all core courses which can be taught by one or more faculty (in one \\nor more semesters).  \\n10.4. Schools will plan the electives offered by one or more faculty in the same or different  \\n      semesters. \\n \\nFaculty Level Plan \\n10.5. Faculty offer courses which are of their choice (fixed by themselves or by the school). \\n10.6. Faculty fixes the time slots, classroom and prerequisite \\n10.7. A faculty shall offer a core course at least once in 2 years if required by the school \\nStudent Level Plan \\n10.8. A student along with the course coordinator and mentor will: \\na. Decide on the core courses to be taken. \\nb. Decide on the elective courses to be taken. \\nc. Decide on out-of-the school courses to be taken'),\n",
       " Document(metadata={'producer': 'Microsoft® Word 2019', 'creator': 'Microsoft® Word 2019', 'creationdate': '2024-04-15T16:59:36+05:30', 'author': 'iiitmk', 'moddate': '2024-04-15T16:59:36+05:30', 'source': '..\\\\data\\\\PG_Regulatuions rev-2023 .pdf', 'total_pages': 18, 'page': 9, 'page_label': '10', 'source_file': 'PG_Regulatuions rev-2023 .pdf', 'file_type': 'pdf'}, page_content='d. Opt for Challenge examination and audit courses. The challenge exams allow \\nstudents to complete the credit requirements attending a challenge examination \\nwithin the first two weeks of starting the course.   \\n10.9.  It will be the responsibility of the student to comply with the program level requirements.  \\nThe semester wise limits for the courses are: \\nSemester University \\nCore \\nProgram \\nCore  \\nProgram \\nElective \\nOpen \\nElective \\nProject/thesis \\nSemester 1 \\n(Range 15 -18 \\ncredits) \\n3-5 credits 9-15 credits 0-6 credits 0 credits 0 credits \\nSemester 2 \\n(Range 15 -18 \\ncredits) \\n0-5 credits 0-6 credits 0-15 credits 0-15 credits 0 credits \\nSemester 3 \\n(Range 15 -18 \\ncredits) \\n0-5 credits 0 credits 0-15 credits 0-15 credits 0 credits \\nSemester 4 \\n(Range 15 -18 \\ncredits) \\n0 credits 0 credits 0 credits 0-3 credits 15 credits \\n \\n11. CREDIT REQUIREMENTS FOR THE MASTER PROGRAM:   \\n \\n11.1 Students are required to comply with the following credit limits for  successfully'),\n",
       " Document(metadata={'producer': 'Microsoft® Word 2019', 'creator': 'Microsoft® Word 2019', 'creationdate': '2024-04-15T16:59:36+05:30', 'author': 'iiitmk', 'moddate': '2024-04-15T16:59:36+05:30', 'source': '..\\\\data\\\\PG_Regulatuions rev-2023 .pdf', 'total_pages': 18, 'page': 9, 'page_label': '10', 'source_file': 'PG_Regulatuions rev-2023 .pdf', 'file_type': 'pdf'}, page_content='0 credits 0 credits 0 credits 0-3 credits 15 credits \\n \\n11. CREDIT REQUIREMENTS FOR THE MASTER PROGRAM:   \\n \\n11.1 Students are required to comply with the following credit limits for  successfully \\ncompleting a master program. \\na. Complete a minimum of 70 Credits, with an upper limit of 80 credits. \\nb. The students are allowed to take a maximum of 18 Credits in a \\nsemester((excluding activity credits)) \\nc. The students are allowed to take a maximum of 12 Credits through audit courses. \\nThese credits do not count towards total credits requirements for the program and \\nare not included in SGPA/CGPA calculations. \\nd. The students are allowed to obtain a maximum of 12 Credits through challenge \\nexams. These credits count towards the total credits requirements for the program \\nbut are not included in SGPA/CGPA calculations \\n \\n12. MODE OF INSTRUCTION \\n12.1  A wide variety of modern teaching and learning methods are expected to be used in \\nthe delivery of the courses.'),\n",
       " Document(metadata={'producer': 'Microsoft® Word 2019', 'creator': 'Microsoft® Word 2019', 'creationdate': '2024-04-15T16:59:36+05:30', 'author': 'iiitmk', 'moddate': '2024-04-15T16:59:36+05:30', 'source': '..\\\\data\\\\PG_Regulatuions rev-2023 .pdf', 'total_pages': 18, 'page': 10, 'page_label': '11', 'source_file': 'PG_Regulatuions rev-2023 .pdf', 'file_type': 'pdf'}, page_content='Course level Teaching Evaluations \\n100-200 \\nlevel \\nIt is expected that there shall be \\na maximum of 120 students in a \\nclass. There shall be a tutor for \\nevery 15 students  with 3 \\nhours/week of the tutorial. \\nThe evaluation is expected to be consisting \\nof Examination/ Project  Work/ Exercises.   \\nIt is expected that 40% of the assessment is \\nformative and  60%  summative which will \\nbe a written exam in closed-book or open-\\nbook format. Lab exams can be conducted \\nin a variety of means including viva, \\nand/or written exam. \\n \\n300-400 \\nlevel \\nIt is expected that there sha ll be \\na maximum of 60 students in a \\ncourse. \\nIn a 300 Level  course, the  evaluation is \\nexpected to have    Examination / Projects.   \\nIt is expected that 60% of the assessment is \\nformative and 40%  as a summative which \\nwill be a  written exam in the closed boo k \\nor open -book format.  The formative \\nevaluations can also include 30 -60% \\ncollaborative components. Lab exams can'),\n",
       " Document(metadata={'producer': 'Microsoft® Word 2019', 'creator': 'Microsoft® Word 2019', 'creationdate': '2024-04-15T16:59:36+05:30', 'author': 'iiitmk', 'moddate': '2024-04-15T16:59:36+05:30', 'source': '..\\\\data\\\\PG_Regulatuions rev-2023 .pdf', 'total_pages': 18, 'page': 10, 'page_label': '11', 'source_file': 'PG_Regulatuions rev-2023 .pdf', 'file_type': 'pdf'}, page_content='will be a  written exam in the closed boo k \\nor open -book format.  The formative \\nevaluations can also include 30 -60% \\ncollaborative components. Lab exams can \\nbe conducted in a variety of means \\nincluding viva, and/or written exam. \\nThe 400 Level courses are expected to be \\nmore flexible in assessments, with a \\nmajority focus on Presentations/ Projects/ \\nResearch Output.  It is expected that 60 -\\n80% of the assessment is formative and 20-\\n40% summative which will be an open \\nbook format.  Th e evaluations can also \\ninclude 30-60% collaborative components.  \\nIn case the 400 level course is a final year \\nproject with research only assessment, it \\nneeds to be evaluated by an external \\nexaminer outside the School/ University. \\nLab exams can be conducted in a variety of \\nmeans including viva, and/or written \\nexam. \\n500 level It is expected that there shall be \\na maximum of 20 students in a \\ncourse. \\nThe 500 Level courses are research-based, \\nwith a majority focus on Presentations/'),\n",
       " Document(metadata={'producer': 'Microsoft® Word 2019', 'creator': 'Microsoft® Word 2019', 'creationdate': '2024-04-15T16:59:36+05:30', 'author': 'iiitmk', 'moddate': '2024-04-15T16:59:36+05:30', 'source': '..\\\\data\\\\PG_Regulatuions rev-2023 .pdf', 'total_pages': 18, 'page': 10, 'page_label': '11', 'source_file': 'PG_Regulatuions rev-2023 .pdf', 'file_type': 'pdf'}, page_content='exam. \\n500 level It is expected that there shall be \\na maximum of 20 students in a \\ncourse. \\nThe 500 Level courses are research-based, \\nwith a majority focus on Presentations/ \\nProjects/ Research Output.  It is expected \\nthat 100% of the assessment is formative \\nand are externally reviewed. However, the'),\n",
       " Document(metadata={'producer': 'Microsoft® Word 2019', 'creator': 'Microsoft® Word 2019', 'creationdate': '2024-04-15T16:59:36+05:30', 'author': 'iiitmk', 'moddate': '2024-04-15T16:59:36+05:30', 'source': '..\\\\data\\\\PG_Regulatuions rev-2023 .pdf', 'total_pages': 18, 'page': 11, 'page_label': '12', 'source_file': 'PG_Regulatuions rev-2023 .pdf', 'file_type': 'pdf'}, page_content=\"course instructor has the flexibility of \\nkeeping a maximum of 20% in a \\nsummative mode. Lab exams can be \\nconducted in a variety of means including \\nviva, and/or written exam. \\n \\n13. PASS CRITERIA \\n13.1 There shall be no barrier between Year 1 and Year 2 of study \\n13.2 The student shall obtain a minimum D grade in all core courses and C grade in the project. \\n13.3 Minimum CGPA of 5  is required for the award of the master's degree. \\n13.4 All challenge examination courses, audit and MOOC courses will not be counted for \\nCGPA computation.  However, passing in such cours es will enable them to be counted \\ntowards the total credits earned. \\n13.5  Project grade will be included in the CGPA calculations. \\n \\n14. EXAMINATIONS \\n14.1 The meaning of examination is considered broad and includes all forms of formative and \\nsummative assessment s including quizzes,  projects,  lab work,  practical design, the \\nproduct      developed, creative arts, fieldwork, etc.\"),\n",
       " Document(metadata={'producer': 'Microsoft® Word 2019', 'creator': 'Microsoft® Word 2019', 'creationdate': '2024-04-15T16:59:36+05:30', 'author': 'iiitmk', 'moddate': '2024-04-15T16:59:36+05:30', 'source': '..\\\\data\\\\PG_Regulatuions rev-2023 .pdf', 'total_pages': 18, 'page': 11, 'page_label': '12', 'source_file': 'PG_Regulatuions rev-2023 .pdf', 'file_type': 'pdf'}, page_content='summative assessment s including quizzes,  projects,  lab work,  practical design, the \\nproduct      developed, creative arts, fieldwork, etc. \\n14.2. A student will get a fail grade if she/he fails to complete a summative or formative  \\nassessment. If a student getting a fail in a core course needs to repeat the same course as \\nand when it is offered or an alternate course has to be fixed by the school in case the core \\ncourse is not offered within the next 18 months. \\n14.3  Each course level would have a different type of examination, the responsibility of which \\nis divided between the Controller of Examination, Dean or Course instructor as outlined \\nbelow: \\nCourse level Remarks \\n100-300 Level The Controller of Examinations (COE) will be in charge of the \\nconduct of the summative examination for 100 -300 Level \\ncourses. \\nThere shall be single evaluation of the answer sheets, and shall \\nbe evaluated by course instructor or an external examiner from'),\n",
       " Document(metadata={'producer': 'Microsoft® Word 2019', 'creator': 'Microsoft® Word 2019', 'creationdate': '2024-04-15T16:59:36+05:30', 'author': 'iiitmk', 'moddate': '2024-04-15T16:59:36+05:30', 'source': '..\\\\data\\\\PG_Regulatuions rev-2023 .pdf', 'total_pages': 18, 'page': 11, 'page_label': '12', 'source_file': 'PG_Regulatuions rev-2023 .pdf', 'file_type': 'pdf'}, page_content='conduct of the summative examination for 100 -300 Level \\ncourses. \\nThere shall be single evaluation of the answer sheets, and shall \\nbe evaluated by course instructor or an external examiner from \\nthe school or outside, fixed by COE. \\n \\nFor a 100% lab based course, the exams can be conducted in a \\nvariety of means including viva, and/or written exams with at \\nleast two examiners approved by the school exam board with \\nan intimation of the examiner list to the COE.'),\n",
       " Document(metadata={'producer': 'Microsoft® Word 2019', 'creator': 'Microsoft® Word 2019', 'creationdate': '2024-04-15T16:59:36+05:30', 'author': 'iiitmk', 'moddate': '2024-04-15T16:59:36+05:30', 'source': '..\\\\data\\\\PG_Regulatuions rev-2023 .pdf', 'total_pages': 18, 'page': 12, 'page_label': '13', 'source_file': 'PG_Regulatuions rev-2023 .pdf', 'file_type': 'pdf'}, page_content='400 Level  The instructor and/or graduate studies committee of the school \\nshall be in charge of the conduct of the summative examination \\nfor 400 Level courses. \\nThe valuation shall be conducted by a committee of two \\nfaculty members. \\nThe valuation shall be based on  an open seminar and term \\nreport submitted by the student. \\n \\nFor a 100% lab based course, the exams can be conducted in a \\nvariety of means including viva, and/or written exams with at \\nleast two examiners approved by the school exam board with \\nan intimation of the examiner list to the COE. \\n500 Level  The instructor and/or graduate studies committee of the school \\nshall be in charge of the conduct of the formative examination \\nfor 500 Level courses. \\nThe valuation shall be conducted by a committee of two \\nfaculty members and an external examiner. \\nThe valuation shall be based on the open seminar and research \\noutput submitted by the student. \\nIt is expected that research output is having a quality suitable'),\n",
       " Document(metadata={'producer': 'Microsoft® Word 2019', 'creator': 'Microsoft® Word 2019', 'creationdate': '2024-04-15T16:59:36+05:30', 'author': 'iiitmk', 'moddate': '2024-04-15T16:59:36+05:30', 'source': '..\\\\data\\\\PG_Regulatuions rev-2023 .pdf', 'total_pages': 18, 'page': 12, 'page_label': '13', 'source_file': 'PG_Regulatuions rev-2023 .pdf', 'file_type': 'pdf'}, page_content='The valuation shall be based on the open seminar and research \\noutput submitted by the student. \\nIt is expected that research output is having a quality suitable \\nto be published in a journal or leading conference. \\n \\nFor a 100% lab based course, the exams can be conducted in a \\nvariety of means including viva, and/or written exams with at \\nleast two examiners approved by the school exam board with \\nan intimation of the examiner list to the COE. \\n \\n14.4 All courses will have a detailed course outline with the syllabus,  and learning \\noutcomes that can be mapped to formative and summative assessments. \\n14.5 The preparation of examination questions is the responsibility of the Professor(s) \\nteaching that course. All questions are peer-reviewed \\n14.6 The assessment of the examination answers is done by the  Professor(s)  teaching that \\ncourse.   All answers will be peer-reviewed. \\n14.7 Course may or may not have a summative assessment in the form of a written exam.'),\n",
       " Document(metadata={'producer': 'Microsoft® Word 2019', 'creator': 'Microsoft® Word 2019', 'creationdate': '2024-04-15T16:59:36+05:30', 'author': 'iiitmk', 'moddate': '2024-04-15T16:59:36+05:30', 'source': '..\\\\data\\\\PG_Regulatuions rev-2023 .pdf', 'total_pages': 18, 'page': 12, 'page_label': '13', 'source_file': 'PG_Regulatuions rev-2023 .pdf', 'file_type': 'pdf'}, page_content='course.   All answers will be peer-reviewed. \\n14.7 Course may or may not have a summative assessment in the form of a written exam. \\n14.8 All courses need to have a formative assessment and feedback to the students, which \\nshall  be defined in the course outline. \\n14.9 The university allows for different ways of conducting summative assessments \\nincluding online,  written,  viva -voice, and open book.  This will  be defined in the \\ncourse outline.  There will be at least 3 distinct assessment components.'),\n",
       " Document(metadata={'producer': 'Microsoft® Word 2019', 'creator': 'Microsoft® Word 2019', 'creationdate': '2024-04-15T16:59:36+05:30', 'author': 'iiitmk', 'moddate': '2024-04-15T16:59:36+05:30', 'source': '..\\\\data\\\\PG_Regulatuions rev-2023 .pdf', 'total_pages': 18, 'page': 13, 'page_label': '14', 'source_file': 'PG_Regulatuions rev-2023 .pdf', 'file_type': 'pdf'}, page_content='14.10 In summative assessments,  10%  of the questions will go beyond the prescribed \\nsyllabus but within the broad scope of the subject. \\n14.11 Examinations and assignment dead lines should be scheduled in such a  manner that \\nstudents have a reasonable time for preparation and recuperation allowing them to \\ndemonstrate their knowledge of course materials. \\n14.12 Students have the right to appeal against the marks obtained once to the con troller of \\nthe examiner or his representative in the school.  Where the appeal is considered to be \\ngenuine it will be scrutinized/re-evaluated by another professor or external expert and \\nnew marks assigned. \\n14.13 Academic misconduct of any forms in exams will lead to disciplinary action of various \\ndegrees and categories as defined in the additional regulations of Student Discipline. \\n14.14 Any changes to the course outline and assessment methods defined requires the prior \\napproval of the Board of Studies.'),\n",
       " Document(metadata={'producer': 'Microsoft® Word 2019', 'creator': 'Microsoft® Word 2019', 'creationdate': '2024-04-15T16:59:36+05:30', 'author': 'iiitmk', 'moddate': '2024-04-15T16:59:36+05:30', 'source': '..\\\\data\\\\PG_Regulatuions rev-2023 .pdf', 'total_pages': 18, 'page': 13, 'page_label': '14', 'source_file': 'PG_Regulatuions rev-2023 .pdf', 'file_type': 'pdf'}, page_content='14.14 Any changes to the course outline and assessment methods defined requires the prior \\napproval of the Board of Studies. \\n14.15 The controller  of the examiner will be responsible to organise the conduct of the \\nexaminations as mandated in the course outline.   He/she will have the authority to \\nreschedule the exam or arrange for a re -visit or reassessment under any unforeseen \\ncircumstances. \\n14.16 There will be an Exam Board within each school, that audits and finalises the marks \\nfor each course.  \\n14.17 The Exam Board members are nominated by the Dean (Academic), and reports to the \\nController of Examinations and Board of Studies. \\n14.18 Schools designated faculty/offi cers may use anti -plagiarism software to check the \\noriginality and authenticity of theses, dissertations, exam papers and other written \\nassignments.  Students acknowledge this in the process of their enrolment and \\nmatriculation.'),\n",
       " Document(metadata={'producer': 'Microsoft® Word 2019', 'creator': 'Microsoft® Word 2019', 'creationdate': '2024-04-15T16:59:36+05:30', 'author': 'iiitmk', 'moddate': '2024-04-15T16:59:36+05:30', 'source': '..\\\\data\\\\PG_Regulatuions rev-2023 .pdf', 'total_pages': 18, 'page': 13, 'page_label': '14', 'source_file': 'PG_Regulatuions rev-2023 .pdf', 'file_type': 'pdf'}, page_content='originality and authenticity of theses, dissertations, exam papers and other written \\nassignments.  Students acknowledge this in the process of their enrolment and \\nmatriculation. \\n14.19 The minimum aggregate of at tendance during a semester shall be 75%. This is not \\napplicable for project based courses, field work based courses, and research works \\ndone outside the university. Any exemptions shall be defined by the course lecturers \\nin the course description document. \\n14.20 All examinations of the university will be relative graded. A relative grading policy is \\nframed separately. \\n14.21 The feedback to course assessment and grades should be provided to students within \\n2 weeks of the submission date. \\n14.22 Where possible, formative assessment should provide immediate feedback by means \\nof solutions sheets or sample answers. \\n14.23 The lecturer should discuss the assessment outcome and how they can improve the'),\n",
       " Document(metadata={'producer': 'Microsoft® Word 2019', 'creator': 'Microsoft® Word 2019', 'creationdate': '2024-04-15T16:59:36+05:30', 'author': 'iiitmk', 'moddate': '2024-04-15T16:59:36+05:30', 'source': '..\\\\data\\\\PG_Regulatuions rev-2023 .pdf', 'total_pages': 18, 'page': 13, 'page_label': '14', 'source_file': 'PG_Regulatuions rev-2023 .pdf', 'file_type': 'pdf'}, page_content='of solutions sheets or sample answers. \\n14.23 The lecturer should discuss the assessment outcome and how they can improve the \\noutcome in or outside the classroom. Where there are learning issues, they need to be \\nreported to the academic office for arranging counseling sessions. \\n14.24 Monthly reporting of formative assessment grades to academic office is mandatory. \\n14.25 If a student is unable to attend a summative evaluation due to a valid reason, they may \\nbe granted another opportunity within a 15-day period. The final decision will be made \\nby the Dean of Academics. \\n14.26 At least 30 credits are required for a major specialization (equivalent to 10 three credit  \\ncourses  or equivalent) and 9 credits for minor specialization (equ ivalent to three 3'),\n",
       " Document(metadata={'producer': 'Microsoft® Word 2019', 'creator': 'Microsoft® Word 2019', 'creationdate': '2024-04-15T16:59:36+05:30', 'author': 'iiitmk', 'moddate': '2024-04-15T16:59:36+05:30', 'source': '..\\\\data\\\\PG_Regulatuions rev-2023 .pdf', 'total_pages': 18, 'page': 14, 'page_label': '15', 'source_file': 'PG_Regulatuions rev-2023 .pdf', 'file_type': 'pdf'}, page_content='credit courses or equivalent). The specialization credits consist of projects, courses, \\nactivities etc. \\n14.27 Dual degrees, multiple majors or minor specializations are all allowed. The students \\ncan take up multiple degrees at the same time meeting the requirements of each degree \\nseparately.  \\n \\n15. GRADE CARD \\n \\n15.1  The University under the seal shall issue to the students a consolidated grade card in \\ncompletion of the programmes which shall contain \\n \\n(i) Name of the University \\n(ii) Name of the School \\n(iii) Title of the PG Programme \\n(iv) Name of the Semester’s \\n(v) Name and Register Number of the Student  \\n(vi) GPA calculation formula and meaning of letter Grades \\n \\n16.  AWARD OF DEGREE \\n \\nThe successful completion of all the courses with a “C’ Grade within the stipulated period \\nshall be the minimum requirement for the award of the Degree. The degree certificate shall \\nbe signed by the Vice-Chancellor  \\n \\n17. RANK CERTIFICATE'),\n",
       " Document(metadata={'producer': 'Microsoft® Word 2019', 'creator': 'Microsoft® Word 2019', 'creationdate': '2024-04-15T16:59:36+05:30', 'author': 'iiitmk', 'moddate': '2024-04-15T16:59:36+05:30', 'source': '..\\\\data\\\\PG_Regulatuions rev-2023 .pdf', 'total_pages': 18, 'page': 14, 'page_label': '15', 'source_file': 'PG_Regulatuions rev-2023 .pdf', 'file_type': 'pdf'}, page_content='shall be the minimum requirement for the award of the Degree. The degree certificate shall \\nbe signed by the Vice-Chancellor  \\n \\n17. RANK CERTIFICATE \\n \\n17.1 The university shall publish the list of the top 10 candidates for each programme after \\nthe publication of the results of the examination. The rank certificate shall be issued to \\ncandidate’s who secure position 1ts to 3rd in the list. The rank certificate will be issued \\nto students at their requests \\n17.2  A student shall be ranked in the order of merit base on the CGPA secured by them. \\nGrace grade points awarded to the students shall be counted for fixing rank/position. \\nRank certificate and position certificate shall be s igned by the Controller of \\nExamination. \\n \\n18. GRADE POINT CALCULATION \\n \\n18.1 A letter grade system is used to evaluate individual items of work, according to the \\nrequirements of the University’s Policies and Procedures. \\n18.2 The university follows grade point system with a scale of 10 defined as:'),\n",
       " Document(metadata={'producer': 'Microsoft® Word 2019', 'creator': 'Microsoft® Word 2019', 'creationdate': '2024-04-15T16:59:36+05:30', 'author': 'iiitmk', 'moddate': '2024-04-15T16:59:36+05:30', 'source': '..\\\\data\\\\PG_Regulatuions rev-2023 .pdf', 'total_pages': 18, 'page': 15, 'page_label': '16', 'source_file': 'PG_Regulatuions rev-2023 .pdf', 'file_type': 'pdf'}, page_content='Grade Percentage of Marks Grade Points Remarks \\nS 95% and above 10 Outstanding \\nA+ 90% to less than 95% 9 Excellent \\nA 80% to less than 90% 8 Very Good \\nB+ 70% to less than 80% 7 Good \\nB 60% to less than 70% 6 Above \\nAverage \\nC 50% to less than 60% 5 Average \\nD 40% to less than 50% 4 Pass \\nE 30% to less than 40% 2 Low Pass \\nF Below 30% 0 Fail \\n \\n• AB will be represented for Absent and its GP is considered as 0 \\n• “ I “ will represent incomplete \\n \\n18.3 The minimum grade point requires for passing a course is 4 \\n18.4 The cumulative grade point averages (CGPA) are calculated by weighing grade points \\nby the corresponding credit numbers. The thesis grade counts toward the GP by using \\nthe same formula, that is, it is weighed by the credit number assi gned to the thesis.  \\nThe Semester Grade Point Average (SGPA) and Cumulative Grade Point Average \\n(CGPA) is calculated using the standard formula and is given in Appendix 1. \\n19. CREDIT TRANSFERS'),\n",
       " Document(metadata={'producer': 'Microsoft® Word 2019', 'creator': 'Microsoft® Word 2019', 'creationdate': '2024-04-15T16:59:36+05:30', 'author': 'iiitmk', 'moddate': '2024-04-15T16:59:36+05:30', 'source': '..\\\\data\\\\PG_Regulatuions rev-2023 .pdf', 'total_pages': 18, 'page': 15, 'page_label': '16', 'source_file': 'PG_Regulatuions rev-2023 .pdf', 'file_type': 'pdf'}, page_content='The Semester Grade Point Average (SGPA) and Cumulative Grade Point Average \\n(CGPA) is calculated using the standard formula and is given in Appendix 1. \\n19. CREDIT TRANSFERS \\n \\n19.1 The university offers a flexible system of credit transfers b etween its programs and \\nbetween partner institutions. \\n19.2 The request for credit transfers of a course undertaken outside the normal curriculum \\nof the program should require approval of the graduate studies committee or \\nequivalent within the school. \\n19.3 The student will be responsible for requesting the credit transfers in concurrence with \\nthe approval of the faculty advisor. \\n19.4 In any Master or PhD program, at most 24 credits may be transferred to the program \\nof study \\n19.5 The request for credit transfer does not  g uarantee  the approval,  and thereby the \\nstudents are required to get prior  approval  from  the  faculty  advisor  on  the  course \\nplans to avoid rejections.'),\n",
       " Document(metadata={'producer': 'Microsoft® Word 2019', 'creator': 'Microsoft® Word 2019', 'creationdate': '2024-04-15T16:59:36+05:30', 'author': 'iiitmk', 'moddate': '2024-04-15T16:59:36+05:30', 'source': '..\\\\data\\\\PG_Regulatuions rev-2023 .pdf', 'total_pages': 18, 'page': 16, 'page_label': '17', 'source_file': 'PG_Regulatuions rev-2023 .pdf', 'file_type': 'pdf'}, page_content=\"20 QUALITY ASSURANCE \\n20.1 The PG programs shall comply with the regulations on Quality Assurance and \\nMonitoring for Post graduate programs. \\n20.2 All PG programs shall be subjected to annual review. \\n \\n21  ROLES AND RESPONSIBILITIES \\n21.1  Board of Studies (BoS) - All PG programs must get approval from the Board of \\nStudies. Any subsequent revisions, modifications and amendments to the program \\nshall need the approval of the Board of Studies. The chair of BoS shall inform Dean \\nand Associate Dean Academic on these changes.  \\n21.2 Academic Council - All matters relating to the Master's program shall be approved \\nby the Academic Council and placed for information to the senate. Dean Academic \\nand Associate Dean Academic shall regularly update the overall status of the Master's \\nprograms to the Academic Council and Senate.  \\n \\n21.3 School committee - The BoS within the school shall monitor the progress of the\"),\n",
       " Document(metadata={'producer': 'Microsoft® Word 2019', 'creator': 'Microsoft® Word 2019', 'creationdate': '2024-04-15T16:59:36+05:30', 'author': 'iiitmk', 'moddate': '2024-04-15T16:59:36+05:30', 'source': '..\\\\data\\\\PG_Regulatuions rev-2023 .pdf', 'total_pages': 18, 'page': 16, 'page_label': '17', 'source_file': 'PG_Regulatuions rev-2023 .pdf', 'file_type': 'pdf'}, page_content=\"programs to the Academic Council and Senate.  \\n \\n21.3 School committee - The BoS within the school shall monitor the progress of the \\nMaster's program from time to time. The chair of the school shall be the representative \\nof all the school c ommittees, who shall liaise with the Dean and Associate Dean \\nAcademic on all matters of the quality assurance and monitoring of the Master's \\nprogram. \\n \\n21.4 Dean Academic - Dean Academic serves to monitor, allocate and approve various \\ncommittees constituted for Masters studies. Also, the dean academic is responsible to \\nmake decisions on the recommendations of the various Master's committees. \\n \\n21.5 Associate Dean Academic -  Any program revisions, monitoring and quality \\nenhancement of the Master's program shall be init iated with the concurrence of \\nAssociate Dean Academic. Associate Dean Academic may from time to time take \\nany roles assigned by the Dean Academic or Vice - Chancellor for ensuring the high\"),\n",
       " Document(metadata={'producer': 'Microsoft® Word 2019', 'creator': 'Microsoft® Word 2019', 'creationdate': '2024-04-15T16:59:36+05:30', 'author': 'iiitmk', 'moddate': '2024-04-15T16:59:36+05:30', 'source': '..\\\\data\\\\PG_Regulatuions rev-2023 .pdf', 'total_pages': 18, 'page': 16, 'page_label': '17', 'source_file': 'PG_Regulatuions rev-2023 .pdf', 'file_type': 'pdf'}, page_content=\"Associate Dean Academic. Associate Dean Academic may from time to time take \\nany roles assigned by the Dean Academic or Vice - Chancellor for ensuring the high \\nquality and standards of the Master's program. \\n \\n21.6 Vice-Chancellor - The Vice -Chancellor is the final approving authority of the \\nMasters' thesis. He/she shall act on behalf of the University Senate, as the chair of the \\nSenate to deliberate or initiate any proceedings required for ensuring the high \\nstanding of the Master's pro gram in consultation with the Academic Council, from \\ntime to time.\"),\n",
       " Document(metadata={'producer': 'Microsoft® Word 2019', 'creator': 'Microsoft® Word 2019', 'creationdate': '2024-04-15T16:59:36+05:30', 'author': 'iiitmk', 'moddate': '2024-04-15T16:59:36+05:30', 'source': '..\\\\data\\\\PG_Regulatuions rev-2023 .pdf', 'total_pages': 18, 'page': 17, 'page_label': '18', 'source_file': 'PG_Regulatuions rev-2023 .pdf', 'file_type': 'pdf'}, page_content='22  STUDENT DISCIPLINE \\n22.1 Every scholar is required to observe disciplined and decorous behaviour both inside \\nand outside the campus and should not indulge in any activity, which will bring down \\nthe prestige of DUK. \\n22.2 The students shall adhere to the student code of conduct \\n22.3 Any act of indiscipline of a scholar reported to the Dean of Academic will be referred \\nto a Discipline and Welfare Committee nominated by the Senate. The committee will \\ninvestigate and recommend suitable punishment if it finds the charges substantiated. \\nThe recommendation of the Committee will be considered by the Academic Council, \\nwhich will authorize the Dean of Academic to take appropriate action. The Dean \\n(Academic) will report the action taken at the next meeting of the Senate. \\nAppeal: The scholar may appeal to the Chair, Senate whose decision will be final. \\n \\n23 GRIEVANCE REDRESSAL COMMITTEE \\n \\nThere shall be a Student Grievance Redressal Committee with the Dean Academic as the'),\n",
       " Document(metadata={'producer': 'Microsoft® Word 2019', 'creator': 'Microsoft® Word 2019', 'creationdate': '2024-04-15T16:59:36+05:30', 'author': 'iiitmk', 'moddate': '2024-04-15T16:59:36+05:30', 'source': '..\\\\data\\\\PG_Regulatuions rev-2023 .pdf', 'total_pages': 18, 'page': 17, 'page_label': '18', 'source_file': 'PG_Regulatuions rev-2023 .pdf', 'file_type': 'pdf'}, page_content='23 GRIEVANCE REDRESSAL COMMITTEE \\n \\nThere shall be a Student Grievance Redressal Committee with the Dean Academic as the \\nChairman, The Chair Person the School, One Senior Teacher and the Course Teacher as \\nmembers to address all grievance relating to the internal assessment of grades of the students  \\n \\n24 TRANSITORY PROVISIONS \\n \\nNotwithstanding anything contained in these Regulations, The VC shall for 3 years from the \\ndate of coming into force of these regulations have the power to provide by an order necessary \\nmodification as may be necessary  \\n \\n \\n \\n \\n**************************')]"
      ]
     },
     "execution_count": 15,
     "metadata": {},
     "output_type": "execute_result"
    }
   ],
   "source": [
    "chunks=split_documents(all_pdf_documents)\n",
    "chunks"
   ]
  },
  {
   "cell_type": "markdown",
   "id": "6e98e8f9",
   "metadata": {},
   "source": [
    "Embedding"
   ]
  },
  {
   "cell_type": "code",
   "execution_count": 16,
   "id": "22ba33c8",
   "metadata": {},
   "outputs": [],
   "source": [
    "import numpy as np\n",
    "from sentence_transformers import SentenceTransformer\n",
    "import chromadb\n",
    "from chromadb.config import Settings\n",
    "import uuid\n",
    "from typing import List, Dict, Any, Tuple\n",
    "from sklearn.metrics.pairwise import cosine_similarity\n",
    "import os"
   ]
  },
  {
   "cell_type": "code",
   "execution_count": 17,
   "id": "4d5ca71c",
   "metadata": {},
   "outputs": [
    {
     "name": "stdout",
     "output_type": "stream",
     "text": [
      "Loading embedding model: all-MiniLM-L6-v2\n",
      "Model loaded successfully. Embedding dimension: 384\n"
     ]
    },
    {
     "data": {
      "text/plain": [
       "<__main__.EmbeddingManager at 0x27cc0c2ba10>"
      ]
     },
     "execution_count": 17,
     "metadata": {},
     "output_type": "execute_result"
    }
   ],
   "source": [
    "class EmbeddingManager:\n",
    "    \"\"\"Handles document embedding generation using SentenceTransformer\"\"\"\n",
    "    \n",
    "    def __init__(self, model_name: str = \"all-MiniLM-L6-v2\"):\n",
    "        \"\"\"\n",
    "        Initialize the embedding manager\n",
    "        \n",
    "        Args:\n",
    "            model_name: HuggingFace model name for sentence embeddings\n",
    "        \"\"\"\n",
    "        self.model_name = model_name\n",
    "        self.model = None\n",
    "        self._load_model()\n",
    "\n",
    "    def _load_model(self):\n",
    "        \"\"\"Load the SentenceTransformer model\"\"\"\n",
    "        try:\n",
    "            print(f\"Loading embedding model: {self.model_name}\")\n",
    "            self.model = SentenceTransformer(self.model_name)\n",
    "            print(f\"Model loaded successfully. Embedding dimension: {self.model.get_sentence_embedding_dimension()}\")\n",
    "        except Exception as e:\n",
    "            print(f\"Error loading model {self.model_name}: {e}\")\n",
    "            raise\n",
    "\n",
    "    def generate_embeddings(self, texts: List[str]) -> np.ndarray:\n",
    "        \"\"\"\n",
    "        Generate embeddings for a list of texts\n",
    "        \n",
    "        Args:\n",
    "            texts: List of text strings to embed\n",
    "            \n",
    "        Returns:\n",
    "            numpy array of embeddings with shape (len(texts), embedding_dim)\n",
    "        \"\"\"\n",
    "        if not self.model:\n",
    "            raise ValueError(\"Model not loaded\")\n",
    "        \n",
    "        print(f\"Generating embeddings for {len(texts)} texts...\")\n",
    "        embeddings = self.model.encode(texts, show_progress_bar=True)\n",
    "        print(f\"Generated embeddings with shape: {embeddings.shape}\")\n",
    "        return embeddings\n",
    "\n",
    "\n",
    "## initialize the embedding manager\n",
    "\n",
    "embedding_manager=EmbeddingManager()\n",
    "embedding_manager"
   ]
  },
  {
   "cell_type": "markdown",
   "id": "84eaea00",
   "metadata": {},
   "source": [
    "Vector Store"
   ]
  },
  {
   "cell_type": "code",
   "execution_count": 18,
   "id": "bb2e3f3a",
   "metadata": {},
   "outputs": [
    {
     "name": "stdout",
     "output_type": "stream",
     "text": [
      "Vector store initialized. Collection: pdf_documents\n",
      "Existing documents in collection: 488\n"
     ]
    },
    {
     "data": {
      "text/plain": [
       "<__main__.VectorStore at 0x27cc0c2bb60>"
      ]
     },
     "execution_count": 18,
     "metadata": {},
     "output_type": "execute_result"
    }
   ],
   "source": [
    "class VectorStore:\n",
    "    \"\"\"Manages document embeddings in a ChromaDB vector store\"\"\"\n",
    "    \n",
    "    def __init__(self, collection_name: str = \"pdf_documents\", persist_directory: str = \"../data/vector_store\"):\n",
    "        \"\"\"\n",
    "        Initialize the vector store\n",
    "        \n",
    "        Args:\n",
    "            collection_name: Name of the ChromaDB collection\n",
    "            persist_directory: Directory to persist the vector store\n",
    "        \"\"\"\n",
    "        self.collection_name = collection_name\n",
    "        self.persist_directory = persist_directory\n",
    "        self.client = None\n",
    "        self.collection = None\n",
    "        self._initialize_store()\n",
    "\n",
    "    def _initialize_store(self):\n",
    "        \"\"\"Initialize ChromaDB client and collection\"\"\"\n",
    "        try:\n",
    "            # Create persistent ChromaDB client\n",
    "            os.makedirs(self.persist_directory, exist_ok=True)\n",
    "            self.client = chromadb.PersistentClient(path=self.persist_directory)\n",
    "            \n",
    "            # Get or create collection\n",
    "            self.collection = self.client.get_or_create_collection(\n",
    "                name=self.collection_name,\n",
    "                metadata={\"description\": \"PDF document embeddings for RAG\"}\n",
    "            )\n",
    "            print(f\"Vector store initialized. Collection: {self.collection_name}\")\n",
    "            print(f\"Existing documents in collection: {self.collection.count()}\")\n",
    "            \n",
    "        except Exception as e:\n",
    "            print(f\"Error initializing vector store: {e}\")\n",
    "            raise\n",
    "\n",
    "    def add_documents(self, documents: List[Any], embeddings: np.ndarray):\n",
    "        \"\"\"\n",
    "        Add documents and their embeddings to the vector store\n",
    "        \n",
    "        Args:\n",
    "            documents: List of LangChain documents\n",
    "            embeddings: Corresponding embeddings for the documents\n",
    "        \"\"\"\n",
    "        if len(documents) != len(embeddings):\n",
    "            raise ValueError(\"Number of documents must match number of embeddings\")\n",
    "        \n",
    "        print(f\"Adding {len(documents)} documents to vector store...\")\n",
    "        \n",
    "        # Prepare data for ChromaDB\n",
    "        ids = []\n",
    "        metadatas = []\n",
    "        documents_text = []\n",
    "        embeddings_list = []\n",
    "        \n",
    "        for i, (doc, embedding) in enumerate(zip(documents, embeddings)):\n",
    "            # Generate unique ID\n",
    "            doc_id = f\"doc_{uuid.uuid4().hex[:8]}_{i}\"\n",
    "            ids.append(doc_id)\n",
    "            \n",
    "            # Prepare metadata\n",
    "            metadata = dict(doc.metadata)\n",
    "            metadata['doc_index'] = i\n",
    "            metadata['content_length'] = len(doc.page_content)\n",
    "            metadatas.append(metadata)\n",
    "            \n",
    "            # Document content\n",
    "            documents_text.append(doc.page_content)\n",
    "            \n",
    "            # Embedding\n",
    "            embeddings_list.append(embedding.tolist())\n",
    "        \n",
    "        # Add to collection\n",
    "        try:\n",
    "            self.collection.add(\n",
    "                ids=ids,\n",
    "                embeddings=embeddings_list,\n",
    "                metadatas=metadatas,\n",
    "                documents=documents_text\n",
    "            )\n",
    "            print(f\"Successfully added {len(documents)} documents to vector store\")\n",
    "            print(f\"Total documents in collection: {self.collection.count()}\")\n",
    "            \n",
    "        except Exception as e:\n",
    "            print(f\"Error adding documents to vector store: {e}\")\n",
    "            raise\n",
    "\n",
    "vectorstore=VectorStore()\n",
    "vectorstore"
   ]
  },
  {
   "cell_type": "code",
   "execution_count": 10,
   "id": "1699c786",
   "metadata": {},
   "outputs": [
    {
     "data": {
      "text/plain": [
       "[Document(metadata={'producer': 'iLovePDF', 'creator': 'PyPDF', 'creationdate': '', 'moddate': '2025-09-29T06:51:30+00:00', 'source': '..\\\\data\\\\DUK_Admission_Prospectus-2025.pdf', 'total_pages': 31, 'page': 0, 'page_label': '1', 'source_file': 'DUK_Admission_Prospectus-2025.pdf', 'file_type': 'pdf'}, page_content='Kerala University of Digital Sciences, \\nInnovation and Technology \\n(Digital University Kerala) \\n- DIGITAL \\n?.f UNIVERSITY \\n- KERALA \\nPROSPECTUS 5 \\nwE'),\n",
       " Document(metadata={'producer': 'iLovePDF', 'creator': 'PyPDF', 'creationdate': '', 'moddate': '2025-09-29T06:51:30+00:00', 'source': '..\\\\data\\\\DUK_Admission_Prospectus-2025.pdf', 'total_pages': 31, 'page': 1, 'page_label': '2', 'source_file': 'DUK_Admission_Prospectus-2025.pdf', 'file_type': 'pdf'}, page_content='Contents \\nAbout the University .. \\nDA ENIC PO OGS o s s s iS85 Ay A s s e A SRR X SRR 4 \\nAICTE Approved M.Tech. & MBA Programmes ...........ccceeuriuemiussnsssnsinsnssissnsnsesnnn 4 \\nM.Tech. Computer Science and ENgiNEEring ..........ccoveiveniininriiinienininninenneesnenen 4 \\nM.Tech. Electronics ENGINEering .........ccccvvuiiiiiiiiiininiiiesiiee s ssssss s sssas e snnes 4 \\nMaster of Business AdmINiStration..............ccoceviniiieiininieiese s 5 \\nMLSC. PrOGrAMIMES .....oiviiiiiiieiiieiiaisssss st sbs s as s assaas s s s s s sassaa s saassassaesaeeae s LS \\n1. M.Sc. Applied Physics: \\n2. M.Sc. Computer Science with specialization in Artificial Intelligence: ................. 5 \\n3. M.Sc. Computer Science with specialization in Cybersecurity: ...........c..cccvvvennnne 6 \\n4. M.Sc. Computer Science with specialization in Data Analytics.. \\n5. M.Sc. Data Analytics and Computational SCIENCe ............cceevveiiiniiiieniniiniein, 6'),\n",
       " Document(metadata={'producer': 'iLovePDF', 'creator': 'PyPDF', 'creationdate': '', 'moddate': '2025-09-29T06:51:30+00:00', 'source': '..\\\\data\\\\DUK_Admission_Prospectus-2025.pdf', 'total_pages': 31, 'page': 1, 'page_label': '2', 'source_file': 'DUK_Admission_Prospectus-2025.pdf', 'file_type': 'pdf'}, page_content='4. M.Sc. Computer Science with specialization in Data Analytics.. \\n5. M.Sc. Data Analytics and Computational SCIENCe ............cceevveiiiniiiieniniiniein, 6 \\n6. M.Sc. Data Science and Bio-Al............cccvuviininnnnninnnnnnininissnnsiisnisnssne 6 \\n7. M.Sc. Data Science and Geoinformatics ............coceeevieiinininninisiss 6 \\n8. M.Sc. Ecology with specialization in Ecological Informatics .............cccocueeniiinnnns 7 \\n9. M.SC. EIOCLIONICS iiiicusssinssssssiiansisosiansisssssassiinssussnsosiusdssossssusonsqnanesussianssdsssssssasans 7 \\n10. M.Sc. ENVironmental SCIBNCE .....ciceeitiiueniuisnisessossssassnsnisasssssasssssssassnssisnsssssnoness 7 \\nAdmission Process. \\nIMPORANt DALES ..o coovnmnnnnennnn s s s e e 12 \\nST PAPOr COMEE s s umsmssis st s TSR AT e TG R s Ao S IR T R S TSRS 12 \\nDigital University Admission Test (DUAT)-2025 Syllabus \\nMode of Conduct Of DUAT ..ot 21 \\n1| Page'),\n",
       " Document(metadata={'producer': 'iLovePDF', 'creator': 'PyPDF', 'creationdate': '', 'moddate': '2025-09-29T06:51:30+00:00', 'source': '..\\\\data\\\\DUK_Admission_Prospectus-2025.pdf', 'total_pages': 31, 'page': 2, 'page_label': '3', 'source_file': 'DUK_Admission_Prospectus-2025.pdf', 'file_type': 'pdf'}, page_content='00 SITUCTUND s wenexesosssenassosnnssasessysosisssusssnsasansstansasonnsstannaspsns samsns sax susennsssasdsansnssopaiasorassnass 22 \\nHostel:and MESE F0iusmmusenennusssassssasssasnsessocssseasssararassnonssnsssamssnssassssntansanssusossassossinsoany 24 \\nScholarships & Financial Aid .. \\nGeneral FaCIlities ...........cooiiiiiiiiiii i 26 \\nHOW t0 reaCh DUK?.......ociiiiiiicieccieie i a e b s b 29 \\nContact iNfOrMAatioN ..........cociiiiiiiiiiiese e 30 \\n2| Page'),\n",
       " Document(metadata={'producer': 'iLovePDF', 'creator': 'PyPDF', 'creationdate': '', 'moddate': '2025-09-29T06:51:30+00:00', 'source': '..\\\\data\\\\DUK_Admission_Prospectus-2025.pdf', 'total_pages': 31, 'page': 3, 'page_label': '4', 'source_file': 'DUK_Admission_Prospectus-2025.pdf', 'file_type': 'pdf'}, page_content='About the University \\nTo steer Kerala into a leadership role in the emerging knowledge economy, the \\nGovernment of Kerala established “Kerala University of Digital Sciences, Innovation and \\nTechnology” in 2020 by upgrading Indian Institute of Information Technology and \\nManagement-Kerala, 11ITM-K. Digital University Kerala (DUK) is recognized under \\nSection 2(f) of the University Grants Commission (UGC) Act, 1956. \\nThe University strives to be an international benchmark in conducting cutting-edge \\nresearch and nurturing budding minds in the center for promoting and implementing \\nmodern technological interventions in disruptive technologies. The University aims to \\ncreate capacity building at post-graduate and doctoral levels in the areas of Atrtificial \\nIntelligence and Natural Language Processing, Internet of Things, Electronic Systems \\nand Automation, Imaging Technologies, Data Analytics and Big Data, Cybersecurity,'),\n",
       " Document(metadata={'producer': 'iLovePDF', 'creator': 'PyPDF', 'creationdate': '', 'moddate': '2025-09-29T06:51:30+00:00', 'source': '..\\\\data\\\\DUK_Admission_Prospectus-2025.pdf', 'total_pages': 31, 'page': 3, 'page_label': '4', 'source_file': 'DUK_Admission_Prospectus-2025.pdf', 'file_type': 'pdf'}, page_content='Intelligence and Natural Language Processing, Internet of Things, Electronic Systems \\nand Automation, Imaging Technologies, Data Analytics and Big Data, Cybersecurity, \\nBlockchain, Ecological Informatics, Geospatial Analytics, Applied Materials etc. State-of- \\nthe-art labs with professional training programs, consultancy, and implementation \\nsolutions to support the government will continue for the benefit of society. \\nVision \\nThe vision of the University is to become a global destination of repute in Digital \\nEducation and Research and to become an academic leader by nurturing futuristic talents \\ncapable of developing innovative and sustainable solutions for the industry, \\nGovernments, and society at large. \\nMission \\nThe motto of the University is to ‘Curate a Responsible Digital World.\" The \\ndevelopment and application of Digital Technologies for social good is the underlying \\nmission of the University. Towards this, the University shall focus on four themes of action,'),\n",
       " Document(metadata={'producer': 'iLovePDF', 'creator': 'PyPDF', 'creationdate': '', 'moddate': '2025-09-29T06:51:30+00:00', 'source': '..\\\\data\\\\DUK_Admission_Prospectus-2025.pdf', 'total_pages': 31, 'page': 3, 'page_label': '4', 'source_file': 'DUK_Admission_Prospectus-2025.pdf', 'file_type': 'pdf'}, page_content='development and application of Digital Technologies for social good is the underlying \\nmission of the University. Towards this, the University shall focus on four themes of action, \\nnamely Computing, Intelligence, Sustainability, and Entrepreneurship; the first two \\nthemes shall form the focus area of work, and the next two themes act as guiding light for \\nthe overall mission while designing programs, developing products and services as well \\nas for providing training and extension activities. The University shall catalyze technical \\nadvances that promote the welfare of society. \\nCampuses \\ne Technocity Campus (Technopark Phase IV), Thiruvananthapuram, Kerala 695317 \\ne [IITMK New Campus, Technopark Campus, Thiruvananthapuram, Kerala 695581 \\n3| Page'),\n",
       " Document(metadata={'producer': 'iLovePDF', 'creator': 'PyPDF', 'creationdate': '', 'moddate': '2025-09-29T06:51:30+00:00', 'source': '..\\\\data\\\\DUK_Admission_Prospectus-2025.pdf', 'total_pages': 31, 'page': 4, 'page_label': '5', 'source_file': 'DUK_Admission_Prospectus-2025.pdf', 'file_type': 'pdf'}, page_content=\"Academic Programmes \\nThe University is conducting the following academic programmes in five schools, \\nnamely Schools of Computer Science & Engineering (SoCSE), School of Digital \\nHumanities and Liberal Arts (SoDiHLA), School of Digital Sciences (SoDS), School of \\nElectronic Systems and Automation (SOoESA) and School of Informatics (Sol) \\nAICTE Approved M.Tech. & MBA Programmes \\nM.Tech. Computer Science and Engineering \\nThe programme offered by the School of Computer Science and Engineering (SoCSE) in \\nthree specializations: \\n« Artificial Intelligence \\n* Connected Systems and Intelligence \\ne Cybersecurity Engineering \\nCandidates must hold any of the following qualifications with a minimum aggregate of \\n60% marks (or equivalent, with relaxation for reserved categories as per University \\nnorms): \\n« A four-year Bachelor's degree in CS/IT/ECE/allied areas or \\n« A three-year undergraduate degree followed by a two-year postgraduate degree\"),\n",
       " Document(metadata={'producer': 'iLovePDF', 'creator': 'PyPDF', 'creationdate': '', 'moddate': '2025-09-29T06:51:30+00:00', 'source': '..\\\\data\\\\DUK_Admission_Prospectus-2025.pdf', 'total_pages': 31, 'page': 4, 'page_label': '5', 'source_file': 'DUK_Admission_Prospectus-2025.pdf', 'file_type': 'pdf'}, page_content=\"norms): \\n« A four-year Bachelor's degree in CS/IT/ECE/allied areas or \\n« A three-year undergraduate degree followed by a two-year postgraduate degree \\nor five-year integrated Master's degree in Computer Applications/Computer \\nScience/Information Technology/ Mathematics/ Statistics/ Physics \\nM.Tech. Electronics Engineering \\nThe programme offered by the School of Electronic Systems and Automation (SOESA) in \\nthree specializations: \\ne Al Hardware \\ne |oT & Robotics \\ne VLSI Design \\nCandidates must hold any of the following qualifications with a minimum aggregate of \\n60% marks (or equivalent, with relaxation for reserved categories as per University \\nnorms): \\n4| Page\"),\n",
       " Document(metadata={'producer': 'iLovePDF', 'creator': 'PyPDF', 'creationdate': '', 'moddate': '2025-09-29T06:51:30+00:00', 'source': '..\\\\data\\\\DUK_Admission_Prospectus-2025.pdf', 'total_pages': 31, 'page': 5, 'page_label': '6', 'source_file': 'DUK_Admission_Prospectus-2025.pdf', 'file_type': 'pdf'}, page_content=\"e A four-year Bachelor's degree in EE/ECE/AEI/EI/Robotics or equivalent \\nelectronics hardware branches or \\n* A 3-year undergraduate degree followed by a 2-year postgraduate degree or 5- \\nyear integrated Master’s degree in Electronics/Instrumentation or equivalent. \\nMaster of Business Administration \\nThe School of Digital Humanities and Liberal Arts (SoDiHLA) offers a two-year MBA in \\nthe following areas of specialization: Business Analytics, Digital Governance, Digital \\nTransformation, Finance, Human Resources, Information Security Management, \\nMarketing, Operations, Systems, Technology Management \\nCandidates must possess a valid entrance examination score approved by the University \\n(CUET(PG), CAT, CMAT, KMAT, XAT, NMAT, GRE, DUAT) and a Bachelor's degree \\nwith a minimum aggregate of 60% marks (or equivalent, with relaxation for reserved \\ncategories as per University norms). \\nAdditionally, for the MBA batch for Working Professionals, if offered, a minimum relevant\"),\n",
       " Document(metadata={'producer': 'iLovePDF', 'creator': 'PyPDF', 'creationdate': '', 'moddate': '2025-09-29T06:51:30+00:00', 'source': '..\\\\data\\\\DUK_Admission_Prospectus-2025.pdf', 'total_pages': 31, 'page': 5, 'page_label': '6', 'source_file': 'DUK_Admission_Prospectus-2025.pdf', 'file_type': 'pdf'}, page_content=\"categories as per University norms). \\nAdditionally, for the MBA batch for Working Professionals, if offered, a minimum relevant \\nindustry experience of 2 years is required. \\nM.Sc. Programmes \\n1. M.Sc. Applied Physics \\nThe programme is offered in the School of Electronic Systems and Automation in two \\nspecializations. \\ne VLSI Design \\n« Applied Materials \\nCandidates must possess either a 3-year or a 4-year Bachelor's degree in \\nscience/engineering/mathematics with a minimum aggregate of 60% marks (or \\nequivalent, with relaxation for reserved categories as per University norms). \\n2. M.Sc. Computer Science with specialization in Atrtificial Intelligence \\nThe programme is offered in the School of Computer Science and Engineering. \\nCandidates must possess either a 3-year or a 4-year Bachelor's degree with a minimum \\naggregate of 60% marks (or equivalent, with relaxation for reserved categories as per \\nUniversity norms). \\n5| Page\"),\n",
       " Document(metadata={'producer': 'iLovePDF', 'creator': 'PyPDF', 'creationdate': '', 'moddate': '2025-09-29T06:51:30+00:00', 'source': '..\\\\data\\\\DUK_Admission_Prospectus-2025.pdf', 'total_pages': 31, 'page': 6, 'page_label': '7', 'source_file': 'DUK_Admission_Prospectus-2025.pdf', 'file_type': 'pdf'}, page_content=\"3. M.Sc. Computer Science with specialization in Cybersecurity \\nThe programme is offered in the School of Computer Science and Engineering. \\nCandidates must possess either a 3-year or a 4-year Bachelor's degree with a minimum \\naggregate of 60% marks (or equivalent, with relaxation for reserved categories as per \\nUniversity norms). \\n4. M.Sc. Computer Science with specialization in Data Analytics \\nThe programme is offered in the School of Digital Sciences. \\nCandidates must possess either a 3-year or a 4-year Bachelor's degree in \\nScience/Engineering/Mathematics, with Mathematics/Statistics as one of the subjects, \\nand a minimum aggregate of 60% marks (or equivalent). Relaxation in marks will be \\nprovided for reserved categories as per University norms. \\n5. M.Sc. Data Analytics and Computational Science \\nThe programme is offered in the School of Digital Sciences. \\nCandidates must possess either a 3-year or a 4-year Bachelor's degree in\"),\n",
       " Document(metadata={'producer': 'iLovePDF', 'creator': 'PyPDF', 'creationdate': '', 'moddate': '2025-09-29T06:51:30+00:00', 'source': '..\\\\data\\\\DUK_Admission_Prospectus-2025.pdf', 'total_pages': 31, 'page': 6, 'page_label': '7', 'source_file': 'DUK_Admission_Prospectus-2025.pdf', 'file_type': 'pdf'}, page_content=\"5. M.Sc. Data Analytics and Computational Science \\nThe programme is offered in the School of Digital Sciences. \\nCandidates must possess either a 3-year or a 4-year Bachelor's degree in \\nScience/Engineering/Mathematics, with Mathematics/Statistics as one of the subjects, \\nand a minimum aggregate of 60% marks (or equivalent). Relaxation in marks will be \\nprovided for reserved categories as per University norms. \\n6. M.Sc. Data Science and Bio-Al \\nThe programme offered in the School of Digital Sciences. \\nCandidates must possess either a 3-year or a 4-year bachelor's degree in \\nScience/Engineering/Mathematics with a minimum aggregate of 60% marks (or \\nequivalent). Relaxation in marks will be provided for reserved categories as per University \\nnorms. \\n7. M.Sc. Data Science and Geoinformatics \\nThe programme offered in the School of Digital Sciences. \\nCandidates must possess either a 3-year or a 4-year bachelor's degree in\"),\n",
       " Document(metadata={'producer': 'iLovePDF', 'creator': 'PyPDF', 'creationdate': '', 'moddate': '2025-09-29T06:51:30+00:00', 'source': '..\\\\data\\\\DUK_Admission_Prospectus-2025.pdf', 'total_pages': 31, 'page': 6, 'page_label': '7', 'source_file': 'DUK_Admission_Prospectus-2025.pdf', 'file_type': 'pdf'}, page_content=\"norms. \\n7. M.Sc. Data Science and Geoinformatics \\nThe programme offered in the School of Digital Sciences. \\nCandidates must possess either a 3-year or a 4-year bachelor's degree in \\nScience/Engineering/Mathematics with a minimum aggregate of 60% marks (or \\n6| Page\"),\n",
       " Document(metadata={'producer': 'iLovePDF', 'creator': 'PyPDF', 'creationdate': '', 'moddate': '2025-09-29T06:51:30+00:00', 'source': '..\\\\data\\\\DUK_Admission_Prospectus-2025.pdf', 'total_pages': 31, 'page': 7, 'page_label': '8', 'source_file': 'DUK_Admission_Prospectus-2025.pdf', 'file_type': 'pdf'}, page_content=\"equivalent). Relaxation in marks will be provided for reserved categories as per University \\nnorms. \\n8. M.Sc. Ecology with specialization in Ecological Informatics \\nThe programme is offered in the School of Informatics. \\nCandidates must possess either a 3-year or a 4-year Bachelor's degree with a minimum \\naggregate of 60% marks (or equivalent, with relaxation for reserved categories as per \\nUniversity norms). \\n9. M.Sc. Electronics \\nThe programme is offered at the School of Electronic Systems and Automation, where it \\nhas the following specializations. \\n* Al Hardware \\n* |oT & Robotics \\ne VLSI Design \\nCandidates must possess either a 3-year or a 4-year Bachelor's degree in \\nscience/engineering/mathematics with a minimum aggregate of 60% marks (or \\nequivalent, with relaxation for reserved categories as per University norms). \\n10.M.Sc. Environmental Science \\nThe programme is offered in the School of Informatics.\"),\n",
       " Document(metadata={'producer': 'iLovePDF', 'creator': 'PyPDF', 'creationdate': '', 'moddate': '2025-09-29T06:51:30+00:00', 'source': '..\\\\data\\\\DUK_Admission_Prospectus-2025.pdf', 'total_pages': 31, 'page': 7, 'page_label': '8', 'source_file': 'DUK_Admission_Prospectus-2025.pdf', 'file_type': 'pdf'}, page_content=\"equivalent, with relaxation for reserved categories as per University norms). \\n10.M.Sc. Environmental Science \\nThe programme is offered in the School of Informatics. \\nCandidates must possess either a 3-year or a 4-year Bachelor's degree with a minimum \\naggregate of 60% marks (or equivalent, with relaxation for reserved categories as per \\nUniversity norms). \\nDoctor of Philosophy \\nFull-time regular, Part-time regular and Industry regular Ph.D. is offered in all five schools \\nviz- School of Computer Science and Engineering, School of Electronic Systems and \\nAutomation, School of Digital Sciences, School of Digital Humanities and Liberal Arts and \\nSchool of Informatics. \\nFor the General category candidates, a 2-year (or more) Master's degree with 60% marks \\nor an M.Phil. degree with 60% coursework marks in a discipline relevant to the school the \\n7| Page\"),\n",
       " Document(metadata={'producer': 'iLovePDF', 'creator': 'PyPDF', 'creationdate': '', 'moddate': '2025-09-29T06:51:30+00:00', 'source': '..\\\\data\\\\DUK_Admission_Prospectus-2025.pdf', 'total_pages': 31, 'page': 8, 'page_label': '9', 'source_file': 'DUK_Admission_Prospectus-2025.pdf', 'file_type': 'pdf'}, page_content=\"candidate is applying is required. SC/ST/OEC/OBC (non-creamy layer)/ differently-abled/ \\nEconomically weaker section candidates have the same criteria as the General category \\ncandidates, except they need only 55% marks. \\nThe candidates who have appeared for the final examinations are also eligible to apply if \\ntheir aggregate marks until then are equal to or above the minimum required marks. If \\nadmitted to the Ph.D. program, they must meet the eligibility criteria by the date specified \\nby the University. \\nPart-time and Industry Regular Ph.D. applicants must have a full-time job with at least 5 \\nyears of relevant full-time work experience after their Bachelor's degree. To apply to the \\nIndustry Regular Ph.D. program, the applicant should be a full-time employee of the \\nindustry at the time of application. \\nMinimum Eligibility for Postgraduate Programme- Clarifications \\nA minimum of 60% marks in the qualifying degree (e.g., Bachelor's degree) or a CGPA\"),\n",
       " Document(metadata={'producer': 'iLovePDF', 'creator': 'PyPDF', 'creationdate': '', 'moddate': '2025-09-29T06:51:30+00:00', 'source': '..\\\\data\\\\DUK_Admission_Prospectus-2025.pdf', 'total_pages': 31, 'page': 8, 'page_label': '9', 'source_file': 'DUK_Admission_Prospectus-2025.pdf', 'file_type': 'pdf'}, page_content=\"industry at the time of application. \\nMinimum Eligibility for Postgraduate Programme- Clarifications \\nA minimum of 60% marks in the qualifying degree (e.g., Bachelor's degree) or a CGPA \\nof 6.5 or higher on a 10-point scale is required for eligibility. Please note that marks will \\nnot be rounded to meet the minimum criteria. \\nApplicants with a CGPA below 6.5 may still be eligible if their university's conversion \\ncriteria translate the CGPA to a 60% or higher percentage equivalent. In such cases, \\ncandidates must provide an official document or certificate from their university detailing \\nthe conversion methodology at the time of admission. \\nRelaxation for Reserved Categories: \\nCandidates belonging to Scheduled Caste (SC), Scheduled Tribe (ST), and Persons with \\nDisability (PwD) categories are eligible to apply if they have secured the minimum passing \\nmarks in their qualifying degree. \\nCandidates belonging to the Other Backward Classes - Non-Creamy Layer (SEBC-NCL)\"),\n",
       " Document(metadata={'producer': 'iLovePDF', 'creator': 'PyPDF', 'creationdate': '', 'moddate': '2025-09-29T06:51:30+00:00', 'source': '..\\\\data\\\\DUK_Admission_Prospectus-2025.pdf', 'total_pages': 31, 'page': 8, 'page_label': '9', 'source_file': 'DUK_Admission_Prospectus-2025.pdf', 'file_type': 'pdf'}, page_content='marks in their qualifying degree. \\nCandidates belonging to the Other Backward Classes - Non-Creamy Layer (SEBC-NCL) \\ncategory of Kerala state can avail of a 5% relaxation in the minimum mark requirement, \\nprovided they have passed the qualifying exam. \\nFinal Year/Semester Students: \\nStudents who have appeared for (or are currently appearing for) their final year/semester \\nexams can also apply as long as they meet these two conditions: \\n8| Page'),\n",
       " Document(metadata={'producer': 'iLovePDF', 'creator': 'PyPDF', 'creationdate': '', 'moddate': '2025-09-29T06:51:30+00:00', 'source': '..\\\\data\\\\DUK_Admission_Prospectus-2025.pdf', 'total_pages': 31, 'page': 9, 'page_label': '10', 'source_file': 'DUK_Admission_Prospectus-2025.pdf', 'file_type': 'pdf'}, page_content='They appear for all final year/semester exams for the first time (no re-appearances) and \\nhave passed all previous exams before the final year/semester. \\nVerification of Documents: \\nSelected candidates must submit original documents like mark sheets, degree/provisional \\ndegree certificates, and migration certificates within a specific timeframe set by the \\nuniversity. Failure to submit these documents by the deadline may result in being asked \\nto withdraw from the program. \\nAdmission Process \\nM.Sc. \\nApplicants for Master of Science (MSc) programs must take one of the following entrance \\nexams: \\n« Digital University Admission Test (DUAT-2025) conducted by Digital University \\nKerala. \\ne Common University Entrance Test (CUET(PG)-2025) conducted by NTA for \\nadmission to various postgraduate programs \\nM.Tech. \\nAdmission to M.Tech. programmes involve two options: \\ne National Level Exams: Applicants can take the CUET(PG)-2025 or Graduate \\nAptitude Test in Engineering (GATE) exam.'),\n",
       " Document(metadata={'producer': 'iLovePDF', 'creator': 'PyPDF', 'creationdate': '', 'moddate': '2025-09-29T06:51:30+00:00', 'source': '..\\\\data\\\\DUK_Admission_Prospectus-2025.pdf', 'total_pages': 31, 'page': 9, 'page_label': '10', 'source_file': 'DUK_Admission_Prospectus-2025.pdf', 'file_type': 'pdf'}, page_content='M.Tech. \\nAdmission to M.Tech. programmes involve two options: \\ne National Level Exams: Applicants can take the CUET(PG)-2025 or Graduate \\nAptitude Test in Engineering (GATE) exam. \\ne School-Specific Admission Procedure: M.Tech. admissions will be based on an \\nonline or offline written test, followed by interviews with shortlisted candidates. \\ne Candidates with a valid GATE score will be directly called for the interview. \\nMBA \\nFor MBA program, applicants with a valid score in one of the following national-level \\nentrance exams are considered for admission: \\ne Common University Entrance Test (CUET(PG)-2025) conducted by NTA \\n9| Page'),\n",
       " Document(metadata={'producer': 'iLovePDF', 'creator': 'PyPDF', 'creationdate': '', 'moddate': '2025-09-29T06:51:30+00:00', 'source': '..\\\\data\\\\DUK_Admission_Prospectus-2025.pdf', 'total_pages': 31, 'page': 10, 'page_label': '11', 'source_file': 'DUK_Admission_Prospectus-2025.pdf', 'file_type': 'pdf'}, page_content='e CAT (Common Admission Test) conducted by [IMs \\ne GRE (Graduate Record Examinations) \\ne CMAT (Central Management Admission Test) \\ne KMAT (Kerala Management Aptitude Test) \\ne XAT (Xavier Aptitude Test) \\ne NMAT by GMAC (Graduate Management Admission Council) / GMAT \\nApplicants who qualify through these exams will be shortlisted for a group discussion and \\nan interview. \\nPh.D.: \\nAdmission to the Ph.D. program requires appearing for the Digital University Research \\nAptitude Test (DRAT). However, candidates who have secured a fellowship or \\nscholarship through recognized national-level examinations such as UGC-NET, UGC- \\nCSIR NET, GATE, CEED, or other equivalent tests approved by the University are \\nexempted from appearing for the DRAT. \\nHow to Apply Online \\nApplication portal: https://duk.ac.infadmission/apply/ \\nStep 1: Registration \\ne Provide your Name, Email Id, Mobile number, and the Program/Group you are \\napplying for.'),\n",
       " Document(metadata={'producer': 'iLovePDF', 'creator': 'PyPDF', 'creationdate': '', 'moddate': '2025-09-29T06:51:30+00:00', 'source': '..\\\\data\\\\DUK_Admission_Prospectus-2025.pdf', 'total_pages': 31, 'page': 10, 'page_label': '11', 'source_file': 'DUK_Admission_Prospectus-2025.pdf', 'file_type': 'pdf'}, page_content='How to Apply Online \\nApplication portal: https://duk.ac.infadmission/apply/ \\nStep 1: Registration \\ne Provide your Name, Email Id, Mobile number, and the Program/Group you are \\napplying for. \\ne An email containing login credentials will be sent to the provided email address. \\ne Use the credentials to log in and proceed to complete the application. \\nStep 2: Application Details \\ne Complete the online application, saving your progress after each step. \\nStep 3: Document Upload \\n10 | Page'),\n",
       " Document(metadata={'producer': 'iLovePDF', 'creator': 'PyPDF', 'creationdate': '', 'moddate': '2025-09-29T06:51:30+00:00', 'source': '..\\\\data\\\\DUK_Admission_Prospectus-2025.pdf', 'total_pages': 31, 'page': 11, 'page_label': '12', 'source_file': 'DUK_Admission_Prospectus-2025.pdf', 'file_type': 'pdf'}, page_content='Candidates must have scanned copies of their photograph, signature, and \\nnecessary documents. (Photo of Signature, Photo and Scanned Copy of any ID \\nCard are mandatory) \\nUpload the scanned documents as part of the application process. \\nStep 4: Application Fee Payment \\nThe final step involves the payment of the application fee, as follows: \\no For candidates applying with CUET-PG or any other approved qualifying \\nexaminations: X100 for General category candidates and 50 for \\nSC/ST/Divyang candidates. \\no For candidates appearing for DUAT: 2750 for General category candidates \\nand %375 for SC/ST/Divyang candidates. \\no The application fee, once remitted, is not refundable. \\nUpon successful payment, the application will be automatically submitted, and a \\nconfirmation email with a copy of the application will be sent to you. \\nImportant Notes: \\nA token fee of 10,000 must be paid upon receipt of the offer letter to confirm your \\nseat.'),\n",
       " Document(metadata={'producer': 'iLovePDF', 'creator': 'PyPDF', 'creationdate': '', 'moddate': '2025-09-29T06:51:30+00:00', 'source': '..\\\\data\\\\DUK_Admission_Prospectus-2025.pdf', 'total_pages': 31, 'page': 11, 'page_label': '12', 'source_file': 'DUK_Admission_Prospectus-2025.pdf', 'file_type': 'pdf'}, page_content='confirmation email with a copy of the application will be sent to you. \\nImportant Notes: \\nA token fee of 10,000 must be paid upon receipt of the offer letter to confirm your \\nseat. \\nAll information provided should be genuine and accurate. University decisions \\nbased on this data are provisional and subject to verification during the selection \\nprocess. \\nFailure to meet eligibility criteria or the detection of false information at any stage \\nmay result in the cancellation of candidature and forfeiture of any offers made. \\nMSc programs sharing the same DUAT exam are grouped together. Candidates \\ninterested in applying to multiple program groups must submit separate \\napplications for each group. This requires creating separate accounts using the \\nsame or different email addresses. \\nFor example, the MSc Computer Science/Data Analytics group includes: \\nMSc in Computer Science with a specialization in Cybersecurity \\nMSc in Computer Science with a specialization in Artificial Intelligence'),\n",
       " Document(metadata={'producer': 'iLovePDF', 'creator': 'PyPDF', 'creationdate': '', 'moddate': '2025-09-29T06:51:30+00:00', 'source': '..\\\\data\\\\DUK_Admission_Prospectus-2025.pdf', 'total_pages': 31, 'page': 11, 'page_label': '12', 'source_file': 'DUK_Admission_Prospectus-2025.pdf', 'file_type': 'pdf'}, page_content='MSc in Computer Science with a specialization in Cybersecurity \\nMSc in Computer Science with a specialization in Artificial Intelligence \\nMSc in Computer Science with a specialization in Data Analytics \\nMSc Data Analytics and Computational Science \\n11 | Page'),\n",
       " Document(metadata={'producer': 'iLovePDF', 'creator': 'PyPDF', 'creationdate': '', 'moddate': '2025-09-29T06:51:30+00:00', 'source': '..\\\\data\\\\DUK_Admission_Prospectus-2025.pdf', 'total_pages': 31, 'page': 12, 'page_label': '13', 'source_file': 'DUK_Admission_Prospectus-2025.pdf', 'file_type': 'pdf'}, page_content='Candidates will have the option to indicate their preferences for programs within a group. \\nImportant Dates \\nDUK application portal opens for registration: 315t January 2025 \\nLast date to submit the application: 19\" May 2025 \\nDUAT Exam Phase 1: 315 May 2025 \\nDRAT Exam: 7\" June 2025 \\nTest Paper Codes \\nDegree Programme CUET Test Paper Code DUAT \\nTest \\npaper \\ncode \\nMBA Business Administration \\n(Specializations: Business \\nAnalytics/ \\nDigital Governance/ Digital \\nTransformation/ Finance/ Human \\nResources/ Information Security \\nManagement/ Marketing \\nOperations Systems/ Technology \\nManagement) \\nCOQP12 DUATO1 \\nM.Tech. Computer Science and \\nEngineering (specializations: \\nconnected systems and \\nintelligence/ \\nartificial intelligence/ \\ncybersecurity engineering) \\nMTQP04, MTQPO5 NA \\nM.Tech. Electronics Engineering \\n(Specializations: Al Hardware/ \\nVLSI/ 10T and Robotics) \\nMTQPOS5, MTQP09 NA \\nM.Sc. Applied Physics (Specializations: \\nApplied Materials/ VLSI) \\nSCQP18, SCQP24 DUATO03'),\n",
       " Document(metadata={'producer': 'iLovePDF', 'creator': 'PyPDF', 'creationdate': '', 'moddate': '2025-09-29T06:51:30+00:00', 'source': '..\\\\data\\\\DUK_Admission_Prospectus-2025.pdf', 'total_pages': 31, 'page': 12, 'page_label': '13', 'source_file': 'DUK_Admission_Prospectus-2025.pdf', 'file_type': 'pdf'}, page_content='(Specializations: Al Hardware/ \\nVLSI/ 10T and Robotics) \\nMTQPOS5, MTQP09 NA \\nM.Sc. Applied Physics (Specializations: \\nApplied Materials/ VLSI) \\nSCQP18, SCQP24 DUATO03 \\nM.Sc. Computer Science with \\nspecialization in Artificial \\nIntelligence \\nSCQP06, SCQP09, SCQP19, \\nSCQP24, SCQP27 \\nDUATO02 \\n12 | Page'),\n",
       " Document(metadata={'producer': 'iLovePDF', 'creator': 'PyPDF', 'creationdate': '', 'moddate': '2025-09-29T06:51:30+00:00', 'source': '..\\\\data\\\\DUK_Admission_Prospectus-2025.pdf', 'total_pages': 31, 'page': 13, 'page_label': '14', 'source_file': 'DUK_Admission_Prospectus-2025.pdf', 'file_type': 'pdf'}, page_content='Degree | Programme CUET Test Paper Code DUAT \\nTest \\npaper \\ncode \\nM.Sc. Computer Science with SCQP06, SCQP09, SCQP19, DUATO02 \\nspecialization in Cybersecurity SCQP24, SCQP27 \\nM.Sc. Computer Science with SCQP09, SCQP27, SCQP19, DUATO02 \\nspecialization in Data Analytics SCQP24 \\nM.Sc. Data Analytics and SCQP09, SCQP27, SCQP19, DUATO02 \\nComputational Science SCQP24 \\nM.Sc. Data Science and Bio-Al SCQP09, SCQP17, SCQPO03, DUATO05 \\nSCQPO05, SCQP06, SCQPOQ7, \\nSCQPO08, SCQP28, SCQP25, \\nSCQP27, SCQP24, SCQP19, \\nSCQPO01, SCQP02, SCQP22, \\nSCQP23 \\nM.Sc. Data Science and Geoinformatics | SCQP09, SCQP14, SCQP15, DUATO06 \\nSCQP11, SCQP26, SCQP27, \\nSCQP24, SCQP19 \\nM.Sc. Ecology with specialization in SCQPO01, SCQP07, SCQPO8, DUATO04 \\nEcological Informatics SCQP11, SCQP14, SCQP17, \\nSCQP19, SCQP24, SCQP27, \\nSCQP28, SCQP02 \\nM.Sc. Electronics(Specializations: Al SCQP18, SCQP24 DUATO3 \\nHardware/ VLSI/ IOT and \\nRobotics) \\nM.Sc. Environmental Science SCQPO01, SCQP02, SCQPO07, DUATO04'),\n",
       " Document(metadata={'producer': 'iLovePDF', 'creator': 'PyPDF', 'creationdate': '', 'moddate': '2025-09-29T06:51:30+00:00', 'source': '..\\\\data\\\\DUK_Admission_Prospectus-2025.pdf', 'total_pages': 31, 'page': 13, 'page_label': '14', 'source_file': 'DUK_Admission_Prospectus-2025.pdf', 'file_type': 'pdf'}, page_content='SCQP28, SCQP02 \\nM.Sc. Electronics(Specializations: Al SCQP18, SCQP24 DUATO3 \\nHardware/ VLSI/ IOT and \\nRobotics) \\nM.Sc. Environmental Science SCQPO01, SCQP02, SCQPO07, DUATO04 \\n(Specializations: Environmental SCQP08, SCQP09, SCQP11, \\nData Science/ Ecological SCQP14, SCQP15, SCQP16, \\nInformatics/ Ocean and Climate SCQP17, SCQP19, SCQP24, \\nInformatics/ Environmental SCQP27, SCQP28, SCQP29, \\nCommunication/ Sustainability COQP02, COQP08, COQP10, \\nStudies) HUQPO08, HUQP22 \\nDigital University Admission Test (DUAT)-2025 Syllabus \\nTest Code: DUATO1 \\nProgramme: Master of Business Administration \\n13 | Page'),\n",
       " Document(metadata={'producer': 'iLovePDF', 'creator': 'PyPDF', 'creationdate': '', 'moddate': '2025-09-29T06:51:30+00:00', 'source': '..\\\\data\\\\DUK_Admission_Prospectus-2025.pdf', 'total_pages': 31, 'page': 14, 'page_label': '15', 'source_file': 'DUK_Admission_Prospectus-2025.pdf', 'file_type': 'pdf'}, page_content='General Aptitude (20 Marks) \\nVerbal Aptitude-Basic English grammar: Tenses, articles, adjectives, prepositions, \\nconjunctions, verb-noun agreement, and other parts of speech. Basic vocabulary: Words, \\nidioms and phrases in context. Narrative sequencing. \\nQuantitative Aptitude-Data interpretation: Data graphs (bar graphs, pie charts, and other \\ngraphs representing data), 2- and 3-dimensional plots, maps, and tables. Numerical \\ncomputation and estimation: Ratios, percentages, powers, exponents and logarithms, \\npermutations and combinations, summations and series, Mensuration and Geometry. \\nAnalytical Aptitude-Logic: Deduction and induction, analogy, numerical relations, and \\nreasoning. Spatial Aptitude-Transformation of shapes: Translation, rotation, scaling, \\nmirroring, assembling, grouping, paper folding, cutting, and patterns in 2 and 3 \\ndimensions. \\nMathematics (20 Marks) \\nProbability, Statistics, Calculus, Discrete Mathematics, basic number theory, algebra'),\n",
       " Document(metadata={'producer': 'iLovePDF', 'creator': 'PyPDF', 'creationdate': '', 'moddate': '2025-09-29T06:51:30+00:00', 'source': '..\\\\data\\\\DUK_Admission_Prospectus-2025.pdf', 'total_pages': 31, 'page': 14, 'page_label': '15', 'source_file': 'DUK_Admission_Prospectus-2025.pdf', 'file_type': 'pdf'}, page_content='dimensions. \\nMathematics (20 Marks) \\nProbability, Statistics, Calculus, Discrete Mathematics, basic number theory, algebra \\nEnglish Reading Comprehension (20 Marks) \\nTwo paragraphs, each having 5-10 questions. \\nTest Code: DUAT02 \\nProgramme: MSc Computer Science with specialization in Data \\nAnalytics/Cybersecurityl/Artificial Intelligence; MSc Data Analytics and \\nComputational Science \\nGeneral Aptitude (20 Marks) \\nVerbal Aptitude-Basic English grammar: Tenses, articles, adjectives, prepositions, \\nconjunctions, verb-noun agreement, and other parts of speech. Basic vocabulary: Words, \\nidioms and phrases in context. Narrative sequencing. \\nQuantitative Aptitude-Data interpretation: Data graphs (bar graphs, pie charts, and other \\ngraphs representing data), 2- and 3-dimensional plots, maps, and tables. Numerical \\ncomputation and estimation: Ratios, percentages, powers, exponents and logarithms, \\npermutations and combinations, summations and series, Mensuration and Geometry'),\n",
       " Document(metadata={'producer': 'iLovePDF', 'creator': 'PyPDF', 'creationdate': '', 'moddate': '2025-09-29T06:51:30+00:00', 'source': '..\\\\data\\\\DUK_Admission_Prospectus-2025.pdf', 'total_pages': 31, 'page': 14, 'page_label': '15', 'source_file': 'DUK_Admission_Prospectus-2025.pdf', 'file_type': 'pdf'}, page_content='computation and estimation: Ratios, percentages, powers, exponents and logarithms, \\npermutations and combinations, summations and series, Mensuration and Geometry \\nAnalytical Aptitude-Logic: Deduction and induction, analogy, numerical relations, and \\n14 | Page'),\n",
       " Document(metadata={'producer': 'iLovePDF', 'creator': 'PyPDF', 'creationdate': '', 'moddate': '2025-09-29T06:51:30+00:00', 'source': '..\\\\data\\\\DUK_Admission_Prospectus-2025.pdf', 'total_pages': 31, 'page': 15, 'page_label': '16', 'source_file': 'DUK_Admission_Prospectus-2025.pdf', 'file_type': 'pdf'}, page_content='reasoning. Spatial Aptitude-Transformation of shapes: Translation, rotation, scaling, \\nmirroring, assembling, grouping, paper folding, cutting, and patterns in 2 and 3 \\ndimensions. \\nMathematics (20 Marks) \\nSet Theory- Concept of sets—Union, Intersection, Cardinality, Elementary counting; \\npermutations and combinations. \\nProbability and Statistics- Basic concepts of probability theory, Averages, Dependent and \\nindependent events, frequency distributions, measures of central tendencies and \\ndispersions. \\nAlgebra-Fundamental operations in algebra, expansions, factorization, simultaneous \\nlinear/quadratic equations, indices, logarithms, arithmetic, geometric and harmonic \\nprogressions, determinants and matrices. \\nCoordinate Geometry- Rectangular Cartesian coordinates, distance formulae, equation \\nof a line, and intersection of lines, pair of straight lines, equations of a circle, parabola, \\nellipse and hyperbola.'),\n",
       " Document(metadata={'producer': 'iLovePDF', 'creator': 'PyPDF', 'creationdate': '', 'moddate': '2025-09-29T06:51:30+00:00', 'source': '..\\\\data\\\\DUK_Admission_Prospectus-2025.pdf', 'total_pages': 31, 'page': 15, 'page_label': '16', 'source_file': 'DUK_Admission_Prospectus-2025.pdf', 'file_type': 'pdf'}, page_content='of a line, and intersection of lines, pair of straight lines, equations of a circle, parabola, \\nellipse and hyperbola. \\nCalculus-Limit of functions, continuous function, differentiation of function, tangents and \\nnormal, simple examples of maxima and minima. Integration of functions by parts, by \\nsubstitution and by partial fraction, definite integrals, and applications of definite integrals \\nto areas. \\nVectors-Position vector, addition and subtraction of vectors, scalar and vector products \\nand their applications to simple geometrical problems and mechanics. \\nTrigonometry-Simple identities, trigonometric equations, properties of triangles, solution \\nof triangles, heights and distances, general solutions of trigonometric equations. \\nComputer Basics (20 Marks) \\nOrganization of a computer, Central Processing Unit (CPU), structure of instructions in \\nCPU, input/output devices, computer memory, and backup devices.'),\n",
       " Document(metadata={'producer': 'iLovePDF', 'creator': 'PyPDF', 'creationdate': '', 'moddate': '2025-09-29T06:51:30+00:00', 'source': '..\\\\data\\\\DUK_Admission_Prospectus-2025.pdf', 'total_pages': 31, 'page': 15, 'page_label': '16', 'source_file': 'DUK_Admission_Prospectus-2025.pdf', 'file_type': 'pdf'}, page_content='Computer Basics (20 Marks) \\nOrganization of a computer, Central Processing Unit (CPU), structure of instructions in \\nCPU, input/output devices, computer memory, and backup devices. \\nData Representation: Representation of characters, integers and fractions, binary and \\nhexadecimal representations, binary arithmetic: addition, subtraction, multiplication, \\ndivision, simple arithmetic and two’s complement arithmetic, floating-point representation \\nof numbers, Boolean algebra, truth tables, Venn diagrams. \\n15 | Page'),\n",
       " Document(metadata={'producer': 'iLovePDF', 'creator': 'PyPDF', 'creationdate': '', 'moddate': '2025-09-29T06:51:30+00:00', 'source': '..\\\\data\\\\DUK_Admission_Prospectus-2025.pdf', 'total_pages': 31, 'page': 16, 'page_label': '17', 'source_file': 'DUK_Admission_Prospectus-2025.pdf', 'file_type': 'pdf'}, page_content='Test Code: DUATO03 \\nProgramme: MSc Electronics, MSc Applied Physics \\nGeneral Aptitude (20 Marks) \\nVerbal Aptitude-Basic English grammar: Tenses, articles, adjectives, prepositions, \\nconjunctions, verb-noun agreement, and other parts of speech. Basic vocabulary: Words, \\nidioms and phrases in context. Narrative sequencing. \\nQuantitative Aptitude-Data interpretation: Data graphs (bar graphs, pie charts, and other \\ngraphs representing data), 2- and 3-dimensional plots, maps, and tables. Numerical \\ncomputation and estimation: Ratios, percentages, powers, exponents and logarithms, \\npermutations and combinations, summations and series, Mensuration and Geometry. \\nAnalytical Aptitude-Logic: Deduction and induction, analogy, numerical relations, and \\nreasoning. Spatial Aptitude-Transformation of shapes: Translation, rotation, scaling, \\nmirroring, assembling, grouping, paper folding, cutting, and patterns in 2 and 3 \\ndimensions. \\nMathematics (10 Marks)'),\n",
       " Document(metadata={'producer': 'iLovePDF', 'creator': 'PyPDF', 'creationdate': '', 'moddate': '2025-09-29T06:51:30+00:00', 'source': '..\\\\data\\\\DUK_Admission_Prospectus-2025.pdf', 'total_pages': 31, 'page': 16, 'page_label': '17', 'source_file': 'DUK_Admission_Prospectus-2025.pdf', 'file_type': 'pdf'}, page_content='mirroring, assembling, grouping, paper folding, cutting, and patterns in 2 and 3 \\ndimensions. \\nMathematics (10 Marks) \\nLinear Algebra: Matrix Algebra, Systems of linear equations, Eigen values, Eigenvectors. \\nCalculus: Mean value theorems, Theorems of integral calculus, Evaluation of definite and \\nimproper integrals, Partial Derivatives, Maxima and minima, Fourier series \\nDifferential equations: First-order equations (linear and nonlinear), Higher-order linear \\ndifferential equations with constant coefficients, method of variation of parameters, and \\npartial differential equations. \\nProbability and Statistics: Sampling theorems, Conditional probability, Mean, Median, \\nMode, Standard Deviation, Random variables, Discrete and Continuous distributions, \\nPoisson distribution, Normal distribution, Binomial distribution, Correlation analysis, \\nRegression analysis \\nSolid State Physics, Devices, Electronics Circuits (30 Marks)'),\n",
       " Document(metadata={'producer': 'iLovePDF', 'creator': 'PyPDF', 'creationdate': '', 'moddate': '2025-09-29T06:51:30+00:00', 'source': '..\\\\data\\\\DUK_Admission_Prospectus-2025.pdf', 'total_pages': 31, 'page': 16, 'page_label': '17', 'source_file': 'DUK_Admission_Prospectus-2025.pdf', 'file_type': 'pdf'}, page_content=\"Poisson distribution, Normal distribution, Binomial distribution, Correlation analysis, \\nRegression analysis \\nSolid State Physics, Devices, Electronics Circuits (30 Marks) \\nCrystal structure, Bravais lattices and basis. Miller indices. X-ray diffraction, Bragg's law, \\nIntrinsic and extrinsic semiconductors, and variation of resistivity with temperature. \\n16 | Page\"),\n",
       " Document(metadata={'producer': 'iLovePDF', 'creator': 'PyPDF', 'creationdate': '', 'moddate': '2025-09-29T06:51:30+00:00', 'source': '..\\\\data\\\\DUK_Admission_Prospectus-2025.pdf', 'total_pages': 31, 'page': 17, 'page_label': '18', 'source_file': 'DUK_Admission_Prospectus-2025.pdf', 'file_type': 'pdf'}, page_content=\"Failure of classical mechanics, origin of quantum theory, particle nature of waves, De \\nBroglie Wave and Uncertainty Principle, Bohr's Atom model \\np-n junction diode, |-V characteristics, diffusion current, drift current, mobility and \\nresistivity, Zener diode and its applications. BJT: characteristics in CB, CE, CC modes. \\nSingle stage amplifier, two stages R-C coupled amplifiers. MOS capacitor, MOSFET, \\nLED, photodiode and solar cell \\nBoolean algebra: Binary number systems; conversion from one system to another \\nsystem; binary addition and subtraction. Logic Gates: AND, OR, NOT, NAND, NOR \\nexclusive OR; Truth tables; Combination of gates; deMorgan’s theorem \\nSimple DC and AC circuits with R, L and C components. Kirchhoff's Voltage/current Law, \\nsuperposition, Thevenin’s theorem, Norton’s theorem, reciprocity, and maximum power \\ntransfer. Oscillators: Barkhausen condition, sinusoidal oscillators. OP-AMP Inverting and \\nno inverting amplifier. \\nTest Code: DUAT04\"),\n",
       " Document(metadata={'producer': 'iLovePDF', 'creator': 'PyPDF', 'creationdate': '', 'moddate': '2025-09-29T06:51:30+00:00', 'source': '..\\\\data\\\\DUK_Admission_Prospectus-2025.pdf', 'total_pages': 31, 'page': 17, 'page_label': '18', 'source_file': 'DUK_Admission_Prospectus-2025.pdf', 'file_type': 'pdf'}, page_content='transfer. Oscillators: Barkhausen condition, sinusoidal oscillators. OP-AMP Inverting and \\nno inverting amplifier. \\nTest Code: DUAT04 \\nProgrammes: MSc Ecology, MSc Environmental Science \\nGeneral Aptitude (20 Marks) \\nVerbal Aptitude-Basic English grammar: Tenses, articles, adjectives, prepositions, \\nconjunctions, verb-noun agreement, and other parts of speech. Basic vocabulary: Words, \\nidioms and phrases in context. Narrative sequencing. \\nQuantitative Aptitude-Data interpretation: Data graphs (bar graphs, pie charts, and other \\ngraphs representing data), 2- and 3-dimensional plots, maps, and tables. Numerical \\ncomputation and estimation: Ratios, percentages, powers, exponents and logarithms, \\npermutations and combinations, summations and series, Mensuration and Geometry. \\nAnalytical Aptitude-Logic: Deduction and induction, analogy, numerical relations, and \\nreasoning. Spatial Aptitude-Transformation of shapes: Translation, rotation, scaling,'),\n",
       " Document(metadata={'producer': 'iLovePDF', 'creator': 'PyPDF', 'creationdate': '', 'moddate': '2025-09-29T06:51:30+00:00', 'source': '..\\\\data\\\\DUK_Admission_Prospectus-2025.pdf', 'total_pages': 31, 'page': 17, 'page_label': '18', 'source_file': 'DUK_Admission_Prospectus-2025.pdf', 'file_type': 'pdf'}, page_content='Analytical Aptitude-Logic: Deduction and induction, analogy, numerical relations, and \\nreasoning. Spatial Aptitude-Transformation of shapes: Translation, rotation, scaling, \\nmirroring, assembling, grouping, paper folding, cutting, and patterns in 2 and 3 \\ndimensions. \\nElementary mathematics and computer basics (10 Marks) \\nNumber System, Sets, Functions, Algebra, Geometry, Trigonometry, Matrices and \\nDeterminants, Differentiation and Integration, Basic Statistics and Probability. \\n17 | Page'),\n",
       " Document(metadata={'producer': 'iLovePDF', 'creator': 'PyPDF', 'creationdate': '', 'moddate': '2025-09-29T06:51:30+00:00', 'source': '..\\\\data\\\\DUK_Admission_Prospectus-2025.pdf', 'total_pages': 31, 'page': 18, 'page_label': '19', 'source_file': 'DUK_Admission_Prospectus-2025.pdf', 'file_type': 'pdf'}, page_content='Fundamentals of computers, operating systems, algorithms, data types, operators, basics \\nof internet, programming languages, software applications \\nSubject Questions (Undergraduate Level, 30 Marks) \\nProperties of matter, fundamentals of thermodynamics, equilibrium in physical and \\nchemical processes, law of mass action, fundamentals of environmental physics, Earth’s \\nenergy budget, atmospheric and terrestrial interaction of electromagnetic radiation, \\nradiation laws, fundamentals of surface chemistry, atmospheric chemistry, water \\nchemistry, geochemistry, and green chemistry; water - physical characteristics, buffering \\ncapacity, Essential and trace elements in living systems, Bio-molecules - chemical \\ncomponents of cells, toxicity of heavy metals. \\nOrigin of life, Eukaryotic and prokaryotic cells- structure and function, taxonomy and \\nsystematic, anatomy and physiology of plants and animals, reproduction, developmental'),\n",
       " Document(metadata={'producer': 'iLovePDF', 'creator': 'PyPDF', 'creationdate': '', 'moddate': '2025-09-29T06:51:30+00:00', 'source': '..\\\\data\\\\DUK_Admission_Prospectus-2025.pdf', 'total_pages': 31, 'page': 18, 'page_label': '19', 'source_file': 'DUK_Admission_Prospectus-2025.pdf', 'file_type': 'pdf'}, page_content='Origin of life, Eukaryotic and prokaryotic cells- structure and function, taxonomy and \\nsystematic, anatomy and physiology of plants and animals, reproduction, developmental \\nbiology, molecular biology, microbes and their environmental significance, ethology, \\ngeological time scale, theories of evolution, speciation, inheritance of variation, mutation, \\nnatural selection, and adaptation, biogeography- global pattern of biodiversity, \\nbiodiversity of Indian sub-continent, major biomes of the world. \\nComponents of the atmosphere, lithosphere, hydrosphere, and biosphere; organizational \\nlevels of the biosphere, Ecosystem: structure and types, population and community, \\ninteractions, food chain and energy flow, terrestrial and aquatics ecosystems; Earth \\nprocesses; climate and weather systems, environmental geology: Types of rocks, \\nminerals, hydrological and biogeochemical cycles, natural resources - forest, water, \\nminerals, marine; Energy resources-renewable and non-renewable.'),\n",
       " Document(metadata={'producer': 'iLovePDF', 'creator': 'PyPDF', 'creationdate': '', 'moddate': '2025-09-29T06:51:30+00:00', 'source': '..\\\\data\\\\DUK_Admission_Prospectus-2025.pdf', 'total_pages': 31, 'page': 18, 'page_label': '19', 'source_file': 'DUK_Admission_Prospectus-2025.pdf', 'file_type': 'pdf'}, page_content='minerals, hydrological and biogeochemical cycles, natural resources - forest, water, \\nminerals, marine; Energy resources-renewable and non-renewable. \\nPlanetary crisis: climate change and global warming; ozone depletion; acid rain; habitat \\nfragmentation; biodiversity loss; extinction; land and aquatic system degradation; \\nurbanization; environmental pollution and control; air, water, soil, noise, and radioactive \\npollution; solid waste - disposal, management. Disaster and mitigation: Earthquakes, \\nfloods, landslides, and cyclones; Environmental sustainability; sustainable development \\ngoals; biodiversity conservation; natural resource management; national and international \\ninitiatives; environmental legislations and policies; international relations and current \\naffairs. \\nTest Code: DUATO05 \\n18 | Page'),\n",
       " Document(metadata={'producer': 'iLovePDF', 'creator': 'PyPDF', 'creationdate': '', 'moddate': '2025-09-29T06:51:30+00:00', 'source': '..\\\\data\\\\DUK_Admission_Prospectus-2025.pdf', 'total_pages': 31, 'page': 19, 'page_label': '20', 'source_file': 'DUK_Admission_Prospectus-2025.pdf', 'file_type': 'pdf'}, page_content='Programme: MSc Data Science and BioAl \\nGeneral Aptitude (20 Marks) \\nVerbal Aptitude-Basic English grammar: Tenses, articles, adjectives, prepositions, \\nconjunctions, verb-noun agreement, and other parts of speech. Basic vocabulary: Words, \\nidioms and phrases in context. Narrative sequencing. \\nQuantitative Aptitude-Data interpretation: Data graphs (bar graphs, pie charts, and other \\ngraphs representing data), 2- and 3-dimensional plots, maps, and tables. Numerical \\ncomputation and estimation: Ratios, percentages, powers, exponents and logarithms, \\npermutations and combinations, summations and series, Mensuration and Geometry. \\nAnalytical Aptitude-Logic: Deduction and induction, analogy, numerical relations, and \\nreasoning. Spatial Aptitude-Transformation of shapes: Translation, rotation, scaling, \\nmirroring, assembling, grouping, paper folding, cutting, and patterns in 2 and 3 \\ndimensions. \\nMathematics (10 Marks)'),\n",
       " Document(metadata={'producer': 'iLovePDF', 'creator': 'PyPDF', 'creationdate': '', 'moddate': '2025-09-29T06:51:30+00:00', 'source': '..\\\\data\\\\DUK_Admission_Prospectus-2025.pdf', 'total_pages': 31, 'page': 19, 'page_label': '20', 'source_file': 'DUK_Admission_Prospectus-2025.pdf', 'file_type': 'pdf'}, page_content='mirroring, assembling, grouping, paper folding, cutting, and patterns in 2 and 3 \\ndimensions. \\nMathematics (10 Marks) \\nSet Theory: Concept offsets—Union, Intersection, Cardinality, Elementary counting, \\npermutations and combinations. \\nProbability and Statistics: Basic concepts of probability theory, Averages, Dependent and \\nindependent events, frequency distributions, measures of central tendencies and \\ndispersions. \\nBiochemistry/Biotechnology (Undergraduate level questions, 20 Marks) \\nNucleic Acids: Structure and functions of DNA and RNA; DNA replication, transcription, \\nand translation. Proteins: Structure, folding, stability, and interactions. Enzymes: \\nMechanisms of enzyme action, enzyme kinetics (Michaelis-Menten equation), enzyme \\ninhibition, and regulation. Human Genome Project: Key achievements and significance. \\nGenome Sequencing: Fundamentals and applications of sequencing technologies. \\nGenomic Integrity: Mutations and DNA repair mechanisms. Production of therapeutic'),\n",
       " Document(metadata={'producer': 'iLovePDF', 'creator': 'PyPDF', 'creationdate': '', 'moddate': '2025-09-29T06:51:30+00:00', 'source': '..\\\\data\\\\DUK_Admission_Prospectus-2025.pdf', 'total_pages': 31, 'page': 19, 'page_label': '20', 'source_file': 'DUK_Admission_Prospectus-2025.pdf', 'file_type': 'pdf'}, page_content='Genome Sequencing: Fundamentals and applications of sequencing technologies. \\nGenomic Integrity: Mutations and DNA repair mechanisms. Production of therapeutic \\nproteins and vaccines. CRISPR Technology: Principles and Applications \\nAtomic Structure: Overview of atomic models, concepts of atom, orbit, orbital, and \\nelectronic configuration. Periodic Properties: Trends in atomic size, electronegativity, and \\nelectron affinity. Chemical Bonding and Molecular Structure: Hybridization, VSEPR \\ntheory, valence bond theory, molecular orbital theory, and intermolecular forces. \\nChemical Kinetics: Basics of reaction rates, mechanisms, and activation energy. \\n19 | Page'),\n",
       " Document(metadata={'producer': 'iLovePDF', 'creator': 'PyPDF', 'creationdate': '', 'moddate': '2025-09-29T06:51:30+00:00', 'source': '..\\\\data\\\\DUK_Admission_Prospectus-2025.pdf', 'total_pages': 31, 'page': 20, 'page_label': '21', 'source_file': 'DUK_Admission_Prospectus-2025.pdf', 'file_type': 'pdf'}, page_content='Stereochemistry: Configuration and conformational isomerism, with emphasis on \\nchirality. Organic Chemistry: Fundamentals, including reaction mechanisms. Medicinal \\nChemistry: Drug classification, properties, an overview of drug-receptor interactions, \\nADMET properties, and pharmacokinetics. Computational Chemistry: Basics of molecular \\nmechanics and quantum mechanics. \\nComputer Basics (10 Marks) \\nOrganization of a computer, Central Processing Unit (CPU), structure of instructions in \\nCPU, input/output devices, computer memory, and backup devices. \\nData Representation: Representation of characters, integers and fractions, binary and \\nhexadecimal representations, binary arithmetic: addition, subtraction, multiplication, \\ndivision, simple arithmetic and two’s complement arithmetic, floating-point representation \\nof numbers, Boolean algebra, truth tables, Venn diagrams. \\nTest Code: DUATO06 \\nProgramme: MSc Data Science and Geoinformatics \\nGeneral Aptitude (20 Marks)'),\n",
       " Document(metadata={'producer': 'iLovePDF', 'creator': 'PyPDF', 'creationdate': '', 'moddate': '2025-09-29T06:51:30+00:00', 'source': '..\\\\data\\\\DUK_Admission_Prospectus-2025.pdf', 'total_pages': 31, 'page': 20, 'page_label': '21', 'source_file': 'DUK_Admission_Prospectus-2025.pdf', 'file_type': 'pdf'}, page_content='of numbers, Boolean algebra, truth tables, Venn diagrams. \\nTest Code: DUATO06 \\nProgramme: MSc Data Science and Geoinformatics \\nGeneral Aptitude (20 Marks) \\nVerbal Aptitude-Basic English grammar: Tenses, articles, adjectives, prepositions, \\nconjunctions, verb-noun agreement, and other parts of speech. Basic vocabulary: Words, \\nidioms and phrases in context. Narrative sequencing. \\nQuantitative Aptitude-Data interpretation: Data graphs (bar graphs, pie charts, and other \\ngraphs representing data), 2- and 3-dimensional plots, maps, and tables. Numerical \\ncomputation and estimation: Ratios, percentages, powers, exponents and logarithms, \\npermutations and combinations, summations and series, Mensuration and Geometry. \\nAnalytical Aptitude-Logic: Deduction and induction, analogy, numerical relations, and \\nreasoning. Spatial Aptitude-Transformation of shapes: Translation, rotation, scaling, \\nmirroring, assembling, grouping, paper folding, cutting, and patterns in 2 and 3 \\ndimensions.'),\n",
       " Document(metadata={'producer': 'iLovePDF', 'creator': 'PyPDF', 'creationdate': '', 'moddate': '2025-09-29T06:51:30+00:00', 'source': '..\\\\data\\\\DUK_Admission_Prospectus-2025.pdf', 'total_pages': 31, 'page': 20, 'page_label': '21', 'source_file': 'DUK_Admission_Prospectus-2025.pdf', 'file_type': 'pdf'}, page_content='reasoning. Spatial Aptitude-Transformation of shapes: Translation, rotation, scaling, \\nmirroring, assembling, grouping, paper folding, cutting, and patterns in 2 and 3 \\ndimensions. \\nMathematics (10 Marks) \\nStatistics and Probability: Measure of central tendency, measure of dispersion, skewness \\nand Kurtosis, and elementary analysis of data. Probability and properties, conditional \\n20| Page'),\n",
       " Document(metadata={'producer': 'iLovePDF', 'creator': 'PyPDF', 'creationdate': '', 'moddate': '2025-09-29T06:51:30+00:00', 'source': '..\\\\data\\\\DUK_Admission_Prospectus-2025.pdf', 'total_pages': 31, 'page': 21, 'page_label': '22', 'source_file': 'DUK_Admission_Prospectus-2025.pdf', 'file_type': 'pdf'}, page_content='probability, multiplication rule. Total Probability. Bayes’ theorem and independence of \\nevents. \\nEarth and Environmental Sciences (20 Marks) \\nEarth Sciences: Structure and composition of Environment-Atmosphere, Hydrosphere \\nand Lithosphere, Earth Processes, Mineral and Power Resources in India, Bio- \\ngeochemical Cycles, Meteorology, Climate Change, Origin and evolution of earth, Mineral \\nand Power Resources in India. \\nAgriculture Land Use/Land Utilization Systems. \\nEcology and Environment: Biosphere, Organizational levels of biosphere, Ecosystem: \\nStructure and Types, Food Chain and Energy Flow, Population and Community Ecology, \\nBiodiversity and its Conservation. \\nNatural resources and Management: Natural Resources, Land and Water Resources, \\nMinerals, Marine, Energy (Renewable and Non-renewable) - Sources, Threats, \\nConservation, and Management. \\nRemote sensing and GIS: Electro Magnetic Spectrum, Components and types of remote'),\n",
       " Document(metadata={'producer': 'iLovePDF', 'creator': 'PyPDF', 'creationdate': '', 'moddate': '2025-09-29T06:51:30+00:00', 'source': '..\\\\data\\\\DUK_Admission_Prospectus-2025.pdf', 'total_pages': 31, 'page': 21, 'page_label': '22', 'source_file': 'DUK_Admission_Prospectus-2025.pdf', 'file_type': 'pdf'}, page_content='Minerals, Marine, Energy (Renewable and Non-renewable) - Sources, Threats, \\nConservation, and Management. \\nRemote sensing and GIS: Electro Magnetic Spectrum, Components and types of remote \\nsensing, Resolutions (Spectral, Spatial, Temporal & Radiometric), Platforms. GIS: \\ncomponents of GIS, Spatial data, Vector and Raster Data, GIS Data Model and Data \\nStructure - Projection and coordinate Systems. \\nComputer Basics (10 Marks) \\nOrganization of a computer, Central Processing Unit (CPU), structure of instructions in \\nCPU, input/output devices, computer memory, and backup devices. Data Representation: \\nRepresentation of characters, integers and fractions, binary and hexadecimal \\nrepresentations, binary arithmetic: addition, subtraction, multiplication, division, simple \\narithmetic and two’s complement arithmetic, floating-point representation of numbers, \\nBoolean algebra, truth tables, Venn diagram. \\nMode of Conduct of DUAT'),\n",
       " Document(metadata={'producer': 'iLovePDF', 'creator': 'PyPDF', 'creationdate': '', 'moddate': '2025-09-29T06:51:30+00:00', 'source': '..\\\\data\\\\DUK_Admission_Prospectus-2025.pdf', 'total_pages': 31, 'page': 21, 'page_label': '22', 'source_file': 'DUK_Admission_Prospectus-2025.pdf', 'file_type': 'pdf'}, page_content='arithmetic and two’s complement arithmetic, floating-point representation of numbers, \\nBoolean algebra, truth tables, Venn diagram. \\nMode of Conduct of DUAT \\nThe examination will be conducted online and monitored through a combination of Al- \\ndriven proctoring and human invigilators. Candidates must log in using a laptop or \\ndesktop computer with a functional webcam and a stable internet connection. The test \\ncomprises 60 multiple-choice questions (MCQs) to be completed within 60 minutes. Each \\n21 | Page'),\n",
       " Document(metadata={'producer': 'iLovePDF', 'creator': 'PyPDF', 'creationdate': '', 'moddate': '2025-09-29T06:51:30+00:00', 'source': '..\\\\data\\\\DUK_Admission_Prospectus-2025.pdf', 'total_pages': 31, 'page': 22, 'page_label': '23', 'source_file': 'DUK_Admission_Prospectus-2025.pdf', 'file_type': 'pdf'}, page_content='correct answer carries one mark, while 0.25 marks will be deducted for every incorrect \\nresponse. \\nFee Structure \\nFee Structure: M.Tech./MSc Programs \\nFirst Year Second Year \\nThird Fourth \\nParticulars First Semester Second Semester | Semester Semester \\nTuition fee (in Rs) 60000 50000 50000 50000 \\nCaution deposit \\n(in Rs) 5000 \\nTOTAL (in Rs) 65000 50000 50000 50000 \\n22 | Page'),\n",
       " Document(metadata={'producer': 'iLovePDF', 'creator': 'PyPDF', 'creationdate': '', 'moddate': '2025-09-29T06:51:30+00:00', 'source': '..\\\\data\\\\DUK_Admission_Prospectus-2025.pdf', 'total_pages': 31, 'page': 23, 'page_label': '24', 'source_file': 'DUK_Admission_Prospectus-2025.pdf', 'file_type': 'pdf'}, page_content='Fee Structure: MBA Program \\nFirst Year Second Year \\nFirst Second Fourth \\nParticulars Semester| Semester Third Semester Semester \\nTuition fee (in Rs)| 110000 100000 100000 100000 \\nCaution deposit \\n(in Rs) 5000 \\nTOTAL (inRs) | 115000 100000 100000 100000 \\nFee Structure: PhD Programs \\n|Particulars [Tuition Fee IDUK Scholarship \\nFull-time Regular| No tuition fee” in Years 1-5. Rs 20,000/month for the 1st year. \\nPhD Rs 25,000/month for the 2nd year. \\nRs 30,000/month for the 3rd year. \\n23 | Page'),\n",
       " Document(metadata={'producer': 'iLovePDF', 'creator': 'PyPDF', 'creationdate': '', 'moddate': '2025-09-29T06:51:30+00:00', 'source': '..\\\\data\\\\DUK_Admission_Prospectus-2025.pdf', 'total_pages': 31, 'page': 24, 'page_label': '25', 'source_file': 'DUK_Admission_Prospectus-2025.pdf', 'file_type': 'pdf'}, page_content='Part-ime RegularRs. 50,000/year* \\nIPhD \\nNo scholarship \\nIndustry Regular [Rs. 50,000/year* \\nIPhD \\nNo scholarship \\ne “An admission fee of Rs 10,000/- and a refundable caution deposit of Rs 5,000/- \\nneed to be paid initially by all the selected PhD candidates to confirm their seats \\nfor the PhD program \\ne *Part-time Time and Industry regular PhD candidates will also have a special fee \\nof Rs 50,000 from year 2 onwards. \\ne DUK scholarship is only for those who are not project assistants and do not have \\nexternal fellowships such as JRF. All the students who are receiving the DUK \\nscholarship are expected to contribute to the academic activities of the University \\nfor around 10 hours every week. \\nRules for Refund of Tuition Fees: \\nIn the event of admission cancellation, the relevant UGC-issued Notifications regarding \\nAdmission Cancellation and Refund will be adhered to. \\nOriginal certificates and other documents of students who cancel their admission will be'),\n",
       " Document(metadata={'producer': 'iLovePDF', 'creator': 'PyPDF', 'creationdate': '', 'moddate': '2025-09-29T06:51:30+00:00', 'source': '..\\\\data\\\\DUK_Admission_Prospectus-2025.pdf', 'total_pages': 31, 'page': 24, 'page_label': '25', 'source_file': 'DUK_Admission_Prospectus-2025.pdf', 'file_type': 'pdf'}, page_content=\"Admission Cancellation and Refund will be adhered to. \\nOriginal certificates and other documents of students who cancel their admission will be \\npromptly returned to them, provided there are no outstanding liabilities to the University. \\nHostel and Mess Fee \\nTwin occupancy hostel facilities will be provided on campus for female students only. \\nFor students who haven't secured hostel allotment, DUK will help them find suitable \\naccommodation alternatives. \\ne Six-storey hostel \\ne 100+ rooms providing occupancy to 200+ students (currently for female students) \\n24 | Page\"),\n",
       " Document(metadata={'producer': 'iLovePDF', 'creator': 'PyPDF', 'creationdate': '', 'moddate': '2025-09-29T06:51:30+00:00', 'source': '..\\\\data\\\\DUK_Admission_Prospectus-2025.pdf', 'total_pages': 31, 'page': 25, 'page_label': '26', 'source_file': 'DUK_Admission_Prospectus-2025.pdf', 'file_type': 'pdf'}, page_content='e Double occupancy rooms \\nSafety & Security \\nFemale Warden available \\n24/7 round-the-clock male and female security available \\nFire protection system \\ne Subsystem and DG backup \\nHygiene \\ne Bathroom block on each floor \\ne Abundant water supply \\n® Sewage treatment plant \\n@ Washing machine for each floor \\n[Caution Deposit for Hostel (in Rs) 16000 \\nHostel fee per student, per semester, for double {30000 \\nfoccupancy (in Rs) \\nMess Fee |As per actuals \\nCurrently, on-campus hostel accommodation is available only for female students. \\nThe hostel fee for the first semester must be paid in advance at the time of admission, \\nwhile the hostel fee for subsequent semesters is payable at the beginning of each \\nsemester. \\nScholarships & Financial Aid \\nScholarships from Central/State Governments \\n1. Students with a domicile of Kerala from SC/ST and Other Eligible Communities \\n(OEC), OBH are eligible for scholarships under the E-Grantz scheme of Govt. \\nof Kerala. https: //egrantz.kerala.gov.in/,'),\n",
       " Document(metadata={'producer': 'iLovePDF', 'creator': 'PyPDF', 'creationdate': '', 'moddate': '2025-09-29T06:51:30+00:00', 'source': '..\\\\data\\\\DUK_Admission_Prospectus-2025.pdf', 'total_pages': 31, 'page': 25, 'page_label': '26', 'source_file': 'DUK_Admission_Prospectus-2025.pdf', 'file_type': 'pdf'}, page_content='(OEC), OBH are eligible for scholarships under the E-Grantz scheme of Govt. \\nof Kerala. https: //egrantz.kerala.gov.in/, \\n2. The scholarship offered by the Fisheries Department of Kerala for the \\nrecognized children of fishermen. http: //www.egrantzfisheries.kerala.gov.in/, \\n25| Page'),\n",
       " Document(metadata={'producer': 'iLovePDF', 'creator': 'PyPDF', 'creationdate': '', 'moddate': '2025-09-29T06:51:30+00:00', 'source': '..\\\\data\\\\DUK_Admission_Prospectus-2025.pdf', 'total_pages': 31, 'page': 26, 'page_label': '27', 'source_file': 'DUK_Admission_Prospectus-2025.pdf', 'file_type': 'pdf'}, page_content='3. AICTE fellowships for GATE-qualified students in M.Tech. CSE and M.Tech. \\nEE Programmes. \\nhttps://www.aicte-india.org/schemes/students-development-schemes/PG- \\nScholarship-Scheme/General-instruction, \\n4. Students can apply for various other scholarship schemes Central/State \\nGovernments provide. \\nhttps://scholarships.gov.in/ \\nhttp: //minoritywelfare.kerala.gov.in/ \\nhttps://www.dcescholarship.kerala.gov.in/dce/he_ma/he_maindx.php \\nhttps://dcescholarship.kerala.gov.in/hescholarship/he_ma/he_maindx.php \\nhttps://www.kswcfc.org/ \\nEarn While You Learn \\nThe scheme offers paid internships for selected students in research and development \\nprojects where the university engages with government, industry, and research \\norganizations. The number of positions is subject to the availability of funds. \\nUniversity Scholarships/internships/Stipends/Fellowships for PhD. \\nPhD Regular- Scholars are eligible for a monthly scholarship of Rs. 20,000/- for the first'),\n",
       " Document(metadata={'producer': 'iLovePDF', 'creator': 'PyPDF', 'creationdate': '', 'moddate': '2025-09-29T06:51:30+00:00', 'source': '..\\\\data\\\\DUK_Admission_Prospectus-2025.pdf', 'total_pages': 31, 'page': 26, 'page_label': '27', 'source_file': 'DUK_Admission_Prospectus-2025.pdf', 'file_type': 'pdf'}, page_content='University Scholarships/internships/Stipends/Fellowships for PhD. \\nPhD Regular- Scholars are eligible for a monthly scholarship of Rs. 20,000/- for the first \\nyear, Rs. 25,000/-per month in the second year, and Rs. 30000/- per month for 3 year. \\nFellowships from Central/State Governments for PhD Scholars \\nThe PhD Scholars with a valid Junior Research Fellowship (JRF) from recognized \\nnational or state bodies (UGC, CSIR, ICMR, DBT, DST-INSPIRE, KSCSTE etc.) are \\neligible for respective fellowships. \\nGeneral Facilities \\nUniversity Library \\nThe Knowledge Centre formerly the University Library, serves as the academic and \\nresearch nucleus of the university, providing a seamless blend of traditional and digital \\nresources. It offers a diverse collection of books, e-books, scholarly journals, conference \\n26| Page'),\n",
       " Document(metadata={'producer': 'iLovePDF', 'creator': 'PyPDF', 'creationdate': '', 'moddate': '2025-09-29T06:51:30+00:00', 'source': '..\\\\data\\\\DUK_Admission_Prospectus-2025.pdf', 'total_pages': 31, 'page': 27, 'page_label': '28', 'source_file': 'DUK_Admission_Prospectus-2025.pdf', 'file_type': 'pdf'}, page_content='proceedings, and discussion forums, ensuring comprehensive support for coursework \\nand research initiatives. \\nWith extensive digital access, the Knowledge Centre subscribes to premier databases \\nlike IEEE Xplore, Scopus, ScienceDirect, Web of Science, Springer Nature, and essential \\ntools such as Grammarly Premium, Turnitin, and Overleaf. Open-access resources like \\nDOAJ, NPTEL, and arXiv further enhance learning opportunities. Equipped with e-access \\nstations, document scanning, and printing facilities, it ensures a seamless research \\nexperience. The 24/7 operational model (excluding institutional holidays) reinforces its \\ncommitment to fostering continuous learning and academic excellence. \\nAccessibility \\ne Lift access with ramp \\ne Wheelchair accessible \\nClubs & Societies \\nNational Service Scheme \\nReading Club \\n|IEEE Students Branch \\nFilm Club \\nInnovation Club \\nHack-X Club \\nArts and Sports Club \\nSocial Engagement Centre \\nStudent Council \\nMedical Facility'),\n",
       " Document(metadata={'producer': 'iLovePDF', 'creator': 'PyPDF', 'creationdate': '', 'moddate': '2025-09-29T06:51:30+00:00', 'source': '..\\\\data\\\\DUK_Admission_Prospectus-2025.pdf', 'total_pages': 31, 'page': 27, 'page_label': '28', 'source_file': 'DUK_Admission_Prospectus-2025.pdf', 'file_type': 'pdf'}, page_content='National Service Scheme \\nReading Club \\n|IEEE Students Branch \\nFilm Club \\nInnovation Club \\nHack-X Club \\nArts and Sports Club \\nSocial Engagement Centre \\nStudent Council \\nMedical Facility \\ne Doctor available biweekly (Monday and Thursdays) \\ne Free medical check-up facility twice a week \\ne 24/7 transportation available for hospitals \\ne Medicine delivery \\nCounselling Facility \\ne Counseling services are available for students. Weekly sessions can be booked. \\ne The Student Counselor service will be available twice a week. \\nFitness \\n27 | Page'),\n",
       " Document(metadata={'producer': 'iLovePDF', 'creator': 'PyPDF', 'creationdate': '', 'moddate': '2025-09-29T06:51:30+00:00', 'source': '..\\\\data\\\\DUK_Admission_Prospectus-2025.pdf', 'total_pages': 31, 'page': 28, 'page_label': '29', 'source_file': 'DUK_Admission_Prospectus-2025.pdf', 'file_type': 'pdf'}, page_content=\"Unleash your fitness potential within our state-of-the-art hostel gym, equipped with \\nmodern exercise equipment and a motivating atmosphere, providing students with a \\nconvenient and energizing space to pursue a healthy lifestyle right at their doorstep. \\nWhether it's a quick cardio session or weight training, our hostel gym ensures fitness is \\nalways within reach. \\ne Available to staff and students \\ne Morning and evening slots \\ne Trainer available \\ne Separate sessions for men and women \\nYoga & Sports \\nDedicated Yoga Practice Area: Recognizing the rising popularity of yoga and its \\nnumerous benefits, DUK offers guided yoga sessions. \\nAnnual Sports Meet: This exciting event allows students to showcase their athletic talents, \\ncompete in various disciplines, and cheer on their fellow classmates. \\nTable Tennis Arena: This indoor facility allows students to hone their table tennis skills, \\nengage in friendly matches, or enjoy a fun and challenging game during breaks. \\nCareer Services\"),\n",
       " Document(metadata={'producer': 'iLovePDF', 'creator': 'PyPDF', 'creationdate': '', 'moddate': '2025-09-29T06:51:30+00:00', 'source': '..\\\\data\\\\DUK_Admission_Prospectus-2025.pdf', 'total_pages': 31, 'page': 28, 'page_label': '29', 'source_file': 'DUK_Admission_Prospectus-2025.pdf', 'file_type': 'pdf'}, page_content=\"Table Tennis Arena: This indoor facility allows students to hone their table tennis skills, \\nengage in friendly matches, or enjoy a fun and challenging game during breaks. \\nCareer Services \\nDigital University Kerala (DUK) prides itself on a robust placement program, which \\nattracts leading companies to its campus annually. With strong industry connections, the \\nuniversity ensures all interested students can participate in internships and placement \\nactivities. Many internships are the gateway to full-time employment, with companies \\noften recruiting top-performing interns. \\nDUK'’s well-established Training and Placement Cell, led by a dedicated Placement Chair \\nand Placement Officer, is pivotal in facilitating these opportunities. It collaborates with \\ncorporate organizations to secure internships and job placements for students, ensuring \\nsmooth transitions from academic to professional life. In addition, the Training and\"),\n",
       " Document(metadata={'producer': 'iLovePDF', 'creator': 'PyPDF', 'creationdate': '', 'moddate': '2025-09-29T06:51:30+00:00', 'source': '..\\\\data\\\\DUK_Admission_Prospectus-2025.pdf', 'total_pages': 31, 'page': 28, 'page_label': '29', 'source_file': 'DUK_Admission_Prospectus-2025.pdf', 'file_type': 'pdf'}, page_content='corporate organizations to secure internships and job placements for students, ensuring \\nsmooth transitions from academic to professional life. In addition, the Training and \\nPlacement Cell organizes seminars and workshops to equip students with the skills and \\nknowledge needed to excel in their careers, helping them become successful and \\nindustry-ready professionals. \\n28 | Page'),\n",
       " Document(metadata={'producer': 'iLovePDF', 'creator': 'PyPDF', 'creationdate': '', 'moddate': '2025-09-29T06:51:30+00:00', 'source': '..\\\\data\\\\DUK_Admission_Prospectus-2025.pdf', 'total_pages': 31, 'page': 29, 'page_label': '30', 'source_file': 'DUK_Admission_Prospectus-2025.pdf', 'file_type': 'pdf'}, page_content=\"How to reach DUK? \\nDigital University Kerala, Technocity Campus, \\nMangalapuram, Thonnakkal PO, Thiruvananthapuram, \\nKerala — 695317, +91-471-2788000 \\nacademicoffice@duk.ac.in \\nGoogle Map Link: https: /lg.page/KUDSIT?share \\nThe Kerala University of Digital Sciences, Innovation and Technology (DUK) boasts \\nexcellent connectivity, making it easily accessible from various locations. Here's a \\nbreakdown of your travel options: \\nBy Air: \\nTrivandrum International Airport: This convenient airport lies just 18 kilometers from \\nDUK's campus, with a travel time of approximately 30 minutes by car. \\nBy Rail: \\nThiruvananthapuram Central Railway Station (TVC): Situated 22 kilometers south of the \\ncampus. The adjoining KSRTC Bus Station provides frequent city buses towards Attingal \\nand Kollam. These buses reach the Technocity bus stop near the CRPF camp \\n(Pallipuram) within 40 minutes, placing you within a walkable distance from DUK. Taxis \\nare also readily available from the railway station.\"),\n",
       " Document(metadata={'producer': 'iLovePDF', 'creator': 'PyPDF', 'creationdate': '', 'moddate': '2025-09-29T06:51:30+00:00', 'source': '..\\\\data\\\\DUK_Admission_Prospectus-2025.pdf', 'total_pages': 31, 'page': 29, 'page_label': '30', 'source_file': 'DUK_Admission_Prospectus-2025.pdf', 'file_type': 'pdf'}, page_content='(Pallipuram) within 40 minutes, placing you within a walkable distance from DUK. Taxis \\nare also readily available from the railway station. \\nKochuveli Railway Station (KCVL) is 15 kilometers south of the campus. Auto rickshaws \\nare conveniently available for onward travel to DUK. \\nKazhakuttam Railway Station (KZK): KZK is just 8 kilometers away; be aware that not all \\ntrains stop here. Auto rickshaws can transport you to the university from this station. \\nBy Road: \\nNational Highway 66: Many long-distance KSRTC and interstate buses traveling on this \\nhighway towards Thiruvananthapuram halt at the CRPF Camp Pallipuram. This stop is \\napproximately 750 meters from the DUK campus. \\nCity Buses: If utilizing city buses, disembark at the Technopark Phase IV stop, within \\nwalking distance of the university. \\n29 | Page'),\n",
       " Document(metadata={'producer': 'iLovePDF', 'creator': 'PyPDF', 'creationdate': '', 'moddate': '2025-09-29T06:51:30+00:00', 'source': '..\\\\data\\\\DUK_Admission_Prospectus-2025.pdf', 'total_pages': 31, 'page': 30, 'page_label': '31', 'source_file': 'DUK_Admission_Prospectus-2025.pdf', 'file_type': 'pdf'}, page_content='Contact information \\nWebsite: www.duk.ac.in \\nGeneral Queries Related to PG Admission- admission-pg@duk.ac.in \\nGeneral Queries related to Ph.D. Admission- admission-phd@duk.ac.in \\nContact No. 04712788000, 04712788019, 8078193800 \\nSchool/Program Specific Queries \\nSchool of Computer Science & Engineering (SOoCSE)- admission-socse@duk.ac.in \\nSchool of Digital Humanities and Liberal Arts (SoDiHLA)- admission-sodihla@duk.ac.in \\nSchool of Digital Sciences (SoDS)- admission-sods@duk.ac.in \\nSchool of Electronic Systems and Automation (SOESA) -admission-soesa@duk.ac.in \\nSchool of Informatics (Sol)- admission-soi@duk.ac.in \\n30| Page'),\n",
       " Document(metadata={'producer': 'Microsoft® Word 2019', 'creator': 'Microsoft® Word 2019', 'creationdate': '2024-04-15T16:59:36+05:30', 'author': 'iiitmk', 'moddate': '2024-04-15T16:59:36+05:30', 'source': '..\\\\data\\\\PG_Regulatuions rev-2023 .pdf', 'total_pages': 18, 'page': 0, 'page_label': '1', 'source_file': 'PG_Regulatuions rev-2023 .pdf', 'file_type': 'pdf'}, page_content='Post Graduate Program regulations \\nMain changes \\n \\nThe revisions of the regulations on Post Graduate Program include the following: \\n \\n1. The definition of credit is calculated based on the classroom or contact hours. 1 credit in a \\ncourse is defined as 15 hour of interaction between student and instructor OR it is considered \\nequivalent to 30 hours of classroom or laboratory or field activity.  \\n2. The credit distribution is redefined as: \\n \\nProgram courses  \\n(30 credits) \\n \\nUniversity courses \\n(20 credits) \\nFinal year \\nProjects \\nAdditional credits beyond \\nmandatory course work and \\nproject \\nProgram \\nCore \\n(Mandatory\\n) \\nProgram \\nelectives \\n(Mandator\\ny) \\nUniversi\\nty Core \\n(Mandat\\nory) \\nOpen \\nelectives \\n(Mandator\\ny) \\nCapstone \\nProject/ \\nThesis \\n(Mandator\\ny) \\nActivity \\ncredits \\n(Mandator\\ny) \\nActivity \\ncredits \\n(Optiona\\nl) \\nAddition\\nal \\ncourses \\n(Optiona\\nl) \\n15 credits 15 credits 5 credits 15 credits 15 credits 5 credits 5 credits 5 credits'),\n",
       " Document(metadata={'producer': 'Microsoft® Word 2019', 'creator': 'Microsoft® Word 2019', 'creationdate': '2024-04-15T16:59:36+05:30', 'author': 'iiitmk', 'moddate': '2024-04-15T16:59:36+05:30', 'source': '..\\\\data\\\\PG_Regulatuions rev-2023 .pdf', 'total_pages': 18, 'page': 0, 'page_label': '1', 'source_file': 'PG_Regulatuions rev-2023 .pdf', 'file_type': 'pdf'}, page_content='y) \\nActivity \\ncredits \\n(Mandator\\ny) \\nActivity \\ncredits \\n(Optiona\\nl) \\nAddition\\nal \\ncourses \\n(Optiona\\nl) \\n15 credits 15 credits 5 credits 15 credits 15 credits 5 credits 5 credits 5 credits \\n \\n3. Minimum of 65 credits for total courses and 5 credits for activities are included. Maximum a \\nprogram allows students to take 80 credits to be included in the program. \\n4. Open electives are now mandatory to be allowed in every program to promote cross \\ndisciplinary choices. Programs are allowed to have MAJOR and/or MINOR specializations.  \\n5. Group projects and internships are encouraged in the new program structure \\n6. Credits are awarded for various activities beyond classroom which may span publications, \\ncompetitions, etc \\n7. The zero year which was earlier allowed in the program is continued and includes options for \\ntaking a year out for building startups. \\n8. The relative marking is uniformly adopted as the common form of assessment irrespective of'),\n",
       " Document(metadata={'producer': 'Microsoft® Word 2019', 'creator': 'Microsoft® Word 2019', 'creationdate': '2024-04-15T16:59:36+05:30', 'author': 'iiitmk', 'moddate': '2024-04-15T16:59:36+05:30', 'source': '..\\\\data\\\\PG_Regulatuions rev-2023 .pdf', 'total_pages': 18, 'page': 0, 'page_label': '1', 'source_file': 'PG_Regulatuions rev-2023 .pdf', 'file_type': 'pdf'}, page_content='taking a year out for building startups. \\n8. The relative marking is uniformly adopted as the common form of assessment irrespective of \\nthe level of the course or type of program. \\n9. The current structure also allows for dual specialization and also allows to include minor or \\nmajor specialization. At least 30 credits are required for a major specialization (equivalent to \\n10 three credit  courses  or equiv alent) and 9 credits for minor specialization (equivalent to \\nthree 3 credit courses or equivalent). The specialization credits consist of projects, core or \\nelective courses, activities etc. \\n10. For a 100% lab based course, the exams can be conducted in a varie ty of means including \\nviva, and/or written exams with at least two examiners approved by the school exam board \\nwith an intimation of the examiner list to the COE.'),\n",
       " Document(metadata={'producer': 'Microsoft® Word 2019', 'creator': 'Microsoft® Word 2019', 'creationdate': '2024-04-15T16:59:36+05:30', 'author': 'iiitmk', 'moddate': '2024-04-15T16:59:36+05:30', 'source': '..\\\\data\\\\PG_Regulatuions rev-2023 .pdf', 'total_pages': 18, 'page': 1, 'page_label': '2', 'source_file': 'PG_Regulatuions rev-2023 .pdf', 'file_type': 'pdf'}, page_content='REGULATIONS \\n \\nFor the Post Graduate Programs of Teaching Schools of the University \\n \\n1. SHORT TITLE AND COMMENCEMENT \\n \\n1.1. These regulations shall be called “Kerala University of Digital Sciences, Innovation and \\nTechnology Post Graduate Regulations,2023 (KUDSIT-PG Regulations). \\n1.2. These regulations shall come into force from the Academic year 2023-2024 onwards. \\n \\n2. SCOPE \\n \\n2.1. The regulations provided herein shall apply to all regular Post Graduate programmes \\nexcept professional courses conducted by the Teaching Schools of the University w.e.f.  \\nthe academic Year 2023-2024. \\n \\n3. DEFINITIONS \\n \\n3.1 Course – is a subject that the student study as part of a degree program. The course is \\nnormally offered in a semester and can include lectures, tutorials, laboratories, seminars, \\nproject & viva voce etc. \\n3.2 Credit – is a measure of the weekly unit of work assigned  for that course in a semester .'),\n",
       " Document(metadata={'producer': 'Microsoft® Word 2019', 'creator': 'Microsoft® Word 2019', 'creationdate': '2024-04-15T16:59:36+05:30', 'author': 'iiitmk', 'moddate': '2024-04-15T16:59:36+05:30', 'source': '..\\\\data\\\\PG_Regulatuions rev-2023 .pdf', 'total_pages': 18, 'page': 1, 'page_label': '2', 'source_file': 'PG_Regulatuions rev-2023 .pdf', 'file_type': 'pdf'}, page_content='project & viva voce etc. \\n3.2 Credit – is a measure of the weekly unit of work assigned  for that course in a semester . \\nOne credit is defined as 1 hr contact (lectures/tutorials) per week, or 2 hrs of student \\nworkload (labs, projects, homework) per week. As there will be 15 teaching weeks in a \\nsemester, 1 credit is equated to 15 hours of con tact classes per semester, or 30 hours of \\nstudent workload per semester. \\n3.3 Credit Point – is the value obtained by multiplying the grade point by the credit of the \\ncourse. \\n3.4 Cumulative Credit Point Average  – is the value obtained by dividing the sum of credit \\npoints of all the courses taken by the students for the entire program by the total no of \\ncredits. It shall be rounded off to two decimal point. \\n3.5 DUAT – is the Digital University Admission Test conducted by the University and its \\nSchools for the selection of candidates for a programme'),\n",
       " Document(metadata={'producer': 'Microsoft® Word 2019', 'creator': 'Microsoft® Word 2019', 'creationdate': '2024-04-15T16:59:36+05:30', 'author': 'iiitmk', 'moddate': '2024-04-15T16:59:36+05:30', 'source': '..\\\\data\\\\PG_Regulatuions rev-2023 .pdf', 'total_pages': 18, 'page': 1, 'page_label': '2', 'source_file': 'PG_Regulatuions rev-2023 .pdf', 'file_type': 'pdf'}, page_content=\"3.5 DUAT – is the Digital University Admission Test conducted by the University and its \\nSchools for the selection of candidates for a programme \\n3.6 Letter Grade – is a letter symbol that indicates the broad level of performance of a student \\nfor a course. \\n3.7 Plagiarism is the deliberate attempt to deceive the reader, which is evidenced through the \\ncases of (1) Submitting someone's work as their own, (2) Taking passages from their own \\nprevious work without adding citations (self-plagiarism), (3) Re-writing someone's work \\nwithout properly citing sources, (4) Using quotations but not citing the source, (5) \\nInterweaving various sou rces together in the work without citing, (6) Citing some, but \\nnot all, passages that should be cited (7) Melding together cited and uncited sections of \\nthe piece, (8) Providing proper citations, but failing to change the structure and wording \\nof the borrowed ideas enough (close paraphrasing), (9) Inaccurately citing a source, (10)\"),\n",
       " Document(metadata={'producer': 'Microsoft® Word 2019', 'creator': 'Microsoft® Word 2019', 'creationdate': '2024-04-15T16:59:36+05:30', 'author': 'iiitmk', 'moddate': '2024-04-15T16:59:36+05:30', 'source': '..\\\\data\\\\PG_Regulatuions rev-2023 .pdf', 'total_pages': 18, 'page': 1, 'page_label': '2', 'source_file': 'PG_Regulatuions rev-2023 .pdf', 'file_type': 'pdf'}, page_content=\"the piece, (8) Providing proper citations, but failing to change the structure and wording \\nof the borrowed ideas enough (close paraphrasing), (9) Inaccurately citing a source, (10) \\nRelying too heavily on other people's work, failing to bring original thought into the text. \\n3.8 Program – means the entire course of study and examination.\"),\n",
       " Document(metadata={'producer': 'Microsoft® Word 2019', 'creator': 'Microsoft® Word 2019', 'creationdate': '2024-04-15T16:59:36+05:30', 'author': 'iiitmk', 'moddate': '2024-04-15T16:59:36+05:30', 'source': '..\\\\data\\\\PG_Regulatuions rev-2023 .pdf', 'total_pages': 18, 'page': 2, 'page_label': '3', 'source_file': 'PG_Regulatuions rev-2023 .pdf', 'file_type': 'pdf'}, page_content='3.9 Semester – is defined as 15-18 weeks of academic work. \\n3.10 Seminar – means a lecture given by the student on a selected topic and is expected to \\ntrain the student in self-study, editing, document writing, presentation etc. \\n3.11 University - means the Kerala University of Digital Sciences, Innovation and \\nTechnology. \\n3.12 The words and expressions used and not defined in the regulations but defined in the \\nUniversity Act and Statutes  shall have the meaning assigned to them in the Act and \\nStatutes. \\n \\n4. ACADEMIC COMMITTEE \\n \\n4.1. There shall be an Academic Committee constituted by the Vice -Chancellor to monitor \\nand coordinate the working of the programmes \\n4.2. The committee shall consist of \\n(i) The Dean (Academic). \\n(ii) The Chairperson of the School concerned \\n(iii) The Controller of Examinations \\n(iv) One professor of the School concerned \\n4.3. The term of the Academic Committee shall be two years \\n4.4. The Academic Committee shall meet twice in a semester'),\n",
       " Document(metadata={'producer': 'Microsoft® Word 2019', 'creator': 'Microsoft® Word 2019', 'creationdate': '2024-04-15T16:59:36+05:30', 'author': 'iiitmk', 'moddate': '2024-04-15T16:59:36+05:30', 'source': '..\\\\data\\\\PG_Regulatuions rev-2023 .pdf', 'total_pages': 18, 'page': 2, 'page_label': '3', 'source_file': 'PG_Regulatuions rev-2023 .pdf', 'file_type': 'pdf'}, page_content='(iv) One professor of the School concerned \\n4.3. The term of the Academic Committee shall be two years \\n4.4. The Academic Committee shall meet twice in a semester \\n4.5. The committee shall manage all the activities starting from the Admission of a student to \\nthe issue of the final score sheet at end of the course. \\n \\n5. BOARD OF STUDIES \\n \\n5.1 There shall be an BOARD OF STUDIES constituted by the School Board to monitor and  \\ncoordinate the working of the programmes \\n5.2 The committee shall consist of \\n(i) The Dean (Academic) \\n(ii) The Chairperson of the School concerned \\n(iii) At least 5 external members with no more than 10 external members. External \\nmember means those who work outside the school, and can be a person from other \\nuniversity or industry. Wh ere possible, it is encouraged to have a diversified group of \\nmembers from different industries and universities from within and arround the world. \\n(iv) All faculty of the School concerned'),\n",
       " Document(metadata={'producer': 'Microsoft® Word 2019', 'creator': 'Microsoft® Word 2019', 'creationdate': '2024-04-15T16:59:36+05:30', 'author': 'iiitmk', 'moddate': '2024-04-15T16:59:36+05:30', 'source': '..\\\\data\\\\PG_Regulatuions rev-2023 .pdf', 'total_pages': 18, 'page': 2, 'page_label': '3', 'source_file': 'PG_Regulatuions rev-2023 .pdf', 'file_type': 'pdf'}, page_content='members from different industries and universities from within and arround the world. \\n(iv) All faculty of the School concerned \\n \\n5.3 The committee shall be chaired by a professor of the school or a senior person  \\nfrom academia or industry in the area relevant to the school. \\n5.4 The school chair shall act as the convenor for the committee. \\n5.5 The Dean academic shall act as the chair in case no suitable subject specific chair is  \\navailable in the school.  \\n5.6 All recommendations and decisions of the BoS will be submitted to the Dean Academic for  \\nthe relevant approvals and submission to the Academic Council.'),\n",
       " Document(metadata={'producer': 'Microsoft® Word 2019', 'creator': 'Microsoft® Word 2019', 'creationdate': '2024-04-15T16:59:36+05:30', 'author': 'iiitmk', 'moddate': '2024-04-15T16:59:36+05:30', 'source': '..\\\\data\\\\PG_Regulatuions rev-2023 .pdf', 'total_pages': 18, 'page': 3, 'page_label': '4', 'source_file': 'PG_Regulatuions rev-2023 .pdf', 'file_type': 'pdf'}, page_content='6. ADMISSION AND ELIGIBILITY \\n \\n6.1. The eligibility criteria for admission to a course of study shall be announced by the \\nUniversity from time to time \\n6.2. Programmes and eligibility criteria are detailed below. \\n \\nSl No Program Eligibility \\n1 Masters (MSc, MS, M.Tech, MA, \\nMBA) \\n3-year/4-year Graduation in the relevant \\nstream(s) fixed by the School  \\n \\n6.3.  The individual schools shall prescribe the minimum cut-off marks for admissions on an  \\nyearly basis for each of its PG programs subject to meeting the minimum requirement \\nspecified in the UGC regulations and as adopted by the university from time to time.  \\n \\n7. SELECTION PROCESS \\n \\n7.1. The selection to all Masters programmes irrespective of the mode of study will be through \\na common admission process. Admission to a program can be offered twice a year, which \\nwill be up to the individual School to decide  \\n7.2. The students will have an option to clear the Digital University Aptitude Test (DUAT)'),\n",
       " Document(metadata={'producer': 'Microsoft® Word 2019', 'creator': 'Microsoft® Word 2019', 'creationdate': '2024-04-15T16:59:36+05:30', 'author': 'iiitmk', 'moddate': '2024-04-15T16:59:36+05:30', 'source': '..\\\\data\\\\PG_Regulatuions rev-2023 .pdf', 'total_pages': 18, 'page': 3, 'page_label': '4', 'source_file': 'PG_Regulatuions rev-2023 .pdf', 'file_type': 'pdf'}, page_content='will be up to the individual School to decide  \\n7.2. The students will have an option to clear the Digital University Aptitude Test (DUAT) \\nwhich will be offered twice a year.  The cut off for the DUAT score for shortlisting is \\ndecided by the individual School on yearly basis and can vary from one school to another. \\n7.3. The student with a qualified and approved national exam score by the school will be \\neligible to seek admission under that category and are exempted from taking DUAT. Their \\ncut off for the approved national exam for shortlisting is decided by the individual Schools \\non yearly basis and can vary from one year to another  \\n7.4. The short -listed students may be interviewed by the school admission committee and \\nselected based on their cumulative performance in the interview and the qualifying te st \\nscores. The weightage for  the qualification score and interview shall be defined by the \\nindividual Schools based on the needs of the programme.'),\n",
       " Document(metadata={'producer': 'Microsoft® Word 2019', 'creator': 'Microsoft® Word 2019', 'creationdate': '2024-04-15T16:59:36+05:30', 'author': 'iiitmk', 'moddate': '2024-04-15T16:59:36+05:30', 'source': '..\\\\data\\\\PG_Regulatuions rev-2023 .pdf', 'total_pages': 18, 'page': 3, 'page_label': '4', 'source_file': 'PG_Regulatuions rev-2023 .pdf', 'file_type': 'pdf'}, page_content='scores. The weightage for  the qualification score and interview shall be defined by the \\nindividual Schools based on the needs of the programme. \\n7.5. Separate rank lists shall be drawn up for reserved seats. \\n7.6. A school level admission committee shall be responsible for the admissions to  Master \\nPrograms following the university regulations as amended from time to time.  \\n \\n \\n8. REGISTRATION \\n \\n8.1. A student shall be permitted to register for the programme after the admission process is \\ncompleted. The students who are provisionally admitted are also eligible to register in \\nthe course. Where the provisional admission stand cancelled they are automatically \\nwithdrawn from the enrolled courses.'),\n",
       " Document(metadata={'producer': 'Microsoft® Word 2019', 'creator': 'Microsoft® Word 2019', 'creationdate': '2024-04-15T16:59:36+05:30', 'author': 'iiitmk', 'moddate': '2024-04-15T16:59:36+05:30', 'source': '..\\\\data\\\\PG_Regulatuions rev-2023 .pdf', 'total_pages': 18, 'page': 4, 'page_label': '5', 'source_file': 'PG_Regulatuions rev-2023 .pdf', 'file_type': 'pdf'}, page_content='8.2. A student registered for the programme shall complete the programme within 4 years \\nfrom the date of commencement of the programme. This can include a zero year approved \\nby the dean academic, for the students under special circumstances such as \\nhospitalization, or study abroad programs, engaging in start -up etc. The zero year shall \\nnot count towards the total duration of study. \\n8.3. No student shall be allowed to formally take up full-time internships in the middle of the \\nsemester while violating the attendance requirements and in such event the registration \\nwill stand cancelled. \\n8.4. On admission /registration, a student shall  be assigned an admission number/register \\nnumber  which consists of three components. School offering the Degree, year of \\nadmission and serial no of the student in the Admission Register of the year.  \\n8.5. The student shall register to the electives in a semest er at least one week before the'),\n",
       " Document(metadata={'producer': 'Microsoft® Word 2019', 'creator': 'Microsoft® Word 2019', 'creationdate': '2024-04-15T16:59:36+05:30', 'author': 'iiitmk', 'moddate': '2024-04-15T16:59:36+05:30', 'source': '..\\\\data\\\\PG_Regulatuions rev-2023 .pdf', 'total_pages': 18, 'page': 4, 'page_label': '5', 'source_file': 'PG_Regulatuions rev-2023 .pdf', 'file_type': 'pdf'}, page_content='admission and serial no of the student in the Admission Register of the year.  \\n8.5. The student shall register to the electives in a semest er at least one week before the \\ncommencement of the classes or as specified in the academic calendar.  \\n \\n \\n9. PROGRAMME STRUCTURE \\n \\n• MSc or MS - A postgraduate degree program with a minimum 70 credits that can be \\ncompleted in a minimum period of 24 months and a maximum period of 48 months. \\n• M.Tech - A postgraduate degree program with a minimum 70 credits that can be \\ncompleted in a minimum period of 24 months and a maximum period of 48 months. \\n• M.A - A postgraduate degree program with a minimum 70 credits that can b e \\ncompleted in a minimum period of 24 months and a maximum period of 48 months. \\n• MBA - A postgraduate degree program with a minimum 70 credits that can be \\ncompleted in a minimum period of 24 months and a maximum period of 48 months.'),\n",
       " Document(metadata={'producer': 'Microsoft® Word 2019', 'creator': 'Microsoft® Word 2019', 'creationdate': '2024-04-15T16:59:36+05:30', 'author': 'iiitmk', 'moddate': '2024-04-15T16:59:36+05:30', 'source': '..\\\\data\\\\PG_Regulatuions rev-2023 .pdf', 'total_pages': 18, 'page': 4, 'page_label': '5', 'source_file': 'PG_Regulatuions rev-2023 .pdf', 'file_type': 'pdf'}, page_content=\"• MBA - A postgraduate degree program with a minimum 70 credits that can be \\ncompleted in a minimum period of 24 months and a maximum period of 48 months. \\n \\n9.1 On average, each master 's program is expected to have a maximum of 80 credits and a \\nminimum of 65 credits for total courses and 5 credits for activities. \\n9.2 One credit is equated to 1 hour of contact classes (lectures or tutorial) per week or 2 hours \\nof student workload (project or  labs or self -study) per week. Given there will be 15 \\nteaching weeks, 1 hour of contact hour per week counting for 15 hours in semester or on \\naverage 2 hour of self -learning hours or coursework activities counting for 30 hours \\nactivities in a semester.  \\n9.3 The normal duration to complete the master program shall be 24 months, which is divided \\ninto 4 semesters. However, the student may be allowed to complete the program in 48 \\nmonths. Zero year is allowed for medical reasons or for engaging in startups. For availing\"),\n",
       " Document(metadata={'producer': 'Microsoft® Word 2019', 'creator': 'Microsoft® Word 2019', 'creationdate': '2024-04-15T16:59:36+05:30', 'author': 'iiitmk', 'moddate': '2024-04-15T16:59:36+05:30', 'source': '..\\\\data\\\\PG_Regulatuions rev-2023 .pdf', 'total_pages': 18, 'page': 4, 'page_label': '5', 'source_file': 'PG_Regulatuions rev-2023 .pdf', 'file_type': 'pdf'}, page_content='into 4 semesters. However, the student may be allowed to complete the program in 48 \\nmonths. Zero year is allowed for medical reasons or for engaging in startups. For availing \\nzero year as part of the  startups, the student must be a founder in the director board in a \\ncompany registered as a startup.    Any other reasons given for availing a zero year will \\nbe accessed on a case to case basis by the school committee for consideration of approval \\nby dean academic. The zero year does not count towards the total duration of the program. \\n \\n9.4 The master programs of the university will have the following credit distribution:'),\n",
       " Document(metadata={'producer': 'Microsoft® Word 2019', 'creator': 'Microsoft® Word 2019', 'creationdate': '2024-04-15T16:59:36+05:30', 'author': 'iiitmk', 'moddate': '2024-04-15T16:59:36+05:30', 'source': '..\\\\data\\\\PG_Regulatuions rev-2023 .pdf', 'total_pages': 18, 'page': 5, 'page_label': '6', 'source_file': 'PG_Regulatuions rev-2023 .pdf', 'file_type': 'pdf'}, page_content='Program courses  \\n(30 credits) \\n \\nUniversity courses \\n(20 credits) \\nFinal year \\nProjects \\nAdditional credits beyond \\nmandatory course work and \\nproject \\nProgram \\nCore \\n(Mandato\\nry) \\nProgram \\nelectives \\n(Mandator\\ny) \\nUniversit\\ny Core \\n(Mandato\\nry) \\nOpen \\nelective\\ns \\n(Manda\\ntory) \\nCapstone \\nProject/ \\nThesis \\n(Mandator\\ny) \\nActivity \\ncredits \\n(Mandato\\nry) \\nActivit\\ny \\ncredits \\n(Optio\\nnal) \\nAdditio\\nnal \\ncourses \\n(Option\\nal) \\n15 credits 15 credits 5 credits 15 \\ncredits \\n15 credits 5 credits 5 \\ncredits \\n5 \\ncredits \\n \\n \\n● Upto 15 credits can be through online/swayam  \\n● Group Projects have to be incorporated within the allowed program elective/open \\nprogram electives  \\n● Activity credits include a wide range of activities approved by the school. The list of \\nactivities and certifications that qualify for credits are subjective to the specific school. \\n \\n9.5 Every master program will have a university core that will have a single course called -'),\n",
       " Document(metadata={'producer': 'Microsoft® Word 2019', 'creator': 'Microsoft® Word 2019', 'creationdate': '2024-04-15T16:59:36+05:30', 'author': 'iiitmk', 'moddate': '2024-04-15T16:59:36+05:30', 'source': '..\\\\data\\\\PG_Regulatuions rev-2023 .pdf', 'total_pages': 18, 'page': 5, 'page_label': '6', 'source_file': 'PG_Regulatuions rev-2023 .pdf', 'file_type': 'pdf'}, page_content='activities and certifications that qualify for credits are subjective to the specific school. \\n \\n9.5 Every master program will have a university core that will have a single course called - \\nDigital Access for Community Empowerment - DACE (Level 300) that covers 4 \\ncomponents: \\na. 2  credit module called Community Empowerment (DE). This is a 5 days outbound \\nprogram where students get exposed to problems facing society and explore ways to \\nuse digital technologies to find solutions.  At the end of the program, the students are \\nexpected to work and report their finding through a  short dissertation. \\n \\nb. 1 credit module called Digital Experience Laboratory  (DEL), where they get \\nexposed to various digital technologies through a set of hands -on lab projects.  Each \\nschool may have their curriculum for this course. \\n \\nc. 1 credit module called Design Thinking and Innovation (DTI), where students will \\nbe exposed to the idea of applying innovative thinking in digital sciences.'),\n",
       " Document(metadata={'producer': 'Microsoft® Word 2019', 'creator': 'Microsoft® Word 2019', 'creationdate': '2024-04-15T16:59:36+05:30', 'author': 'iiitmk', 'moddate': '2024-04-15T16:59:36+05:30', 'source': '..\\\\data\\\\PG_Regulatuions rev-2023 .pdf', 'total_pages': 18, 'page': 5, 'page_label': '6', 'source_file': 'PG_Regulatuions rev-2023 .pdf', 'file_type': 'pdf'}, page_content='c. 1 credit module called Design Thinking and Innovation (DTI), where students will \\nbe exposed to the idea of applying innovative thinking in digital sciences.  \\n \\nd. 1 credit module on Personal Development and Scientific Communication (PDSC).  \\n \\ne. The students will complete this course through an interdisciplinary group project that \\ncovers all four modules. Each project group will have faculty mentors who will guide \\nthe students. The mentors will be allocated by the academic office. Every faculty will \\nbe responsible for at most 10 students every ye ar for mentorship. Each faculty will \\nalso have a teaching assistant, who could be selected by the faculty for the day to day \\nadministration of the mentoring program.'),\n",
       " Document(metadata={'producer': 'Microsoft® Word 2019', 'creator': 'Microsoft® Word 2019', 'creationdate': '2024-04-15T16:59:36+05:30', 'author': 'iiitmk', 'moddate': '2024-04-15T16:59:36+05:30', 'source': '..\\\\data\\\\PG_Regulatuions rev-2023 .pdf', 'total_pages': 18, 'page': 6, 'page_label': '7', 'source_file': 'PG_Regulatuions rev-2023 .pdf', 'file_type': 'pdf'}, page_content='f. DACE will be run across two semesters - 3 credits in semester 1 and 2 credits in \\nsemester 2. \\n \\n9.6 Every course needs to have a detailed course outline addressing the following \\ncomponents: (1) Objectives and expectations from the course, (2) Why is this course \\nimportant and relevance to industry/research, (3) learning outcomes and mapping with \\nprogram outcomes, assessments and teaching methods, and (4) a detailed  teaching and \\nlearning plan.  \\n \\n9.7 The courses within the master program can be classified into the following categories: \\n \\na. 100  Level courses that are intended to fill gaps in Undergraduate level studies.  This \\nlevel of course is expected to cover, remember and understand levels in Bloom’s \\ntaxonomy. \\nb. 200 Level courses that are intended to fill gaps in Undergraduate level studies.  They \\nusually are equivalent to advanced level courses in undergraduate programs.  This \\nlevel of course is expected to cover, understand and apply levels in Bloom’s taxonomy.'),\n",
       " Document(metadata={'producer': 'Microsoft® Word 2019', 'creator': 'Microsoft® Word 2019', 'creationdate': '2024-04-15T16:59:36+05:30', 'author': 'iiitmk', 'moddate': '2024-04-15T16:59:36+05:30', 'source': '..\\\\data\\\\PG_Regulatuions rev-2023 .pdf', 'total_pages': 18, 'page': 6, 'page_label': '7', 'source_file': 'PG_Regulatuions rev-2023 .pdf', 'file_type': 'pdf'}, page_content='usually are equivalent to advanced level courses in undergraduate programs.  This \\nlevel of course is expected to cover, understand and apply levels in Bloom’s taxonomy.  \\nc. 300 Level courses that are intended to be Postgraduate level instruction based courses.   \\nThis  level  of course is expected to cover apply and analyze levels in Bloom’s \\ntaxonomy \\nd. 400 Level courses that are intended to be Postgraduate level seminars or research -\\nbased courses.  This level of course is expected to cover, analyze and evaluate levels \\nin Bloom’s taxonomy. \\ne. 500 Level courses that are intended to be research -based.   This level of course is \\nexpected to cover, evaluate and create levels in Bloom’s taxonomy. \\n \\n9.8 It is expected that  Masters programs with 3 year undergraduate degree as th e minimum \\nadmission requirement will have the following limits on credits  and  distribution  of  \\ncourses within the program. \\n \\n \\nCourse level Credits \\n100 Level course 2-6 Credits'),\n",
       " Document(metadata={'producer': 'Microsoft® Word 2019', 'creator': 'Microsoft® Word 2019', 'creationdate': '2024-04-15T16:59:36+05:30', 'author': 'iiitmk', 'moddate': '2024-04-15T16:59:36+05:30', 'source': '..\\\\data\\\\PG_Regulatuions rev-2023 .pdf', 'total_pages': 18, 'page': 6, 'page_label': '7', 'source_file': 'PG_Regulatuions rev-2023 .pdf', 'file_type': 'pdf'}, page_content='admission requirement will have the following limits on credits  and  distribution  of  \\ncourses within the program. \\n \\n \\nCourse level Credits \\n100 Level course 2-6 Credits \\n200 Level course 3-15 credits \\n300 Level courses 15-45 Credits \\n400 Level courses 6-20 Credits \\n500 Level courses 0-3 Credits'),\n",
       " Document(metadata={'producer': 'Microsoft® Word 2019', 'creator': 'Microsoft® Word 2019', 'creationdate': '2024-04-15T16:59:36+05:30', 'author': 'iiitmk', 'moddate': '2024-04-15T16:59:36+05:30', 'source': '..\\\\data\\\\PG_Regulatuions rev-2023 .pdf', 'total_pages': 18, 'page': 7, 'page_label': '8', 'source_file': 'PG_Regulatuions rev-2023 .pdf', 'file_type': 'pdf'}, page_content='9.9   It is expected that Masters programs with 4 year undergraduate degree as the minimum \\nadmission requirement  will  have the following limits on credits and distribution of \\ncourses within the program. \\n \\nCourse level Credits \\n100 Level course 0-3 Credits \\n200 Level course 0-9 credits \\n300 Level courses 15-45 Credits \\n400 Level courses 15-30 Credits \\n500 Level courses 0-6 Credits \\n \\n \\n9.10 The common courses will be limited within the following levels: \\n \\n \\nCourse type Course level \\nUniversity Core/Open Electives 100/200/ 300/400 Level \\nMini-Project 300/400/500 Level \\nFinal Project 400/500 Level \\n \\n9.11 The minimum semester-wise distribution of credits expected in the masters program are: \\n \\nMinimum 70 credits Maximum 80 credits \\nSemester 1 \\n• 3 credits for university core \\n• 15 credits for program core/program electives \\n• Optional: 3 credits for projects/internship/inter-departmental courses/approved online \\ncourses/extra curricular credits/bridge courses \\nSemester 2'),\n",
       " Document(metadata={'producer': 'Microsoft® Word 2019', 'creator': 'Microsoft® Word 2019', 'creationdate': '2024-04-15T16:59:36+05:30', 'author': 'iiitmk', 'moddate': '2024-04-15T16:59:36+05:30', 'source': '..\\\\data\\\\PG_Regulatuions rev-2023 .pdf', 'total_pages': 18, 'page': 7, 'page_label': '8', 'source_file': 'PG_Regulatuions rev-2023 .pdf', 'file_type': 'pdf'}, page_content='• 15 credits for program core/program electives \\n• Optional: 3 credits for projects/internship/inter-departmental courses/approved online \\ncourses/extra curricular credits/bridge courses \\nSemester 2 \\n• 2 credits for university core \\n• 15 credits for program core/program electives/Open electives \\n• Optional: 3 credits for projects/internship /inter-departmental courses/approved online \\ncourses/extra curricular credits/bridge courses \\nSemester 3 \\n• 15 credits for program electives/Open electives \\n• Optional: 3 credits for projects/internship/inter -departmental courses/approved online \\ncourses/extra curricular credits/bridge courses'),\n",
       " Document(metadata={'producer': 'Microsoft® Word 2019', 'creator': 'Microsoft® Word 2019', 'creationdate': '2024-04-15T16:59:36+05:30', 'author': 'iiitmk', 'moddate': '2024-04-15T16:59:36+05:30', 'source': '..\\\\data\\\\PG_Regulatuions rev-2023 .pdf', 'total_pages': 18, 'page': 8, 'page_label': '9', 'source_file': 'PG_Regulatuions rev-2023 .pdf', 'file_type': 'pdf'}, page_content='Semester 4 \\n• 15 credits for master thesis/Capstone project/internship \\n• Optional: 3 credits for projects/internship/inter -departmental courses/approved online \\ncourses/extra curricular credits/bridge courses \\n \\nNotes:  \\n● Elective courses can include group projects or mini-projects or research projects  \\n● The total contact hours will be as per the credit requirements. However, the delivery of \\nlectures can be in a variety of modes including practice based sessions, laboratory sessions, \\nhands-on experimentations, project discussions, gamified content delivery etc. \\n● To incorporate and encourage hands-on learning, flexibility in scheduling of classes and labs \\ncan be given to the program coordinators to enable learning. \\n● It is recommended to include at least one industry mentor while delivering the course, who \\ncan give lectures or guide the students to a problem or validate the nature of the problems and \\nsolutions.'),\n",
       " Document(metadata={'producer': 'Microsoft® Word 2019', 'creator': 'Microsoft® Word 2019', 'creationdate': '2024-04-15T16:59:36+05:30', 'author': 'iiitmk', 'moddate': '2024-04-15T16:59:36+05:30', 'source': '..\\\\data\\\\PG_Regulatuions rev-2023 .pdf', 'total_pages': 18, 'page': 8, 'page_label': '9', 'source_file': 'PG_Regulatuions rev-2023 .pdf', 'file_type': 'pdf'}, page_content='can give lectures or guide the students to a problem or validate the nature of the problems and \\nsolutions. \\n● It is recommended that when designing the curriculum, at least 10% of credit in the course in \\na semester is to be allocated for developing and analysing critical thinking of students. \\n● Inter-departmental courses are those courses thats jointly offered between the schools. \\n \\n10 . PROGRAMME PLANNING \\n \\nSchool Level Approval \\n10.1. School decides on the list of Program Core courses that are  compulsorily taken by \\nstudents for completion of the program.   These courses can be from the school or from \\noutside. \\n10.2  School board of studies approves Program Elective courses that  will  be   an  extensive  \\nlist of  courses, which student can take to earn credits for completion of the program \\n \\nSchool Level Plan \\n10.3 The school will offer all core courses which can be taught by one or more faculty (in one \\nor more semesters).'),\n",
       " Document(metadata={'producer': 'Microsoft® Word 2019', 'creator': 'Microsoft® Word 2019', 'creationdate': '2024-04-15T16:59:36+05:30', 'author': 'iiitmk', 'moddate': '2024-04-15T16:59:36+05:30', 'source': '..\\\\data\\\\PG_Regulatuions rev-2023 .pdf', 'total_pages': 18, 'page': 8, 'page_label': '9', 'source_file': 'PG_Regulatuions rev-2023 .pdf', 'file_type': 'pdf'}, page_content='School Level Plan \\n10.3 The school will offer all core courses which can be taught by one or more faculty (in one \\nor more semesters).  \\n10.4. Schools will plan the electives offered by one or more faculty in the same or different  \\n      semesters. \\n \\nFaculty Level Plan \\n10.5. Faculty offer courses which are of their choice (fixed by themselves or by the school). \\n10.6. Faculty fixes the time slots, classroom and prerequisite \\n10.7. A faculty shall offer a core course at least once in 2 years if required by the school \\nStudent Level Plan \\n10.8. A student along with the course coordinator and mentor will: \\na. Decide on the core courses to be taken. \\nb. Decide on the elective courses to be taken. \\nc. Decide on out-of-the school courses to be taken'),\n",
       " Document(metadata={'producer': 'Microsoft® Word 2019', 'creator': 'Microsoft® Word 2019', 'creationdate': '2024-04-15T16:59:36+05:30', 'author': 'iiitmk', 'moddate': '2024-04-15T16:59:36+05:30', 'source': '..\\\\data\\\\PG_Regulatuions rev-2023 .pdf', 'total_pages': 18, 'page': 9, 'page_label': '10', 'source_file': 'PG_Regulatuions rev-2023 .pdf', 'file_type': 'pdf'}, page_content='d. Opt for Challenge examination and audit courses. The challenge exams allow \\nstudents to complete the credit requirements attending a challenge examination \\nwithin the first two weeks of starting the course.   \\n10.9.  It will be the responsibility of the student to comply with the program level requirements.  \\nThe semester wise limits for the courses are: \\nSemester University \\nCore \\nProgram \\nCore  \\nProgram \\nElective \\nOpen \\nElective \\nProject/thesis \\nSemester 1 \\n(Range 15 -18 \\ncredits) \\n3-5 credits 9-15 credits 0-6 credits 0 credits 0 credits \\nSemester 2 \\n(Range 15 -18 \\ncredits) \\n0-5 credits 0-6 credits 0-15 credits 0-15 credits 0 credits \\nSemester 3 \\n(Range 15 -18 \\ncredits) \\n0-5 credits 0 credits 0-15 credits 0-15 credits 0 credits \\nSemester 4 \\n(Range 15 -18 \\ncredits) \\n0 credits 0 credits 0 credits 0-3 credits 15 credits \\n \\n11. CREDIT REQUIREMENTS FOR THE MASTER PROGRAM:   \\n \\n11.1 Students are required to comply with the following credit limits for  successfully'),\n",
       " Document(metadata={'producer': 'Microsoft® Word 2019', 'creator': 'Microsoft® Word 2019', 'creationdate': '2024-04-15T16:59:36+05:30', 'author': 'iiitmk', 'moddate': '2024-04-15T16:59:36+05:30', 'source': '..\\\\data\\\\PG_Regulatuions rev-2023 .pdf', 'total_pages': 18, 'page': 9, 'page_label': '10', 'source_file': 'PG_Regulatuions rev-2023 .pdf', 'file_type': 'pdf'}, page_content='0 credits 0 credits 0 credits 0-3 credits 15 credits \\n \\n11. CREDIT REQUIREMENTS FOR THE MASTER PROGRAM:   \\n \\n11.1 Students are required to comply with the following credit limits for  successfully \\ncompleting a master program. \\na. Complete a minimum of 70 Credits, with an upper limit of 80 credits. \\nb. The students are allowed to take a maximum of 18 Credits in a \\nsemester((excluding activity credits)) \\nc. The students are allowed to take a maximum of 12 Credits through audit courses. \\nThese credits do not count towards total credits requirements for the program and \\nare not included in SGPA/CGPA calculations. \\nd. The students are allowed to obtain a maximum of 12 Credits through challenge \\nexams. These credits count towards the total credits requirements for the program \\nbut are not included in SGPA/CGPA calculations \\n \\n12. MODE OF INSTRUCTION \\n12.1  A wide variety of modern teaching and learning methods are expected to be used in \\nthe delivery of the courses.'),\n",
       " Document(metadata={'producer': 'Microsoft® Word 2019', 'creator': 'Microsoft® Word 2019', 'creationdate': '2024-04-15T16:59:36+05:30', 'author': 'iiitmk', 'moddate': '2024-04-15T16:59:36+05:30', 'source': '..\\\\data\\\\PG_Regulatuions rev-2023 .pdf', 'total_pages': 18, 'page': 10, 'page_label': '11', 'source_file': 'PG_Regulatuions rev-2023 .pdf', 'file_type': 'pdf'}, page_content='Course level Teaching Evaluations \\n100-200 \\nlevel \\nIt is expected that there shall be \\na maximum of 120 students in a \\nclass. There shall be a tutor for \\nevery 15 students  with 3 \\nhours/week of the tutorial. \\nThe evaluation is expected to be consisting \\nof Examination/ Project  Work/ Exercises.   \\nIt is expected that 40% of the assessment is \\nformative and  60%  summative which will \\nbe a written exam in closed-book or open-\\nbook format. Lab exams can be conducted \\nin a variety of means including viva, \\nand/or written exam. \\n \\n300-400 \\nlevel \\nIt is expected that there sha ll be \\na maximum of 60 students in a \\ncourse. \\nIn a 300 Level  course, the  evaluation is \\nexpected to have    Examination / Projects.   \\nIt is expected that 60% of the assessment is \\nformative and 40%  as a summative which \\nwill be a  written exam in the closed boo k \\nor open -book format.  The formative \\nevaluations can also include 30 -60% \\ncollaborative components. Lab exams can'),\n",
       " Document(metadata={'producer': 'Microsoft® Word 2019', 'creator': 'Microsoft® Word 2019', 'creationdate': '2024-04-15T16:59:36+05:30', 'author': 'iiitmk', 'moddate': '2024-04-15T16:59:36+05:30', 'source': '..\\\\data\\\\PG_Regulatuions rev-2023 .pdf', 'total_pages': 18, 'page': 10, 'page_label': '11', 'source_file': 'PG_Regulatuions rev-2023 .pdf', 'file_type': 'pdf'}, page_content='will be a  written exam in the closed boo k \\nor open -book format.  The formative \\nevaluations can also include 30 -60% \\ncollaborative components. Lab exams can \\nbe conducted in a variety of means \\nincluding viva, and/or written exam. \\nThe 400 Level courses are expected to be \\nmore flexible in assessments, with a \\nmajority focus on Presentations/ Projects/ \\nResearch Output.  It is expected that 60 -\\n80% of the assessment is formative and 20-\\n40% summative which will be an open \\nbook format.  Th e evaluations can also \\ninclude 30-60% collaborative components.  \\nIn case the 400 level course is a final year \\nproject with research only assessment, it \\nneeds to be evaluated by an external \\nexaminer outside the School/ University. \\nLab exams can be conducted in a variety of \\nmeans including viva, and/or written \\nexam. \\n500 level It is expected that there shall be \\na maximum of 20 students in a \\ncourse. \\nThe 500 Level courses are research-based, \\nwith a majority focus on Presentations/'),\n",
       " Document(metadata={'producer': 'Microsoft® Word 2019', 'creator': 'Microsoft® Word 2019', 'creationdate': '2024-04-15T16:59:36+05:30', 'author': 'iiitmk', 'moddate': '2024-04-15T16:59:36+05:30', 'source': '..\\\\data\\\\PG_Regulatuions rev-2023 .pdf', 'total_pages': 18, 'page': 10, 'page_label': '11', 'source_file': 'PG_Regulatuions rev-2023 .pdf', 'file_type': 'pdf'}, page_content='exam. \\n500 level It is expected that there shall be \\na maximum of 20 students in a \\ncourse. \\nThe 500 Level courses are research-based, \\nwith a majority focus on Presentations/ \\nProjects/ Research Output.  It is expected \\nthat 100% of the assessment is formative \\nand are externally reviewed. However, the'),\n",
       " Document(metadata={'producer': 'Microsoft® Word 2019', 'creator': 'Microsoft® Word 2019', 'creationdate': '2024-04-15T16:59:36+05:30', 'author': 'iiitmk', 'moddate': '2024-04-15T16:59:36+05:30', 'source': '..\\\\data\\\\PG_Regulatuions rev-2023 .pdf', 'total_pages': 18, 'page': 11, 'page_label': '12', 'source_file': 'PG_Regulatuions rev-2023 .pdf', 'file_type': 'pdf'}, page_content=\"course instructor has the flexibility of \\nkeeping a maximum of 20% in a \\nsummative mode. Lab exams can be \\nconducted in a variety of means including \\nviva, and/or written exam. \\n \\n13. PASS CRITERIA \\n13.1 There shall be no barrier between Year 1 and Year 2 of study \\n13.2 The student shall obtain a minimum D grade in all core courses and C grade in the project. \\n13.3 Minimum CGPA of 5  is required for the award of the master's degree. \\n13.4 All challenge examination courses, audit and MOOC courses will not be counted for \\nCGPA computation.  However, passing in such cours es will enable them to be counted \\ntowards the total credits earned. \\n13.5  Project grade will be included in the CGPA calculations. \\n \\n14. EXAMINATIONS \\n14.1 The meaning of examination is considered broad and includes all forms of formative and \\nsummative assessment s including quizzes,  projects,  lab work,  practical design, the \\nproduct      developed, creative arts, fieldwork, etc.\"),\n",
       " Document(metadata={'producer': 'Microsoft® Word 2019', 'creator': 'Microsoft® Word 2019', 'creationdate': '2024-04-15T16:59:36+05:30', 'author': 'iiitmk', 'moddate': '2024-04-15T16:59:36+05:30', 'source': '..\\\\data\\\\PG_Regulatuions rev-2023 .pdf', 'total_pages': 18, 'page': 11, 'page_label': '12', 'source_file': 'PG_Regulatuions rev-2023 .pdf', 'file_type': 'pdf'}, page_content='summative assessment s including quizzes,  projects,  lab work,  practical design, the \\nproduct      developed, creative arts, fieldwork, etc. \\n14.2. A student will get a fail grade if she/he fails to complete a summative or formative  \\nassessment. If a student getting a fail in a core course needs to repeat the same course as \\nand when it is offered or an alternate course has to be fixed by the school in case the core \\ncourse is not offered within the next 18 months. \\n14.3  Each course level would have a different type of examination, the responsibility of which \\nis divided between the Controller of Examination, Dean or Course instructor as outlined \\nbelow: \\nCourse level Remarks \\n100-300 Level The Controller of Examinations (COE) will be in charge of the \\nconduct of the summative examination for 100 -300 Level \\ncourses. \\nThere shall be single evaluation of the answer sheets, and shall \\nbe evaluated by course instructor or an external examiner from'),\n",
       " Document(metadata={'producer': 'Microsoft® Word 2019', 'creator': 'Microsoft® Word 2019', 'creationdate': '2024-04-15T16:59:36+05:30', 'author': 'iiitmk', 'moddate': '2024-04-15T16:59:36+05:30', 'source': '..\\\\data\\\\PG_Regulatuions rev-2023 .pdf', 'total_pages': 18, 'page': 11, 'page_label': '12', 'source_file': 'PG_Regulatuions rev-2023 .pdf', 'file_type': 'pdf'}, page_content='conduct of the summative examination for 100 -300 Level \\ncourses. \\nThere shall be single evaluation of the answer sheets, and shall \\nbe evaluated by course instructor or an external examiner from \\nthe school or outside, fixed by COE. \\n \\nFor a 100% lab based course, the exams can be conducted in a \\nvariety of means including viva, and/or written exams with at \\nleast two examiners approved by the school exam board with \\nan intimation of the examiner list to the COE.'),\n",
       " Document(metadata={'producer': 'Microsoft® Word 2019', 'creator': 'Microsoft® Word 2019', 'creationdate': '2024-04-15T16:59:36+05:30', 'author': 'iiitmk', 'moddate': '2024-04-15T16:59:36+05:30', 'source': '..\\\\data\\\\PG_Regulatuions rev-2023 .pdf', 'total_pages': 18, 'page': 12, 'page_label': '13', 'source_file': 'PG_Regulatuions rev-2023 .pdf', 'file_type': 'pdf'}, page_content='400 Level  The instructor and/or graduate studies committee of the school \\nshall be in charge of the conduct of the summative examination \\nfor 400 Level courses. \\nThe valuation shall be conducted by a committee of two \\nfaculty members. \\nThe valuation shall be based on  an open seminar and term \\nreport submitted by the student. \\n \\nFor a 100% lab based course, the exams can be conducted in a \\nvariety of means including viva, and/or written exams with at \\nleast two examiners approved by the school exam board with \\nan intimation of the examiner list to the COE. \\n500 Level  The instructor and/or graduate studies committee of the school \\nshall be in charge of the conduct of the formative examination \\nfor 500 Level courses. \\nThe valuation shall be conducted by a committee of two \\nfaculty members and an external examiner. \\nThe valuation shall be based on the open seminar and research \\noutput submitted by the student. \\nIt is expected that research output is having a quality suitable'),\n",
       " Document(metadata={'producer': 'Microsoft® Word 2019', 'creator': 'Microsoft® Word 2019', 'creationdate': '2024-04-15T16:59:36+05:30', 'author': 'iiitmk', 'moddate': '2024-04-15T16:59:36+05:30', 'source': '..\\\\data\\\\PG_Regulatuions rev-2023 .pdf', 'total_pages': 18, 'page': 12, 'page_label': '13', 'source_file': 'PG_Regulatuions rev-2023 .pdf', 'file_type': 'pdf'}, page_content='The valuation shall be based on the open seminar and research \\noutput submitted by the student. \\nIt is expected that research output is having a quality suitable \\nto be published in a journal or leading conference. \\n \\nFor a 100% lab based course, the exams can be conducted in a \\nvariety of means including viva, and/or written exams with at \\nleast two examiners approved by the school exam board with \\nan intimation of the examiner list to the COE. \\n \\n14.4 All courses will have a detailed course outline with the syllabus,  and learning \\noutcomes that can be mapped to formative and summative assessments. \\n14.5 The preparation of examination questions is the responsibility of the Professor(s) \\nteaching that course. All questions are peer-reviewed \\n14.6 The assessment of the examination answers is done by the  Professor(s)  teaching that \\ncourse.   All answers will be peer-reviewed. \\n14.7 Course may or may not have a summative assessment in the form of a written exam.'),\n",
       " Document(metadata={'producer': 'Microsoft® Word 2019', 'creator': 'Microsoft® Word 2019', 'creationdate': '2024-04-15T16:59:36+05:30', 'author': 'iiitmk', 'moddate': '2024-04-15T16:59:36+05:30', 'source': '..\\\\data\\\\PG_Regulatuions rev-2023 .pdf', 'total_pages': 18, 'page': 12, 'page_label': '13', 'source_file': 'PG_Regulatuions rev-2023 .pdf', 'file_type': 'pdf'}, page_content='course.   All answers will be peer-reviewed. \\n14.7 Course may or may not have a summative assessment in the form of a written exam. \\n14.8 All courses need to have a formative assessment and feedback to the students, which \\nshall  be defined in the course outline. \\n14.9 The university allows for different ways of conducting summative assessments \\nincluding online,  written,  viva -voice, and open book.  This will  be defined in the \\ncourse outline.  There will be at least 3 distinct assessment components.'),\n",
       " Document(metadata={'producer': 'Microsoft® Word 2019', 'creator': 'Microsoft® Word 2019', 'creationdate': '2024-04-15T16:59:36+05:30', 'author': 'iiitmk', 'moddate': '2024-04-15T16:59:36+05:30', 'source': '..\\\\data\\\\PG_Regulatuions rev-2023 .pdf', 'total_pages': 18, 'page': 13, 'page_label': '14', 'source_file': 'PG_Regulatuions rev-2023 .pdf', 'file_type': 'pdf'}, page_content='14.10 In summative assessments,  10%  of the questions will go beyond the prescribed \\nsyllabus but within the broad scope of the subject. \\n14.11 Examinations and assignment dead lines should be scheduled in such a  manner that \\nstudents have a reasonable time for preparation and recuperation allowing them to \\ndemonstrate their knowledge of course materials. \\n14.12 Students have the right to appeal against the marks obtained once to the con troller of \\nthe examiner or his representative in the school.  Where the appeal is considered to be \\ngenuine it will be scrutinized/re-evaluated by another professor or external expert and \\nnew marks assigned. \\n14.13 Academic misconduct of any forms in exams will lead to disciplinary action of various \\ndegrees and categories as defined in the additional regulations of Student Discipline. \\n14.14 Any changes to the course outline and assessment methods defined requires the prior \\napproval of the Board of Studies.'),\n",
       " Document(metadata={'producer': 'Microsoft® Word 2019', 'creator': 'Microsoft® Word 2019', 'creationdate': '2024-04-15T16:59:36+05:30', 'author': 'iiitmk', 'moddate': '2024-04-15T16:59:36+05:30', 'source': '..\\\\data\\\\PG_Regulatuions rev-2023 .pdf', 'total_pages': 18, 'page': 13, 'page_label': '14', 'source_file': 'PG_Regulatuions rev-2023 .pdf', 'file_type': 'pdf'}, page_content='14.14 Any changes to the course outline and assessment methods defined requires the prior \\napproval of the Board of Studies. \\n14.15 The controller  of the examiner will be responsible to organise the conduct of the \\nexaminations as mandated in the course outline.   He/she will have the authority to \\nreschedule the exam or arrange for a re -visit or reassessment under any unforeseen \\ncircumstances. \\n14.16 There will be an Exam Board within each school, that audits and finalises the marks \\nfor each course.  \\n14.17 The Exam Board members are nominated by the Dean (Academic), and reports to the \\nController of Examinations and Board of Studies. \\n14.18 Schools designated faculty/offi cers may use anti -plagiarism software to check the \\noriginality and authenticity of theses, dissertations, exam papers and other written \\nassignments.  Students acknowledge this in the process of their enrolment and \\nmatriculation.'),\n",
       " Document(metadata={'producer': 'Microsoft® Word 2019', 'creator': 'Microsoft® Word 2019', 'creationdate': '2024-04-15T16:59:36+05:30', 'author': 'iiitmk', 'moddate': '2024-04-15T16:59:36+05:30', 'source': '..\\\\data\\\\PG_Regulatuions rev-2023 .pdf', 'total_pages': 18, 'page': 13, 'page_label': '14', 'source_file': 'PG_Regulatuions rev-2023 .pdf', 'file_type': 'pdf'}, page_content='originality and authenticity of theses, dissertations, exam papers and other written \\nassignments.  Students acknowledge this in the process of their enrolment and \\nmatriculation. \\n14.19 The minimum aggregate of at tendance during a semester shall be 75%. This is not \\napplicable for project based courses, field work based courses, and research works \\ndone outside the university. Any exemptions shall be defined by the course lecturers \\nin the course description document. \\n14.20 All examinations of the university will be relative graded. A relative grading policy is \\nframed separately. \\n14.21 The feedback to course assessment and grades should be provided to students within \\n2 weeks of the submission date. \\n14.22 Where possible, formative assessment should provide immediate feedback by means \\nof solutions sheets or sample answers. \\n14.23 The lecturer should discuss the assessment outcome and how they can improve the'),\n",
       " Document(metadata={'producer': 'Microsoft® Word 2019', 'creator': 'Microsoft® Word 2019', 'creationdate': '2024-04-15T16:59:36+05:30', 'author': 'iiitmk', 'moddate': '2024-04-15T16:59:36+05:30', 'source': '..\\\\data\\\\PG_Regulatuions rev-2023 .pdf', 'total_pages': 18, 'page': 13, 'page_label': '14', 'source_file': 'PG_Regulatuions rev-2023 .pdf', 'file_type': 'pdf'}, page_content='of solutions sheets or sample answers. \\n14.23 The lecturer should discuss the assessment outcome and how they can improve the \\noutcome in or outside the classroom. Where there are learning issues, they need to be \\nreported to the academic office for arranging counseling sessions. \\n14.24 Monthly reporting of formative assessment grades to academic office is mandatory. \\n14.25 If a student is unable to attend a summative evaluation due to a valid reason, they may \\nbe granted another opportunity within a 15-day period. The final decision will be made \\nby the Dean of Academics. \\n14.26 At least 30 credits are required for a major specialization (equivalent to 10 three credit  \\ncourses  or equivalent) and 9 credits for minor specialization (equ ivalent to three 3'),\n",
       " Document(metadata={'producer': 'Microsoft® Word 2019', 'creator': 'Microsoft® Word 2019', 'creationdate': '2024-04-15T16:59:36+05:30', 'author': 'iiitmk', 'moddate': '2024-04-15T16:59:36+05:30', 'source': '..\\\\data\\\\PG_Regulatuions rev-2023 .pdf', 'total_pages': 18, 'page': 14, 'page_label': '15', 'source_file': 'PG_Regulatuions rev-2023 .pdf', 'file_type': 'pdf'}, page_content='credit courses or equivalent). The specialization credits consist of projects, courses, \\nactivities etc. \\n14.27 Dual degrees, multiple majors or minor specializations are all allowed. The students \\ncan take up multiple degrees at the same time meeting the requirements of each degree \\nseparately.  \\n \\n15. GRADE CARD \\n \\n15.1  The University under the seal shall issue to the students a consolidated grade card in \\ncompletion of the programmes which shall contain \\n \\n(i) Name of the University \\n(ii) Name of the School \\n(iii) Title of the PG Programme \\n(iv) Name of the Semester’s \\n(v) Name and Register Number of the Student  \\n(vi) GPA calculation formula and meaning of letter Grades \\n \\n16.  AWARD OF DEGREE \\n \\nThe successful completion of all the courses with a “C’ Grade within the stipulated period \\nshall be the minimum requirement for the award of the Degree. The degree certificate shall \\nbe signed by the Vice-Chancellor  \\n \\n17. RANK CERTIFICATE'),\n",
       " Document(metadata={'producer': 'Microsoft® Word 2019', 'creator': 'Microsoft® Word 2019', 'creationdate': '2024-04-15T16:59:36+05:30', 'author': 'iiitmk', 'moddate': '2024-04-15T16:59:36+05:30', 'source': '..\\\\data\\\\PG_Regulatuions rev-2023 .pdf', 'total_pages': 18, 'page': 14, 'page_label': '15', 'source_file': 'PG_Regulatuions rev-2023 .pdf', 'file_type': 'pdf'}, page_content='shall be the minimum requirement for the award of the Degree. The degree certificate shall \\nbe signed by the Vice-Chancellor  \\n \\n17. RANK CERTIFICATE \\n \\n17.1 The university shall publish the list of the top 10 candidates for each programme after \\nthe publication of the results of the examination. The rank certificate shall be issued to \\ncandidate’s who secure position 1ts to 3rd in the list. The rank certificate will be issued \\nto students at their requests \\n17.2  A student shall be ranked in the order of merit base on the CGPA secured by them. \\nGrace grade points awarded to the students shall be counted for fixing rank/position. \\nRank certificate and position certificate shall be s igned by the Controller of \\nExamination. \\n \\n18. GRADE POINT CALCULATION \\n \\n18.1 A letter grade system is used to evaluate individual items of work, according to the \\nrequirements of the University’s Policies and Procedures. \\n18.2 The university follows grade point system with a scale of 10 defined as:'),\n",
       " Document(metadata={'producer': 'Microsoft® Word 2019', 'creator': 'Microsoft® Word 2019', 'creationdate': '2024-04-15T16:59:36+05:30', 'author': 'iiitmk', 'moddate': '2024-04-15T16:59:36+05:30', 'source': '..\\\\data\\\\PG_Regulatuions rev-2023 .pdf', 'total_pages': 18, 'page': 15, 'page_label': '16', 'source_file': 'PG_Regulatuions rev-2023 .pdf', 'file_type': 'pdf'}, page_content='Grade Percentage of Marks Grade Points Remarks \\nS 95% and above 10 Outstanding \\nA+ 90% to less than 95% 9 Excellent \\nA 80% to less than 90% 8 Very Good \\nB+ 70% to less than 80% 7 Good \\nB 60% to less than 70% 6 Above \\nAverage \\nC 50% to less than 60% 5 Average \\nD 40% to less than 50% 4 Pass \\nE 30% to less than 40% 2 Low Pass \\nF Below 30% 0 Fail \\n \\n• AB will be represented for Absent and its GP is considered as 0 \\n• “ I “ will represent incomplete \\n \\n18.3 The minimum grade point requires for passing a course is 4 \\n18.4 The cumulative grade point averages (CGPA) are calculated by weighing grade points \\nby the corresponding credit numbers. The thesis grade counts toward the GP by using \\nthe same formula, that is, it is weighed by the credit number assi gned to the thesis.  \\nThe Semester Grade Point Average (SGPA) and Cumulative Grade Point Average \\n(CGPA) is calculated using the standard formula and is given in Appendix 1. \\n19. CREDIT TRANSFERS'),\n",
       " Document(metadata={'producer': 'Microsoft® Word 2019', 'creator': 'Microsoft® Word 2019', 'creationdate': '2024-04-15T16:59:36+05:30', 'author': 'iiitmk', 'moddate': '2024-04-15T16:59:36+05:30', 'source': '..\\\\data\\\\PG_Regulatuions rev-2023 .pdf', 'total_pages': 18, 'page': 15, 'page_label': '16', 'source_file': 'PG_Regulatuions rev-2023 .pdf', 'file_type': 'pdf'}, page_content='The Semester Grade Point Average (SGPA) and Cumulative Grade Point Average \\n(CGPA) is calculated using the standard formula and is given in Appendix 1. \\n19. CREDIT TRANSFERS \\n \\n19.1 The university offers a flexible system of credit transfers b etween its programs and \\nbetween partner institutions. \\n19.2 The request for credit transfers of a course undertaken outside the normal curriculum \\nof the program should require approval of the graduate studies committee or \\nequivalent within the school. \\n19.3 The student will be responsible for requesting the credit transfers in concurrence with \\nthe approval of the faculty advisor. \\n19.4 In any Master or PhD program, at most 24 credits may be transferred to the program \\nof study \\n19.5 The request for credit transfer does not  g uarantee  the approval,  and thereby the \\nstudents are required to get prior  approval  from  the  faculty  advisor  on  the  course \\nplans to avoid rejections.'),\n",
       " Document(metadata={'producer': 'Microsoft® Word 2019', 'creator': 'Microsoft® Word 2019', 'creationdate': '2024-04-15T16:59:36+05:30', 'author': 'iiitmk', 'moddate': '2024-04-15T16:59:36+05:30', 'source': '..\\\\data\\\\PG_Regulatuions rev-2023 .pdf', 'total_pages': 18, 'page': 16, 'page_label': '17', 'source_file': 'PG_Regulatuions rev-2023 .pdf', 'file_type': 'pdf'}, page_content=\"20 QUALITY ASSURANCE \\n20.1 The PG programs shall comply with the regulations on Quality Assurance and \\nMonitoring for Post graduate programs. \\n20.2 All PG programs shall be subjected to annual review. \\n \\n21  ROLES AND RESPONSIBILITIES \\n21.1  Board of Studies (BoS) - All PG programs must get approval from the Board of \\nStudies. Any subsequent revisions, modifications and amendments to the program \\nshall need the approval of the Board of Studies. The chair of BoS shall inform Dean \\nand Associate Dean Academic on these changes.  \\n21.2 Academic Council - All matters relating to the Master's program shall be approved \\nby the Academic Council and placed for information to the senate. Dean Academic \\nand Associate Dean Academic shall regularly update the overall status of the Master's \\nprograms to the Academic Council and Senate.  \\n \\n21.3 School committee - The BoS within the school shall monitor the progress of the\"),\n",
       " Document(metadata={'producer': 'Microsoft® Word 2019', 'creator': 'Microsoft® Word 2019', 'creationdate': '2024-04-15T16:59:36+05:30', 'author': 'iiitmk', 'moddate': '2024-04-15T16:59:36+05:30', 'source': '..\\\\data\\\\PG_Regulatuions rev-2023 .pdf', 'total_pages': 18, 'page': 16, 'page_label': '17', 'source_file': 'PG_Regulatuions rev-2023 .pdf', 'file_type': 'pdf'}, page_content=\"programs to the Academic Council and Senate.  \\n \\n21.3 School committee - The BoS within the school shall monitor the progress of the \\nMaster's program from time to time. The chair of the school shall be the representative \\nof all the school c ommittees, who shall liaise with the Dean and Associate Dean \\nAcademic on all matters of the quality assurance and monitoring of the Master's \\nprogram. \\n \\n21.4 Dean Academic - Dean Academic serves to monitor, allocate and approve various \\ncommittees constituted for Masters studies. Also, the dean academic is responsible to \\nmake decisions on the recommendations of the various Master's committees. \\n \\n21.5 Associate Dean Academic -  Any program revisions, monitoring and quality \\nenhancement of the Master's program shall be init iated with the concurrence of \\nAssociate Dean Academic. Associate Dean Academic may from time to time take \\nany roles assigned by the Dean Academic or Vice - Chancellor for ensuring the high\"),\n",
       " Document(metadata={'producer': 'Microsoft® Word 2019', 'creator': 'Microsoft® Word 2019', 'creationdate': '2024-04-15T16:59:36+05:30', 'author': 'iiitmk', 'moddate': '2024-04-15T16:59:36+05:30', 'source': '..\\\\data\\\\PG_Regulatuions rev-2023 .pdf', 'total_pages': 18, 'page': 16, 'page_label': '17', 'source_file': 'PG_Regulatuions rev-2023 .pdf', 'file_type': 'pdf'}, page_content=\"Associate Dean Academic. Associate Dean Academic may from time to time take \\nany roles assigned by the Dean Academic or Vice - Chancellor for ensuring the high \\nquality and standards of the Master's program. \\n \\n21.6 Vice-Chancellor - The Vice -Chancellor is the final approving authority of the \\nMasters' thesis. He/she shall act on behalf of the University Senate, as the chair of the \\nSenate to deliberate or initiate any proceedings required for ensuring the high \\nstanding of the Master's pro gram in consultation with the Academic Council, from \\ntime to time.\"),\n",
       " Document(metadata={'producer': 'Microsoft® Word 2019', 'creator': 'Microsoft® Word 2019', 'creationdate': '2024-04-15T16:59:36+05:30', 'author': 'iiitmk', 'moddate': '2024-04-15T16:59:36+05:30', 'source': '..\\\\data\\\\PG_Regulatuions rev-2023 .pdf', 'total_pages': 18, 'page': 17, 'page_label': '18', 'source_file': 'PG_Regulatuions rev-2023 .pdf', 'file_type': 'pdf'}, page_content='22  STUDENT DISCIPLINE \\n22.1 Every scholar is required to observe disciplined and decorous behaviour both inside \\nand outside the campus and should not indulge in any activity, which will bring down \\nthe prestige of DUK. \\n22.2 The students shall adhere to the student code of conduct \\n22.3 Any act of indiscipline of a scholar reported to the Dean of Academic will be referred \\nto a Discipline and Welfare Committee nominated by the Senate. The committee will \\ninvestigate and recommend suitable punishment if it finds the charges substantiated. \\nThe recommendation of the Committee will be considered by the Academic Council, \\nwhich will authorize the Dean of Academic to take appropriate action. The Dean \\n(Academic) will report the action taken at the next meeting of the Senate. \\nAppeal: The scholar may appeal to the Chair, Senate whose decision will be final. \\n \\n23 GRIEVANCE REDRESSAL COMMITTEE \\n \\nThere shall be a Student Grievance Redressal Committee with the Dean Academic as the'),\n",
       " Document(metadata={'producer': 'Microsoft® Word 2019', 'creator': 'Microsoft® Word 2019', 'creationdate': '2024-04-15T16:59:36+05:30', 'author': 'iiitmk', 'moddate': '2024-04-15T16:59:36+05:30', 'source': '..\\\\data\\\\PG_Regulatuions rev-2023 .pdf', 'total_pages': 18, 'page': 17, 'page_label': '18', 'source_file': 'PG_Regulatuions rev-2023 .pdf', 'file_type': 'pdf'}, page_content='23 GRIEVANCE REDRESSAL COMMITTEE \\n \\nThere shall be a Student Grievance Redressal Committee with the Dean Academic as the \\nChairman, The Chair Person the School, One Senior Teacher and the Course Teacher as \\nmembers to address all grievance relating to the internal assessment of grades of the students  \\n \\n24 TRANSITORY PROVISIONS \\n \\nNotwithstanding anything contained in these Regulations, The VC shall for 3 years from the \\ndate of coming into force of these regulations have the power to provide by an order necessary \\nmodification as may be necessary  \\n \\n \\n \\n \\n**************************')]"
      ]
     },
     "execution_count": 10,
     "metadata": {},
     "output_type": "execute_result"
    }
   ],
   "source": [
    "chunks"
   ]
  },
  {
   "cell_type": "code",
   "execution_count": 19,
   "id": "bc83e722",
   "metadata": {},
   "outputs": [
    {
     "name": "stdout",
     "output_type": "stream",
     "text": [
      "Generating embeddings for 122 texts...\n"
     ]
    },
    {
     "name": "stderr",
     "output_type": "stream",
     "text": [
      "Batches:   0%|          | 0/4 [00:00<?, ?it/s]"
     ]
    },
    {
     "name": "stderr",
     "output_type": "stream",
     "text": [
      "Batches: 100%|██████████| 4/4 [00:18<00:00,  4.57s/it]\n"
     ]
    },
    {
     "name": "stdout",
     "output_type": "stream",
     "text": [
      "Generated embeddings with shape: (122, 384)\n",
      "Adding 122 documents to vector store...\n",
      "Successfully added 122 documents to vector store\n",
      "Total documents in collection: 610\n"
     ]
    }
   ],
   "source": [
    "### Convert the text to embeddings\n",
    "texts=[doc.page_content for doc in chunks]\n",
    "\n",
    "## Generate the Embeddings\n",
    "\n",
    "embeddings=embedding_manager.generate_embeddings(texts)\n",
    "\n",
    "##store in the vector dtaabase\n",
    "vectorstore.add_documents(chunks,embeddings)"
   ]
  },
  {
   "cell_type": "markdown",
   "id": "20c54361",
   "metadata": {},
   "source": [
    "**RAG Retriever Pipeline**"
   ]
  },
  {
   "cell_type": "code",
   "execution_count": 20,
   "id": "e8e9195d",
   "metadata": {},
   "outputs": [],
   "source": [
    "class RAGRetriever:\n",
    "    \"\"\"Handles query-based retrieval from the vector store\"\"\"\n",
    "    \n",
    "    def __init__(self, vector_store: VectorStore, embedding_manager: EmbeddingManager):\n",
    "        \"\"\"\n",
    "        Initialize the retriever\n",
    "        \n",
    "        Args:\n",
    "            vector_store: Vector store containing document embeddings\n",
    "            embedding_manager: Manager for generating query embeddings\n",
    "        \"\"\"\n",
    "        self.vector_store = vector_store\n",
    "        self.embedding_manager = embedding_manager\n",
    "\n",
    "    def retrieve(self, query: str, top_k: int = 5, score_threshold: float = 0.0) -> List[Dict[str, Any]]:\n",
    "        \"\"\"\n",
    "        Retrieve relevant documents for a query\n",
    "        \n",
    "        Args:\n",
    "            query: The search query\n",
    "            top_k: Number of top results to return\n",
    "            score_threshold: Minimum similarity score threshold\n",
    "            \n",
    "        Returns:\n",
    "            List of dictionaries containing retrieved documents and metadata\n",
    "        \"\"\"\n",
    "        print(f\"Retrieving documents for query: '{query}'\")\n",
    "        print(f\"Top K: {top_k}, Score threshold: {score_threshold}\")\n",
    "        \n",
    "        # Generate query embedding\n",
    "        query_embedding = self.embedding_manager.generate_embeddings([query])[0]\n",
    "        \n",
    "        # Search in vector store\n",
    "        try:\n",
    "            results = self.vector_store.collection.query(\n",
    "                query_embeddings=[query_embedding.tolist()],\n",
    "                n_results=top_k\n",
    "            )\n",
    "            \n",
    "            # Process results\n",
    "            retrieved_docs = []\n",
    "            \n",
    "            if results['documents'] and results['documents'][0]:\n",
    "                documents = results['documents'][0]\n",
    "                metadatas = results['metadatas'][0]\n",
    "                distances = results['distances'][0]\n",
    "                ids = results['ids'][0]\n",
    "                \n",
    "                for i, (doc_id, document, metadata, distance) in enumerate(zip(ids, documents, metadatas, distances)):\n",
    "                    # Convert distance to similarity score (ChromaDB uses cosine distance)\n",
    "                    similarity_score = 1 - distance\n",
    "                    \n",
    "                    if similarity_score >= score_threshold:\n",
    "                        retrieved_docs.append({\n",
    "                            'id': doc_id,\n",
    "                            'content': document,\n",
    "                            'metadata': metadata,\n",
    "                            'similarity_score': similarity_score,\n",
    "                            'distance': distance,\n",
    "                            'rank': i + 1\n",
    "                        })\n",
    "                \n",
    "                print(f\"Retrieved {len(retrieved_docs)} documents (after filtering)\")\n",
    "            else:\n",
    "                print(\"No documents found\")\n",
    "            \n",
    "            return retrieved_docs\n",
    "            \n",
    "        except Exception as e:\n",
    "            print(f\"Error during retrieval: {e}\")\n",
    "            return []\n",
    "\n",
    "rag_retriever=RAGRetriever(vectorstore,embedding_manager)"
   ]
  },
  {
   "cell_type": "code",
   "execution_count": 13,
   "id": "8196962b",
   "metadata": {},
   "outputs": [
    {
     "data": {
      "text/plain": [
       "<__main__.RAGRetriever at 0x214f06e6a50>"
      ]
     },
     "execution_count": 13,
     "metadata": {},
     "output_type": "execute_result"
    }
   ],
   "source": [
    "\n",
    "rag_retriever"
   ]
  },
  {
   "cell_type": "code",
   "execution_count": 14,
   "id": "87f7ef70",
   "metadata": {},
   "outputs": [
    {
     "name": "stdout",
     "output_type": "stream",
     "text": [
      "Retrieving documents for query: 'What is the system of teaching in The Kerala Agricultural University'\n",
      "Top K: 5, Score threshold: 0.0\n",
      "Generating embeddings for 1 texts...\n"
     ]
    },
    {
     "name": "stderr",
     "output_type": "stream",
     "text": [
      "Batches: 100%|██████████| 1/1 [00:00<00:00, 13.42it/s]"
     ]
    },
    {
     "name": "stdout",
     "output_type": "stream",
     "text": [
      "Generated embeddings with shape: (1, 384)\n",
      "Retrieved 5 documents (after filtering)\n"
     ]
    },
    {
     "name": "stderr",
     "output_type": "stream",
     "text": [
      "\n"
     ]
    },
    {
     "data": {
      "text/plain": [
       "[{'id': 'doc_8798392b_0',\n",
       "  'content': 'Kerala University of Digital Sciences, \\nInnovation and Technology \\n(Digital University Kerala) \\n- DIGITAL \\n?.f UNIVERSITY \\n- KERALA \\nPROSPECTUS 5 \\nwE',\n",
       "  'metadata': {'source': '..\\\\data\\\\DUK_Admission_Prospectus-2025.pdf',\n",
       "   'creator': 'PyPDF',\n",
       "   'moddate': '2025-09-29T06:51:30+00:00',\n",
       "   'page_label': '1',\n",
       "   'producer': 'iLovePDF',\n",
       "   'total_pages': 31,\n",
       "   'file_type': 'pdf',\n",
       "   'source_file': 'DUK_Admission_Prospectus-2025.pdf',\n",
       "   'page': 0,\n",
       "   'doc_index': 0,\n",
       "   'content_length': 149,\n",
       "   'creationdate': ''},\n",
       "  'similarity_score': 0.14767634868621826,\n",
       "  'distance': 0.8523236513137817,\n",
       "  'rank': 1},\n",
       " {'id': 'doc_00e95fb4_0',\n",
       "  'content': 'Kerala University of Digital Sciences, \\nInnovation and Technology \\n(Digital University Kerala) \\n- DIGITAL \\n?.f UNIVERSITY \\n- KERALA \\nPROSPECTUS 5 \\nwE',\n",
       "  'metadata': {'page': 0,\n",
       "   'content_length': 149,\n",
       "   'creator': 'PyPDF',\n",
       "   'file_type': 'pdf',\n",
       "   'creationdate': '',\n",
       "   'page_label': '1',\n",
       "   'moddate': '2025-09-29T06:51:30+00:00',\n",
       "   'producer': 'iLovePDF',\n",
       "   'doc_index': 0,\n",
       "   'source_file': 'DUK_Admission_Prospectus-2025.pdf',\n",
       "   'total_pages': 31,\n",
       "   'source': '..\\\\data\\\\DUK_Admission_Prospectus-2025.pdf'},\n",
       "  'similarity_score': 0.14767634868621826,\n",
       "  'distance': 0.8523236513137817,\n",
       "  'rank': 2},\n",
       " {'id': 'doc_98b4e752_0',\n",
       "  'content': 'Kerala University of Digital Sciences, \\nInnovation and Technology \\n(Digital University Kerala) \\n- DIGITAL \\n?.f UNIVERSITY \\n- KERALA \\nPROSPECTUS 5 \\nwE',\n",
       "  'metadata': {'creationdate': '',\n",
       "   'moddate': '2025-09-29T06:51:30+00:00',\n",
       "   'page_label': '1',\n",
       "   'file_type': 'pdf',\n",
       "   'source': '..\\\\data\\\\DUK_Admission_Prospectus-2025.pdf',\n",
       "   'content_length': 149,\n",
       "   'doc_index': 0,\n",
       "   'page': 0,\n",
       "   'producer': 'iLovePDF',\n",
       "   'total_pages': 31,\n",
       "   'source_file': 'DUK_Admission_Prospectus-2025.pdf',\n",
       "   'creator': 'PyPDF'},\n",
       "  'similarity_score': 0.14767634868621826,\n",
       "  'distance': 0.8523236513137817,\n",
       "  'rank': 3},\n",
       " {'id': 'doc_134f8a07_0',\n",
       "  'content': 'Kerala University of Digital Sciences, \\nInnovation and Technology \\n(Digital University Kerala) \\n- DIGITAL \\n?.f UNIVERSITY \\n- KERALA \\nPROSPECTUS 5 \\nwE',\n",
       "  'metadata': {'total_pages': 31,\n",
       "   'producer': 'iLovePDF',\n",
       "   'file_type': 'pdf',\n",
       "   'source_file': 'DUK_Admission_Prospectus-2025.pdf',\n",
       "   'page_label': '1',\n",
       "   'moddate': '2025-09-29T06:51:30+00:00',\n",
       "   'creator': 'PyPDF',\n",
       "   'creationdate': '',\n",
       "   'page': 0,\n",
       "   'content_length': 149,\n",
       "   'source': '..\\\\data\\\\DUK_Admission_Prospectus-2025.pdf',\n",
       "   'doc_index': 0},\n",
       "  'similarity_score': 0.14767634868621826,\n",
       "  'distance': 0.8523236513137817,\n",
       "  'rank': 4},\n",
       " {'id': 'doc_d050f0d9_4',\n",
       "  'content': 'About the University \\nTo steer Kerala into a leadership role in the emerging knowledge economy, the \\nGovernment of Kerala established “Kerala University of Digital Sciences, Innovation and \\nTechnology” in 2020 by upgrading Indian Institute of Information Technology and \\nManagement-Kerala, 11ITM-K. Digital University Kerala (DUK) is recognized under \\nSection 2(f) of the University Grants Commission (UGC) Act, 1956. \\nThe University strives to be an international benchmark in conducting cutting-edge \\nresearch and nurturing budding minds in the center for promoting and implementing \\nmodern technological interventions in disruptive technologies. The University aims to \\ncreate capacity building at post-graduate and doctoral levels in the areas of Atrtificial \\nIntelligence and Natural Language Processing, Internet of Things, Electronic Systems \\nand Automation, Imaging Technologies, Data Analytics and Big Data, Cybersecurity,',\n",
       "  'metadata': {'source_file': 'DUK_Admission_Prospectus-2025.pdf',\n",
       "   'creationdate': '',\n",
       "   'moddate': '2025-09-29T06:51:30+00:00',\n",
       "   'doc_index': 4,\n",
       "   'total_pages': 31,\n",
       "   'producer': 'iLovePDF',\n",
       "   'source': '..\\\\data\\\\DUK_Admission_Prospectus-2025.pdf',\n",
       "   'file_type': 'pdf',\n",
       "   'content_length': 931,\n",
       "   'page': 3,\n",
       "   'creator': 'PyPDF',\n",
       "   'page_label': '4'},\n",
       "  'similarity_score': 0.03135538101196289,\n",
       "  'distance': 0.9686446189880371,\n",
       "  'rank': 5}]"
      ]
     },
     "execution_count": 14,
     "metadata": {},
     "output_type": "execute_result"
    }
   ],
   "source": [
    "\n",
    "rag_retriever.retrieve(\"What is the system of teaching in The Kerala Agricultural University\")"
   ]
  },
  {
   "cell_type": "code",
   "execution_count": 15,
   "id": "6bf7c24e",
   "metadata": {},
   "outputs": [
    {
     "name": "stdout",
     "output_type": "stream",
     "text": [
      "Retrieving documents for query: 'What is Digital University'\n",
      "Top K: 5, Score threshold: 0.0\n",
      "Generating embeddings for 1 texts...\n"
     ]
    },
    {
     "name": "stderr",
     "output_type": "stream",
     "text": [
      "Batches: 100%|██████████| 1/1 [00:00<00:00, 25.55it/s]"
     ]
    },
    {
     "name": "stdout",
     "output_type": "stream",
     "text": [
      "Generated embeddings with shape: (1, 384)\n",
      "Retrieved 5 documents (after filtering)\n"
     ]
    },
    {
     "name": "stderr",
     "output_type": "stream",
     "text": [
      "\n"
     ]
    },
    {
     "data": {
      "text/plain": [
       "[{'id': 'doc_8798392b_0',\n",
       "  'content': 'Kerala University of Digital Sciences, \\nInnovation and Technology \\n(Digital University Kerala) \\n- DIGITAL \\n?.f UNIVERSITY \\n- KERALA \\nPROSPECTUS 5 \\nwE',\n",
       "  'metadata': {'creator': 'PyPDF',\n",
       "   'file_type': 'pdf',\n",
       "   'page': 0,\n",
       "   'page_label': '1',\n",
       "   'producer': 'iLovePDF',\n",
       "   'content_length': 149,\n",
       "   'source_file': 'DUK_Admission_Prospectus-2025.pdf',\n",
       "   'moddate': '2025-09-29T06:51:30+00:00',\n",
       "   'doc_index': 0,\n",
       "   'creationdate': '',\n",
       "   'total_pages': 31,\n",
       "   'source': '..\\\\data\\\\DUK_Admission_Prospectus-2025.pdf'},\n",
       "  'similarity_score': 0.40543949604034424,\n",
       "  'distance': 0.5945605039596558,\n",
       "  'rank': 1},\n",
       " {'id': 'doc_00e95fb4_0',\n",
       "  'content': 'Kerala University of Digital Sciences, \\nInnovation and Technology \\n(Digital University Kerala) \\n- DIGITAL \\n?.f UNIVERSITY \\n- KERALA \\nPROSPECTUS 5 \\nwE',\n",
       "  'metadata': {'file_type': 'pdf',\n",
       "   'source_file': 'DUK_Admission_Prospectus-2025.pdf',\n",
       "   'source': '..\\\\data\\\\DUK_Admission_Prospectus-2025.pdf',\n",
       "   'creator': 'PyPDF',\n",
       "   'producer': 'iLovePDF',\n",
       "   'total_pages': 31,\n",
       "   'moddate': '2025-09-29T06:51:30+00:00',\n",
       "   'page': 0,\n",
       "   'page_label': '1',\n",
       "   'content_length': 149,\n",
       "   'doc_index': 0,\n",
       "   'creationdate': ''},\n",
       "  'similarity_score': 0.40543949604034424,\n",
       "  'distance': 0.5945605039596558,\n",
       "  'rank': 2},\n",
       " {'id': 'doc_98b4e752_0',\n",
       "  'content': 'Kerala University of Digital Sciences, \\nInnovation and Technology \\n(Digital University Kerala) \\n- DIGITAL \\n?.f UNIVERSITY \\n- KERALA \\nPROSPECTUS 5 \\nwE',\n",
       "  'metadata': {'page': 0,\n",
       "   'file_type': 'pdf',\n",
       "   'moddate': '2025-09-29T06:51:30+00:00',\n",
       "   'doc_index': 0,\n",
       "   'creator': 'PyPDF',\n",
       "   'producer': 'iLovePDF',\n",
       "   'total_pages': 31,\n",
       "   'source_file': 'DUK_Admission_Prospectus-2025.pdf',\n",
       "   'source': '..\\\\data\\\\DUK_Admission_Prospectus-2025.pdf',\n",
       "   'page_label': '1',\n",
       "   'creationdate': '',\n",
       "   'content_length': 149},\n",
       "  'similarity_score': 0.40543949604034424,\n",
       "  'distance': 0.5945605039596558,\n",
       "  'rank': 3},\n",
       " {'id': 'doc_134f8a07_0',\n",
       "  'content': 'Kerala University of Digital Sciences, \\nInnovation and Technology \\n(Digital University Kerala) \\n- DIGITAL \\n?.f UNIVERSITY \\n- KERALA \\nPROSPECTUS 5 \\nwE',\n",
       "  'metadata': {'source': '..\\\\data\\\\DUK_Admission_Prospectus-2025.pdf',\n",
       "   'page_label': '1',\n",
       "   'total_pages': 31,\n",
       "   'page': 0,\n",
       "   'producer': 'iLovePDF',\n",
       "   'doc_index': 0,\n",
       "   'moddate': '2025-09-29T06:51:30+00:00',\n",
       "   'file_type': 'pdf',\n",
       "   'content_length': 149,\n",
       "   'creator': 'PyPDF',\n",
       "   'creationdate': '',\n",
       "   'source_file': 'DUK_Admission_Prospectus-2025.pdf'},\n",
       "  'similarity_score': 0.40543949604034424,\n",
       "  'distance': 0.5945605039596558,\n",
       "  'rank': 4},\n",
       " {'id': 'doc_444ae021_5',\n",
       "  'content': 'Intelligence and Natural Language Processing, Internet of Things, Electronic Systems \\nand Automation, Imaging Technologies, Data Analytics and Big Data, Cybersecurity, \\nBlockchain, Ecological Informatics, Geospatial Analytics, Applied Materials etc. State-of- \\nthe-art labs with professional training programs, consultancy, and implementation \\nsolutions to support the government will continue for the benefit of society. \\nVision \\nThe vision of the University is to become a global destination of repute in Digital \\nEducation and Research and to become an academic leader by nurturing futuristic talents \\ncapable of developing innovative and sustainable solutions for the industry, \\nGovernments, and society at large. \\nMission \\nThe motto of the University is to ‘Curate a Responsible Digital World.\" The \\ndevelopment and application of Digital Technologies for social good is the underlying \\nmission of the University. Towards this, the University shall focus on four themes of action,',\n",
       "  'metadata': {'page_label': '4',\n",
       "   'producer': 'iLovePDF',\n",
       "   'creationdate': '',\n",
       "   'doc_index': 5,\n",
       "   'source_file': 'DUK_Admission_Prospectus-2025.pdf',\n",
       "   'content_length': 985,\n",
       "   'total_pages': 31,\n",
       "   'page': 3,\n",
       "   'moddate': '2025-09-29T06:51:30+00:00',\n",
       "   'creator': 'PyPDF',\n",
       "   'source': '..\\\\data\\\\DUK_Admission_Prospectus-2025.pdf',\n",
       "   'file_type': 'pdf'},\n",
       "  'similarity_score': 0.1903945803642273,\n",
       "  'distance': 0.8096054196357727,\n",
       "  'rank': 5}]"
      ]
     },
     "execution_count": 15,
     "metadata": {},
     "output_type": "execute_result"
    }
   ],
   "source": [
    "rag_retriever.retrieve(\"What is Digital University\")"
   ]
  },
  {
   "cell_type": "markdown",
   "id": "13807b1a",
   "metadata": {},
   "source": [
    "\n",
    "Integration Vectordb Context pipeline With LLM output"
   ]
  },
  {
   "cell_type": "code",
   "execution_count": 28,
   "id": "b0a695ca",
   "metadata": {},
   "outputs": [],
   "source": [
    "### Simple RAG pipeline with Groq LLM\n",
    "from langchain_groq import ChatGroq\n",
    "import os\n",
    "from dotenv import load_dotenv\n",
    "load_dotenv()\n",
    "\n",
    "### Initialize the Groq LLM ( GROQ_API_KEY in environment)\n",
    "groq_api_key = os.getenv(\"GROQ_API_KEY\")\n",
    "\n",
    "llm=ChatGroq(groq_api_key=groq_api_key,model_name=\"llama-3.1-8b-instant\",temperature=0.1,max_tokens=1024)\n",
    "\n",
    "## 2. Simple RAG function: retrieve context + generate response\n",
    "def rag_simple(query,retriever,llm,top_k=3):\n",
    "    ## retriever the context\n",
    "    results=retriever.retrieve(query,top_k=top_k)\n",
    "    context=\"\\n\\n\".join([doc['content'] for doc in results]) if results else \"\"\n",
    "    if not context:\n",
    "        return \"No relevant context found to answer the question.\"\n",
    "    \n",
    "    ## generate the answwer using GROQ LLM\n",
    "    prompt=f\"\"\"Use the following context to answer the question concisely.\n",
    "        Context:\n",
    "        {context}\n",
    "\n",
    "        Question: {query}\n",
    "\n",
    "        Answer:\"\"\"\n",
    "    \n",
    "    response=llm.invoke([prompt])\n",
    "    return response.content"
   ]
  },
  {
   "cell_type": "code",
   "execution_count": 17,
   "id": "3777ae2a",
   "metadata": {},
   "outputs": [
    {
     "name": "stdout",
     "output_type": "stream",
     "text": [
      "Retrieving documents for query: 'what is the eligibility to secure admission for MSc Computer Science with specialization in Data Analytics'\n",
      "Top K: 3, Score threshold: 0.0\n",
      "Generating embeddings for 1 texts...\n"
     ]
    },
    {
     "name": "stderr",
     "output_type": "stream",
     "text": [
      "Batches: 100%|██████████| 1/1 [00:00<00:00, 19.88it/s]"
     ]
    },
    {
     "name": "stdout",
     "output_type": "stream",
     "text": [
      "Generated embeddings with shape: (1, 384)\n",
      "Retrieved 3 documents (after filtering)\n"
     ]
    },
    {
     "name": "stderr",
     "output_type": "stream",
     "text": [
      "\n"
     ]
    },
    {
     "name": "stdout",
     "output_type": "stream",
     "text": [
      "Eligibility for MSc Computer Science (Data Analytics):\n",
      "\n",
      "- Hold a 3‑year or 4‑year Bachelor’s degree in Science, Engineering or Mathematics.  \n",
      "- Mathematics or Statistics must be one of the subjects.  \n",
      "- Minimum aggregate of 60 % (or equivalent), with relaxed marks for reserved categories.\n"
     ]
    }
   ],
   "source": [
    "\n",
    "answer=rag_simple(\"what is the eligibility to secure admission for MSc Computer Science with specialization in Data Analytics\",rag_retriever,llm)\n",
    "print(answer)"
   ]
  },
  {
   "cell_type": "code",
   "execution_count": 18,
   "id": "26afa3f0",
   "metadata": {},
   "outputs": [
    {
     "name": "stdout",
     "output_type": "stream",
     "text": [
      "Retrieving documents for query: 'How to get admission in to digital University'\n",
      "Top K: 3, Score threshold: 0.0\n",
      "Generating embeddings for 1 texts...\n"
     ]
    },
    {
     "name": "stderr",
     "output_type": "stream",
     "text": [
      "Batches: 100%|██████████| 1/1 [00:00<00:00, 26.57it/s]"
     ]
    },
    {
     "name": "stdout",
     "output_type": "stream",
     "text": [
      "Generated embeddings with shape: (1, 384)\n",
      "Retrieved 3 documents (after filtering)\n"
     ]
    },
    {
     "name": "stderr",
     "output_type": "stream",
     "text": [
      "\n"
     ]
    },
    {
     "name": "stdout",
     "output_type": "stream",
     "text": [
      "**How to get admission into Digital University Kerala**\n",
      "\n",
      "1. **Check Eligibility**  \n",
      "   - Minimum academic qualifications (e.g., 10+2, bachelor's, etc.) as per the specific course.  \n",
      "   - Age, nationality, and any other prerequisites listed on the university’s website.\n",
      "\n",
      "2. **Visit the Official Portal**  \n",
      "   - Go to the Digital University Kerala website (usually `www.digitaluniversitykerala.ac.in`).  \n",
      "   - Navigate to the “Admissions” or “Prospectus” section.\n",
      "\n",
      "3. **Download & Fill the Application Form**  \n",
      "   - Download the online application form for the desired program.  \n",
      "   - Fill in personal, academic, and contact details accurately.\n",
      "\n",
      "4. **Upload Required Documents**  \n",
      "   - Scan and upload documents such as:  \n",
      "     - Academic certificates & transcripts  \n",
      "     - Identity proof (Aadhaar, passport, etc.)  \n",
      "     - Photograph (as per specifications)  \n",
      "     - Any additional documents requested (e.g., recommendation letters, statement of purpose).\n",
      "\n",
      "5. **Pay the Application Fee**  \n",
      "   - Pay the non‑refundable fee through the portal’s payment gateway (credit/debit card, net banking, UPI, etc.).  \n",
      "   - Keep the receipt for reference.\n",
      "\n",
      "6. **Submit the Application**  \n",
      "   - Review all information, then submit the form online.  \n",
      "   - Note the application confirmation number.\n",
      "\n",
      "7. **Track Status**  \n",
      "   - Log in to the portal using your credentials to check the status of your application (under review, shortlisted, admitted, etc.).\n",
      "\n",
      "8. **Attend Interviews/Exams (if required)**  \n",
      "   - Some courses may require an entrance exam or interview.  \n",
      "   - Follow the schedule and guidelines provided by the university.\n",
      "\n",
      "9. **Receive Admission Offer**  \n",
      "   - Once admitted, you’ll receive an offer letter via email or portal.  \n",
      "   - Accept the offer and pay any required tuition fees.\n",
      "\n",
      "10. **Enroll & Start Classes**  \n",
      "    - Complete any final enrollment steps (e.g., submit original documents, register for courses).  \n",
      "    - Access the digital learning platform and begin your studies.\n",
      "\n",
      "**Tip:** Keep all documents handy and double‑check deadlines to avoid missing any critical dates.\n"
     ]
    }
   ],
   "source": [
    "answer=rag_simple(\"How to get admission in to digital University\",rag_retriever,llm)\n",
    "print(answer)"
   ]
  },
  {
   "cell_type": "code",
   "execution_count": 19,
   "id": "fa0a7dc3",
   "metadata": {},
   "outputs": [
    {
     "name": "stdout",
     "output_type": "stream",
     "text": [
      "Retrieving documents for query: 'what are academic programmes at Digital University'\n",
      "Top K: 3, Score threshold: 0.0\n",
      "Generating embeddings for 1 texts...\n"
     ]
    },
    {
     "name": "stderr",
     "output_type": "stream",
     "text": [
      "Batches: 100%|██████████| 1/1 [00:00<00:00, 24.42it/s]"
     ]
    },
    {
     "name": "stdout",
     "output_type": "stream",
     "text": [
      "Generated embeddings with shape: (1, 384)\n",
      "Retrieved 3 documents (after filtering)\n"
     ]
    },
    {
     "name": "stderr",
     "output_type": "stream",
     "text": [
      "\n"
     ]
    },
    {
     "name": "stdout",
     "output_type": "stream",
     "text": [
      "**Academic programmes offered by the Digital University**\n",
      "\n",
      "| Level | Core focus areas (themes) | Typical programmes |\n",
      "|-------|---------------------------|--------------------|\n",
      "| **Undergraduate** | Intelligence & NLP, IoT, Electronic Systems & Automation, Imaging Technologies, Data Analytics & Big Data, Cybersecurity, Blockchain, Ecological Informatics, Geospatial Analytics, Applied Materials | B.Sc. in Artificial Intelligence, B.Sc. in Internet of Things, B.Sc. in Electronic & Automation Engineering, B.Sc. in Imaging & Vision, B.Sc. in Data Science, B.Sc. in Cybersecurity, B.Sc. in Blockchain Technology, B.Sc. in Ecological Informatics, B.Sc. in Geospatial Analytics, B.Sc. in Applied Materials |\n",
      "| **Graduate (M.Sc.)** | Same themes, with deeper specialization | M.Sc. in AI & NLP, M.Sc. in IoT & Smart Systems, M.Sc. in Electronic Systems & Automation, M.Sc. in Imaging & Computational Vision, M.Sc. in Big Data Analytics, M.Sc. in Cybersecurity & Digital Forensics, M.Sc. in Blockchain & Distributed Ledger, M.Sc. in Ecological Informatics, M.Sc. in Geospatial Analytics, M.Sc. in Applied Materials Science |\n",
      "| **Doctoral (Ph.D.)** | Advanced research in any of the themes | Ph.D. in AI & NLP, Ph.D. in IoT & Cyber-Physical Systems, Ph.D. in Electronic & Automation Engineering, Ph.D. in Imaging Technologies, Ph.D. in Data Analytics & Big Data, Ph.D. in Cybersecurity, Ph.D. in Blockchain & Cryptography, Ph.D. in Ecological Informatics, Ph.D. in Geospatial Analytics, Ph.D. in Applied Materials |\n",
      "| **Professional & Executive** | Industry‑aligned training and consultancy | Professional certificates in AI, IoT, Cybersecurity, Blockchain, Data Analytics, Geospatial Analytics; Executive Master’s in Digital Innovation & Responsible Technology |\n",
      "\n",
      "All programmes are supported by state‑of‑the‑art labs, professional training modules, consultancy services, and implementation solutions aimed at benefiting government and society.\n"
     ]
    }
   ],
   "source": [
    "answer=rag_simple(\"what are academic programmes at Digital University\",rag_retriever,llm)\n",
    "print(answer)"
   ]
  },
  {
   "cell_type": "code",
   "execution_count": 31,
   "id": "4a50d7b9",
   "metadata": {},
   "outputs": [],
   "source": [
    "def rag_with_optimizer(query, retriever, llm, optimizer):\n",
    "    \"\"\"\n",
    "    RAG pipeline using a trained RetrievalOptimizer.\n",
    "\n",
    "    Args:\n",
    "        query (str): User question.\n",
    "        retriever: Your vector/document retriever.\n",
    "        llm: Groq LLM (ChatGroq).\n",
    "        optimizer: RetrievalOptimizer instance with trained policy.\n",
    "\n",
    "    Returns:\n",
    "        str: Generated answer.\n",
    "    \"\"\"\n",
    "    # 1. Determine optimal k\n",
    "    k = optimizer.get_optimal_k(query)\n",
    "    \n",
    "    # 2. Retrieve top-k documents\n",
    "    retrieved_docs = retriever.retrieve(query, top_k=k)\n",
    "    context = \"\\n\\n\".join([doc['content'] for doc in retrieved_docs]) if retrieved_docs else \"\"\n",
    "    \n",
    "    if not context:\n",
    "        return \"No relevant context found to answer the question.\"\n",
    "    \n",
    "    # 3. Build prompt\n",
    "    prompt = f\"\"\"Use the following context to answer the question concisely.\n",
    "Context:\n",
    "{context}\n",
    "\n",
    "Question: {query}\n",
    "\n",
    "Answer:\"\"\"\n",
    "    \n",
    "    # 4. Generate answer\n",
    "    response = llm.invoke([prompt])\n",
    "    return response.content"
   ]
  },
  {
   "cell_type": "markdown",
   "id": "410640b5",
   "metadata": {},
   "source": [
    "\n",
    "Enhanced RAG Pipeline Features"
   ]
  },
  {
   "cell_type": "code",
   "execution_count": null,
   "id": "a09f03ec",
   "metadata": {},
   "outputs": [
    {
     "name": "stdout",
     "output_type": "stream",
     "text": [
      "Retrieving documents for query: 'what are academic programmes at Digital University'\n",
      "Top K: 3, Score threshold: 0.1\n",
      "Generating embeddings for 1 texts...\n"
     ]
    },
    {
     "name": "stderr",
     "output_type": "stream",
     "text": [
      "Batches: 100%|██████████| 1/1 [00:00<00:00, 26.32it/s]"
     ]
    },
    {
     "name": "stdout",
     "output_type": "stream",
     "text": [
      "Generated embeddings with shape: (1, 384)\n",
      "Retrieved 3 documents (after filtering)\n"
     ]
    },
    {
     "name": "stderr",
     "output_type": "stream",
     "text": [
      "\n"
     ]
    },
    {
     "name": "stdout",
     "output_type": "stream",
     "text": [
      "Answer: **Academic programmes offered by the Digital University**\n",
      "\n",
      "| Level | Focus areas (themes) |\n",
      "|-------|----------------------|\n",
      "| **Undergraduate (B.Sc./B.Tech.)** | Intelligence & Natural Language Processing, Internet of Things, Electronic Systems & Automation, Imaging Technologies, Data Analytics & Big Data, Cybersecurity, Blockchain, Ecological Informatics, Geospatial Analytics, Applied Materials |\n",
      "| **Postgraduate (M.Sc./M.Tech.)** | Same thematic tracks as above, with deeper specialization and research components |\n",
      "| **Doctoral (Ph.D.)** | Advanced research in any of the core themes, leading to innovative, sustainable solutions for industry, government, and society |\n",
      "| **Professional & Executive Training** | Short‑term, industry‑aligned courses and certifications in the above domains, designed for skill up‑skilling and consultancy roles |\n",
      "\n",
      "These programmes are delivered through state‑of‑the‑art labs, industry‑partnered projects, and consultancy‑driven learning, all aimed at curating a responsible digital world.\n",
      "Sources: [{'source': 'DUK_Admission_Prospectus-2025.pdf', 'page': 3, 'score': 0.241868257522583, 'preview': 'Intelligence and Natural Language Processing, Internet of Things, Electronic Systems \\nand Automation, Imaging Technologies, Data Analytics and Big Data, Cybersecurity, \\nBlockchain, Ecological Informatics, Geospatial Analytics, Applied Materials etc. State-of- \\nthe-art labs with professional training...'}, {'source': 'DUK_Admission_Prospectus-2025.pdf', 'page': 3, 'score': 0.241868257522583, 'preview': 'Intelligence and Natural Language Processing, Internet of Things, Electronic Systems \\nand Automation, Imaging Technologies, Data Analytics and Big Data, Cybersecurity, \\nBlockchain, Ecological Informatics, Geospatial Analytics, Applied Materials etc. State-of- \\nthe-art labs with professional training...'}, {'source': 'DUK_Admission_Prospectus-2025.pdf', 'page': 3, 'score': 0.241868257522583, 'preview': 'Intelligence and Natural Language Processing, Internet of Things, Electronic Systems \\nand Automation, Imaging Technologies, Data Analytics and Big Data, Cybersecurity, \\nBlockchain, Ecological Informatics, Geospatial Analytics, Applied Materials etc. State-of- \\nthe-art labs with professional training...'}]\n",
      "Confidence: 0.241868257522583\n",
      "Context Preview: Intelligence and Natural Language Processing, Internet of Things, Electronic Systems \n",
      "and Automation, Imaging Technologies, Data Analytics and Big Data, Cybersecurity, \n",
      "Blockchain, Ecological Informatics, Geospatial Analytics, Applied Materials etc. State-of- \n",
      "the-art labs with professional training\n"
     ]
    }
   ],
   "source": [
    "# --- Enhanced RAG Pipeline Features ---\n",
    "def rag_advanced(query, retriever, llm, top_k=5, min_score=0.2, return_context=False):\n",
    "    \"\"\"\n",
    "    RAG pipeline with extra features:\n",
    "    - Returns answer, sources, confidence score, and optionally full context.\n",
    "    \"\"\"\n",
    "    results = retriever.retrieve(query, top_k=top_k, score_threshold=min_score)\n",
    "    if not results:\n",
    "        return {'answer': 'No relevant context found.', 'sources': [], 'confidence': 0.0, 'context': ''}\n",
    "    \n",
    "    # Prepare context and sources\n",
    "    context = \"\\n\\n\".join([doc['content'] for doc in results])\n",
    "    sources = [{\n",
    "        'source': doc['metadata'].get('source_file', doc['metadata'].get('source', 'unknown')),\n",
    "        'page': doc['metadata'].get('page', 'unknown'),\n",
    "        'score': doc['similarity_score'],\n",
    "        'preview': doc['content'][:300] + '...'\n",
    "    } for doc in results]\n",
    "    confidence = max([doc['similarity_score'] for doc in results])\n",
    "    \n",
    "    # Generate answer\n",
    "    prompt = f\"\"\"Use the following context to answer the question concisely.\\nContext:\\n{context}\\n\\nQuestion: {query}\\n\\nAnswer:\"\"\"\n",
    "    response = llm.invoke([prompt.format(context=context, query=query)])\n",
    "    \n",
    "    output = {\n",
    "        'answer': response.content,\n",
    "        'sources': sources,\n",
    "        'confidence': confidence\n",
    "    }\n",
    "    if return_context:\n",
    "        output['context'] = context\n",
    "    return output\n",
    "\n",
    "# Example usage:\n",
    "result = rag_advanced(\"what are academic programmes at Digital University\", rag_retriever, llm, top_k=3, min_score=0.1, return_context=True)\n",
    "print(\"Answer:\", result['answer'])\n",
    "print(\"Sources:\", result['sources'])\n",
    "print(\"Confidence:\", result['confidence'])\n",
    "print(\"Context Preview:\", result['context'][:300])"
   ]
  },
  {
   "cell_type": "code",
   "execution_count": null,
   "id": "d006a6d8",
   "metadata": {},
   "outputs": [
    {
     "name": "stdout",
     "output_type": "stream",
     "text": [
      "Retrieving documents for query: 'what is Digital Access for Community Empowerment '\n",
      "Top K: 3, Score threshold: 0.1\n",
      "Generating embeddings for 1 texts...\n"
     ]
    },
    {
     "name": "stderr",
     "output_type": "stream",
     "text": [
      "Batches: 100%|██████████| 1/1 [00:00<00:00, 28.02it/s]"
     ]
    },
    {
     "name": "stdout",
     "output_type": "stream",
     "text": [
      "Generated embeddings with shape: (1, 384)\n",
      "Retrieved 3 documents (after filtering)\n",
      "Streaming answer:\n",
      "Use the following context to answer the question concisely.\n",
      "Context:\n",
      "activities and certifications that qualify for credits are subjective to the specific school. \n",
      " \n",
      "9.5 Every master program will have a university core that will have a single course called - \n",
      "Digital Access for Community Empowerment - DACE (Level 300) "
     ]
    },
    {
     "name": "stderr",
     "output_type": "stream",
     "text": [
      "\n"
     ]
    },
    {
     "name": "stdout",
     "output_type": "stream",
     "text": [
      "that covers 4 \n",
      "components: \n",
      "a. 2  credit module called Community Empowerment (DE). This is a 5 days outbound \n",
      "program where students get exposed to problems facing society and explore ways to \n",
      "use digital technologies to find solutions.  At the end of the program, the students are \n",
      "expected to work and report their finding through a  short dissertation. \n",
      " \n",
      "b. 1 credit module called Digital Experience Laboratory  (DEL), where they get \n",
      "exposed to various digital technologies through a set of hands -on lab projects.  Each \n",
      "school may have their curriculum for this course. \n",
      " \n",
      "c. 1 credit module called Design Thinking and Innovation (DTI), where students will \n",
      "be exposed to the idea of applying innovative thinking in digital sciences.\n",
      "\n",
      "activities and certifications that qualify for credits are subjective to the specific school. \n",
      " \n",
      "9.5 Every master program will have a university core that will have a single course called - \n",
      "Digital Access for Community Empowerment - DACE (Level 300) that covers 4 \n",
      "components: \n",
      "a. 2  credit module called Community Empowerment (DE). This is a 5 days outbound \n",
      "program where students get exposed to problems facing society and explore ways to \n",
      "use digital technologies to find solutions.  At the end of the program, the students are \n",
      "expected to work and report their finding through a  short dissertation. \n",
      " \n",
      "b. 1 credit module called Digital Experience Laboratory  (DEL), where they get \n",
      "exposed to various digital technologies through a set of hands -on lab projects.  Each \n",
      "school may have their curriculum for this course. \n",
      " \n",
      "c. 1 credit module called Design Thinking and Innovation (DTI), where students will \n",
      "be exposed to the idea of applying innovative thinking in digital sciences.\n",
      "\n",
      "activities and certifications that qualify for credits are subjective to the specific school. \n",
      " \n",
      "9.5 Every master program will have a university core that will have a single course called - \n",
      "Digital Access for Community Empowerment - DACE (Level 300) that covers 4 \n",
      "components: \n",
      "a. 2  credit module called Community Empowerment (DE). This is a 5 days outbound \n",
      "program where students get exposed to problems facing society and explore ways to \n",
      "use digital technologies to find solutions.  At the end of the program, the students are \n",
      "expected to work and report their finding through a  short dissertation. \n",
      " \n",
      "b. 1 credit module called Digital Experience Laboratory  (DEL), where they get \n",
      "exposed to various digital technologies through a set of hands -on lab projects.  Each \n",
      "school may have their curriculum for this course. \n",
      " \n",
      "c. 1 credit module called Design Thinking and Innovation (DTI), where students will \n",
      "be exposed to the idea of applying innovative thinking in digital sciences.\n",
      "\n",
      "Question: what is Digital Access for Community Empowerment \n",
      "\n",
      "Answer:\n",
      "\n",
      "Final Answer: Digital Access for Community Empowerment (DACE) is a Level 300 core course required in every master’s program. It bundles three credit‑earning modules—Community Empowerment (2 credits), Digital Experience Laboratory (1 credit), and Design Thinking & Innovation (1 credit)—to expose students to societal challenges, hands‑on digital tech projects, and innovative problem‑solving.\n",
      "\n",
      "Citations:\n",
      "[1] PG_Regulatuions rev-2023 .pdf (page 5)\n",
      "[2] PG_Regulatuions rev-2023 .pdf (page 5)\n",
      "[3] PG_Regulatuions rev-2023 .pdf (page 5)\n",
      "Summary: Digital Access for Community Empowerment (DACE) is a Level 300 core course required in every master’s program, comprising three credit‑earning modules: Community Empowerment (2 credits), Digital Experience Laboratory (1 credit), and Design Thinking & Innovation (1 credit). The course immerses students in societal challenges, hands‑on digital technology projects, and innovative problem‑solving.\n",
      "History: {'question': 'what is Digital Access for Community Empowerment ', 'answer': 'Digital Access for Community Empowerment (DACE) is a Level\\u202f300 core course required in every master’s program. It bundles three credit‑earning modules—Community Empowerment (2\\u202fcredits), Digital Experience Laboratory (1\\u202fcredit), and Design Thinking & Innovation (1\\u202fcredit)—to expose students to societal challenges, hands‑on digital tech projects, and innovative problem‑solving.', 'sources': [{'source': 'PG_Regulatuions rev-2023 .pdf', 'page': 5, 'score': 0.18411189317703247, 'preview': 'activities and certifications that qualify for credits are subjective to the specific school. \\n \\n9.5 Every master progra...'}, {'source': 'PG_Regulatuions rev-2023 .pdf', 'page': 5, 'score': 0.18411189317703247, 'preview': 'activities and certifications that qualify for credits are subjective to the specific school. \\n \\n9.5 Every master progra...'}, {'source': 'PG_Regulatuions rev-2023 .pdf', 'page': 5, 'score': 0.18411189317703247, 'preview': 'activities and certifications that qualify for credits are subjective to the specific school. \\n \\n9.5 Every master progra...'}], 'summary': 'Digital Access for Community Empowerment (DACE) is a Level\\u202f300 core course required in every master’s program, comprising three credit‑earning modules: Community Empowerment (2\\u202fcredits), Digital Experience Laboratory (1\\u202fcredit), and Design Thinking & Innovation (1\\u202fcredit). The course immerses students in societal challenges, hands‑on digital technology projects, and innovative problem‑solving.'}\n"
     ]
    }
   ],
   "source": [
    "# --- Advanced RAG Pipeline: Streaming, Citations, History, Summarization ---\n",
    "from typing import List, Dict, Any\n",
    "import time\n",
    "\n",
    "class AdvancedRAGPipeline:\n",
    "    def __init__(self, retriever, llm):\n",
    "        self.retriever = retriever\n",
    "        self.llm = llm\n",
    "        self.history = []  # Store query history\n",
    "\n",
    "    def query(self, question: str, top_k: int = 5, min_score: float = 0.2, stream: bool = False, summarize: bool = False) -> Dict[str, Any]:\n",
    "        # Retrieve relevant documents\n",
    "        results = self.retriever.retrieve(question, top_k=top_k, score_threshold=min_score)\n",
    "        if not results:\n",
    "            answer = \"No relevant context found.\"\n",
    "            sources = []\n",
    "            context = \"\"\n",
    "        else:\n",
    "            context = \"\\n\\n\".join([doc['content'] for doc in results])\n",
    "            sources = [{\n",
    "                'source': doc['metadata'].get('source_file', doc['metadata'].get('source', 'unknown')),\n",
    "                'page': doc['metadata'].get('page', 'unknown'),\n",
    "                'score': doc['similarity_score'],\n",
    "                'preview': doc['content'][:120] + '...'\n",
    "            } for doc in results]\n",
    "            # Streaming answer simulation\n",
    "            prompt = f\"\"\"Use the following context to answer the question concisely.\\nContext:\\n{context}\\n\\nQuestion: {question}\\n\\nAnswer:\"\"\"\n",
    "            if stream:\n",
    "                print(\"Streaming answer:\")\n",
    "                for i in range(0, len(prompt), 80):\n",
    "                    print(prompt[i:i+80], end='', flush=True)\n",
    "                    time.sleep(0.05)\n",
    "                print()\n",
    "            response = self.llm.invoke([prompt.format(context=context, question=question)])\n",
    "            answer = response.content\n",
    "\n",
    "        # Add citations to answer\n",
    "        citations = [f\"[{i+1}] {src['source']} (page {src['page']})\" for i, src in enumerate(sources)]\n",
    "        answer_with_citations = answer + \"\\n\\nCitations:\\n\" + \"\\n\".join(citations) if citations else answer\n",
    "\n",
    "        # Optionally summarize answer\n",
    "        summary = None\n",
    "        if summarize and answer:\n",
    "            summary_prompt = f\"Summarize the following answer in 2 sentences:\\n{answer}\"\n",
    "            summary_resp = self.llm.invoke([summary_prompt])\n",
    "            summary = summary_resp.content\n",
    "\n",
    "        # Store query history\n",
    "        self.history.append({\n",
    "            'question': question,\n",
    "            'answer': answer,\n",
    "            'sources': sources,\n",
    "            'summary': summary\n",
    "        })\n",
    "\n",
    "        return {\n",
    "            'question': question,\n",
    "            'answer': answer_with_citations,\n",
    "            'sources': sources,\n",
    "            'summary': summary,\n",
    "            'history': self.history\n",
    "        }\n",
    "\n",
    "# Example usage:\n",
    "adv_rag = AdvancedRAGPipeline(rag_retriever, llm)\n",
    "result = adv_rag.query(\"what is Digital Access for Community Empowerment \", top_k=3, min_score=0.1, stream=True, summarize=True)\n",
    "print(\"\\nFinal Answer:\", result['answer'])\n",
    "print(\"Summary:\", result['summary'])\n",
    "print(\"History:\", result['history'][-1])"
   ]
  },
  {
   "cell_type": "markdown",
   "id": "77287989",
   "metadata": {},
   "source": [
    "# (c) Reinforcement Learning for Retrieval Optimization"
   ]
  },
  {
   "cell_type": "code",
   "execution_count": null,
   "id": "98fb2a46",
   "metadata": {},
   "outputs": [],
   "source": [
    "import random\n",
    "import numpy as np\n",
    "\n",
    "class RetrievalOptimizer:\n",
    "    \"\"\"\n",
    "    Simulated RL policy to optimize number of retrieved documents (k)\n",
    "    based on reward = accuracy - token cost.\n",
    "    \"\"\"\n",
    "    def __init__(self, retriever, llm, max_k=10):\n",
    "        self.retriever = retriever\n",
    "        self.llm = llm\n",
    "        self.max_k = max_k\n",
    "        self.policy = {}  # store learned optimal k per topic\n",
    "\n",
    "    def reward_function(self, response_quality: float, tokens_used: int) -> float:\n",
    "        alpha, beta = 1.0, 0.001  # tune weights\n",
    "        return alpha * response_quality - beta * tokens_used\n",
    "\n",
    "    def evaluate_response(self, answer: str, question: str) -> float:\n",
    "        \"\"\"\n",
    "        Approximate correctness score using cosine similarity between\n",
    "        embeddings of question and answer (as a weak signal).\n",
    "        \"\"\"\n",
    "        emb_q = self.retriever.embedding_manager.generate_embeddings([question])[0]\n",
    "        emb_a = self.retriever.embedding_manager.generate_embeddings([answer])[0]\n",
    "        return float(np.dot(emb_q, emb_a) / (np.linalg.norm(emb_q) * np.linalg.norm(emb_a)))\n",
    "\n",
    "    def train(self, training_queries: list):\n",
    "        \"\"\"\n",
    "        Learn optimal k for each query by simulating multiple k values.\n",
    "        \"\"\"\n",
    "        print(\"Training RL retrieval policy...\")\n",
    "        for query in training_queries:\n",
    "            best_k, best_reward = 3, -np.inf\n",
    "            for k in range(1, self.max_k + 1):\n",
    "                results = self.retriever.retrieve(query, top_k=k)\n",
    "                context = \"\\n\\n\".join([r['content'] for r in results])\n",
    "                if not context:\n",
    "                    continue\n",
    "                prompt = f\"Use the context below to answer:\\n{context}\\n\\nQuestion: {query}\\nAnswer:\"\n",
    "                response = self.llm.invoke([prompt])\n",
    "                quality = self.evaluate_response(response.content, query)\n",
    "                tokens_used = len(prompt.split())\n",
    "                reward = self.reward_function(quality, tokens_used)\n",
    "                if reward > best_reward:\n",
    "                    best_reward, best_k = reward, k\n",
    "            self.policy[query] = best_k\n",
    "            print(f\"Learned k={best_k} for query '{query}' (reward={best_reward:.3f})\")\n",
    "        print(\"Policy training complete.\\n\")\n",
    "\n",
    "    def get_optimal_k(self, query: str) -> int:\n",
    "        \"\"\"Return optimal k (fallback to average if unseen)\"\"\"\n",
    "        if query in self.policy:\n",
    "            return self.policy[query]\n",
    "        return int(np.mean(list(self.policy.values()))) if self.policy else 3\n"
   ]
  },
  {
   "cell_type": "code",
   "execution_count": null,
   "id": "47d5302f",
   "metadata": {},
   "outputs": [
    {
     "name": "stdout",
     "output_type": "stream",
     "text": [
      "✅ Found existing trained policy. Loading instead of retraining...\n",
      "Loaded policy from ../data/reward_policy.pkl\n"
     ]
    }
   ],
   "source": [
    "import json\n",
    "import pickle\n",
    "import os\n",
    "\n",
    "# Paths\n",
    "json_path = \"../data/duk_training_data.json\"\n",
    "optimizer_path = \"../data/reward_policy.pkl\"\n",
    "\n",
    "# Load training queries from JSON\n",
    "with open(json_path, \"r\", encoding=\"utf-8\") as f:\n",
    "    data = json.load(f)\n",
    "\n",
    "training_queries = [item[\"query\"] for item in data]\n",
    "\n",
    "# Initialize optimizer\n",
    "optimizer = RetrievalOptimizer(retriever=rag_retriever, llm=llm, max_k=3)\n",
    "\n",
    "# Check if a trained policy already exists\n",
    "if os.path.exists(optimizer_path):\n",
    "    print(\"✅ Found existing trained policy. Loading instead of retraining...\")\n",
    "    with open(optimizer_path, \"rb\") as f:\n",
    "        optimizer.policy = pickle.load(f)\n",
    "    print(f\"Loaded policy from {optimizer_path}\")\n",
    "else:\n",
    "    print(\"🚀 No existing policy found. Starting training...\")\n",
    "    optimizer.train(training_queries)\n",
    "\n",
    "    # Save the newly trained policy\n",
    "    with open(optimizer_path, \"wb\") as f:\n",
    "        pickle.dump(optimizer.policy, f)\n",
    "    print(f\"Policy saved to {optimizer_path}\")"
   ]
  },
  {
   "cell_type": "code",
   "execution_count": null,
   "id": "b6afbc0d",
   "metadata": {},
   "outputs": [
    {
     "name": "stdout",
     "output_type": "stream",
     "text": [
      "Retrieving documents for query: 'What are the MTech specializations offered at DUK?'\n",
      "Top K: 1, Score threshold: 0.0\n",
      "Generating embeddings for 1 texts...\n"
     ]
    },
    {
     "name": "stderr",
     "output_type": "stream",
     "text": [
      "Batches: 100%|██████████| 1/1 [00:00<00:00, 22.61it/s]"
     ]
    },
    {
     "name": "stdout",
     "output_type": "stream",
     "text": [
      "Generated embeddings with shape: (1, 384)\n",
      "Retrieved 1 documents (after filtering)\n"
     ]
    },
    {
     "name": "stderr",
     "output_type": "stream",
     "text": [
      "\n"
     ]
    },
    {
     "name": "stdout",
     "output_type": "stream",
     "text": [
      "Generating embeddings for 1 texts...\n"
     ]
    },
    {
     "name": "stderr",
     "output_type": "stream",
     "text": [
      "Batches: 100%|██████████| 1/1 [00:00<00:00, 34.85it/s]\n"
     ]
    },
    {
     "name": "stdout",
     "output_type": "stream",
     "text": [
      "Generated embeddings with shape: (1, 384)\n",
      "Generating embeddings for 1 texts...\n"
     ]
    },
    {
     "name": "stderr",
     "output_type": "stream",
     "text": [
      "Batches: 100%|██████████| 1/1 [00:00<00:00,  9.57it/s]\n"
     ]
    },
    {
     "name": "stdout",
     "output_type": "stream",
     "text": [
      "Generated embeddings with shape: (1, 384)\n",
      "Retrieving documents for query: 'What is the eligibility requirement for MBA admission?'\n",
      "Top K: 1, Score threshold: 0.0\n",
      "Generating embeddings for 1 texts...\n"
     ]
    },
    {
     "name": "stderr",
     "output_type": "stream",
     "text": [
      "Batches: 100%|██████████| 1/1 [00:00<00:00, 23.02it/s]\n"
     ]
    },
    {
     "name": "stdout",
     "output_type": "stream",
     "text": [
      "Generated embeddings with shape: (1, 384)\n",
      "Retrieved 1 documents (after filtering)\n",
      "Generating embeddings for 1 texts...\n"
     ]
    },
    {
     "name": "stderr",
     "output_type": "stream",
     "text": [
      "Batches: 100%|██████████| 1/1 [00:00<00:00, 39.27it/s]\n"
     ]
    },
    {
     "name": "stdout",
     "output_type": "stream",
     "text": [
      "Generated embeddings with shape: (1, 384)\n",
      "Generating embeddings for 1 texts...\n"
     ]
    },
    {
     "name": "stderr",
     "output_type": "stream",
     "text": [
      "Batches: 100%|██████████| 1/1 [00:00<00:00, 12.04it/s]\n"
     ]
    },
    {
     "name": "stdout",
     "output_type": "stream",
     "text": [
      "Generated embeddings with shape: (1, 384)\n",
      "Retrieving documents for query: 'What is DUAT and how is it conducted?'\n",
      "Top K: 1, Score threshold: 0.0\n",
      "Generating embeddings for 1 texts...\n"
     ]
    },
    {
     "name": "stderr",
     "output_type": "stream",
     "text": [
      "Batches: 100%|██████████| 1/1 [00:00<00:00, 29.00it/s]\n"
     ]
    },
    {
     "name": "stdout",
     "output_type": "stream",
     "text": [
      "Generated embeddings with shape: (1, 384)\n",
      "Retrieved 0 documents (after filtering)\n",
      "Retrieving documents for query: 'What is the application fee for DUAT?'\n",
      "Top K: 1, Score threshold: 0.0\n",
      "Generating embeddings for 1 texts...\n"
     ]
    },
    {
     "name": "stderr",
     "output_type": "stream",
     "text": [
      "Batches: 100%|██████████| 1/1 [00:00<00:00, 23.84it/s]\n"
     ]
    },
    {
     "name": "stdout",
     "output_type": "stream",
     "text": [
      "Generated embeddings with shape: (1, 384)\n",
      "Retrieved 1 documents (after filtering)\n",
      "Generating embeddings for 1 texts...\n"
     ]
    },
    {
     "name": "stderr",
     "output_type": "stream",
     "text": [
      "Batches: 100%|██████████| 1/1 [00:00<00:00, 43.00it/s]\n"
     ]
    },
    {
     "name": "stdout",
     "output_type": "stream",
     "text": [
      "Generated embeddings with shape: (1, 384)\n",
      "Generating embeddings for 1 texts...\n"
     ]
    },
    {
     "name": "stderr",
     "output_type": "stream",
     "text": [
      "Batches: 100%|██████████| 1/1 [00:00<00:00, 17.91it/s]\n"
     ]
    },
    {
     "name": "stdout",
     "output_type": "stream",
     "text": [
      "Generated embeddings with shape: (1, 384)\n",
      "Retrieving documents for query: 'Is hostel accommodation available for male students?'\n",
      "Top K: 1, Score threshold: 0.0\n",
      "Generating embeddings for 1 texts...\n"
     ]
    },
    {
     "name": "stderr",
     "output_type": "stream",
     "text": [
      "Batches: 100%|██████████| 1/1 [00:00<00:00, 24.07it/s]\n"
     ]
    },
    {
     "name": "stdout",
     "output_type": "stream",
     "text": [
      "Generated embeddings with shape: (1, 384)\n",
      "Retrieved 0 documents (after filtering)\n",
      "Retrieving documents for query: 'What is the Earn While You Learn scheme?'\n",
      "Top K: 3, Score threshold: 0.0\n",
      "Generating embeddings for 1 texts...\n"
     ]
    },
    {
     "name": "stderr",
     "output_type": "stream",
     "text": [
      "Batches: 100%|██████████| 1/1 [00:00<00:00, 19.64it/s]\n"
     ]
    },
    {
     "name": "stdout",
     "output_type": "stream",
     "text": [
      "Generated embeddings with shape: (1, 384)\n",
      "Retrieved 0 documents (after filtering)\n",
      "Retrieving documents for query: 'Explain the DUAT syllabus and marking scheme for MSc and MTech programmes.'\n",
      "Top K: 1, Score threshold: 0.0\n",
      "Generating embeddings for 1 texts...\n"
     ]
    },
    {
     "name": "stderr",
     "output_type": "stream",
     "text": [
      "Batches: 100%|██████████| 1/1 [00:00<00:00, 16.58it/s]\n"
     ]
    },
    {
     "name": "stdout",
     "output_type": "stream",
     "text": [
      "Generated embeddings with shape: (1, 384)\n",
      "Retrieved 1 documents (after filtering)\n",
      "Generating embeddings for 1 texts...\n"
     ]
    },
    {
     "name": "stderr",
     "output_type": "stream",
     "text": [
      "Batches: 100%|██████████| 1/1 [00:00<00:00, 20.64it/s]\n"
     ]
    },
    {
     "name": "stdout",
     "output_type": "stream",
     "text": [
      "Generated embeddings with shape: (1, 384)\n",
      "Generating embeddings for 1 texts...\n"
     ]
    },
    {
     "name": "stderr",
     "output_type": "stream",
     "text": [
      "Batches: 100%|██████████| 1/1 [00:00<00:00,  7.37it/s]"
     ]
    },
    {
     "name": "stdout",
     "output_type": "stream",
     "text": [
      "Generated embeddings with shape: (1, 384)\n",
      "Retrieving documents for query: 'Compare the focus areas of School of Digital Sciences and School of Digital Humanities.'\n",
      "Top K: 1, Score threshold: 0.0\n",
      "Generating embeddings for 1 texts...\n"
     ]
    },
    {
     "name": "stderr",
     "output_type": "stream",
     "text": [
      "\n",
      "Batches: 100%|██████████| 1/1 [00:00<00:00, 23.24it/s]\n"
     ]
    },
    {
     "name": "stdout",
     "output_type": "stream",
     "text": [
      "Generated embeddings with shape: (1, 384)\n",
      "Retrieved 1 documents (after filtering)\n",
      "Generating embeddings for 1 texts...\n"
     ]
    },
    {
     "name": "stderr",
     "output_type": "stream",
     "text": [
      "Batches: 100%|██████████| 1/1 [00:00<00:00, 46.20it/s]\n"
     ]
    },
    {
     "name": "stdout",
     "output_type": "stream",
     "text": [
      "Generated embeddings with shape: (1, 384)\n",
      "Generating embeddings for 1 texts...\n"
     ]
    },
    {
     "name": "stderr",
     "output_type": "stream",
     "text": [
      "Batches: 100%|██████████| 1/1 [00:00<00:00,  7.70it/s]\n"
     ]
    },
    {
     "name": "stdout",
     "output_type": "stream",
     "text": [
      "Generated embeddings with shape: (1, 384)\n",
      "Retrieving documents for query: 'Explain the steps to apply for DUK scholarships and financial aid.'\n",
      "Top K: 1, Score threshold: 0.0\n",
      "Generating embeddings for 1 texts...\n"
     ]
    },
    {
     "name": "stderr",
     "output_type": "stream",
     "text": [
      "Batches: 100%|██████████| 1/1 [00:00<00:00, 24.53it/s]\n"
     ]
    },
    {
     "name": "stdout",
     "output_type": "stream",
     "text": [
      "Generated embeddings with shape: (1, 384)\n",
      "Retrieved 1 documents (after filtering)\n",
      "Generating embeddings for 1 texts...\n"
     ]
    },
    {
     "name": "stderr",
     "output_type": "stream",
     "text": [
      "Batches: 100%|██████████| 1/1 [00:00<00:00, 26.67it/s]\n"
     ]
    },
    {
     "name": "stdout",
     "output_type": "stream",
     "text": [
      "Generated embeddings with shape: (1, 384)\n",
      "Generating embeddings for 1 texts...\n"
     ]
    },
    {
     "name": "stderr",
     "output_type": "stream",
     "text": [
      "Batches: 100%|██████████| 1/1 [00:00<00:00,  6.11it/s]\n"
     ]
    },
    {
     "name": "stdout",
     "output_type": "stream",
     "text": [
      "Generated embeddings with shape: (1, 384)\n",
      "Retrieving documents for query: 'Summarize DUK’s vision, mission, and core values in your own words.'\n",
      "Top K: 1, Score threshold: 0.0\n",
      "Generating embeddings for 1 texts...\n"
     ]
    },
    {
     "name": "stderr",
     "output_type": "stream",
     "text": [
      "Batches: 100%|██████████| 1/1 [00:00<00:00, 18.18it/s]"
     ]
    },
    {
     "name": "stdout",
     "output_type": "stream",
     "text": [
      "Generated embeddings with shape: (1, 384)\n",
      "Retrieved 0 documents (after filtering)\n",
      "Query: What are the MTech specializations offered at DUK?\n",
      "Optimal k: 1\n",
      "Answer: The MTech specializations offered at DUK are:\n",
      "\n",
      "1. Computer Science and Engineering (specializations: \n",
      "   - connected systems and intelligence\n",
      "   - artificial intelligence\n",
      "   - cybersecurity engineering)\n",
      "\n",
      "2. Electronics Engineering (specializations: \n",
      "   - Analog Hardware\n",
      "   - VLSI\n",
      "   - IoT and Robotics)\n",
      "Reward: 0.6664936141967773\n",
      "--------------------------------------------------\n",
      "Query: What is the eligibility requirement for MBA admission?\n",
      "Optimal k: 1\n",
      "Answer: A valid entrance examination score approved by the University (CUET(PG), CAT, CMAT, KMAT, XAT, NMAT, GRE, DUAT) and a Bachelor's degree with a minimum aggregate of 60% marks (or equivalent, with relaxation for reserved categories as per University norms).\n",
      "Reward: 0.39599870538711546\n",
      "--------------------------------------------------\n",
      "Query: What is DUAT and how is it conducted?\n",
      "Optimal k: 1\n",
      "Answer: No relevant context found to answer the question.\n",
      "Reward: 0.0\n",
      "--------------------------------------------------\n",
      "Query: What is the application fee for DUAT?\n",
      "Optimal k: 1\n",
      "Answer: For candidates appearing for DUAT, the application fee is 2750 for General category candidates and 375 for SC/ST/Divyang candidates.\n",
      "Reward: 0.6679830555915832\n",
      "--------------------------------------------------\n",
      "Query: Is hostel accommodation available for male students?\n",
      "Optimal k: 1\n",
      "Answer: No relevant context found to answer the question.\n",
      "Reward: 0.0\n",
      "--------------------------------------------------\n",
      "Query: What is the Earn While You Learn scheme?\n",
      "Optimal k: 3\n",
      "Answer: No relevant context found to answer the question.\n",
      "Reward: 0.0\n",
      "--------------------------------------------------\n",
      "Query: Explain the DUAT syllabus and marking scheme for MSc and MTech programmes.\n",
      "Optimal k: 1\n",
      "Answer: Unfortunately, the provided context does not explicitly mention the DUAT syllabus and marking scheme for MSc and MTech programmes. However, based on the given information, we can infer that the DUAT exam is a part of the admission process for various programmes, including MSc and MTech.\n",
      "\n",
      "For MSc Applied Physics, the DUAT test paper code is DUATO03, which is associated with the M.Tech. Electronics Engineering programme. This suggests that the DUAT syllabus and marking scheme for MSc Applied Physics might be similar to that of M.Tech. Electronics Engineering.\n",
      "\n",
      "For M.Tech. programmes, the test paper codes are MTQP04, MTQP05, MTQP09, and MTQP10. However, the specific syllabus and marking scheme for each programme are not mentioned.\n",
      "\n",
      "To get the exact syllabus and marking scheme for MSc and MTech programmes, you would need to refer to the official website of the university or the admission portal.\n",
      "Reward: 0.6430647053718567\n",
      "--------------------------------------------------\n",
      "Query: Compare the focus areas of School of Digital Sciences and School of Digital Humanities.\n",
      "Optimal k: 1\n",
      "Answer: Unfortunately, I don't have the specific information about the focus areas of the School of Digital Sciences and School of Digital Humanities from the given context. However, based on general knowledge, I can provide a comparison:\n",
      "\n",
      "- **School of Digital Sciences**: Focus areas typically include computer science, data science, artificial intelligence, machine learning, cybersecurity, and software engineering.\n",
      "\n",
      "- **School of Digital Humanities**: Focus areas typically include digital media, digital culture, digital history, digital pedagogy, digital scholarship, and digital preservation of cultural heritage.\n",
      "\n",
      "Please note that this comparison is based on general knowledge and may not reflect the specific focus areas of the Digital University Kerala.\n",
      "Reward: 0.7679216899871826\n",
      "--------------------------------------------------\n",
      "Query: Explain the steps to apply for DUK scholarships and financial aid.\n",
      "Optimal k: 1\n",
      "Answer: Unfortunately, the provided context does not explicitly mention the steps to apply for DUK scholarships and financial aid. However, based on the given information, here's a possible outline of the steps:\n",
      "\n",
      "1. **Admission to PhD program**: First, candidates need to get admitted to the PhD program by paying an admission fee of Rs 10,000 and a refundable caution deposit of Rs 5,000.\n",
      "2. **Eligibility check**: Candidates who are not project assistants and do not have external fellowships such as JRF may be eligible for the DUK scholarship.\n",
      "3. **Application for DUK scholarship**: Eligible candidates need to apply for the DUK scholarship, which is expected to be available for those who meet the eligibility criteria.\n",
      "4. **Contribution to academic activities**: Students who receive the DUK scholarship are expected to contribute to the academic activities of the University for around 10 hours every week.\n",
      "\n",
      "Please note that these steps are inferred based on the provided context and may not be the actual steps to apply for DUK scholarships and financial aid.\n",
      "Reward: 0.627925633430481\n",
      "--------------------------------------------------\n",
      "Query: Summarize DUK’s vision, mission, and core values in your own words.\n",
      "Optimal k: 1\n",
      "Answer: No relevant context found to answer the question.\n",
      "Reward: 0.0\n",
      "--------------------------------------------------\n"
     ]
    },
    {
     "name": "stderr",
     "output_type": "stream",
     "text": [
      "\n"
     ]
    }
   ],
   "source": [
    "results = []\n",
    "\n",
    "for query in test_queries:\n",
    "    # 1. Get the optimal number of documents from the trained policy\n",
    "    k = optimizer.get_optimal_k(query)\n",
    "    \n",
    "    # 2. Retrieve top-k relevant documents\n",
    "    retrieved_docs = rag_retriever.retrieve(query, top_k=k)\n",
    "    context = \"\\n\\n\".join([doc['content'] for doc in retrieved_docs]) if retrieved_docs else \"\"\n",
    "    \n",
    "    if not context:\n",
    "        # No documents retrieved\n",
    "        answer = \"No relevant context found to answer the question.\"\n",
    "        reward = 0.0\n",
    "    else:\n",
    "        # 3. Generate answer using Groq LLM\n",
    "        prompt = f\"\"\"Use the following context to answer the question concisely.\n",
    "Context:\n",
    "{context}\n",
    "\n",
    "Question: {query}\n",
    "\n",
    "Answer:\"\"\"\n",
    "\n",
    "        response = llm.invoke([prompt])  # invoke returns an object with .content\n",
    "        answer = response.content\n",
    "\n",
    "        # 4. Compute reward based on your optimizer\n",
    "        reward = optimizer.reward_function(\n",
    "            optimizer.evaluate_response(answer, query),\n",
    "            tokens_used=len(prompt.split())\n",
    "        )\n",
    "    \n",
    "    # 5. Store results\n",
    "    results.append({\n",
    "        \"query\": query,\n",
    "        \"k\": k,\n",
    "        \"answer\": answer,\n",
    "        \"reward\": reward\n",
    "    })\n",
    "\n",
    "# Optional: view results\n",
    "for r in results:\n",
    "    print(f\"Query: {r['query']}\\nOptimal k: {r['k']}\\nAnswer: {r['answer']}\\nReward: {r['reward']}\\n{'-'*50}\")\n"
   ]
  },
  {
   "cell_type": "code",
   "execution_count": 47,
   "id": "7c984af1",
   "metadata": {},
   "outputs": [
    {
     "name": "stdout",
     "output_type": "stream",
     "text": [
      "Retrieving documents for query: 'What are the MTech specializations offered at DUK?'\n",
      "Top K: 1, Score threshold: 0.0\n",
      "Generating embeddings for 1 texts...\n"
     ]
    },
    {
     "name": "stderr",
     "output_type": "stream",
     "text": [
      "Batches: 100%|██████████| 1/1 [00:00<00:00, 12.13it/s]"
     ]
    },
    {
     "name": "stdout",
     "output_type": "stream",
     "text": [
      "Generated embeddings with shape: (1, 384)\n",
      "Retrieved 1 documents (after filtering)\n"
     ]
    },
    {
     "name": "stderr",
     "output_type": "stream",
     "text": [
      "\n"
     ]
    },
    {
     "name": "stdout",
     "output_type": "stream",
     "text": [
      "Answer: The MTech specializations offered at DUK are:\n",
      "\n",
      "1. Computer Science and Engineering (specializations: \n",
      "   - Connected systems and intelligence\n",
      "   - Artificial intelligence\n",
      "   - Cybersecurity engineering)\n",
      "\n",
      "2. Electronics Engineering (specializations: \n",
      "   - Analog Hardware\n",
      "   - VLSI\n",
      "   - IoT and Robotics)\n"
     ]
    }
   ],
   "source": [
    "query = \"What are the MTech specializations offered at DUK?\"\n",
    "answer = rag_with_optimizer(query, rag_retriever, llm, optimizer)\n",
    "print(f\"Answer: {answer}\")"
   ]
  },
  {
   "cell_type": "markdown",
   "id": "03c31002",
   "metadata": {},
   "source": [
    "# Hallucination detection module"
   ]
  },
  {
   "cell_type": "code",
   "execution_count": 48,
   "id": "eae87fa2",
   "metadata": {},
   "outputs": [],
   "source": [
    "# hallucination_detector.py\n",
    "from sentence_transformers import SentenceTransformer, util\n",
    "\n",
    "class HallucinationDetector:\n",
    "    \"\"\"\n",
    "    Detect hallucinations in LLM responses by comparing them\n",
    "    with retrieved evidence using semantic similarity.\n",
    "    \"\"\"\n",
    "\n",
    "    def __init__(self, model_name=\"all-MiniLM-L6-v2\", threshold=0.75):\n",
    "        \"\"\"\n",
    "        :param model_name: Embedding model for similarity comparison.\n",
    "        :param threshold: Minimum cosine similarity for the response\n",
    "                          to be considered grounded.\n",
    "        \"\"\"\n",
    "        self.model = SentenceTransformer(model_name)\n",
    "        self.threshold = threshold\n",
    "\n",
    "    def compute_similarity(self, response: str, retrieved_chunks: list) -> float:\n",
    "        \"\"\"\n",
    "        Compute similarity between generated response and retrieved context.\n",
    "        \"\"\"\n",
    "        context_text = \" \".join(retrieved_chunks)\n",
    "        resp_emb = self.model.encode(response, convert_to_tensor=True)\n",
    "        ctx_emb = self.model.encode(context_text, convert_to_tensor=True)\n",
    "        sim = util.cos_sim(resp_emb, ctx_emb).item()\n",
    "        return sim\n",
    "\n",
    "    def detect(self, response: str, retrieved_chunks: list) -> dict:\n",
    "        \"\"\"\n",
    "        Detect hallucination based on similarity threshold.\n",
    "        Returns a dictionary with similarity score and hallucination flag.\n",
    "        \"\"\"\n",
    "        similarity = self.compute_similarity(response, retrieved_chunks)\n",
    "        is_grounded = similarity >= self.threshold\n",
    "\n",
    "        return {\n",
    "            \"similarity\": round(similarity, 3),\n",
    "            \"is_grounded\": is_grounded,\n",
    "            \"status\": \"Grounded ✅\" if is_grounded else \"Hallucination ⚠️\"\n",
    "        }\n"
   ]
  },
  {
   "cell_type": "code",
   "execution_count": 58,
   "id": "2f2476ce",
   "metadata": {},
   "outputs": [
    {
     "name": "stdout",
     "output_type": "stream",
     "text": [
      "Retrieving documents for query: 'what is the eligibility to secure admission for MSc Computer Science with specialization in Data Analytics'\n",
      "Top K: 5, Score threshold: 0.0\n",
      "Generating embeddings for 1 texts...\n"
     ]
    },
    {
     "name": "stderr",
     "output_type": "stream",
     "text": [
      "Batches: 100%|██████████| 1/1 [00:00<00:00,  2.89it/s]\n"
     ]
    },
    {
     "name": "stdout",
     "output_type": "stream",
     "text": [
      "Generated embeddings with shape: (1, 384)\n",
      "Retrieved 5 documents (after filtering)\n",
      "Answer: Candidates must possess either a 3-year or a 4-year Bachelor's degree in Science/Engineering/Mathematics, with Mathematics/Statistics as one of the subjects, and a minimum aggregate of 60% marks (or equivalent). Relaxation in marks will be provided for reserved categories as per University norms.\n",
      "Hallucination Status: Grounded ✅\n",
      "Similarity Score: 0.63\n"
     ]
    }
   ],
   "source": [
    "# After getting response from LLM\n",
    "\n",
    "\n",
    "hallucination_detector = HallucinationDetector(threshold=0.50)\n",
    "\n",
    "def rag_with_hallucination(query, retriever, llm, top_k=5):\n",
    "    results = retriever.retrieve(query, top_k=top_k)\n",
    "    context = \"\\n\\n\".join([doc['content'] for doc in results])\n",
    "    response_prompt = f\"\"\"Use the following context to answer the question concisely.\n",
    "    Context:\n",
    "    {context}\n",
    "\n",
    "    Question: {query}\n",
    "\n",
    "    Answer:\"\"\"\n",
    "    response = llm.invoke([response_prompt])\n",
    "\n",
    "    # Run hallucination check\n",
    "    retrieved_chunks = [doc['content'] for doc in results]\n",
    "    hallucination_result = hallucination_detector.detect(response.content, retrieved_chunks)\n",
    "\n",
    "    # Combine results\n",
    "    print(\"Answer:\", response.content)\n",
    "    print(\"Hallucination Status:\", hallucination_result['status'])\n",
    "    print(\"Similarity Score:\", hallucination_result['similarity'])\n",
    "    \n",
    "    return {\n",
    "        \"query\": query,\n",
    "        \"answer\": response.content,\n",
    "        \"hallucination_result\": hallucination_result\n",
    "    }\n",
    "\n",
    "# Example run\n",
    "result = rag_with_hallucination(\n",
    "    \"what is the eligibility to secure admission for MSc Computer Science with specialization in Data Analytics\",\n",
    "    rag_retriever,\n",
    "    llm\n",
    ")\n"
   ]
  },
  {
   "cell_type": "code",
   "execution_count": 59,
   "id": "6f28d9b2",
   "metadata": {},
   "outputs": [],
   "source": [
    "# Access the nested hallucination dict correctly\n",
    "hallucination_data = result[\"hallucination_result\"]\n",
    "\n",
    "if not hallucination_data[\"is_grounded\"]:\n",
    "    print(\"⚠️ Regenerating grounded response...\")\n",
    "    grounded_prompt = f\"\"\"Answer ONLY using the context below.\n",
    "    If the answer is not present, reply: 'Information not found in the context.'\n",
    "\n",
    "    Context:\n",
    "    {context}\n",
    "\n",
    "    Question: {query}\n",
    "\n",
    "    Answer:\"\"\"\n",
    "    response = llm.invoke([grounded_prompt])\n",
    "\n",
    "    print(\"Regenerated (Grounded) Answer:\", response.content)\n"
   ]
  },
  {
   "cell_type": "code",
   "execution_count": 60,
   "id": "96f04cea",
   "metadata": {},
   "outputs": [],
   "source": [
    "import json\n",
    "from datetime import datetime\n",
    "\n",
    "def rag_with_hallucination_control(query, retriever, llm, hallucination_detector, top_k=5, similarity_threshold=0.75, log_path=\"../data/hallucination_log.json\"):\n",
    "    \"\"\"\n",
    "    Complete RAG pipeline with hallucination detection and control.\n",
    "    Steps:\n",
    "    1. Retrieve top-k relevant chunks.\n",
    "    2. Generate LLM answer.\n",
    "    3. Detect hallucination using semantic similarity.\n",
    "    4. If hallucinated, regenerate grounded response.\n",
    "    5. Log results for analysis.\n",
    "    \"\"\"\n",
    "\n",
    "    print(f\"\\n🔍 Query: {query}\")\n",
    "    print(f\"Retrieving top {top_k} documents...\")\n",
    "\n",
    "    # Step 1: Retrieve relevant context\n",
    "    results = retriever.retrieve(query, top_k=top_k)\n",
    "    if not results:\n",
    "        print(\"⚠️ No relevant context found.\")\n",
    "        return {\"query\": query, \"answer\": \"No relevant context found.\"}\n",
    "\n",
    "    context = \"\\n\\n\".join([doc['content'] for doc in results])\n",
    "    retrieved_chunks = [doc['content'] for doc in results]\n",
    "\n",
    "    # Step 2: Generate initial response\n",
    "    prompt = f\"\"\"Use ONLY the context below to answer concisely.\n",
    "    Context:\n",
    "    {context}\n",
    "\n",
    "    Question: {query}\n",
    "\n",
    "    Answer:\"\"\"\n",
    "    response = llm.invoke([prompt])\n",
    "    answer = response.content.strip()\n",
    "\n",
    "    print(\"\\n🧾 Initial Answer:\\n\", answer)\n",
    "\n",
    "    # Step 3: Run hallucination detection\n",
    "    hallucination_result = hallucination_detector.detect(answer, retrieved_chunks)\n",
    "    print(f\"\\nHallucination Check → {hallucination_result['status']} (Similarity: {hallucination_result['similarity']})\")\n",
    "\n",
    "    # Step 4: If hallucinated, regenerate grounded response\n",
    "    if not hallucination_result[\"is_grounded\"]:\n",
    "        print(\"⚠️ Regenerating grounded response...\")\n",
    "\n",
    "        grounded_prompt = f\"\"\"Answer ONLY using the context below.\n",
    "        If the answer is not present, reply exactly as: 'Information not found in the context.'\n",
    "\n",
    "        Context:\n",
    "        {context}\n",
    "\n",
    "        Question: {query}\n",
    "\n",
    "        Answer:\"\"\"\n",
    "\n",
    "        try:\n",
    "            grounded_response = llm.invoke([grounded_prompt])\n",
    "            grounded_answer = grounded_response.content.strip()\n",
    "            print(\"\\n✅ Regenerated (Grounded) Answer:\\n\", grounded_answer)\n",
    "        except Exception as e:\n",
    "            grounded_answer = \"Error during regeneration\"\n",
    "            print(\"❌ Error regenerating grounded answer:\", e)\n",
    "    else:\n",
    "        grounded_answer = answer  # No hallucination → keep original\n",
    "\n",
    "    # Step 5: Log the result\n",
    "    log_entry = {\n",
    "        \"timestamp\": datetime.now().isoformat(),\n",
    "        \"query\": query,\n",
    "        \"initial_answer\": answer,\n",
    "        \"final_answer\": grounded_answer,\n",
    "        \"similarity\": hallucination_result[\"similarity\"],\n",
    "        \"is_grounded\": hallucination_result[\"is_grounded\"],\n",
    "        \"status\": hallucination_result[\"status\"]\n",
    "    }\n",
    "\n",
    "    try:\n",
    "        with open(log_path, \"a\", encoding=\"utf-8\") as f:\n",
    "            json.dump(log_entry, f, ensure_ascii=False)\n",
    "            f.write(\"\\n\")\n",
    "        print(f\"📝 Logged to {log_path}\")\n",
    "    except Exception as e:\n",
    "        print(f\"⚠️ Logging failed: {e}\")\n",
    "\n",
    "    # Step 6: Return final structured output\n",
    "    return {\n",
    "        \"query\": query,\n",
    "        \"initial_answer\": answer,\n",
    "        \"final_answer\": grounded_answer,\n",
    "        \"hallucination_result\": hallucination_result\n",
    "    }\n"
   ]
  },
  {
   "cell_type": "code",
   "execution_count": 62,
   "id": "af0dd1ad",
   "metadata": {},
   "outputs": [
    {
     "name": "stdout",
     "output_type": "stream",
     "text": [
      "\n",
      "🔍 Query: what is the eligibility to secure admission for MBA\n",
      "Retrieving top 5 documents...\n",
      "Retrieving documents for query: 'what is the eligibility to secure admission for MBA'\n",
      "Top K: 5, Score threshold: 0.0\n",
      "Generating embeddings for 1 texts...\n"
     ]
    },
    {
     "name": "stderr",
     "output_type": "stream",
     "text": [
      "Batches: 100%|██████████| 1/1 [00:00<00:00, 11.00it/s]"
     ]
    },
    {
     "name": "stdout",
     "output_type": "stream",
     "text": [
      "Generated embeddings with shape: (1, 384)\n",
      "Retrieved 5 documents (after filtering)\n"
     ]
    },
    {
     "name": "stderr",
     "output_type": "stream",
     "text": [
      "\n"
     ]
    },
    {
     "name": "stdout",
     "output_type": "stream",
     "text": [
      "\n",
      "🧾 Initial Answer:\n",
      " 3-year/4-year Graduation in the relevant stream(s) fixed by the School.\n",
      "\n",
      "Hallucination Check → Hallucination ⚠️ (Similarity: 0.371)\n",
      "⚠️ Regenerating grounded response...\n",
      "\n",
      "✅ Regenerated (Grounded) Answer:\n",
      " 3-year/4-year Graduation in the relevant stream(s) fixed by the School.\n",
      "📝 Logged to ../data/hallucination_log.json\n"
     ]
    }
   ],
   "source": [
    "# Initialize once\n",
    "hallucination_detector = HallucinationDetector(threshold=0.75)\n",
    "\n",
    "# Run a query through the full pipeline\n",
    "result = rag_with_hallucination_control(\n",
    "    query=\"what is the eligibility to secure admission for MBA\",\n",
    "    retriever=rag_retriever,\n",
    "    llm=llm,\n",
    "    hallucination_detector=hallucination_detector,\n",
    "    top_k=5\n",
    ")\n"
   ]
  }
 ],
 "metadata": {
  "kernelspec": {
   "display_name": "Gen AI project (3.13.5)",
   "language": "python",
   "name": "python3"
  },
  "language_info": {
   "codemirror_mode": {
    "name": "ipython",
    "version": 3
   },
   "file_extension": ".py",
   "mimetype": "text/x-python",
   "name": "python",
   "nbconvert_exporter": "python",
   "pygments_lexer": "ipython3",
   "version": "3.13.5"
  }
 },
 "nbformat": 4,
 "nbformat_minor": 5
}
